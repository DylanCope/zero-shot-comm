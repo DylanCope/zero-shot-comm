{
 "cells": [
  {
   "cell_type": "code",
   "execution_count": 1,
   "metadata": {},
   "outputs": [
    {
     "name": "stdout",
     "output_type": "stream",
     "text": [
      "Physical Devices:\n",
      "PhysicalDevice(name='/physical_device:CPU:0', device_type='CPU')\n",
      "PhysicalDevice(name='/physical_device:GPU:0', device_type='GPU')\n"
     ]
    }
   ],
   "source": [
    "import os\n",
    "import sys\n",
    "sys.path.extend(['..'])\n",
    "\n",
    "import itertools\n",
    "import random\n",
    "import time\n",
    "\n",
    "import numpy as np\n",
    "import pandas as pd\n",
    "import tensorflow as tf\n",
    "import tensorflow_probability as tfp\n",
    "import tensorboard\n",
    "%load_ext tensorboard\n",
    "\n",
    "from IPython.display import clear_output\n",
    "import matplotlib.pyplot as plt\n",
    "%matplotlib inline\n",
    "\n",
    "import seaborn as sns\n",
    "sns.set()\n",
    "\n",
    "\n",
    "print('Physical Devices:')\n",
    "for dev in tf.config.list_physical_devices():\n",
    "    print(dev)"
   ]
  },
  {
   "cell_type": "code",
   "execution_count": 2,
   "metadata": {},
   "outputs": [],
   "source": [
    "class Agent(tf.keras.Model):\n",
    "    \n",
    "    def __init__(\n",
    "        self, \n",
    "        channel_size,\n",
    "        num_classes,\n",
    "        img_shape, \n",
    "        name='agent',\n",
    "        lstm_units=64,\n",
    "        latent_dim=64,\n",
    "        output_activation=None\n",
    "    ):\n",
    "        super(Agent, self).__init__(name=name)\n",
    "        self.state = None\n",
    "        self.channel_size = channel_size\n",
    "        self.num_classes = num_classes\n",
    "        \n",
    "        self.concat = tf.keras.layers.Concatenate()\n",
    "        \n",
    "        self.encoder = tf.keras.Sequential(\n",
    "            [\n",
    "                tf.keras.layers.InputLayer(input_shape=img_shape),\n",
    "                tf.keras.layers.Reshape(target_shape=(*img_shape, 1)),\n",
    "                tf.keras.layers.Conv2D(\n",
    "                    filters=32, kernel_size=3, strides=(2, 2), activation='relu'),\n",
    "                tf.keras.layers.Conv2D(\n",
    "                    filters=64, kernel_size=3, strides=(2, 2), activation='relu'),\n",
    "                tf.keras.layers.Flatten(),\n",
    "                # No activation\n",
    "                tf.keras.layers.Dense(latent_dim),\n",
    "            ]\n",
    "        )\n",
    "        \n",
    "        self.lstm = tf.keras.layers.LSTM(\n",
    "            units=lstm_units,\n",
    "            return_state=True,\n",
    "            dropout=0.5,\n",
    "        )\n",
    "\n",
    "        self.output_layer = tf.keras.layers.Dense(\n",
    "            self.channel_size + self.num_classes, \n",
    "            activation=output_activation\n",
    "        )\n",
    "        \n",
    "        self.extract_utterance = tf.keras.layers.Lambda(\n",
    "            lambda x: x[:, :self.channel_size]\n",
    "        )\n",
    "        self.extract_class_probs = tf.keras.layers.Lambda(\n",
    "            lambda x: tf.nn.softmax(x[:, self.channel_size:])\n",
    "        )\n",
    "\n",
    "    def call(self, inputs, state=None, training=False):\n",
    "        \n",
    "        subject, prev_utt, other_utt = inputs\n",
    "        \n",
    "        x = self.encoder(subject)\n",
    "        x = self.concat([x, prev_utt, other_utt])\n",
    "        \n",
    "        x = tf.expand_dims(x, 1) # Add time dim\n",
    "        if state is None:\n",
    "            state = self.state or self.lstm.get_initial_state(inputs)\n",
    "        x, *state = self.lstm(x, initial_state=state, \n",
    "                              training=training)\n",
    "        self.state = state\n",
    "        \n",
    "        x = self.output_layer(x, training=training)\n",
    "        \n",
    "        utterance = self.extract_utterance(x)\n",
    "        class_probs = self.extract_class_probs(x)\n",
    "        \n",
    "        return utterance, class_probs, state\n",
    "\n",
    "\n",
    "class CommChannel(tf.keras.layers.Layer):\n",
    "    \n",
    "    def __init__(self, \n",
    "                 size=32,\n",
    "                 noise=0.5, \n",
    "                 temperature=1,\n",
    "                 normalise=False, \n",
    "                 no_transform=False,\n",
    "                 one_hot=True):\n",
    "        super(CommChannel, self).__init__()\n",
    "        self.size = size\n",
    "        self.noise = noise\n",
    "        self.temperature = temperature\n",
    "        self.normalise = normalise\n",
    "        self.no_transform = no_transform\n",
    "        self.one_hot = one_hot\n",
    "        \n",
    "    def get_initial_state(self, batch_size):\n",
    "        return tf.zeros((batch_size, self.size))\n",
    "        \n",
    "    def call(self, x, training=False):\n",
    "        if training:\n",
    "            if self.no_transform:\n",
    "                return x\n",
    "            \n",
    "            if self.normalise:\n",
    "                x = tf.nn.sigmoid(x)\n",
    "            \n",
    "            if self.noise > 0:\n",
    "                x = x + tf.random.normal(tf.shape(x),  \n",
    "                                         mean=tf.zeros_like(x), \n",
    "                                         stddev=self.noise)\n",
    "                \n",
    "            # The RelaxedOneHotCategorical distribution was concurrently introduced as the\n",
    "            # Gumbel-Softmax (Jang et al., 2016) and Concrete (Maddison et al., 2016)\n",
    "            # distributions for use as a reparameterized continuous approximation to the\n",
    "            # `Categorical` one-hot distribution. If you use this distribution, please cite\n",
    "            # both papers.\n",
    "            dist = tfp.distributions.RelaxedOneHotCategorical(\n",
    "                self.temperature, \n",
    "                logits=x\n",
    "            )\n",
    "            return dist.sample()\n",
    "        \n",
    "        else:\n",
    "            if self.one_hot:\n",
    "                x = tf.nn.softmax(x)\n",
    "                \n",
    "            x = tf.one_hot(tf.argmax(x, axis=-1), \n",
    "                           self.size, dtype=tf.float32)\n",
    "            return x\n",
    "    \n",
    "\n",
    "class Game(tf.keras.Model):\n",
    "    \n",
    "    def __init__(\n",
    "        self, \n",
    "        comm_channel=None,\n",
    "        channel_size=10,\n",
    "        num_classes=10,\n",
    "        img_shape=(28, 28),\n",
    "        channel_temperature=1,\n",
    "        channel_noise=0.5,\n",
    "        p_mutate=0.5\n",
    "    ):\n",
    "        super(Game, self).__init__(name='game')\n",
    "        self.p_mutate = p_mutate\n",
    "        self.num_classes = num_classes\n",
    "        self.img_shape = img_shape\n",
    "        \n",
    "        self.comm_channel = comm_channel or CommChannel(\n",
    "            size=channel_size,\n",
    "            noise=channel_noise,\n",
    "            temperature=channel_temperature,\n",
    "        )\n",
    "        \n",
    "        self.agent_1 = Agent(\n",
    "            self.comm_channel.size,\n",
    "            self.num_classes,\n",
    "            self.img_shape,\n",
    "            name='agent_1',\n",
    "        )\n",
    "        \n",
    "        self.agent_2 = Agent(\n",
    "            self.comm_channel.size,\n",
    "            self.num_classes,\n",
    "            self.img_shape,\n",
    "            name='agent_2', \n",
    "        )\n",
    "\n",
    "    def call(self, subjects, training=False):\n",
    "        \n",
    "        if len(subjects) != self.num_classes + 1:\n",
    "            raise ValueError(f'Invalid inputs: {subjects}')\n",
    "        \n",
    "        batch_size = tf.shape(subjects[0])[0]\n",
    "            \n",
    "        teacher = self.agent_1 if random.randint(0, 1) else self.agent_2\n",
    "        student = self.agent_1 if teacher == self.agent_2 else self.agent_2\n",
    "        \n",
    "        no_subject = tf.zeros_like(subjects[0])\n",
    "        silence = self.comm_channel.get_initial_state(batch_size)\n",
    "        \n",
    "        teacher_prev_utt = silence\n",
    "        history = []\n",
    "        \n",
    "#         for i in range(self.num_classes):\n",
    "            \n",
    "#             teacher_inputs = (subjects[i], teacher_prev_utt, silence)\n",
    "#             teacher_prev_utt, *_ = teacher(teacher_inputs, training=training)\n",
    "            \n",
    "#             message_from_teacher = self.get_teacher_message(teacher_prev_utt, \n",
    "#                                                             history,\n",
    "#                                                             training=training)\n",
    "            \n",
    "#             student_inputs = (subjects[i], silence, message_from_teacher)\n",
    "#             _ = student(student_inputs, training=training)\n",
    "            \n",
    "#             history.append({\n",
    "#                 'teacher_utterance': teacher_prev_utt,\n",
    "#                 'message_from_teacher': message_from_teacher, \n",
    "#                 'explainer_utterance': None,\n",
    "#                 'message_from_explainer': None, \n",
    "#             })\n",
    "            \n",
    "        explainer = self.agent_1 if random.randint(0, 1) else self.agent_2\n",
    "        explainee = self.agent_1 if explainer == self.agent_2 else self.agent_2\n",
    "         \n",
    "        explainer_prev_utt = teacher_prev_utt if explainer == teacher else silence\n",
    "        explainee_prev_utt = teacher_prev_utt if explainee == teacher else silence\n",
    "        \n",
    "        explainer_inputs = (subjects[-1], explainer_prev_utt, explainee_prev_utt)\n",
    "        explainer_utt, *_ = explainer(explainer_inputs, training=training)\n",
    "        \n",
    "        message_from_explainer = self.comm_channel(explainer_utt,\n",
    "                                                   training=training)\n",
    "        \n",
    "        if training:\n",
    "            message_from_explainer = tf.stop_gradient(message_from_explainer)\n",
    "        \n",
    "        explainee_inputs = (no_subject, explainee_prev_utt, message_from_explainer)\n",
    "        _, class_probs, *_ = explainee(explainee_inputs, training=training)\n",
    "            \n",
    "        history.append({\n",
    "            'teacher_utterance': None,\n",
    "            'message_from_teacher': None, \n",
    "            'explainer_utterance': explainer_utt,\n",
    "            'message_from_explainer': message_from_explainer, \n",
    "        })\n",
    "\n",
    "        return class_probs, history\n",
    "\n",
    "    def get_teacher_message(self, teacher_utt, history, training=False):\n",
    "        \n",
    "        message = self.comm_channel(teacher_utt, training=training)\n",
    "        \n",
    "        if training:\n",
    "            batch_size = tf.shape(teacher_utt)[0]\n",
    "            \n",
    "            possible_utts = np.array(range(self.comm_channel.size))\n",
    "            \n",
    "            prev_utts_batch = tf.convert_to_tensor([\n",
    "                tf.argmax(item['message_from_teacher'], axis=-1) \n",
    "                for item in history \n",
    "            ])\n",
    "            prev_utts_batch = tf.reshape(prev_utts_batch, (batch_size, len(history)))\n",
    "            \n",
    "            mutations = [\n",
    "                random.choice(possible_utts[~np.isin(possible_utts, prev_utts)]) \n",
    "                for prev_utts in prev_utts_batch\n",
    "            ]\n",
    "            if mutations:\n",
    "                mutations = tf.one_hot(mutations, self.comm_channel.size)\n",
    "                mutations = tf.stop_gradient(mutations)\n",
    "\n",
    "                mask = tf.cast(tf.random.uniform((batch_size, 1)) < self.p_mutate, tf.float32)\n",
    "                \n",
    "                return mask * mutations + (1 - mask) * message\n",
    "        \n",
    "        return message"
   ]
  },
  {
   "cell_type": "markdown",
   "metadata": {},
   "source": [
    "## Check that gradients can flow across channel:"
   ]
  },
  {
   "cell_type": "code",
   "execution_count": 3,
   "metadata": {},
   "outputs": [
    {
     "name": "stdout",
     "output_type": "stream",
     "text": [
      "tf.Tensor([[0.0021343  0.68008435 0.30765384 0.01012744]], shape=(1, 4), dtype=float32)\n"
     ]
    },
    {
     "data": {
      "text/plain": [
       "<tf.Tensor: shape=(1, 4), dtype=float32, numpy=array([[0., 0., 0., 0.]], dtype=float32)>"
      ]
     },
     "execution_count": 3,
     "metadata": {},
     "output_type": "execute_result"
    }
   ],
   "source": [
    "channel = CommChannel(size=10, temperature=1, one_hot=True)\n",
    "\n",
    "x = tf.Variable([[-1, 2, 4, 0]], dtype=tf.float32)\n",
    "with tf.GradientTape() as tape:\n",
    "    y = channel(x, training=True)\n",
    "    \n",
    "print(y)\n",
    "tape.gradient(y, x)"
   ]
  },
  {
   "cell_type": "code",
   "execution_count": 4,
   "metadata": {},
   "outputs": [
    {
     "data": {
      "text/plain": [
       "<tf.Tensor: shape=(1, 10), dtype=float32, numpy=array([[0., 0., 1., 0., 0., 0., 0., 0., 0., 0.]], dtype=float32)>"
      ]
     },
     "execution_count": 4,
     "metadata": {},
     "output_type": "execute_result"
    }
   ],
   "source": [
    "channel(x)"
   ]
  },
  {
   "cell_type": "markdown",
   "metadata": {},
   "source": [
    "## Load Data:"
   ]
  },
  {
   "cell_type": "code",
   "execution_count": 6,
   "metadata": {},
   "outputs": [],
   "source": [
    "num_classes = 3\n",
    "class_labels = list(range(num_classes))\n",
    "\n",
    "(x_train, y_train), (x_test, y_test) = tf.keras.datasets.mnist.load_data()\n",
    "\n",
    "def preprocess_images(images):\n",
    "    images = images / 255.\n",
    "    return np.where(images > .5, 1.0, 0.0).astype('float32')\n",
    "\n",
    "x_train = preprocess_images(x_train)\n",
    "train_data = [(x, y) for x, y in zip(x_train, y_train) if y in class_labels]\n",
    "np.random.shuffle(train_data)\n",
    "\n",
    "x_test = preprocess_images(x_test)\n",
    "test_data = [(x, y) for x, y in zip(x_test, y_test) if y in class_labels]\n",
    "np.random.shuffle(test_data)\n",
    "\n",
    "train_size = 500\n",
    "batch_size = 32\n",
    "test_size = 100\n",
    "\n",
    "train_data_by_label = {\n",
    "    label: [\n",
    "        img for img, l in train_data\n",
    "        if l == label\n",
    "    ]\n",
    "    for label in class_labels\n",
    "}\n",
    "\n",
    "test_data_by_label = {\n",
    "    label: [\n",
    "        img for img, l in test_data\n",
    "        if l == label\n",
    "    ]\n",
    "    for label in class_labels\n",
    "}"
   ]
  },
  {
   "cell_type": "code",
   "execution_count": 7,
   "metadata": {},
   "outputs": [],
   "source": [
    "def generate_batch(source, source_by_label):\n",
    "    subjects = [\n",
    "        tf.constant(random.sample(source_by_label[label], batch_size))\n",
    "        for label in class_labels\n",
    "    ]\n",
    "    source_sample = random.sample(source, batch_size)\n",
    "    final_subject = tf.constant([x for x, _ in source_sample])\n",
    "    target_label = tf.one_hot([x for _, x in source_sample], num_classes)\n",
    "    return subjects + [final_subject], target_label\n",
    "\n",
    "def generate_train_batch():\n",
    "    return generate_batch(train_data, train_data_by_label)\n",
    "\n",
    "def generate_test_batch():\n",
    "    return generate_batch(test_data, test_data_by_label)"
   ]
  },
  {
   "cell_type": "code",
   "execution_count": 8,
   "metadata": {
    "scrolled": false
   },
   "outputs": [],
   "source": [
    "train_batch = generate_train_batch()"
   ]
  },
  {
   "cell_type": "code",
   "execution_count": 9,
   "metadata": {},
   "outputs": [],
   "source": [
    "subjects, target = train_batch"
   ]
  },
  {
   "cell_type": "code",
   "execution_count": 10,
   "metadata": {},
   "outputs": [
    {
     "data": {
      "text/plain": [
       "(TensorShape([32, 3]),\n",
       " [TensorShape([32, 28, 28]),\n",
       "  TensorShape([32, 28, 28]),\n",
       "  TensorShape([32, 28, 28]),\n",
       "  TensorShape([32, 28, 28])])"
      ]
     },
     "execution_count": 10,
     "metadata": {},
     "output_type": "execute_result"
    }
   ],
   "source": [
    "target.shape, [s.shape for s in subjects]"
   ]
  },
  {
   "cell_type": "code",
   "execution_count": 100,
   "metadata": {},
   "outputs": [
    {
     "data": {
      "image/png": "[encoded data removed]",
      "text/plain": [
       "<matplotlib.figure.Figure at 0x21d0d8474a8>"
      ]
     },
     "metadata": {
      "needs_background": "light"
     },
     "output_type": "display_data"
    }
   ],
   "source": [
    "fig, axs = plt.subplots(1, len(class_labels) + 1, \n",
    "                        figsize=(15, 15*(1 + len(class_labels))))\n",
    "for ax, subject in zip(axs, subjects):\n",
    "    img = subject[0].numpy()\n",
    "    ax.imshow(img)\n",
    "    ax.axis('off')\n",
    "plt.show()"
   ]
  },
  {
   "cell_type": "markdown",
   "metadata": {},
   "source": [
    "## Construct Model"
   ]
  },
  {
   "cell_type": "code",
   "execution_count": 22,
   "metadata": {},
   "outputs": [],
   "source": [
    "model = Game(p_mutate=0, num_classes=num_classes)\n",
    "\n",
    "# optimizer = tf.keras.optimizers.Adam(learning_rate=1e-2)\n",
    "initial_learning_rate = 0.1\n",
    "lr_schedule = tf.keras.optimizers.schedules.ExponentialDecay(\n",
    "    initial_learning_rate, decay_steps=100000, decay_rate=0.96, staircase=True\n",
    ")\n",
    "\n",
    "optimizer = tf.keras.optimizers.RMSprop(learning_rate=1e-3)"
   ]
  },
  {
   "cell_type": "code",
   "execution_count": 23,
   "metadata": {},
   "outputs": [
    {
     "data": {
      "text/plain": [
       "{'name': 'RMSprop',\n",
       " 'learning_rate': 0.001,\n",
       " 'decay': 0.0,\n",
       " 'rho': 0.9,\n",
       " 'momentum': 0.0,\n",
       " 'epsilon': 1e-07,\n",
       " 'centered': False}"
      ]
     },
     "execution_count": 23,
     "metadata": {},
     "output_type": "execute_result"
    }
   ],
   "source": [
    "optimizer.get_config()"
   ]
  },
  {
   "cell_type": "markdown",
   "metadata": {},
   "source": [
    "Check gradients:"
   ]
  },
  {
   "cell_type": "code",
   "execution_count": 24,
   "metadata": {},
   "outputs": [],
   "source": [
    "inputs, targets = generate_train_batch()"
   ]
  },
  {
   "cell_type": "code",
   "execution_count": 34,
   "metadata": {
    "scrolled": false
   },
   "outputs": [
    {
     "name": "stdout",
     "output_type": "stream",
     "text": [
      "conv2d_12/kernel:0 grad norm: 0.0\n",
      "conv2d_12/bias:0 grad norm: 0.0\n",
      "conv2d_13/kernel:0 grad norm: 0.0\n",
      "conv2d_13/bias:0 grad norm: 0.0\n",
      "dense_12/kernel:0 grad norm: 0.0\n",
      "dense_12/bias:0 grad norm: 1.3982629776000977\n",
      "game/agent_1/lstm_6/kernel:0 grad norm: 1.1039166450500488\n",
      "game/agent_1/lstm_6/recurrent_kernel:0 grad norm: 0.38905248045921326\n",
      "game/agent_1/lstm_6/bias:0 grad norm: 2.358158826828003\n",
      "game/agent_1/dense_13/kernel:0 grad norm: 1.170365571975708\n",
      "game/agent_1/dense_13/bias:0 grad norm: 7.068521976470947\n",
      "conv2d_14/kernel:0 grad norm: 0.008049378171563148\n",
      "conv2d_14/bias:0 grad norm: 0.003989409655332565\n",
      "conv2d_15/kernel:0 grad norm: 0.012097337283194065\n",
      "conv2d_15/bias:0 grad norm: 0.009094072505831718\n",
      "dense_14/kernel:0 grad norm: 0.0200507752597332\n",
      "dense_14/bias:0 grad norm: 0.013837149366736412\n",
      "game/agent_2/lstm_7/kernel:0 grad norm: 0.007887722924351692\n",
      "game/agent_2/lstm_7/recurrent_kernel:0 grad norm: 0.0029110938776284456\n",
      "game/agent_2/lstm_7/bias:0 grad norm: 0.017094826325774193\n",
      "game/agent_2/dense_15/kernel:0 grad norm: 0.009034746326506138\n",
      "game/agent_2/dense_15/bias:0 grad norm: 0.05439538136124611\n"
     ]
    }
   ],
   "source": [
    "with tf.GradientTape() as tape:\n",
    "    class_probs, history = model(inputs, training=True)\n",
    "    loss = tf.keras.losses.categorical_crossentropy(targets, class_probs)\n",
    "\n",
    "grad = tape.gradient(loss, model.trainable_variables)\n",
    "for v, g in zip(model.trainable_variables, grad):\n",
    "    n = tf.reduce_sum(g**2)**0.5\n",
    "    print(f'{v.name} grad norm: {n}')"
   ]
  },
  {
   "cell_type": "code",
   "execution_count": 35,
   "metadata": {},
   "outputs": [
    {
     "data": {
      "text/plain": [
       "<tf.Tensor: shape=(32,), dtype=float32, numpy=\n",
       "array([1.1246823, 1.0936636, 1.0757134, 1.1056896, 1.0585241, 1.1007309,\n",
       "       1.0656023, 1.1465318, 1.0804882, 1.0855408, 1.1049174, 1.1084927,\n",
       "       1.0781895, 1.1105019, 1.1050324, 1.124061 , 1.1417767, 1.1722627,\n",
       "       1.0667523, 1.0773119, 1.0487034, 1.1165922, 1.1452376, 1.1189249,\n",
       "       1.1278251, 1.1276677, 1.1154866, 1.0888643, 1.0722548, 1.094664 ,\n",
       "       1.156419 , 1.1100974], dtype=float32)>"
      ]
     },
     "execution_count": 35,
     "metadata": {},
     "output_type": "execute_result"
    }
   ],
   "source": [
    "loss"
   ]
  },
  {
   "cell_type": "code",
   "execution_count": 36,
   "metadata": {},
   "outputs": [
    {
     "name": "stdout",
     "output_type": "stream",
     "text": [
      "First messages:\n"
     ]
    },
    {
     "ename": "TypeError",
     "evalue": "'NoneType' object is not subscriptable",
     "output_type": "error",
     "traceback": [
      "\u001b[1;31m---------------------------------------------------------------------------\u001b[0m",
      "\u001b[1;31mTypeError\u001b[0m                                 Traceback (most recent call last)",
      "\u001b[1;32m<ipython-input-36-86ec0459ecca>\u001b[0m in \u001b[0;36m<module>\u001b[1;34m\u001b[0m\n\u001b[0;32m      3\u001b[0m     \u001b[0mplt\u001b[0m\u001b[1;33m.\u001b[0m\u001b[0mfigure\u001b[0m\u001b[1;33m(\u001b[0m\u001b[0mfigsize\u001b[0m\u001b[1;33m=\u001b[0m\u001b[1;33m(\u001b[0m\u001b[1;36m10\u001b[0m\u001b[1;33m,\u001b[0m \u001b[1;36m1\u001b[0m\u001b[1;33m)\u001b[0m\u001b[1;33m)\u001b[0m\u001b[1;33m\u001b[0m\u001b[1;33m\u001b[0m\u001b[0m\n\u001b[0;32m      4\u001b[0m     sns.barplot(x=list(range(model.comm_channel.size)), \n\u001b[1;32m----> 5\u001b[1;33m                 y=history[0]['message_from_teacher'][i]);\n\u001b[0m",
      "\u001b[1;31mTypeError\u001b[0m: 'NoneType' object is not subscriptable"
     ]
    },
    {
     "data": {
      "text/plain": [
       "<matplotlib.figure.Figure at 0x21cc0013cc0>"
      ]
     },
     "metadata": {},
     "output_type": "display_data"
    }
   ],
   "source": [
    "print('First messages:')\n",
    "for i in range(5):\n",
    "    plt.figure(figsize=(10, 1))\n",
    "    sns.barplot(x=list(range(model.comm_channel.size)), \n",
    "                y=history[0]['message_from_teacher'][i]);"
   ]
  },
  {
   "cell_type": "code",
   "execution_count": 38,
   "metadata": {},
   "outputs": [
    {
     "name": "stdout",
     "output_type": "stream",
     "text": [
      "Model: \"game\"\n",
      "_________________________________________________________________\n",
      "Layer (type)                 Output Shape              Param #   \n",
      "=================================================================\n",
      "comm_channel_4 (CommChannel) multiple                  0         \n",
      "_________________________________________________________________\n",
      "agent_1 (Agent)              multiple                  205325    \n",
      "_________________________________________________________________\n",
      "agent_2 (Agent)              multiple                  205325    \n",
      "=================================================================\n",
      "Total params: 410,650\n",
      "Trainable params: 410,650\n",
      "Non-trainable params: 0\n",
      "_________________________________________________________________\n",
      "Model: \"agent_1\"\n",
      "_________________________________________________________________\n",
      "Layer (type)                 Output Shape              Param #   \n",
      "=================================================================\n",
      "concatenate_6 (Concatenate)  multiple                  0         \n",
      "_________________________________________________________________\n",
      "sequential_6 (Sequential)    (None, 64)                166336    \n",
      "_________________________________________________________________\n",
      "lstm_6 (LSTM)                multiple                  38144     \n",
      "_________________________________________________________________\n",
      "dense_13 (Dense)             multiple                  845       \n",
      "_________________________________________________________________\n",
      "lambda_12 (Lambda)           multiple                  0         \n",
      "_________________________________________________________________\n",
      "lambda_13 (Lambda)           multiple                  0         \n",
      "=================================================================\n",
      "Total params: 205,325\n",
      "Trainable params: 205,325\n",
      "Non-trainable params: 0\n",
      "_________________________________________________________________\n",
      "Model: \"agent_2\"\n",
      "_________________________________________________________________\n",
      "Layer (type)                 Output Shape              Param #   \n",
      "=================================================================\n",
      "concatenate_7 (Concatenate)  multiple                  0         \n",
      "_________________________________________________________________\n",
      "sequential_7 (Sequential)    (None, 64)                166336    \n",
      "_________________________________________________________________\n",
      "lstm_7 (LSTM)                multiple                  38144     \n",
      "_________________________________________________________________\n",
      "dense_15 (Dense)             multiple                  845       \n",
      "_________________________________________________________________\n",
      "lambda_14 (Lambda)           multiple                  0         \n",
      "_________________________________________________________________\n",
      "lambda_15 (Lambda)           multiple                  0         \n",
      "=================================================================\n",
      "Total params: 205,325\n",
      "Trainable params: 205,325\n",
      "Non-trainable params: 0\n",
      "_________________________________________________________________\n"
     ]
    }
   ],
   "source": [
    "model.summary()\n",
    "model.agent_1.summary()\n",
    "model.agent_2.summary()"
   ]
  },
  {
   "cell_type": "code",
   "execution_count": 39,
   "metadata": {},
   "outputs": [],
   "source": [
    "tb_callback = tf.keras.callbacks.TensorBoard()\n",
    "epochs = 50\n",
    "steps_per_epoch = 100\n",
    "step_print_freq = 2\n",
    "training_history = []\n",
    "\n",
    "def print_history():\n",
    "    for e, item in enumerate(training_history):\n",
    "        mins = int(item['seconds_taken']) // 60\n",
    "        secs = int(item['seconds_taken']) % 60\n",
    "        t = f'{mins}:{secs}'\n",
    "        l = int(10000 * item['loss'].numpy().mean()) / 10000\n",
    "        print(f'Epoch {e}, Time Taken (mm:ss): {t}, Loss: {l}')\n",
    "\n",
    "def print_step_progress(step, step_mean_loss):\n",
    "    l = int(10000 * step_mean_loss.numpy().mean()) / 10000\n",
    "    p = int(10000 * step/steps_per_epoch) / 100\n",
    "    print(f'Epoch {epoch}, {p}% complete, Loss: {l}')"
   ]
  },
  {
   "cell_type": "code",
   "execution_count": 40,
   "metadata": {},
   "outputs": [],
   "source": [
    "epoch = 0"
   ]
  },
  {
   "cell_type": "code",
   "execution_count": 41,
   "metadata": {},
   "outputs": [
    {
     "name": "stdout",
     "output_type": "stream",
     "text": [
      "Epoch 0, Time Taken (mm:ss): 0:11, Loss: 1.0949\n",
      "Epoch 1, Time Taken (mm:ss): 0:11, Loss: 1.0008\n",
      "Epoch 2, Time Taken (mm:ss): 0:11, Loss: 0.8547\n",
      "Epoch 3, Time Taken (mm:ss): 0:11, Loss: 0.7325\n",
      "Epoch 4, Time Taken (mm:ss): 0:11, Loss: 0.6699\n",
      "Epoch 5, Time Taken (mm:ss): 0:14, Loss: 0.6047\n",
      "Epoch 6, Time Taken (mm:ss): 0:16, Loss: 0.5691\n",
      "Epoch 7, Time Taken (mm:ss): 0:13, Loss: 0.5184\n",
      "Epoch 8, Time Taken (mm:ss): 0:12, Loss: 0.5178\n",
      "Epoch 9, Time Taken (mm:ss): 0:12, Loss: 0.5082\n",
      "Epoch 10, Time Taken (mm:ss): 0:12, Loss: 0.4837\n",
      "Epoch 11, Time Taken (mm:ss): 0:12, Loss: 0.4993\n",
      "Epoch 12, Time Taken (mm:ss): 0:13, Loss: 0.4678\n",
      "Epoch 13, Time Taken (mm:ss): 0:12, Loss: 0.4643\n",
      "Epoch 14, Time Taken (mm:ss): 0:15, Loss: 0.451\n",
      "Epoch 15, Time Taken (mm:ss): 0:18, Loss: 0.4315\n",
      "Epoch 16, Time Taken (mm:ss): 0:14, Loss: 0.4314\n",
      "Epoch 17, Time Taken (mm:ss): 0:12, Loss: 0.4273\n",
      "Epoch 18, Time Taken (mm:ss): 0:13, Loss: 0.4063\n",
      "Epoch 19, Time Taken (mm:ss): 0:13, Loss: 0.4063\n",
      "Epoch 20, Time Taken (mm:ss): 0:13, Loss: 0.4045\n",
      "Epoch 21, Time Taken (mm:ss): 0:13, Loss: 0.4003\n",
      "Epoch 22, Time Taken (mm:ss): 0:14, Loss: 0.3739\n",
      "Epoch 23, Time Taken (mm:ss): 0:17, Loss: 0.3828\n",
      "Epoch 24, Time Taken (mm:ss): 0:16, Loss: 0.3724\n",
      "Epoch 25, Time Taken (mm:ss): 0:13, Loss: 0.3657\n",
      "Training stopped.\n"
     ]
    }
   ],
   "source": [
    "try:\n",
    "    while epoch < epochs:\n",
    "        mean_loss = tf.zeros((1,))\n",
    "        \n",
    "        start_time = time.time()\n",
    "        for step in range(steps_per_epoch):\n",
    "            \n",
    "            inputs, targets = generate_train_batch()\n",
    "            with tf.GradientTape() as tape:\n",
    "                class_probs, history = model(inputs, training=True)\n",
    "                loss = tf.keras.losses.categorical_crossentropy(targets, class_probs)\n",
    "            \n",
    "            grad = tape.gradient(loss, model.trainable_variables)\n",
    "            optimizer.apply_gradients(zip(grad, model.trainable_variables))\n",
    "\n",
    "            mean_loss = (mean_loss + tf.reduce_mean(loss)) / 2.0\n",
    "            \n",
    "            if step % step_print_freq == 0:\n",
    "                print_history()\n",
    "                print_step_progress(step, mean_loss)\n",
    "                clear_output(wait=True)\n",
    "        \n",
    "        seconds_taken = time.time() - start_time\n",
    "        training_history.append({\n",
    "            'loss': mean_loss, \n",
    "            'seconds_taken': seconds_taken\n",
    "        })\n",
    "        \n",
    "        epoch += 1\n",
    "        print_history()\n",
    "        clear_output(wait=True)\n",
    "\n",
    "except KeyboardInterrupt:\n",
    "    pass\n",
    "\n",
    "print_history()\n",
    "print('Training stopped.')"
   ]
  },
  {
   "cell_type": "code",
   "execution_count": 42,
   "metadata": {},
   "outputs": [
    {
     "data": {
      "image/png": "[encoded data removed]",
      "text/plain": [
       "<matplotlib.figure.Figure at 0x21cc1b4e550>"
      ]
     },
     "metadata": {
      "needs_background": "light"
     },
     "output_type": "display_data"
    }
   ],
   "source": [
    "plt.figure()\n",
    "plt.title('Training Loss History')\n",
    "sns.lineplot(x=range(len(training_history)), \n",
    "             y=[item['loss'].numpy()[0] for item in training_history]);"
   ]
  },
  {
   "cell_type": "code",
   "execution_count": 47,
   "metadata": {},
   "outputs": [
    {
     "name": "stdout",
     "output_type": "stream",
     "text": [
      "tf.Tensor([0.03206981], shape=(1,), dtype=float32)\n"
     ]
    }
   ],
   "source": [
    "test_loss = tf.zeros((1,))\n",
    "for step in range(50):\n",
    "    inputs, targets = generate_test_batch()\n",
    "    class_probs, history = model(inputs, training=False)\n",
    "    loss = tf.keras.losses.categorical_crossentropy(targets, class_probs)\n",
    "    test_loss = (test_loss + tf.reduce_mean(loss)) / 2\n",
    "    \n",
    "print(test_loss)"
   ]
  },
  {
   "cell_type": "code",
   "execution_count": 48,
   "metadata": {},
   "outputs": [],
   "source": [
    "from sklearn.metrics import plot_confusion_matrix"
   ]
  },
  {
   "cell_type": "code",
   "execution_count": 95,
   "metadata": {},
   "outputs": [
    {
     "name": "stdout",
     "output_type": "stream",
     "text": [
      "tf.Tensor(\n",
      "[[1003    0    3]\n",
      " [   1 1142    4]\n",
      " [  26    9 1012]], shape=(3, 3), dtype=int32) \n",
      " tf.Tensor(\n",
      "[[1030 1151 1019]\n",
      " [1030 1151 1019]\n",
      " [1030 1151 1019]], shape=(3, 3), dtype=int32)\n"
     ]
    }
   ],
   "source": [
    "test_samples = [generate_test_batch() for _ in range(100)]\n",
    "labels = tf.concat([tf.argmax(y, axis=-1) for _, y in test_samples], axis=0)\n",
    "preds = tf.concat([tf.argmax(model(x)[0], axis=-1) for x, _ in test_samples], axis=0)\n",
    "\n",
    "conf_matrix = tf.math.confusion_matrix(labels, preds)\n",
    "\n",
    "col_totals = tf.reduce_sum(conf_matrix, axis=0)\n",
    "col_totals = tf.repeat(col_totals, num_classes)\n",
    "col_totals = tf.reshape(col_totals, tf.shape(conf_matrix))\n",
    "col_totals = tf.transpose(col_totals)\n",
    "\n",
    "print(conf_matrix, '\\n', col_totals)\n",
    "\n",
    "conf_matrix = (conf_matrix / col_totals).numpy()"
   ]
  },
  {
   "cell_type": "code",
   "execution_count": 96,
   "metadata": {},
   "outputs": [
    {
     "data": {
      "text/plain": [
       "<matplotlib.axes._subplots.AxesSubplot at 0x21d0d6b0240>"
      ]
     },
     "execution_count": 96,
     "metadata": {},
     "output_type": "execute_result"
    },
    {
     "data": {
      "image/png": "[encoded data removed]",
      "text/plain": [
       "<matplotlib.figure.Figure at 0x21d0d3db5f8>"
      ]
     },
     "metadata": {
      "needs_background": "light"
     },
     "output_type": "display_data"
    }
   ],
   "source": [
    "sns.heatmap(conf_matrix, annot=True)"
   ]
  },
  {
   "cell_type": "markdown",
   "metadata": {},
   "source": [
    "The rows correspond to the true labels and the columns to the predicted labels. Each column is divided by its sum in order to show the percentage of the time the model predicts the given class."
   ]
  },
  {
   "cell_type": "code",
   "execution_count": 116,
   "metadata": {},
   "outputs": [],
   "source": [
    "test_samples = [generate_test_batch() for _ in range(1000)]\n",
    "labels = tf.concat([tf.argmax(y, axis=-1) for _, y in test_samples], axis=0)\n",
    "messages = tf.concat([model(x)[1][0]['message_from_explainer'] for x, _ in test_samples], axis=0)"
   ]
  },
  {
   "cell_type": "code",
   "execution_count": 117,
   "metadata": {},
   "outputs": [
    {
     "name": "stdout",
     "output_type": "stream",
     "text": [
      "[t-SNE] Computing 121 nearest neighbors...\n",
      "[t-SNE] Indexed 32000 samples in 1.647s...\n",
      "[t-SNE] Computed neighbors for 32000 samples in 13.430s...\n",
      "[t-SNE] Computed conditional probabilities for sample 1000 / 32000\n",
      "[t-SNE] Computed conditional probabilities for sample 2000 / 32000\n",
      "[t-SNE] Computed conditional probabilities for sample 3000 / 32000\n",
      "[t-SNE] Computed conditional probabilities for sample 4000 / 32000\n",
      "[t-SNE] Computed conditional probabilities for sample 5000 / 32000\n",
      "[t-SNE] Computed conditional probabilities for sample 6000 / 32000\n",
      "[t-SNE] Computed conditional probabilities for sample 7000 / 32000\n",
      "[t-SNE] Computed conditional probabilities for sample 8000 / 32000\n",
      "[t-SNE] Computed conditional probabilities for sample 9000 / 32000\n",
      "[t-SNE] Computed conditional probabilities for sample 10000 / 32000\n",
      "[t-SNE] Computed conditional probabilities for sample 11000 / 32000\n",
      "[t-SNE] Computed conditional probabilities for sample 12000 / 32000\n",
      "[t-SNE] Computed conditional probabilities for sample 13000 / 32000\n",
      "[t-SNE] Computed conditional probabilities for sample 14000 / 32000\n",
      "[t-SNE] Computed conditional probabilities for sample 15000 / 32000\n",
      "[t-SNE] Computed conditional probabilities for sample 16000 / 32000\n",
      "[t-SNE] Computed conditional probabilities for sample 17000 / 32000\n",
      "[t-SNE] Computed conditional probabilities for sample 18000 / 32000\n",
      "[t-SNE] Computed conditional probabilities for sample 19000 / 32000\n",
      "[t-SNE] Computed conditional probabilities for sample 20000 / 32000\n",
      "[t-SNE] Computed conditional probabilities for sample 21000 / 32000\n",
      "[t-SNE] Computed conditional probabilities for sample 22000 / 32000\n",
      "[t-SNE] Computed conditional probabilities for sample 23000 / 32000\n",
      "[t-SNE] Computed conditional probabilities for sample 24000 / 32000\n",
      "[t-SNE] Computed conditional probabilities for sample 25000 / 32000\n",
      "[t-SNE] Computed conditional probabilities for sample 26000 / 32000\n",
      "[t-SNE] Computed conditional probabilities for sample 27000 / 32000\n",
      "[t-SNE] Computed conditional probabilities for sample 28000 / 32000\n",
      "[t-SNE] Computed conditional probabilities for sample 29000 / 32000\n",
      "[t-SNE] Computed conditional probabilities for sample 30000 / 32000\n",
      "[t-SNE] Computed conditional probabilities for sample 31000 / 32000\n",
      "[t-SNE] Computed conditional probabilities for sample 32000 / 32000\n",
      "[t-SNE] Mean sigma: 0.000000\n",
      "[t-SNE] KL divergence after 250 iterations with early exaggeration: 70.249832\n",
      "[t-SNE] KL divergence after 1000 iterations: 0.717311\n"
     ]
    }
   ],
   "source": [
    "from sklearn.manifold import TSNE\n",
    "tsne = TSNE(n_components=2, verbose=1, perplexity=40, n_iter=1000)\n",
    "tsne_results = tsne.fit_transform(messages.numpy())"
   ]
  },
  {
   "cell_type": "code",
   "execution_count": 118,
   "metadata": {},
   "outputs": [
    {
     "data": {
      "image/png": "[encoded data removed]",
      "text/plain": [
       "<matplotlib.figure.Figure at 0x21d14b66ba8>"
      ]
     },
     "metadata": {
      "needs_background": "light"
     },
     "output_type": "display_data"
    }
   ],
   "source": [
    "df = pd.DataFrame({\n",
    "    'd1': tsne_results[:,0],\n",
    "    'd2': tsne_results[:,1],\n",
    "    'y': labels.numpy()\n",
    "})\n",
    "plt.figure(figsize=(16, 10))\n",
    "sns.scatterplot(\n",
    "    x=\"d1\", y=\"d2\", hue=\"y\",\n",
    "    palette=sns.color_palette(\"hls\", num_classes),\n",
    "    data=df,\n",
    "    legend=\"full\",\n",
    "    alpha=0.3\n",
    ");"
   ]
  },
  {
   "cell_type": "code",
   "execution_count": 97,
   "metadata": {},
   "outputs": [
    {
     "data": {
      "text/plain": [
       "'models/test/1598363445'"
      ]
     },
     "execution_count": 97,
     "metadata": {},
     "output_type": "execute_result"
    }
   ],
   "source": [
    "weights_file = f'models/test/{int(time.time())}'\n",
    "weights_file"
   ]
  },
  {
   "cell_type": "code",
   "execution_count": 98,
   "metadata": {},
   "outputs": [],
   "source": [
    "model.save_weights(weights_file)"
   ]
  },
  {
   "cell_type": "code",
   "execution_count": null,
   "metadata": {},
   "outputs": [],
   "source": []
  }
 ],
 "metadata": {
  "kernelspec": {
   "display_name": "Python 3",
   "language": "python",
   "name": "python3"
  },
  "language_info": {
   "codemirror_mode": {
    "name": "ipython",
    "version": 3
   },
   "file_extension": ".py",
   "mimetype": "text/x-python",
   "name": "python",
   "nbconvert_exporter": "python",
   "pygments_lexer": "ipython3",
   "version": "3.6.10"
  }
 },
 "nbformat": 4,
 "nbformat_minor": 4
}
