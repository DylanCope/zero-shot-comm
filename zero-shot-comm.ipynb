{
 "cells": [
  {
   "cell_type": "code",
   "execution_count": 1,
   "metadata": {},
   "outputs": [
    {
     "name": "stdout",
     "output_type": "stream",
     "text": [
      "Physical Devices:\n",
      "PhysicalDevice(name='/physical_device:CPU:0', device_type='CPU')\n"
     ]
    }
   ],
   "source": [
    "import os\n",
    "import sys\n",
    "sys.path.extend(['..'])\n",
    "\n",
    "import itertools\n",
    "import random\n",
    "import time\n",
    "\n",
    "import numpy as np\n",
    "import pandas as pd\n",
    "import tensorflow as tf\n",
    "import tensorflow_probability as tfp\n",
    "import tensorboard\n",
    "%load_ext tensorboard\n",
    "\n",
    "from IPython.display import clear_output\n",
    "import matplotlib.pyplot as plt\n",
    "%matplotlib inline\n",
    "\n",
    "import seaborn as sns\n",
    "sns.set()\n",
    "\n",
    "\n",
    "print('Physical Devices:')\n",
    "for dev in tf.config.list_physical_devices():\n",
    "    print(dev)"
   ]
  },
  {
   "cell_type": "code",
   "execution_count": 2,
   "metadata": {},
   "outputs": [],
   "source": [
    "class Agent(tf.keras.Model):\n",
    "    \n",
    "    def __init__(\n",
    "        self, \n",
    "        channel_size,\n",
    "        num_classes,\n",
    "        name='agent',\n",
    "        lstm_units=64,\n",
    "        latent_dim=64,\n",
    "        encoder=None,\n",
    "        output_activation=None\n",
    "    ):\n",
    "        super(Agent, self).__init__(name=name)\n",
    "        self.state = None\n",
    "        self.channel_size = channel_size\n",
    "        self.num_classes = num_classes\n",
    "        \n",
    "        self.concat = tf.keras.layers.Concatenate()\n",
    "        \n",
    "        self.encoder = encoder or \\\n",
    "            tf.keras.layers.Lambda(lambda x: x)\n",
    "        \n",
    "        self.lstm = tf.keras.layers.LSTM(\n",
    "            units=lstm_units,\n",
    "            return_state=True,\n",
    "            dropout=0.5,\n",
    "        )\n",
    "\n",
    "        self.output_layer = tf.keras.layers.Dense(\n",
    "            self.channel_size + self.num_classes, \n",
    "            activation=output_activation\n",
    "        )\n",
    "        \n",
    "        self.extract_utterance = tf.keras.layers.Lambda(\n",
    "            lambda x: x[:, :self.channel_size]\n",
    "        )\n",
    "        self.extract_class_probs = tf.keras.layers.Lambda(\n",
    "            lambda x: tf.nn.softmax(x[:, self.channel_size:])\n",
    "        )\n",
    "        \n",
    "        self.reset()\n",
    "        \n",
    "    def reset(self):\n",
    "        self.state = self.lstm.get_initial_state(inputs)\n",
    "\n",
    "    def call(self, inputs, state=None, training=False):\n",
    "        \n",
    "        inp, prev_utt, other_utt = inputs\n",
    "        \n",
    "        x = self.encoder(inp)\n",
    "        x = self.concat([x, prev_utt, other_utt])\n",
    "        \n",
    "        x = tf.expand_dims(x, 1) # Add time dim\n",
    "        if state is None:\n",
    "            state = self.state\n",
    "        x, *state = self.lstm(x, initial_state=state, \n",
    "                              training=training)\n",
    "        self.state = state\n",
    "        \n",
    "        x = self.output_layer(x, training=training)\n",
    "        \n",
    "        utterance = self.extract_utterance(x)\n",
    "        class_probs = self.extract_class_probs(x)\n",
    "        \n",
    "        return utterance, class_probs, state\n",
    "\n",
    "\n",
    "class CommChannel(tf.keras.layers.Layer):\n",
    "    \n",
    "    def __init__(self, \n",
    "                 size=32,\n",
    "                 noise=0.5, \n",
    "                 temperature=1,\n",
    "                 no_transform=False,\n",
    "                 one_hot=True):\n",
    "        super(CommChannel, self).__init__()\n",
    "        self.size = size\n",
    "        self.noise = noise\n",
    "        self.temperature = temperature\n",
    "        self.no_transform = no_transform\n",
    "        self.one_hot = one_hot\n",
    "        \n",
    "    def get_initial_state(self, batch_size):\n",
    "        return tf.zeros((batch_size, self.size))\n",
    "        \n",
    "    def call(self, x, training=False):\n",
    "        if training:\n",
    "            if self.no_transform:\n",
    "                return x\n",
    "            \n",
    "            if self.noise > 0:\n",
    "                x = x + tf.random.normal(tf.shape(x),  \n",
    "                                         mean=tf.zeros_like(x), \n",
    "                                         stddev=self.noise)\n",
    "                \n",
    "            # The RelaxedOneHotCategorical distribution was concurrently introduced as the\n",
    "            # Gumbel-Softmax (Jang et al., 2016) and Concrete (Maddison et al., 2016)\n",
    "            # distributions for use as a reparameterized continuous approximation to the\n",
    "            # `Categorical` one-hot distribution. If you use this distribution, please cite\n",
    "            # both papers.\n",
    "            dist = tfp.distributions.RelaxedOneHotCategorical(\n",
    "                self.temperature, \n",
    "                logits=x\n",
    "            )\n",
    "            return dist.sample()\n",
    "        \n",
    "        else:\n",
    "            if self.one_hot:\n",
    "                x = tf.nn.softmax(x)\n",
    "                \n",
    "            x = tf.one_hot(tf.argmax(x, axis=-1), \n",
    "                           self.size, dtype=tf.float32)\n",
    "            return x"
   ]
  },
  {
   "cell_type": "markdown",
   "metadata": {},
   "source": [
    "## Check that gradients can flow across channel:"
   ]
  },
  {
   "cell_type": "code",
   "execution_count": 3,
   "metadata": {},
   "outputs": [
    {
     "name": "stdout",
     "output_type": "stream",
     "text": [
      "tf.Tensor([[0.00819303 0.37229258 0.5840765  0.03543791]], shape=(1, 4), dtype=float32)\n"
     ]
    },
    {
     "data": {
      "text/plain": [
       "<tf.Tensor: shape=(1, 4), dtype=float32, numpy=array([[0., 0., 0., 0.]], dtype=float32)>"
      ]
     },
     "execution_count": 3,
     "metadata": {},
     "output_type": "execute_result"
    }
   ],
   "source": [
    "channel = CommChannel(size=10, temperature=1, one_hot=True)\n",
    "\n",
    "x = tf.Variable([[-1, 2, 4, 0]], dtype=tf.float32)\n",
    "with tf.GradientTape() as tape:\n",
    "    y = channel(x, training=True)\n",
    "    \n",
    "print(y)\n",
    "tape.gradient(y, x)"
   ]
  },
  {
   "cell_type": "code",
   "execution_count": 4,
   "metadata": {},
   "outputs": [
    {
     "data": {
      "text/plain": [
       "<tf.Tensor: shape=(1, 10), dtype=float32, numpy=array([[0., 0., 1., 0., 0., 0., 0., 0., 0., 0.]], dtype=float32)>"
      ]
     },
     "execution_count": 4,
     "metadata": {},
     "output_type": "execute_result"
    }
   ],
   "source": [
    "channel(x)"
   ]
  },
  {
   "cell_type": "markdown",
   "metadata": {},
   "source": [
    "## Load Data:"
   ]
  },
  {
   "cell_type": "code",
   "execution_count": 5,
   "metadata": {},
   "outputs": [],
   "source": [
    "num_classes = 3\n",
    "class_labels = list(range(num_classes))\n",
    "\n",
    "(x_train, y_train), (x_test, y_test) = tf.keras.datasets.mnist.load_data()\n",
    "\n",
    "def preprocess_images(images):\n",
    "    images = images / 255.\n",
    "    return np.where(images > .5, 1.0, 0.0).astype('float32')\n",
    "\n",
    "x_train = preprocess_images(x_train)\n",
    "train_data = [(x, y) for x, y in zip(x_train, y_train) if y in class_labels]\n",
    "np.random.shuffle(train_data)\n",
    "\n",
    "x_test = preprocess_images(x_test)\n",
    "test_data = [(x, y) for x, y in zip(x_test, y_test) if y in class_labels]\n",
    "np.random.shuffle(test_data)\n",
    "\n",
    "train_size = 500\n",
    "batch_size = 32\n",
    "test_size = 100\n",
    "\n",
    "train_data_by_label = {\n",
    "    label: [\n",
    "        img for img, l in train_data\n",
    "        if l == label\n",
    "    ]\n",
    "    for label in class_labels\n",
    "}\n",
    "\n",
    "test_data_by_label = {\n",
    "    label: [\n",
    "        img for img, l in test_data\n",
    "        if l == label\n",
    "    ]\n",
    "    for label in class_labels\n",
    "}"
   ]
  },
  {
   "cell_type": "code",
   "execution_count": 6,
   "metadata": {},
   "outputs": [],
   "source": [
    "def generate_batch(source, source_by_label):\n",
    "    targets_inputs = [\n",
    "        (\n",
    "            tf.constant(random.sample(source_by_label[label], \n",
    "                                      batch_size)),\n",
    "            [tf.one_hot(label, num_classes)] * batch_size\n",
    "        )\n",
    "        for label in class_labels\n",
    "    ]\n",
    "    random.shuffle(targets_inputs)\n",
    "    \n",
    "    inputs = [x for x, _ in targets_inputs]\n",
    "    targets = [y for _, y in targets_inputs]\n",
    "    \n",
    "    source_sample = random.sample(source, batch_size)\n",
    "    final_input = tf.constant([x for x, _ in source_sample])\n",
    "    final_target = tf.one_hot([y for _, y in source_sample], \n",
    "                              num_classes)\n",
    "    \n",
    "    return inputs + [final_input], targets + [final_target]\n",
    "\n",
    "def generate_train_batch():\n",
    "    return generate_batch(train_data, train_data_by_label)\n",
    "\n",
    "def generate_test_batch():\n",
    "    return generate_batch(test_data, test_data_by_label)"
   ]
  },
  {
   "cell_type": "code",
   "execution_count": 7,
   "metadata": {
    "scrolled": false
   },
   "outputs": [],
   "source": [
    "inputs, targets = generate_train_batch()"
   ]
  },
  {
   "cell_type": "code",
   "execution_count": 8,
   "metadata": {},
   "outputs": [
    {
     "data": {
      "text/plain": [
       "(<tf.Tensor: shape=(4,), dtype=int32, numpy=array([ 4, 32, 28, 28])>,\n",
       " <tf.Tensor: shape=(3,), dtype=int32, numpy=array([ 4, 32,  3])>)"
      ]
     },
     "execution_count": 8,
     "metadata": {},
     "output_type": "execute_result"
    }
   ],
   "source": [
    "tf.shape(inputs), tf.shape(targets)"
   ]
  },
  {
   "cell_type": "code",
   "execution_count": 9,
   "metadata": {},
   "outputs": [
    {
     "data": {
      "image/png": "[encoded data removed]",
      "text/plain": [
       "<matplotlib.figure.Figure at 0x24a5099bf98>"
      ]
     },
     "metadata": {
      "needs_background": "light"
     },
     "output_type": "display_data"
    }
   ],
   "source": [
    "fig, axs = plt.subplots(1, len(class_labels) + 1, \n",
    "                        figsize=(10, 10*(1 + len(class_labels))))\n",
    "for ax, inp in zip(axs, inputs):\n",
    "    img = inp[0].numpy()\n",
    "    ax.imshow(img)\n",
    "    ax.axis('off')\n",
    "plt.show()"
   ]
  },
  {
   "cell_type": "code",
   "execution_count": 10,
   "metadata": {},
   "outputs": [],
   "source": [
    "def maybe_mutate_message(\n",
    "    message, channel_size, history, p_mutate, \n",
    "    training=False\n",
    "):\n",
    "\n",
    "    if training:\n",
    "        batch_size, *_ = tf.shape(message)\n",
    "\n",
    "        possible_utts = np.array(range(channel_size))\n",
    "\n",
    "        prev_utts_batch = tf.convert_to_tensor([\n",
    "            tf.argmax(item['message_from_teacher'], axis=-1) \n",
    "            for item in history \n",
    "        ])\n",
    "        prev_utts_batch = tf.reshape(prev_utts_batch, \n",
    "                                     (batch_size, len(history)))\n",
    "\n",
    "        mutations = [\n",
    "            random.choice(possible_utts[~np.isin(possible_utts, prev_utts)]) \n",
    "            for prev_utts in prev_utts_batch\n",
    "        ]\n",
    "        if mutations:\n",
    "            mutations = tf.one_hot(mutations, channel_size)\n",
    "            mutations = tf.stop_gradient(mutations)\n",
    "\n",
    "            rand_samples = tf.random.uniform((batch_size, 1))\n",
    "            mask = tf.cast(rand_samples < p_mutate, tf.float32)\n",
    "\n",
    "            return mask * mutations + (1 - mask) * message\n",
    "\n",
    "    return message\n",
    "    \n",
    "\n",
    "def play_game(\n",
    "    inputs, teacher, student, comm_channel, \n",
    "    p_mutate=0.5, training=False,\n",
    "    access_to_inputs_in_first_phase=True,\n",
    "    stop_gradients_on_final_message=True,\n",
    "    no_protocol_establishment=False,\n",
    "):\n",
    "    teacher.reset()\n",
    "    student.reset()\n",
    "    \n",
    "    if len(inputs) != num_classes + 1:\n",
    "        raise ValueError(f'Invalid inputs: {inputs}')\n",
    "\n",
    "    _, batch_size, *_ = tf.shape(inputs)\n",
    "\n",
    "    no_inp = tf.zeros_like(inputs[0])\n",
    "    silence = comm_channel.get_initial_state(batch_size)\n",
    "\n",
    "    teacher_prev_msg = silence\n",
    "    history = []\n",
    "\n",
    "    if not no_protocol_establishment:\n",
    "        for inp in inputs[:-1]:\n",
    "\n",
    "            if access_to_inputs_in_first_phase:\n",
    "                teacher_inputs = (inp, teacher_prev_msg, silence)\n",
    "            else:\n",
    "                teacher_inputs = (no_inp, teacher_prev_msg, silence)\n",
    "\n",
    "            teacher_utterance, *_ = teacher(teacher_inputs, training=training)\n",
    "\n",
    "            message_from_teacher = comm_channel(teacher_utterance, \n",
    "                                                training=training)\n",
    "            message_from_teacher = maybe_mutate_message(message_from_teacher, \n",
    "                                                        comm_channel.size,\n",
    "                                                        history,\n",
    "                                                        p_mutate,\n",
    "                                                        training=training)\n",
    "\n",
    "            if access_to_inputs_in_first_phase:\n",
    "                student_inputs = (inp, silence, message_from_teacher)\n",
    "            else:\n",
    "                student_inputs = (no_inp, silence, message_from_teacher)\n",
    "\n",
    "            _ = student(student_inputs, training=training)\n",
    "\n",
    "            history.append({\n",
    "                'teacher_utterance': teacher_utterance,\n",
    "                'message_from_teacher': message_from_teacher, \n",
    "            })\n",
    "            teacher_prev_msg = message_from_teacher\n",
    "\n",
    "    teacher_inputs = (inputs[-1], teacher_prev_msg, silence)\n",
    "    teacher_utterance, *_ = teacher(teacher_inputs, training=training)\n",
    "\n",
    "    message_from_teacher = comm_channel(teacher_utterance,\n",
    "                                        training=training)\n",
    "\n",
    "    if stop_gradients_on_final_message:\n",
    "        message_from_teacher = tf.stop_gradient(message_from_teacher)\n",
    "\n",
    "    student_inputs = (no_inp, silence, message_from_teacher)\n",
    "    _, student_preds, *_ = student(student_inputs, training=training)\n",
    "\n",
    "    history.append({\n",
    "        'teacher_utterance': teacher_utterance,\n",
    "        'message_from_teacher': message_from_teacher, \n",
    "    })\n",
    "\n",
    "    return student_preds, history"
   ]
  },
  {
   "cell_type": "markdown",
   "metadata": {},
   "source": [
    "## Construct Model"
   ]
  },
  {
   "cell_type": "code",
   "execution_count": 11,
   "metadata": {},
   "outputs": [],
   "source": [
    "_, *img_shape = x_train.shape\n",
    "encoder_latent_dim = 64\n",
    "mnist_encoder = tf.keras.Sequential(\n",
    "    [\n",
    "        tf.keras.layers.InputLayer(input_shape=img_shape),\n",
    "        tf.keras.layers.Reshape(target_shape=(*img_shape, 1)),\n",
    "        tf.keras.layers.Conv2D(\n",
    "            filters=32, kernel_size=3, strides=(2, 2), activation='relu'),\n",
    "        tf.keras.layers.Conv2D(\n",
    "            filters=64, kernel_size=3, strides=(2, 2), activation='relu'),\n",
    "        tf.keras.layers.Flatten(),\n",
    "        # No activation\n",
    "        tf.keras.layers.Dense(encoder_latent_dim),\n",
    "    ]\n",
    ")\n",
    "\n",
    "comm_channel = CommChannel(size=5, temperature=1, noise=0.5)\n",
    "\n",
    "agent_1 = Agent(comm_channel.size, num_classes, encoder=mnist_encoder)\n",
    "agent_2 = Agent(comm_channel.size, num_classes, encoder=mnist_encoder)\n",
    "\n",
    "optimizer = tf.keras.optimizers.RMSprop(learning_rate=1e-3)"
   ]
  },
  {
   "cell_type": "code",
   "execution_count": 12,
   "metadata": {},
   "outputs": [
    {
     "data": {
      "text/plain": [
       "{'name': 'RMSprop',\n",
       " 'learning_rate': 0.001,\n",
       " 'decay': 0.0,\n",
       " 'rho': 0.9,\n",
       " 'momentum': 0.0,\n",
       " 'epsilon': 1e-07,\n",
       " 'centered': False}"
      ]
     },
     "execution_count": 12,
     "metadata": {},
     "output_type": "execute_result"
    }
   ],
   "source": [
    "optimizer.get_config()"
   ]
  },
  {
   "cell_type": "code",
   "execution_count": 13,
   "metadata": {},
   "outputs": [],
   "source": [
    "from tensorflow.keras.losses import categorical_crossentropy as cce\n",
    "\n",
    "\n",
    "def get_correct_teacher_msg(history, targets):\n",
    "    messages_sent = tf.convert_to_tensor([\n",
    "        item['message_from_teacher']\n",
    "        for item in history\n",
    "    ])\n",
    "\n",
    "    comm_protocol = tf.convert_to_tensor([\n",
    "        msg for msg in messages_sent[:-1]\n",
    "    ])\n",
    "    comm_protocol = tf.einsum('ijk->jik', comm_protocol)\n",
    "\n",
    "    # labels for each input in the protocol phase\n",
    "    protocol_labels = tf.argmax(targets[:-1], axis=-1)\n",
    "    # labels for the final input\n",
    "    final_labels = tf.argmax(targets[-1], axis=-1)\n",
    "    final_labels = tf.reshape(final_labels, (1, batch_size)) \n",
    "    idx = protocol_labels == final_labels\n",
    "\n",
    "    correct_msgs = comm_protocol[tf.transpose(idx)]\n",
    "    return correct_msgs\n",
    "\n",
    "def loss_fn(outputs, targets, beta=0.1):\n",
    "    student_preds, history = outputs\n",
    "    \n",
    "    # add student loss\n",
    "    loss = cce(targets[-1], student_preds)\n",
    "    \n",
    "    # add teacher loss\n",
    "    if len(history) > 1 and beta > 0:\n",
    "        correct_msg = get_correct_teacher_msg(history, targets)\n",
    "        actual_msg = history[-1]['message_from_teacher']\n",
    "        loss = loss + beta * cce(correct_msg, actual_msg)\n",
    "    \n",
    "    return loss"
   ]
  },
  {
   "cell_type": "markdown",
   "metadata": {},
   "source": [
    "Check gradients:"
   ]
  },
  {
   "cell_type": "code",
   "execution_count": 14,
   "metadata": {
    "scrolled": false
   },
   "outputs": [
    {
     "name": "stdout",
     "output_type": "stream",
     "text": [
      "WARNING:tensorflow:From C:\\Users\\dylan\\Miniconda3\\envs\\xai-it\\lib\\site-packages\\tensorflow_core\\python\\ops\\array_grad.py:563: _EagerTensorBase.cpu (from tensorflow.python.framework.ops) is deprecated and will be removed in a future version.\n",
      "Instructions for updating:\n",
      "Use tf.identity instead.\n",
      "conv2d/kernel:0 grad norm: 2.1437368392944336\n",
      "conv2d/bias:0 grad norm: 1.069966435432434\n",
      "conv2d_1/kernel:0 grad norm: 3.6503751277923584\n",
      "conv2d_1/bias:0 grad norm: 2.7824740409851074\n",
      "dense/kernel:0 grad norm: 8.4350004196167\n",
      "dense/bias:0 grad norm: 6.412608623504639\n",
      "agent/lstm/kernel:0 grad norm: 4.887352466583252\n",
      "agent/lstm/recurrent_kernel:0 grad norm: 2.611173391342163\n",
      "agent/lstm/bias:0 grad norm: 9.675887107849121\n",
      "agent/dense_1/kernel:0 grad norm: 2.749222993850708\n",
      "agent/dense_1/bias:0 grad norm: 9.02873706817627\n"
     ]
    }
   ],
   "source": [
    "inputs, targets = generate_train_batch()\n",
    "\n",
    "with tf.GradientTape() as tape:\n",
    "    outputs = play_game(inputs, agent_1, agent_1, \n",
    "                        comm_channel, training=True)\n",
    "    loss = loss_fn(outputs, targets)\n",
    "\n",
    "grad = tape.gradient(loss, agent_1.trainable_variables)\n",
    "for v, g in zip(agent_1.trainable_variables, grad):\n",
    "    n = tf.reduce_sum(g**2)**0.5\n",
    "    print(f'{v.name} grad norm: {n}')"
   ]
  },
  {
   "cell_type": "code",
   "execution_count": 15,
   "metadata": {},
   "outputs": [
    {
     "data": {
      "image/png": "[encoded data removed]",
      "text/plain": [
       "<matplotlib.figure.Figure at 0x24a53877630>"
      ]
     },
     "metadata": {
      "needs_background": "light"
     },
     "output_type": "display_data"
    }
   ],
   "source": [
    "from matplotlib import gridspec\n",
    "\n",
    "def plot_game(inputs, outputs, targets, select_batch=0):\n",
    "    \"\"\"\n",
    "    Assuming that there is a batch of games, this will only plot\n",
    "    the first one in the batch\n",
    "    \"\"\"\n",
    "    student_preds, history = outputs\n",
    "    \n",
    "    if len(history) > 1:\n",
    "        fig = plt.figure(figsize=(10, 10)) \n",
    "        n_rows = len(history) + 1\n",
    "    else:\n",
    "        fig = plt.figure(figsize=(10, 5)) \n",
    "        n_rows = 2\n",
    "    \n",
    "    gs = gridspec.GridSpec(n_rows, 2, width_ratios=[5, 3]) \n",
    "\n",
    "    for i, item in enumerate(history):\n",
    "        ax0 = plt.subplot(gs[2*i])\n",
    "        sns.barplot(x=list(range(comm_channel.size)), \n",
    "                    y=item['message_from_teacher'][select_batch]);\n",
    "        ax0.set_ylim([0, 1])\n",
    "        ax0.set_yticks([0, 0.5, 1])\n",
    "        if i < len(history) - 1:\n",
    "            ax0.set_title(f'Teacher Message {i+1} (Establishing Protocol Phase)')\n",
    "        else:\n",
    "            ax0.set_title(f'Teacher Message {i+1} (Testing Phase)')\n",
    "\n",
    "        ax1 = plt.subplot(gs[2*i + 1])\n",
    "        if len(history) != len(inputs):\n",
    "            ax1.imshow(inputs[-1][select_batch])\n",
    "        else:\n",
    "            ax1.imshow(inputs[i][select_batch])\n",
    "        ax1.set_title(f'Input (Class {tf.argmax(targets[i][select_batch])})')\n",
    "        ax1.axis('off')\n",
    "\n",
    "    if n_rows > 2:\n",
    "        ax = plt.subplot(gs[-2])\n",
    "        sns.barplot(x=list(range(comm_channel.size)),\n",
    "                    y=get_correct_teacher_msg(history, targets)[select_batch]);\n",
    "        ax.set_ylim([0, 1])\n",
    "        ax.set_yticks([0, 0.5, 1])\n",
    "        ax.set_title(f'What the teacher should have said in message {i+1}')\n",
    "        ax.set_xlabel('Symbol')\n",
    "\n",
    "    ax = plt.subplot(gs[-1])\n",
    "    _, num_classes = tf.shape(student_preds)\n",
    "    sns.barplot(x=list(range(num_classes)),\n",
    "                y=student_preds[select_batch]);\n",
    "    ax.set_ylim([0, 1])\n",
    "    loss = loss_fn(outputs, targets)\n",
    "    ax.set_title(f'What student predicted \\n (Loss = {int(loss[select_batch]*10000)/10000})')\n",
    "    ax.set_xlabel('Class')\n",
    "    \n",
    "    plt.tight_layout()\n",
    "    plt.show()\n",
    "\n",
    "plot_game(inputs, outputs, targets, select_batch=0)"
   ]
  },
  {
   "cell_type": "code",
   "execution_count": 16,
   "metadata": {},
   "outputs": [
    {
     "name": "stdout",
     "output_type": "stream",
     "text": [
      "Model: \"agent\"\n",
      "_________________________________________________________________\n",
      "Layer (type)                 Output Shape              Param #   \n",
      "=================================================================\n",
      "concatenate (Concatenate)    multiple                  0         \n",
      "_________________________________________________________________\n",
      "sequential (Sequential)      (None, 64)                166336    \n",
      "_________________________________________________________________\n",
      "lstm (LSTM)                  multiple                  35584     \n",
      "_________________________________________________________________\n",
      "dense_1 (Dense)              multiple                  520       \n",
      "_________________________________________________________________\n",
      "lambda (Lambda)              multiple                  0         \n",
      "_________________________________________________________________\n",
      "lambda_1 (Lambda)            multiple                  0         \n",
      "=================================================================\n",
      "Total params: 202,440\n",
      "Trainable params: 202,440\n",
      "Non-trainable params: 0\n",
      "_________________________________________________________________\n"
     ]
    }
   ],
   "source": [
    "agent_1.summary()"
   ]
  },
  {
   "cell_type": "code",
   "execution_count": 20,
   "metadata": {},
   "outputs": [],
   "source": [
    "tb_callback = tf.keras.callbacks.TensorBoard()\n",
    "epochs = 20\n",
    "steps_per_epoch = 30\n",
    "step_print_freq = 2\n",
    "\n",
    "def print_history():\n",
    "    for e, item in enumerate(training_history):\n",
    "        mins = int(item['seconds_taken']) // 60\n",
    "        secs = int(item['seconds_taken']) % 60\n",
    "        t = f'{mins}:{secs}'\n",
    "        l = int(10000 * item['loss'].numpy().mean()) / 10000\n",
    "        print(f'Epoch {e}, Time Taken (mm:ss): {t}, Loss: {l}')\n",
    "\n",
    "\n",
    "def print_step_progress(step, step_mean_loss):\n",
    "    l = int(10000 * step_mean_loss.numpy().mean()) / 10000\n",
    "    p = int(10000 * step/steps_per_epoch) / 100\n",
    "    print(f'Epoch {epoch}, {p}% complete, Loss: {l}')\n",
    "    \n",
    "\n",
    "def self_play_training_step(agent):\n",
    "    inputs, targets = generate_train_batch()\n",
    "    \n",
    "    with tf.GradientTape() as tape:\n",
    "        outputs = play_game(inputs, agent, agent, \n",
    "                            comm_channel, training=True)\n",
    "        loss = loss_fn(outputs, targets)\n",
    "\n",
    "    grad = tape.gradient(loss, agent.trainable_variables)\n",
    "    optimizer.apply_gradients(zip(grad, agent.trainable_variables))\n",
    "\n",
    "    global mean_loss\n",
    "    mean_loss = (mean_loss + tf.reduce_mean(loss)) / 2.0\n",
    "\n",
    "    if step % step_print_freq == 0:\n",
    "        print_history()\n",
    "        print_step_progress(step, mean_loss)\n",
    "        clear_output(wait=True)"
   ]
  },
  {
   "cell_type": "code",
   "execution_count": 21,
   "metadata": {},
   "outputs": [],
   "source": [
    "epoch = 0\n",
    "training_history = []"
   ]
  },
  {
   "cell_type": "code",
   "execution_count": null,
   "metadata": {},
   "outputs": [
    {
     "name": "stdout",
     "output_type": "stream",
     "text": [
      "Epoch 0, Time Taken (mm:ss): 0:8, Loss: 0.7742\n",
      "Epoch 1, Time Taken (mm:ss): 0:10, Loss: 0.3663\n",
      "Epoch 2, Time Taken (mm:ss): 0:11, Loss: 0.3324\n",
      "Epoch 3, Time Taken (mm:ss): 0:10, Loss: 0.419\n",
      "Epoch 4, Time Taken (mm:ss): 0:9, Loss: 0.4156\n",
      "Epoch 5, Time Taken (mm:ss): 0:9, Loss: 0.4329\n",
      "Epoch 6, Time Taken (mm:ss): 0:8, Loss: 0.4541\n",
      "Epoch 7, Time Taken (mm:ss): 0:8, Loss: 0.4383\n",
      "Epoch 8, 20.0% complete, Loss: 0.4574\n"
     ]
    }
   ],
   "source": [
    "print_history()\n",
    "try:\n",
    "    while epoch < epochs:\n",
    "        mean_loss = tf.zeros((1,))\n",
    "        \n",
    "        start_time = time.time()\n",
    "        for step in range(steps_per_epoch):\n",
    "            self_play_training_step(agent_1)\n",
    "        \n",
    "        seconds_taken = time.time() - start_time\n",
    "        training_history.append({\n",
    "            'loss': mean_loss, \n",
    "            'seconds_taken': seconds_taken\n",
    "        })\n",
    "        \n",
    "        epoch += 1\n",
    "        print_history()\n",
    "        clear_output(wait=True)\n",
    "\n",
    "except KeyboardInterrupt:\n",
    "    pass\n",
    "\n",
    "print_history()\n",
    "print('Training stopped.')"
   ]
  },
  {
   "cell_type": "code",
   "execution_count": null,
   "metadata": {},
   "outputs": [],
   "source": [
    "plt.figure()\n",
    "plt.title('Training Loss History')\n",
    "sns.lineplot(x=range(len(training_history)), \n",
    "             y=[item['loss'].numpy()[0] for item in training_history]);"
   ]
  },
  {
   "cell_type": "code",
   "execution_count": null,
   "metadata": {},
   "outputs": [],
   "source": [
    "tf.shape(inputs)"
   ]
  },
  {
   "cell_type": "code",
   "execution_count": null,
   "metadata": {},
   "outputs": [],
   "source": [
    "test_loss = tf.zeros((1,))\n",
    "for step in range(50):\n",
    "    inputs, targets = generate_test_batch()\n",
    "    outputs = play_game(inputs, agent_1, agent_1, \n",
    "                        comm_channel, training=False)\n",
    "    loss = loss_fn(outputs, targets)\n",
    "    test_loss = (test_loss + tf.reduce_mean(loss)) / 2\n",
    "    \n",
    "print(test_loss)"
   ]
  },
  {
   "cell_type": "code",
   "execution_count": null,
   "metadata": {},
   "outputs": [],
   "source": [
    "from sklearn.metrics import plot_confusion_matrix"
   ]
  },
  {
   "cell_type": "code",
   "execution_count": null,
   "metadata": {},
   "outputs": [],
   "source": [
    "test_samples = [generate_test_batch() for _ in range(50)]\n",
    "\n",
    "labels = tf.concat([\n",
    "    tf.argmax(y[-1], axis=-1) \n",
    "    for _, y in test_samples\n",
    "], axis=0)\n",
    "\n",
    "games_played = [\n",
    "    (x, y, *play_game(x, agent_1, agent_1, comm_channel))\n",
    "    for x, y in test_samples\n",
    "]\n",
    "\n",
    "preds = tf.concat([\n",
    "    tf.argmax(student_preds, axis=-1) \n",
    "    for _, _, student_preds, _ in games_played\n",
    "], axis=0)\n",
    "\n",
    "conf_matrix = tf.math.confusion_matrix(labels, preds)\n",
    "\n",
    "col_totals = tf.reduce_sum(conf_matrix, axis=0)\n",
    "col_totals = tf.repeat(col_totals, num_classes)\n",
    "col_totals = tf.reshape(col_totals, tf.shape(conf_matrix))\n",
    "col_totals = tf.transpose(col_totals)\n",
    "\n",
    "conf_matrix = (conf_matrix / col_totals).numpy()\n",
    "conf_matrix[np.where(np.isnan(conf_matrix))] = 0"
   ]
  },
  {
   "cell_type": "code",
   "execution_count": null,
   "metadata": {},
   "outputs": [],
   "source": [
    "sns.heatmap(conf_matrix, annot=True, vmin=0, vmax=1)"
   ]
  },
  {
   "cell_type": "code",
   "execution_count": null,
   "metadata": {
    "scrolled": false
   },
   "outputs": [],
   "source": [
    "for i in range(3):\n",
    "    inputs, targets, *outputs = games_played[i]\n",
    "    plot_game(inputs, outputs, targets)"
   ]
  },
  {
   "cell_type": "markdown",
   "metadata": {},
   "source": [
    "The rows correspond to the true labels and the columns to the predicted labels. Each column is divided by its sum in order to show the percentage of the time the model predicts the given class."
   ]
  },
  {
   "cell_type": "code",
   "execution_count": null,
   "metadata": {},
   "outputs": [],
   "source": [
    "messages = tf.concat([\n",
    "    history[-1]['message_from_teacher'] \n",
    "    for *_, history in games_played\n",
    "], axis=0)"
   ]
  },
  {
   "cell_type": "code",
   "execution_count": null,
   "metadata": {},
   "outputs": [],
   "source": [
    "def make_lm_map(label, message):\n",
    "    *_, msg_size = tf.shape(message)\n",
    "    lm_map_shape = (num_classes, msg_size)\n",
    "    indices = tf.reshape(tf.repeat(class_labels, msg_size), lm_map_shape)\n",
    "    indices = tf.cast(indices, tf.int64) == label\n",
    "    return message * tf.cast(indices, tf.float32)\n",
    "    \n",
    "*_, msg_size = tf.shape(messages)\n",
    "lm_map = tf.zeros((num_classes, msg_size))\n",
    "for label, message in zip(labels, messages):\n",
    "    lm_map = lm_map + make_lm_map(label, message)"
   ]
  },
  {
   "cell_type": "code",
   "execution_count": null,
   "metadata": {},
   "outputs": [],
   "source": [
    "sns.heatmap(lm_map)"
   ]
  },
  {
   "cell_type": "code",
   "execution_count": null,
   "metadata": {},
   "outputs": [],
   "source": [
    "weights_file = f'models/test/{int(time.time())}'\n",
    "weights_file"
   ]
  },
  {
   "cell_type": "code",
   "execution_count": null,
   "metadata": {},
   "outputs": [],
   "source": [
    "model.save_weights(weights_file)"
   ]
  },
  {
   "cell_type": "code",
   "execution_count": null,
   "metadata": {},
   "outputs": [],
   "source": []
  }
 ],
 "metadata": {
  "kernelspec": {
   "display_name": "Python 3",
   "language": "python",
   "name": "python3"
  },
  "language_info": {
   "codemirror_mode": {
    "name": "ipython",
    "version": 3
   },
   "file_extension": ".py",
   "mimetype": "text/x-python",
   "name": "python",
   "nbconvert_exporter": "python",
   "pygments_lexer": "ipython3",
   "version": "3.6.10"
  }
 },
 "nbformat": 4,
 "nbformat_minor": 4
}
