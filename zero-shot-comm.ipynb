{
 "cells": [
  {
   "cell_type": "code",
   "execution_count": 1,
   "metadata": {},
   "outputs": [
    {
     "name": "stdout",
     "output_type": "stream",
     "text": [
      "Physical Devices:\n",
      "PhysicalDevice(name='/physical_device:CPU:0', device_type='CPU')\n",
      "PhysicalDevice(name='/physical_device:GPU:0', device_type='GPU')\n"
     ]
    }
   ],
   "source": [
    "import os\n",
    "import sys\n",
    "sys.path.extend(['..'])\n",
    "\n",
    "import itertools\n",
    "import random\n",
    "import time\n",
    "import unittest.mock as mock\n",
    "\n",
    "import numpy as np\n",
    "import pandas as pd\n",
    "import tensorflow as tf\n",
    "import tensorflow_probability as tfp\n",
    "import tensorboard\n",
    "%load_ext tensorboard\n",
    "\n",
    "from IPython.display import clear_output\n",
    "import matplotlib.pyplot as plt\n",
    "%matplotlib inline\n",
    "\n",
    "import seaborn as sns\n",
    "sns.set()\n",
    "\n",
    "my_devices = tf.config.experimental.list_physical_devices(device_type='CPU')\n",
    "tf.config.experimental.set_visible_devices(devices=my_devices, device_type='CPU')\n",
    "\n",
    "print('Physical Devices:')\n",
    "for dev in tf.config.list_physical_devices():\n",
    "    print(dev)"
   ]
  },
  {
   "cell_type": "code",
   "execution_count": 2,
   "metadata": {},
   "outputs": [],
   "source": [
    "class Agent(tf.keras.Model):\n",
    "    \n",
    "    def __init__(\n",
    "        self, \n",
    "        channel_size,\n",
    "        num_classes,\n",
    "        name='agent',\n",
    "        lstm_units=64,\n",
    "        latent_dim=64,\n",
    "        dense_dim=128,\n",
    "        encoder=None,\n",
    "        output_activation=None,\n",
    "        unknown_class=False,\n",
    "        **kwargs\n",
    "    ):\n",
    "        super(Agent, self).__init__(name=name, **kwargs)\n",
    "        self.channel_size = channel_size\n",
    "        self.num_classes = num_classes\n",
    "        \n",
    "        self.concat = tf.keras.layers.Concatenate()\n",
    "        self.dropout = tf.keras.layers.Dropout(0.5)\n",
    "        \n",
    "        self.encoder = encoder or \\\n",
    "            tf.keras.layers.Lambda(lambda x: x)\n",
    "        \n",
    "        self.dense1 = tf.keras.layers.Dense(\n",
    "            dense_dim, activation=output_activation\n",
    "        )\n",
    "        \n",
    "        self.lstm = tf.keras.layers.LSTM(\n",
    "            units=lstm_units,\n",
    "            return_state=True,\n",
    "            dropout=0.5,\n",
    "        )\n",
    "\n",
    "        self.unknown_class = unknown_class\n",
    "        if self.unknown_class:\n",
    "            output_size = self.channel_size + self.num_classes + 1\n",
    "        else:\n",
    "            output_size = self.channel_size + self.num_classes\n",
    "        \n",
    "        self.output_layer = tf.keras.layers.Dense(\n",
    "            output_size, activation=output_activation\n",
    "        )\n",
    "        \n",
    "        self.extract_utterance = tf.keras.layers.Lambda(\n",
    "            lambda x: x[:, :self.channel_size]\n",
    "        )\n",
    "        self.extract_class_probs = tf.keras.layers.Lambda(\n",
    "            lambda x: tf.nn.softmax(x[:, self.channel_size:])\n",
    "        )\n",
    "\n",
    "    def call(self, inputs, state=None, training=False):\n",
    "        \n",
    "        inp, prev_utt, other_utt = inputs\n",
    "        \n",
    "        x = self.encoder(inp)\n",
    "        x = self.concat([x, prev_utt, other_utt])\n",
    "        \n",
    "        x = self.dense1(x)\n",
    "        x = self.dropout(x, training=training)\n",
    "        \n",
    "        x = tf.expand_dims(x, 1) # Add time dim\n",
    "        if state is None:\n",
    "            state = self.lstm.get_initial_state(inputs)\n",
    "        x, *state = self.lstm(x, initial_state=state, \n",
    "                              training=training)\n",
    "        self.state = state\n",
    "        \n",
    "        x = self.dropout(x, training=training)\n",
    "        \n",
    "        x = self.output_layer(x, training=training)\n",
    "        \n",
    "        utterance = self.extract_utterance(x)\n",
    "        class_probs = self.extract_class_probs(x)\n",
    "        \n",
    "        return utterance, class_probs, state\n",
    "\n",
    "\n",
    "class CommChannel(tf.keras.layers.Layer):\n",
    "    \n",
    "    def __init__(self, \n",
    "                 size=32,\n",
    "                 noise=0.5, \n",
    "                 temperature=1,\n",
    "                 no_transform=False,\n",
    "                 one_hot=True):\n",
    "        super(CommChannel, self).__init__()\n",
    "        self.size = size\n",
    "        self.noise = noise\n",
    "        self.temperature = temperature\n",
    "        self.no_transform = no_transform\n",
    "        self.one_hot = one_hot\n",
    "        \n",
    "    def get_initial_state(self, batch_size):\n",
    "        return tf.zeros((batch_size, self.size))\n",
    "        \n",
    "    def call(self, x, training=False):\n",
    "        if training:\n",
    "            if self.no_transform:\n",
    "                return x\n",
    "            \n",
    "            if self.noise > 0:\n",
    "                x = x + tf.random.normal(tf.shape(x),  \n",
    "                                         mean=tf.zeros_like(x), \n",
    "                                         stddev=self.noise)\n",
    "                \n",
    "            # The RelaxedOneHotCategorical distribution was concurrently introduced as the\n",
    "            # Gumbel-Softmax (Jang et al., 2016) and Concrete (Maddison et al., 2016)\n",
    "            # distributions for use as a reparameterized continuous approximation to the\n",
    "            # `Categorical` one-hot distribution. If you use this distribution, please cite\n",
    "            # both papers.\n",
    "            dist = tfp.distributions.RelaxedOneHotCategorical(\n",
    "                self.temperature, \n",
    "                logits=x\n",
    "            )\n",
    "            return dist.sample()\n",
    "        \n",
    "        else:\n",
    "            if self.one_hot:\n",
    "                x = tf.nn.softmax(x)\n",
    "                \n",
    "            x = tf.one_hot(tf.argmax(x, axis=-1), \n",
    "                           self.size, dtype=tf.float32)\n",
    "            return x"
   ]
  },
  {
   "cell_type": "markdown",
   "metadata": {},
   "source": [
    "## Check that gradients can flow across channel:dropout"
   ]
  },
  {
   "cell_type": "code",
   "execution_count": 3,
   "metadata": {},
   "outputs": [
    {
     "name": "stdout",
     "output_type": "stream",
     "text": [
      "tf.Tensor([[0.00159819 0.01276012 0.9334048  0.05223689]], shape=(1, 4), dtype=float32)\n"
     ]
    },
    {
     "data": {
      "text/plain": [
       "<tf.Tensor: shape=(1, 4), dtype=float32, numpy=array([[0., 0., 0., 0.]], dtype=float32)>"
      ]
     },
     "execution_count": 3,
     "metadata": {},
     "output_type": "execute_result"
    }
   ],
   "source": [
    "channel = CommChannel(size=10, temperature=1, one_hot=True)\n",
    "\n",
    "x = tf.Variable([[-1, 2, 4, 0]], dtype=tf.float32)\n",
    "with tf.GradientTape() as tape:\n",
    "    y = channel(x, training=True)\n",
    "    \n",
    "print(y)\n",
    "tape.gradient(y, x)"
   ]
  },
  {
   "cell_type": "code",
   "execution_count": 4,
   "metadata": {},
   "outputs": [
    {
     "data": {
      "text/plain": [
       "<tf.Tensor: shape=(1, 10), dtype=float32, numpy=array([[0., 0., 1., 0., 0., 0., 0., 0., 0., 0.]], dtype=float32)>"
      ]
     },
     "execution_count": 4,
     "metadata": {},
     "output_type": "execute_result"
    }
   ],
   "source": [
    "channel(x)"
   ]
  },
  {
   "cell_type": "markdown",
   "metadata": {},
   "source": [
    "## Load Data:"
   ]
  },
  {
   "cell_type": "code",
   "execution_count": 5,
   "metadata": {},
   "outputs": [],
   "source": [
    "num_classes = 3\n",
    "BATCH_SIZE = 32\n",
    "use_mnist = False\n",
    "include_unknown_class = True\n",
    "\n",
    "if use_mnist:\n",
    "    class_labels = list(range(num_classes))\n",
    "    (x_train, y_train), (x_test, y_test) = tf.keras.datasets.mnist.load_data()\n",
    "\n",
    "    def preprocess_images(images):\n",
    "        images = images / 255.\n",
    "        return np.where(images > .5, 1.0, 0.0).astype('float32')\n",
    "\n",
    "    x_train = preprocess_images(x_train)\n",
    "    train_data = [(x, y) for x, y in zip(x_train, y_train) if y in class_labels]\n",
    "    np.random.shuffle(train_data)\n",
    "\n",
    "    x_test = preprocess_images(x_test)\n",
    "    test_data = [(x, y) for x, y in zip(x_test, y_test) if y in class_labels]\n",
    "    np.random.shuffle(test_data)\n",
    "    \n",
    "else:\n",
    "    class_labels = list(range(1, 1 + num_classes))\n",
    "    sample_size = int(np.ceil(np.log2(num_classes)))\n",
    "    train_data = [\n",
    "        ([0.0]*(sample_size - len(bin(l)) + 2) + [float(x) for x in bin(l)[2:]], l)\n",
    "        for l in range(1, num_classes+1)\n",
    "    ]\n",
    "    test_data = train_data\n",
    "\n",
    "\n",
    "train_data_by_label = {\n",
    "    label: [\n",
    "        img for img, l in train_data\n",
    "        if l == label\n",
    "    ]\n",
    "    for label in class_labels\n",
    "}\n",
    "\n",
    "test_data_by_label = {\n",
    "    label: [\n",
    "        img for img, l in test_data\n",
    "        if l == label\n",
    "    ]\n",
    "    for label in class_labels\n",
    "}"
   ]
  },
  {
   "cell_type": "code",
   "execution_count": 6,
   "metadata": {},
   "outputs": [
    {
     "data": {
      "text/plain": [
       "{1: [[0.0, 1.0]], 2: [[1.0, 0.0]], 3: [[1.0, 1.0]]}"
      ]
     },
     "execution_count": 6,
     "metadata": {},
     "output_type": "execute_result"
    }
   ],
   "source": [
    "train_data_by_label"
   ]
  },
  {
   "cell_type": "code",
   "execution_count": 7,
   "metadata": {},
   "outputs": [],
   "source": [
    "def generate_batch(source, source_by_label, batch_size=BATCH_SIZE):\n",
    "    inputs = []\n",
    "    targets = []\n",
    "    \n",
    "    \n",
    "    for batch in range(batch_size):\n",
    "        batch_tars = []\n",
    "        batch_inps = []\n",
    "        \n",
    "        for ts in range(num_classes):\n",
    "            sample_space = set(class_labels) - set(batch_tars)\n",
    "            target = random.choice(list(sample_space))\n",
    "            batch_tars.append(target)\n",
    "            inp = random.choice(source_by_label[target])\n",
    "            batch_inps.append(tf.constant(inp))\n",
    "        \n",
    "        target = random.choice(list(set(class_labels)))  \n",
    "        batch_tars.append(target)\n",
    "        inp = random.choice(source_by_label[target])\n",
    "        batch_inps.append(tf.constant(inp))\n",
    "        \n",
    "        batch_tars = [\n",
    "            tf.one_hot(tar-1, num_classes)\n",
    "            for tar in batch_tars\n",
    "        ]\n",
    "        \n",
    "        inputs.append(batch_inps)\n",
    "        targets.append(batch_tars)\n",
    "    \n",
    "    inputs = [\n",
    "        tf.concat([[inputs[b][t]] for b in range(batch_size)], 0)\n",
    "        for t in range(num_classes + 1)\n",
    "    ]\n",
    "    inputs = tf.convert_to_tensor(inputs)\n",
    "    \n",
    "    targets = [\n",
    "        tf.concat([[targets[b][t]] for b in range(batch_size)], 0)\n",
    "        for t in range(num_classes + 1)\n",
    "    ]\n",
    "    targets = tf.convert_to_tensor(targets)\n",
    "    \n",
    "    return inputs, targets \n",
    "\n",
    "def generate_train_batch():\n",
    "    return generate_batch(train_data, train_data_by_label)\n",
    "\n",
    "def generate_test_batch():\n",
    "    return generate_batch(test_data, test_data_by_label)"
   ]
  },
  {
   "cell_type": "code",
   "execution_count": 8,
   "metadata": {},
   "outputs": [],
   "source": [
    "inputs, targets = generate_train_batch()"
   ]
  },
  {
   "cell_type": "code",
   "execution_count": 9,
   "metadata": {},
   "outputs": [
    {
     "data": {
      "text/plain": [
       "(<tf.Tensor: shape=(3,), dtype=int32, numpy=array([ 4, 32,  2])>,\n",
       " <tf.Tensor: shape=(3,), dtype=int32, numpy=array([ 4, 32,  3])>)"
      ]
     },
     "execution_count": 9,
     "metadata": {},
     "output_type": "execute_result"
    }
   ],
   "source": [
    "tf.shape(inputs), tf.shape(targets)"
   ]
  },
  {
   "cell_type": "code",
   "execution_count": 10,
   "metadata": {},
   "outputs": [
    {
     "data": {
      "image/png": "[encoded data removed]",
      "text/plain": [
       "<matplotlib.figure.Figure at 0x20b21206da0>"
      ]
     },
     "metadata": {
      "needs_background": "light"
     },
     "output_type": "display_data"
    },
    {
     "data": {
      "image/png": "[encoded data removed]",
      "text/plain": [
       "<matplotlib.figure.Figure at 0x20b224c6b38>"
      ]
     },
     "metadata": {
      "needs_background": "light"
     },
     "output_type": "display_data"
    },
    {
     "data": {
      "image/png": "[encoded data removed]",
      "text/plain": [
       "<matplotlib.figure.Figure at 0x20b227ffd68>"
      ]
     },
     "metadata": {
      "needs_background": "light"
     },
     "output_type": "display_data"
    },
    {
     "data": {
      "image/png": "[encoded data removed]",
      "text/plain": [
       "<matplotlib.figure.Figure at 0x20b2dd0af98>"
      ]
     },
     "metadata": {
      "needs_background": "light"
     },
     "output_type": "display_data"
    },
    {
     "data": {
      "image/png": "[encoded data removed]",
      "text/plain": [
       "<matplotlib.figure.Figure at 0x20b2e3cf438>"
      ]
     },
     "metadata": {
      "needs_background": "light"
     },
     "output_type": "display_data"
    }
   ],
   "source": [
    "if use_mnist:\n",
    "    figsize = (10, 10*(1 + len(class_labels)))\n",
    "else:\n",
    "    figsize = (3*(1 + len(class_labels)), 1)\n",
    "\n",
    "select_batch = 0\n",
    "show_rows = 5\n",
    "\n",
    "for row in range(show_rows):\n",
    "    fig, axs = plt.subplots(1, len(class_labels) + 1, \n",
    "                            figsize=figsize)\n",
    "    for ax, inp, tar in zip(axs, inputs, targets):\n",
    "        ax.set_title(tar[row].numpy().argmax() + 1)\n",
    "        if use_mnist:\n",
    "            img = inp[row].numpy()\n",
    "            ax.imshow(img)\n",
    "            ax.axis('off')\n",
    "        else:\n",
    "            domain = list(range(len(inp[row])))\n",
    "            ax.bar(domain, inp[row])\n",
    "            ax.set_ylim([0, 1])\n",
    "            ax.set_yticks([0, 1])\n",
    "    plt.show()"
   ]
  },
  {
   "cell_type": "code",
   "execution_count": 11,
   "metadata": {},
   "outputs": [],
   "source": [
    "def maybe_mutate_message(\n",
    "    message, channel_size, history, p_mutate, \n",
    "    training=False\n",
    "):\n",
    "    batch_size = tf.shape(message)[0]\n",
    "\n",
    "    if history == []:\n",
    "        history = [{'message_from_teacher': tf.zeros_like(message)}]\n",
    "\n",
    "    possible_utts = np.array(range(channel_size))\n",
    "\n",
    "    prev_utts = tf.convert_to_tensor([\n",
    "        tf.argmax(item['message_from_teacher'], axis=-1) \n",
    "        for item in history \n",
    "    ])\n",
    "    prev_utts = tf.transpose(prev_utts)\n",
    "\n",
    "    possible_utts = tf.convert_to_tensor([list(range(channel_size))], \n",
    "                                         dtype=tf.int64)\n",
    "    possible_utts = tf.repeat(possible_utts, len(history), axis=0)\n",
    "    possible_utts = tf.repeat([possible_utts], batch_size, axis=0)\n",
    "\n",
    "    idx = possible_utts != tf.reshape(tf.repeat(prev_utts, 5, axis=-1), \n",
    "                                      possible_utts.shape)\n",
    "    idx = tf.reduce_sum(tf.cast(idx, tf.int64), axis=-2) == len(history)\n",
    "    num_remaining_utts = channel_size - len(history)\n",
    "\n",
    "    noise = tf.random.uniform(idx.shape) * tf.cast(idx, tf.float32)\n",
    "    noise_max = tf.reduce_max(noise, axis=-1)\n",
    "    random_choice = noise == tf.reshape(noise_max, (batch_size, 1))\n",
    "\n",
    "    possible_mutations = possible_utts[:, 0, :][random_choice]\n",
    "    possible_mutations = tf.one_hot(possible_mutations, channel_size)\n",
    "    possible_mutations = tf.stop_gradient(possible_mutations)\n",
    "\n",
    "    rand_samples = tf.random.uniform((batch_size, 1))\n",
    "    mask = tf.cast(rand_samples < p_mutate, tf.float32)\n",
    "\n",
    "    mutated_message = mask * possible_mutations + (1 - mask) * message\n",
    "    \n",
    "    return mutated_message, mask\n",
    "    \n",
    "    \n",
    "def play_game(\n",
    "    inputs, teacher, student, comm_channel, \n",
    "    p_mutate=0.5, training=False,\n",
    "    access_to_inputs_in_first_phase=True,\n",
    "    stop_gradients_on_final_message=False,\n",
    "    stop_gradients_on_all_comm=False,\n",
    "    no_protocol_establishment=False,\n",
    "):\n",
    "    batch_size = tf.shape(inputs)[1]\n",
    "\n",
    "    no_inp = tf.zeros_like(inputs[0])\n",
    "    silence = comm_channel.get_initial_state(batch_size)\n",
    "\n",
    "    teacher_prev_msg = silence\n",
    "    history = []\n",
    "    \n",
    "    teacher_state = None\n",
    "    student_state = None\n",
    "\n",
    "    if not no_protocol_establishment:\n",
    "        for i in range(num_classes):\n",
    "            inp = inputs[i]\n",
    "            \n",
    "            if access_to_inputs_in_first_phase:\n",
    "                teacher_inputs = (inp, teacher_prev_msg, silence)\n",
    "            else:\n",
    "                teacher_inputs = (no_inp, teacher_prev_msg, silence)\n",
    "\n",
    "            \n",
    "            teacher_utterance, _, teacher_state = teacher(\n",
    "                teacher_inputs, state=teacher_state, training=training\n",
    "            )\n",
    "\n",
    "            message_from_teacher = comm_channel(teacher_utterance, \n",
    "                                                training=training)\n",
    "            message_from_teacher, mutations = \\\n",
    "                maybe_mutate_message(message_from_teacher, \n",
    "                                     comm_channel.size,\n",
    "                                     history,\n",
    "                                     p_mutate,\n",
    "                                     training=training)\n",
    "                     \n",
    "            if stop_gradients_on_all_comm:\n",
    "                message_from_teacher = tf.stop_gradient(message_from_teacher)\n",
    "\n",
    "            if access_to_inputs_in_first_phase:\n",
    "                student_inputs = (inp, silence, message_from_teacher)\n",
    "            else:\n",
    "                student_inputs = (no_inp, silence, message_from_teacher)\n",
    "\n",
    "            _, _, student_state = student(\n",
    "                student_inputs, state=student_state, training=training\n",
    "            )\n",
    "\n",
    "            history.append({\n",
    "                'teacher_utterance': teacher_utterance,\n",
    "                'message_from_teacher': message_from_teacher, \n",
    "                'message_mutations': mutations\n",
    "            })\n",
    "            teacher_prev_msg = message_from_teacher\n",
    "\n",
    "    teacher_inputs = (inputs[-1], teacher_prev_msg, silence)\n",
    "    teacher_utterance, _, _ = teacher(\n",
    "        teacher_inputs, state=teacher_state, training=training\n",
    "    )\n",
    "\n",
    "    message_from_teacher = comm_channel(teacher_utterance,\n",
    "                                        training=training)\n",
    "\n",
    "    if stop_gradients_on_final_message or stop_gradients_on_all_comm:\n",
    "        message_from_teacher = tf.stop_gradient(message_from_teacher)\n",
    "\n",
    "    student_inputs = (no_inp, silence, message_from_teacher)\n",
    "    _, student_preds, _ = student(\n",
    "        student_inputs, state=student_state, training=training\n",
    "    )\n",
    "\n",
    "    history.append({\n",
    "        'teacher_utterance': teacher_utterance,\n",
    "        'message_from_teacher': message_from_teacher, \n",
    "        'message_mutations': None\n",
    "    })\n",
    "\n",
    "    return student_preds, history"
   ]
  },
  {
   "cell_type": "code",
   "execution_count": 12,
   "metadata": {},
   "outputs": [
    {
     "data": {
      "text/plain": [
       "<tf.Tensor: shape=(5, 4), dtype=int64, numpy=\n",
       "array([[3, 1, 0, 4],\n",
       "       [2, 4, 3, 0],\n",
       "       [3, 0, 1, 2],\n",
       "       [4, 2, 3, 0],\n",
       "       [4, 2, 0, 3]], dtype=int64)>"
      ]
     },
     "execution_count": 12,
     "metadata": {},
     "output_type": "execute_result"
    }
   ],
   "source": [
    "history = []\n",
    "comm_channel = CommChannel(size=5, temperature=1, noise=0.5)\n",
    "\n",
    "msg, _ = maybe_mutate_message(comm_channel.get_initial_state(5), \n",
    "                              comm_channel.size, history, 1)\n",
    "history.append({'message_from_teacher': msg})\n",
    "msg, _ = maybe_mutate_message(comm_channel.get_initial_state(5), \n",
    "                              comm_channel.size, history, 1)\n",
    "history.append({'message_from_teacher': msg})\n",
    "msg, _ = maybe_mutate_message(comm_channel.get_initial_state(5), \n",
    "                              comm_channel.size, history, 1)\n",
    "history.append({'message_from_teacher': msg})\n",
    "msg, _ = maybe_mutate_message(comm_channel.get_initial_state(5), \n",
    "                              comm_channel.size, history, 1)\n",
    "history.append({'message_from_teacher': msg})\n",
    "tf.transpose([\n",
    "    tf.argmax(item['message_from_teacher'], axis=-1) \n",
    "    for item in history\n",
    "])"
   ]
  },
  {
   "cell_type": "markdown",
   "metadata": {},
   "source": [
    "## Construct Model"
   ]
  },
  {
   "cell_type": "code",
   "execution_count": 13,
   "metadata": {},
   "outputs": [],
   "source": [
    "if use_mnist:\n",
    "    encoder_latent_dim = 64\n",
    "    _, *img_shape = x_train.shape\n",
    "    encoder = tf.keras.Sequential(\n",
    "        [\n",
    "            tf.keras.layers.InputLayer(input_shape=img_shape),\n",
    "            tf.keras.layers.Reshape(target_shape=(*img_shape, 1)),\n",
    "            tf.keras.layers.Conv2D(\n",
    "                filters=32, kernel_size=3, strides=(2, 2), activation='relu'),\n",
    "            tf.keras.layers.Conv2D(\n",
    "                filters=64, kernel_size=3, strides=(2, 2), activation='relu'),\n",
    "            tf.keras.layers.Flatten(),\n",
    "            # No activation\n",
    "            tf.keras.layers.Dense(encoder_latent_dim),\n",
    "        ]\n",
    "    )\n",
    "\n",
    "else: \n",
    "    encoder = None\n",
    "\n",
    "comm_channel = CommChannel(size=5, temperature=1, noise=0.5)\n",
    "\n",
    "agent_1 = Agent(comm_channel.size, num_classes, encoder=encoder)\n",
    "agent_2 = Agent(comm_channel.size, num_classes, encoder=encoder)\n",
    "\n",
    "optimizer_1 = tf.keras.optimizers.RMSprop(learning_rate=1e-2)\n",
    "optimizer_2 = tf.keras.optimizers.RMSprop(learning_rate=1e-2)"
   ]
  },
  {
   "cell_type": "code",
   "execution_count": 14,
   "metadata": {},
   "outputs": [
    {
     "data": {
      "text/plain": [
       "{'name': 'RMSprop',\n",
       " 'learning_rate': 0.01,\n",
       " 'decay': 0.0,\n",
       " 'rho': 0.9,\n",
       " 'momentum': 0.0,\n",
       " 'epsilon': 1e-07,\n",
       " 'centered': False}"
      ]
     },
     "execution_count": 14,
     "metadata": {},
     "output_type": "execute_result"
    }
   ],
   "source": [
    "optimizer_1.get_config()"
   ]
  },
  {
   "cell_type": "code",
   "execution_count": 15,
   "metadata": {},
   "outputs": [],
   "source": [
    "inputs, _ = generate_train_batch()\n",
    "preds, history = play_game(inputs, agent_1, agent_1, comm_channel)"
   ]
  },
  {
   "cell_type": "code",
   "execution_count": 16,
   "metadata": {},
   "outputs": [],
   "source": [
    "def get_sent_messages(history):\n",
    "    return tf.convert_to_tensor([\n",
    "        item['message_from_teacher'] for item in history\n",
    "    ])\n",
    "\n",
    "\n",
    "def get_comm_protocol(messages):\n",
    "    return tf.einsum('ijk->jik', messages[:-1])\n",
    "\n",
    "\n",
    "def get_correct_teacher_msg(history, targets):\n",
    "    messages = get_sent_messages(history)\n",
    "    comm_protocol = get_comm_protocol(messages)\n",
    "\n",
    "    batch_size = tf.shape(comm_protocol)[0]\n",
    "    \n",
    "    # labels for each input in the protocol phase\n",
    "    protocol_labels = tf.argmax(targets[:-1], axis=-1)\n",
    "    # labels for the final input\n",
    "    final_labels = tf.argmax(targets[-1], axis=-1)\n",
    "    final_labels = tf.reshape(final_labels, (1, batch_size)) \n",
    "    idx = protocol_labels == final_labels\n",
    "\n",
    "    correct_msgs = comm_protocol[tf.transpose(idx)]\n",
    "    return correct_msgs\n",
    "\n",
    "\n",
    "def get_expected_student_pred(outputs, targets):\n",
    "    student_preds, history = outputs\n",
    "\n",
    "    messages = get_sent_messages(history)\n",
    "    comm_protocol = get_comm_protocol(messages)\n",
    "    \n",
    "    batch_size = tf.shape(comm_protocol)[0]\n",
    "    discretised_protocol = tf.argmax(comm_protocol, axis=-1)\n",
    "    discretised_final_message = tf.argmax(messages[-1], axis=-1)\n",
    "    discretised_final_message = tf.reshape(discretised_final_message, \n",
    "                                           (batch_size, 1))\n",
    "\n",
    "    idx = discretised_protocol == discretised_final_message\n",
    "    idx_num = tf.cast(idx, tf.float32) \n",
    "    row_sum = tf.reduce_sum(idx_num, axis=-1)\n",
    "    row_sum = tf.reshape(row_sum, (batch_size, 1))\n",
    "    dont_know = row_sum == 0.0\n",
    "\n",
    "    protocol_labels = tf.transpose(tf.argmax(targets[:-1], axis=-1))\n",
    "    correct_preds = tf.cast(protocol_labels + 1, tf.float32) * idx_num\n",
    "    correct_preds = tf.cast(correct_preds, tf.int32)\n",
    "    correct_preds = tf.one_hot(correct_preds - 1, num_classes, axis=-1)\n",
    "\n",
    "    pred_size = tf.shape(correct_preds)[2]\n",
    "    uniform_preds = tf.ones((batch_size, pred_size)) \n",
    "    uniform_preds = uniform_preds * tf.cast(dont_know, tf.float32)\n",
    "    uniform_preds = tf.reshape(uniform_preds, (batch_size, 1, pred_size))\n",
    "\n",
    "    correct_preds = tf.concat([correct_preds, uniform_preds], axis=-2)\n",
    "    correct_preds = tf.reduce_sum(correct_preds, axis=-2)\n",
    "\n",
    "    row_sums = tf.reduce_sum(correct_preds, axis=-1)\n",
    "    row_sums = tf.reshape(row_sums, (batch_size, 1))\n",
    "    correct_preds = correct_preds / row_sums\n",
    "    \n",
    "    return correct_preds"
   ]
  },
  {
   "cell_type": "code",
   "execution_count": 17,
   "metadata": {},
   "outputs": [],
   "source": [
    "class SyntheticTeacher:\n",
    "    \n",
    "    def __init__(self, channel_size, num_classes, targets):\n",
    "        self.channel_size = channel_size\n",
    "        self.num_classes = num_classes\n",
    "        self.targets = targets\n",
    "    \n",
    "    def __call__(self, inputs, state=None, training=False):\n",
    "        inp, prev_utt, other_utt = inputs\n",
    "        \n",
    "        if state is not None:\n",
    "            history = state\n",
    "        else:\n",
    "            history = []\n",
    "        \n",
    "        if len(history) < self.num_classes:\n",
    "            utt, _ = maybe_mutate_message(prev_utt,\n",
    "                                          self.channel_size,\n",
    "                                          history,\n",
    "                                          p_mutate=1)\n",
    "        else:\n",
    "            utt = get_correct_teacher_msg(history + [history[0]], \n",
    "                                          self.targets)\n",
    "        \n",
    "        history.append({\n",
    "            'message_from_teacher': utt, \n",
    "        })\n",
    "        \n",
    "        state = history\n",
    "        \n",
    "        return 1000*utt, None, state"
   ]
  },
  {
   "cell_type": "code",
   "execution_count": 27,
   "metadata": {},
   "outputs": [],
   "source": [
    "from tensorflow.keras.losses import categorical_crossentropy as cce\n",
    "\n",
    "\n",
    "def student_pred_matches_test_class(outputs, targets):\n",
    "    student_preds, history = outputs\n",
    "    return cce(targets[-1], student_preds)\n",
    "    \n",
    "\n",
    "def student_pred_matches_implied_class(outputs, targets):\n",
    "    \"\"\" Implied class according to teacher message \"\"\"\n",
    "    student_preds, history = outputs\n",
    "    expected_preds = get_expected_student_pred(outputs, targets)\n",
    "    return cce(expected_preds, student_preds)\n",
    "\n",
    "\n",
    "def teacher_only_loss_fn(outputs, targets):\n",
    "    _, history = outputs\n",
    "    correct_msg = get_correct_teacher_msg(history, targets)\n",
    "    teacher_utt = tf.nn.softmax(history[-1]['teacher_utterance'])\n",
    "    return cce(correct_msg, teacher_utt)\n",
    "\n",
    "\n",
    "def combined_loss_function(outputs, targets):\n",
    "    loss_s = student_pred_matches_implied_class(outputs, targets)\n",
    "    loss_t = student_pred_matches_test_class(outputs, targets)\n",
    "    return loss_s + loss_t\n",
    "\n",
    "\n",
    "def compute_gradients(inputs, targets,\n",
    "                      teacher, student, \n",
    "                      student_only=False,\n",
    "                      teacher_only=False,\n",
    "                      teacher_loss_fn=student_pred_matches_test_class,\n",
    "                      student_loss_fn=student_pred_matches_implied_class,\n",
    "                      combined_loss_fn=None,\n",
    "                      **play_kwargs):\n",
    "    \n",
    "    if student_only and teacher_only:\n",
    "        raise ValueError('student_only and teacher_only cannot both be true')\n",
    "\n",
    "    with tf.GradientTape(persistent=True) as tape:\n",
    "        outputs = play_game(inputs, teacher, student, \n",
    "                            comm_channel, training=True, \n",
    "                            **play_kwargs)\n",
    "        \n",
    "        if combined_loss_fn is None:\n",
    "            if student_only:\n",
    "                teacher_loss = 0\n",
    "            else:\n",
    "                teacher_loss = teacher_loss_fn(outputs, targets)\n",
    "\n",
    "            if teacher_only:\n",
    "                student_loss = 0\n",
    "            else:\n",
    "                student_loss = student_loss_fn(outputs, targets)\n",
    "        \n",
    "        else:\n",
    "            teacher_loss = student_loss = combined_loss_fn(outputs, targets)\n",
    "\n",
    "    if combined_loss_fn is None:\n",
    "        if not teacher_only:\n",
    "            student_grads = tape.gradient(student_loss, student.trainable_variables)\n",
    "        else:\n",
    "            student_grads = None\n",
    "\n",
    "        if not student_only:\n",
    "            teacher_grads = tape.gradient(teacher_loss, teacher.trainable_variables)\n",
    "        else:\n",
    "            teacher_grads = None\n",
    "    \n",
    "    else:\n",
    "        variables = teacher.trainable_variables + student.trainable_variables\n",
    "        teacher_grads = student_grads = tape.gradient(teacher_loss, variables)\n",
    "    \n",
    "    return (student_grads, teacher_grads), (student_loss, teacher_loss)"
   ]
  },
  {
   "cell_type": "markdown",
   "metadata": {},
   "source": [
    "Check gradients:"
   ]
  },
  {
   "cell_type": "code",
   "execution_count": 28,
   "metadata": {},
   "outputs": [
    {
     "name": "stdout",
     "output_type": "stream",
     "text": [
      "agent/dense_4/kernel:0 teacher grad norm: 0.027656562626361847\n",
      "agent/dense_4/bias:0 teacher grad norm: 0.03228221461176872\n",
      "agent/lstm_2/kernel:0 teacher grad norm: 0.047987718135118484\n",
      "agent/lstm_2/recurrent_kernel:0 teacher grad norm: 0.01582549326121807\n",
      "agent/lstm_2/bias:0 teacher grad norm: 0.016598433256149292\n",
      "agent/dense_5/kernel:0 teacher grad norm: 3.6810691356658936\n",
      "agent/dense_5/bias:0 teacher grad norm: 4.509668827056885\n",
      "\n",
      "agent/dense_4/kernel:0 student grad norm: 3.721193790435791\n",
      "agent/dense_4/bias:0 student grad norm: 3.546482563018799\n",
      "agent/lstm_2/kernel:0 student grad norm: 6.404837131500244\n",
      "agent/lstm_2/recurrent_kernel:0 student grad norm: 1.716947078704834\n",
      "agent/lstm_2/bias:0 student grad norm: 3.122384548187256\n",
      "agent/dense_5/kernel:0 student grad norm: 2.454535961151123\n",
      "agent/dense_5/bias:0 student grad norm: 1.5523440837860107\n"
     ]
    }
   ],
   "source": [
    "inputs, targets = generate_train_batch()\n",
    "(student_grads, teacher_grads), _ = compute_gradients(inputs, targets, agent_1, agent_1)\n",
    "\n",
    "for v, g in zip(agent_1.trainable_variables, teacher_grads):\n",
    "    print(f'{v.name} teacher grad norm: {tf.reduce_sum(g**2)**0.5}')\n",
    "\n",
    "print()\n",
    "\n",
    "for v, g in zip(agent_1.trainable_variables, student_grads):\n",
    "    print(f'{v.name} student grad norm: {tf.reduce_sum(g**2)**0.5}')"
   ]
  },
  {
   "cell_type": "code",
   "execution_count": 29,
   "metadata": {},
   "outputs": [
    {
     "name": "stdout",
     "output_type": "stream",
     "text": [
      "Model: \"agent\"\n",
      "_________________________________________________________________\n",
      "Layer (type)                 Output Shape              Param #   \n",
      "=================================================================\n",
      "concatenate_2 (Concatenate)  multiple                  0         \n",
      "_________________________________________________________________\n",
      "dropout_2 (Dropout)          multiple                  0         \n",
      "_________________________________________________________________\n",
      "lambda_6 (Lambda)            multiple                  0         \n",
      "_________________________________________________________________\n",
      "dense_4 (Dense)              multiple                  1664      \n",
      "_________________________________________________________________\n",
      "lstm_2 (LSTM)                multiple                  49408     \n",
      "_________________________________________________________________\n",
      "dense_5 (Dense)              multiple                  520       \n",
      "_________________________________________________________________\n",
      "lambda_7 (Lambda)            multiple                  0         \n",
      "_________________________________________________________________\n",
      "lambda_8 (Lambda)            multiple                  0         \n",
      "=================================================================\n",
      "Total params: 51,592\n",
      "Trainable params: 51,592\n",
      "Non-trainable params: 0\n",
      "_________________________________________________________________\n"
     ]
    }
   ],
   "source": [
    "agent_1.summary()"
   ]
  },
  {
   "cell_type": "code",
   "execution_count": 30,
   "metadata": {},
   "outputs": [],
   "source": [
    "from matplotlib import gridspec\n",
    "\n",
    "def plot_game(inputs, outputs, targets, \n",
    "              select_batch=0, show_utterances=True):\n",
    "    \"\"\"\n",
    "    Assuming that there is a batch of games, this will only plot\n",
    "    the first one in the batch\n",
    "    \"\"\"\n",
    "    student_preds, history = outputs\n",
    "    \n",
    "    if student_preds is not None:\n",
    "        student_loss = student_pred_matches_implied_class(outputs, targets)\n",
    "        teacher_loss = student_pred_matches_test_class(outputs, targets)\n",
    "    else:\n",
    "        teacher_loss = teacher_only_loss_fn(outputs, targets)\n",
    "    \n",
    "    _, _, num_classes = tf.shape(targets)\n",
    "    num_classes = int(num_classes)\n",
    "    \n",
    "    if len(history) > 1:\n",
    "        k = 1.5\n",
    "        fig = plt.figure(\n",
    "            figsize=(\n",
    "                int(k*(num_classes+1)), \n",
    "                int(k*(comm_channel.size+2))\n",
    "            )\n",
    "        )\n",
    "        n_rows = len(history) + 1\n",
    "    else:\n",
    "        fig = plt.figure(figsize=(10, num_classes+1)) \n",
    "        n_rows = 2\n",
    "    \n",
    "    chan_size, = history[0]['message_from_teacher'][select_batch].shape\n",
    "    gs = gridspec.GridSpec(n_rows, 3) \n",
    "\n",
    "    for i, item in enumerate(history):\n",
    "        ax0 = plt.subplot(gs[i, :2])\n",
    "        if show_utterances:\n",
    "            vals = tf.stack([\n",
    "                item['message_from_teacher'][select_batch],\n",
    "                tf.nn.softmax(item['teacher_utterance'][select_batch]),\n",
    "            ])\n",
    "            vals = tf.reshape(vals, (np.prod(vals.shape),))\n",
    "            types = ['message'] * comm_channel.size + ['utterance'] * comm_channel.size\n",
    "            x = list(range(comm_channel.size))\n",
    "            x = x+x\n",
    "        else:\n",
    "            vals = item['message_from_teacher'][select_batch]\n",
    "            types = ['message'] * comm_channel.size\n",
    "            x = list(range(comm_channel.size))\n",
    "        df = pd.DataFrame({\n",
    "            'x': x, 'y': vals, 'type': types,\n",
    "        })\n",
    "        sns.barplot(data=df, x='x', y='y', hue='type',\n",
    "                    palette=sns.color_palette()[::-1]);\n",
    "        ax0.set_xlabel(''); ax0.set_ylabel('')\n",
    "        if i > 0:\n",
    "            plt.legend([],[], frameon=False)\n",
    "        else:\n",
    "            plt.gca().legend().set_title('')\n",
    "        \n",
    "        ax0.set_ylim([0, 1])\n",
    "        ax0.set_yticks([0, 0.5, 1])\n",
    "        if i < len(history) - 1:\n",
    "            did_mutate = 1.0 == item['message_mutations'][select_batch][0]\n",
    "            ax0.set_title(f'Teacher Message {i+1} (Establishing Protocol Phase)\\n'\n",
    "                          f'Did Mutate = {did_mutate}')\n",
    "        else:\n",
    "            ax0.set_title(f'Teacher Message {i+1} (Testing Phase)')\n",
    "\n",
    "        ax1 = plt.subplot(gs[i, 2])\n",
    "        if len(history) != len(inputs):\n",
    "            inp = inputs[-1][select_batch]\n",
    "        else:\n",
    "            inp = inputs[i][select_batch]\n",
    "            \n",
    "        if use_mnist:\n",
    "            ax1.imshow(inp)        \n",
    "            ax1.axis('off')\n",
    "        else:\n",
    "            domain = list(range(len(inp)))\n",
    "            ax1.bar(domain, inp)\n",
    "            ax1.set_ylim([0, 1])\n",
    "            ax1.set_yticks([0, 1])\n",
    "            ax1.set_xticks([0, 1])\n",
    "        \n",
    "        tar_cls = tf.argmax(targets[i][select_batch])\n",
    "        ax1.set_title(f'Input (Class {class_labels[tar_cls]})')\n",
    "\n",
    "    if n_rows > 2:\n",
    "        ax = plt.subplot(gs[-1, 0])\n",
    "        sns.barplot(x=list(range(comm_channel.size)),\n",
    "                    y=get_correct_teacher_msg(history, targets)[select_batch],\n",
    "                    palette=sns.color_palette()[:1]);\n",
    "        ax.set_ylim([0, 1])\n",
    "        ax.set_yticks([0, 0.5, 1])\n",
    "        \n",
    "        ax.set_title(f'What the teacher should\\n'\n",
    "                     f'have said in message {i+1}\\n'\n",
    "                     f'(Teacher Loss {int(teacher_loss[select_batch]*10000)/10000})')\n",
    "            \n",
    "        ax.set_xlabel('Symbol')\n",
    "    \n",
    "    if student_preds is not None:\n",
    "        ax = plt.subplot(gs[-1, 1])\n",
    "        df = pd.DataFrame({\n",
    "            'x': [str(l) for l in class_labels], \n",
    "            'y': student_preds[select_batch]\n",
    "        })\n",
    "        sns.barplot(data=df, x='x', y='y');\n",
    "        ax.set_ylim([0, 1])\n",
    "\n",
    "        ax.set_title(f'What student predicted \\n '\n",
    "                     f'(Student Loss = {int(student_loss[select_batch]*10000)/10000})')\n",
    "        ax.set_xlabel('Class');  ax.set_ylabel('')\n",
    "\n",
    "        ax = plt.subplot(gs[-1, 2])\n",
    "        df = pd.DataFrame({\n",
    "            'x': [str(l) for l in class_labels], \n",
    "            'y': get_expected_student_pred(outputs, targets)[select_batch]\n",
    "        })\n",
    "        sns.barplot(data=df, x='x', y='y');\n",
    "        ax.set_ylim([0, 1])\n",
    "        ax.set_yticks([0, 0.5, 1])\n",
    "        ax.set_title(f'What the student should\\nhave predicted')\n",
    "        ax.set_xlabel('Class');  ax.set_ylabel('')\n",
    "    \n",
    "    plt.tight_layout()\n",
    "    plt.show()"
   ]
  },
  {
   "cell_type": "code",
   "execution_count": 31,
   "metadata": {},
   "outputs": [],
   "source": [
    "inputs, targets = generate_train_batch()\n",
    "outputs = play_game(inputs, agent_1, agent_2,\n",
    "                    comm_channel, p_mutate=0.5, training=True)"
   ]
  },
  {
   "cell_type": "code",
   "execution_count": 32,
   "metadata": {},
   "outputs": [
    {
     "data": {
      "image/png": "[encoded data removed]",
      "text/plain": [
       "<matplotlib.figure.Figure at 0x20b12f38240>"
      ]
     },
     "metadata": {
      "needs_background": "light"
     },
     "output_type": "display_data"
    }
   ],
   "source": [
    "plot_game(inputs, outputs, targets)"
   ]
  },
  {
   "cell_type": "code",
   "execution_count": 34,
   "metadata": {},
   "outputs": [],
   "source": [
    "def print_history():\n",
    "    for e, item in enumerate(training_history):\n",
    "        mins = int(item['seconds_taken']) // 60\n",
    "        secs = int(item['seconds_taken']) % 60\n",
    "        t = f'{mins}:{secs}'\n",
    "        l = int(10000 * item['loss'].numpy().mean()) / 10000\n",
    "        print(f'Epoch {e}, Time Taken (mm:ss): {t}, Loss: {l}')\n",
    "\n",
    "\n",
    "def print_step_progress(step, step_mean_loss):\n",
    "    l = int(10000 * step_mean_loss.numpy().mean()) / 10000\n",
    "    p = int(10000 * step/steps_per_epoch) / 100\n",
    "    print(f'Epoch {epoch}, {p}% complete, Loss: {l}')\n",
    "\n",
    "\n",
    "def self_play_training_step(agent):\n",
    "    \n",
    "    inputs, targets = generate_train_batch()\n",
    "    (grads, _), (loss, _) = compute_gradients(inputs, targets,\n",
    "                                              agent, agent,\n",
    "                                              combined_loss_fn=combined_loss_function,\n",
    "                                              p_mutate=1)\n",
    "    optimizer_1.apply_gradients(zip(grads, agent.trainable_variables))\n",
    "    \n",
    "    return loss\n",
    "\n",
    "\n",
    "def other_play_training_step(teacher, student):\n",
    "    \n",
    "    inputs, targets = generate_train_batch()\n",
    "    (grads, _), (loss, _) = compute_gradients(inputs, targets,\n",
    "                                              teacher, student,\n",
    "                                              combined_loss_fn=combined_loss_function,\n",
    "                                              p_mutate=1)\n",
    "    trainable_vars = teacher.trainable_variables + student.trainable_variables\n",
    "    optimizer_1.apply_gradients(zip(grads, trainable_vars))\n",
    "    \n",
    "    return loss\n",
    "\n",
    "\n",
    "def only_student_training_step(agent):\n",
    "    inputs, targets = generate_train_batch()\n",
    "    teacher = SyntheticTeacher(comm_channel.size, num_classes, targets)\n",
    "    (grads_s, _), (loss_s, _) = compute_gradients(inputs, targets,\n",
    "                                                  teacher, agent,\n",
    "                                                  student_only=True,\n",
    "                                                  stop_gradients_on_all_comm=True,\n",
    "                                                  p_mutate=0)\n",
    "    optimizer_1.apply_gradients(zip(grads_s, agent.trainable_variables))\n",
    "\n",
    "    return loss_s\n",
    "\n",
    "\n",
    "def only_teacher_training_step(agent):\n",
    "    inputs, targets = generate_train_batch()\n",
    "    student = mock.MagicMock(return_value=(None, None, None))\n",
    "    (_, grads_t), (_, loss_t) = compute_gradients(inputs, targets,\n",
    "                                                  agent, student,\n",
    "                                                  teacher_only=True,\n",
    "                                                  stop_gradients_on_all_comm=True,\n",
    "                                                  teacher_loss_fn=teacher_only_loss_fn,\n",
    "                                                  p_mutate=1)\n",
    "\n",
    "    optimizer_1.apply_gradients(zip(grads_t, agent.trainable_variables))\n",
    "\n",
    "    return loss_t"
   ]
  },
  {
   "cell_type": "markdown",
   "metadata": {},
   "source": [
    "# Run Training"
   ]
  },
  {
   "cell_type": "code",
   "execution_count": 35,
   "metadata": {},
   "outputs": [],
   "source": [
    "epochs = 20\n",
    "steps_per_epoch = 100\n",
    "step_print_freq = 5"
   ]
  },
  {
   "cell_type": "code",
   "execution_count": 36,
   "metadata": {},
   "outputs": [],
   "source": [
    "def training_step():\n",
    "    return other_play_training_step(agent_1, agent_2)\n",
    "\n",
    "epoch = 0\n",
    "training_history = []\n",
    "\n",
    "comm_channel = CommChannel(size=5, temperature=1, noise=0.5)\n",
    "\n",
    "agent_1 = Agent(comm_channel.size, num_classes, encoder=encoder)\n",
    "agent_2 = Agent(comm_channel.size, num_classes, encoder=encoder)\n",
    "\n",
    "optimizer_1 = tf.keras.optimizers.RMSprop(learning_rate=1e-2)\n",
    "optimizer_2 = tf.keras.optimizers.RMSprop(learning_rate=1e-2)"
   ]
  },
  {
   "cell_type": "code",
   "execution_count": null,
   "metadata": {},
   "outputs": [],
   "source": [
    "def train(training_step_fn):\n",
    "    print_history()\n",
    "    try:\n",
    "        while epoch < epochs:\n",
    "            mean_loss = tf.zeros((1,))\n",
    "\n",
    "            start_time = time.time()\n",
    "            for step in range(steps_per_epoch):\n",
    "\n",
    "                loss = training_step_fn()\n",
    "                mean_loss = (mean_loss + tf.reduce_mean(loss)) / 2.0\n",
    "\n",
    "                if step % step_print_freq == 0:\n",
    "                    print_history()\n",
    "                    print_step_progress(step, mean_loss)\n",
    "                    clear_output(wait=True)\n",
    "\n",
    "            seconds_taken = time.time() - start_time\n",
    "            training_history.append({\n",
    "                'loss': mean_loss, \n",
    "                'seconds_taken': seconds_taken\n",
    "            })\n",
    "\n",
    "            epoch += 1\n",
    "            print_history()\n",
    "            clear_output(wait=True)\n",
    "\n",
    "    except KeyboardInterrupt:\n",
    "        pass\n",
    "    print_history()\n",
    "    print('Training stopped.')"
   ]
  },
  {
   "cell_type": "code",
   "execution_count": null,
   "metadata": {},
   "outputs": [
    {
     "name": "stdout",
     "output_type": "stream",
     "text": [
      "Epoch 0, Time Taken (mm:ss): 0:44, Loss: 1.8698\n",
      "Epoch 1, Time Taken (mm:ss): 0:41, Loss: 1.5906\n",
      "Epoch 2, Time Taken (mm:ss): 0:45, Loss: 1.4966\n",
      "Epoch 3, Time Taken (mm:ss): 0:43, Loss: 1.4994\n",
      "Epoch 4, 65.0% complete, Loss: 1.5091\n"
     ]
    }
   ],
   "source": [
    "train(training_step_fn)"
   ]
  },
  {
   "cell_type": "code",
   "execution_count": null,
   "metadata": {},
   "outputs": [],
   "source": [
    "plt.figure()\n",
    "plt.title('Training Loss History')\n",
    "sns.lineplot(x=range(len(training_history)), \n",
    "             y=[item['loss'].numpy()[0] for item in training_history]);"
   ]
  },
  {
   "cell_type": "markdown",
   "metadata": {},
   "source": [
    "## Render Model Graph in Tensorboard"
   ]
  },
  {
   "cell_type": "code",
   "execution_count": null,
   "metadata": {},
   "outputs": [],
   "source": [
    "# # Set up logging.\n",
    "# from datetime import datetime\n",
    "# stamp = datetime.now().strftime(\"%Y%m%d-%H%M%S\")\n",
    "# logdir = f'logs\\\\{stamp}'\n",
    "# writer = tf.summary.create_file_writer(logdir)\n",
    "\n",
    "# # Bracket the function call with\n",
    "# # tf.summary.trace_on() and tf.summary.trace_export().\n",
    "# tf.summary.trace_off()\n",
    "# tf.summary.trace_on(graph=True, profiler=True)\n",
    "# # Call only one tf.function when tracing.\n",
    "\n",
    "# @tf.function\n",
    "# def graph_training_step():\n",
    "#     return only_teacher_training_step(agent_1)\n",
    "\n",
    "\n",
    "# graph_training_step()\n",
    "\n",
    "# with writer.as_default():\n",
    "#     tf.summary.trace_export(\n",
    "#         name=\"teacher_only_training_step\",\n",
    "#         step=0,\n",
    "#         profiler_outdir=logdir)\n",
    "    \n",
    "# tf.summary.trace_off()"
   ]
  },
  {
   "cell_type": "code",
   "execution_count": null,
   "metadata": {},
   "outputs": [],
   "source": [
    "# %tensorboard --logdir logs"
   ]
  },
  {
   "cell_type": "markdown",
   "metadata": {},
   "source": [
    "## Test Model"
   ]
  },
  {
   "cell_type": "code",
   "execution_count": null,
   "metadata": {},
   "outputs": [],
   "source": [
    "def student_only_test_play(inputs, targets):\n",
    "    teacher = SyntheticTeacher(comm_channel.size, num_classes, targets)\n",
    "    student = agent_1\n",
    "    return play_game(inputs, teacher, student, \n",
    "                     comm_channel, training=False,\n",
    "                     p_mutate=0)\n",
    "\n",
    "def only_teacher_test_play(inputs, targets):\n",
    "    student = mock.MagicMock(return_value=(None, None, None))\n",
    "    teacher = agent_1\n",
    "    return play_game(inputs, teacher, student, \n",
    "                     comm_channel, training=False,\n",
    "                     p_mutate=1)\n",
    "\n",
    "def self_play_test(inputs, targets):\n",
    "    return play_game(inputs, agent_1, agent_1, \n",
    "                     comm_channel, training=False,\n",
    "                     p_mutate=1)\n",
    "\n",
    "def other_play_test(inputs, targets):\n",
    "    return play_game(inputs, agent_1, agent_2, \n",
    "                     comm_channel, training=False,\n",
    "                     p_mutate=0)\n",
    "\n",
    "test_play = other_play_test\n",
    "test_loss_fn = combined_loss_function"
   ]
  },
  {
   "cell_type": "code",
   "execution_count": null,
   "metadata": {},
   "outputs": [],
   "source": [
    "num_test_games = 50 # in batches\n",
    "\n",
    "test_samples = [generate_test_batch() for _ in range(num_test_games)]\n",
    "\n",
    "games_played = [\n",
    "    (x, y, *test_play(x, y))\n",
    "    for x, y in test_samples\n",
    "]"
   ]
  },
  {
   "cell_type": "code",
   "execution_count": null,
   "metadata": {},
   "outputs": [],
   "source": [
    "for i in range(5):\n",
    "    inputs, targets, *outputs = games_played[5+i]\n",
    "    plot_game(inputs, outputs, targets)"
   ]
  },
  {
   "cell_type": "code",
   "execution_count": null,
   "metadata": {},
   "outputs": [],
   "source": [
    "test_loss = tf.zeros((1,))\n",
    "for inputs, targets, *outputs in games_played:\n",
    "    loss = test_loss_fn(outputs, targets)\n",
    "    test_loss = (test_loss + loss) / 2\n",
    "    \n",
    "print(tf.reduce_mean(test_loss))"
   ]
  },
  {
   "cell_type": "code",
   "execution_count": null,
   "metadata": {},
   "outputs": [],
   "source": [
    "labels = tf.concat([\n",
    "    tf.argmax(y[-1], axis=-1) \n",
    "    for _, y in test_samples\n",
    "], axis=0)\n",
    "\n",
    "preds = tf.concat([\n",
    "    tf.argmax(student_preds, axis=-1) \n",
    "    for _, _, student_preds, _ in games_played\n",
    "], axis=0)\n",
    "\n",
    "conf_matrix = tf.math.confusion_matrix(labels, preds)\n",
    "\n",
    "col_totals = tf.reduce_sum(conf_matrix, axis=0)\n",
    "col_totals = tf.repeat(col_totals, tf.shape(conf_matrix)[0])\n",
    "col_totals = tf.reshape(col_totals, tf.shape(conf_matrix))\n",
    "col_totals = tf.transpose(col_totals)\n",
    "\n",
    "conf_matrix = (conf_matrix / col_totals).numpy()\n",
    "conf_matrix[np.where(np.isnan(conf_matrix))] = 0"
   ]
  },
  {
   "cell_type": "code",
   "execution_count": null,
   "metadata": {},
   "outputs": [],
   "source": [
    "sns.heatmap(conf_matrix, annot=True, vmin=0, vmax=1);"
   ]
  },
  {
   "cell_type": "markdown",
   "metadata": {},
   "source": [
    "The rows correspond to the true labels and the columns to the predicted labels. Each column is divided by its sum in order to show the percentage of the time the model predicts the given class."
   ]
  },
  {
   "cell_type": "code",
   "execution_count": null,
   "metadata": {},
   "outputs": [],
   "source": [
    "messages = tf.concat([\n",
    "    history[-1]['message_from_teacher'] \n",
    "    for *_, history in games_played\n",
    "], axis=0)"
   ]
  },
  {
   "cell_type": "code",
   "execution_count": null,
   "metadata": {},
   "outputs": [],
   "source": [
    "def make_lm_map(label, message):\n",
    "    *_, msg_size = tf.shape(message)\n",
    "    lm_map_shape = (num_classes, msg_size)\n",
    "    class_indices = [i for i, _ in enumerate(class_labels)]\n",
    "    indices = tf.reshape(tf.repeat(class_indices, msg_size), \n",
    "                         lm_map_shape)\n",
    "    indices = tf.cast(indices, tf.int64) == label\n",
    "    return message * tf.cast(indices, tf.float32)\n",
    "    \n",
    "*_, msg_size = tf.shape(messages)\n",
    "lm_map = tf.zeros((num_classes, msg_size))\n",
    "for label, message in zip(labels, messages):\n",
    "    lm_map = lm_map + make_lm_map(label, message)\n",
    "\n",
    "row_totals = tf.reduce_sum(lm_map, axis=1)\n",
    "row_totals = tf.repeat(row_totals, comm_channel.size)\n",
    "row_totals = tf.reshape(row_totals, tf.shape(lm_map))\n",
    "\n",
    "lm_map = lm_map / row_totals"
   ]
  },
  {
   "cell_type": "code",
   "execution_count": null,
   "metadata": {},
   "outputs": [],
   "source": [
    "sns.heatmap(lm_map, vmin=0, vmax=1);\n",
    "plt.ylabel('Class')\n",
    "plt.xlabel('Symbol')\n",
    "plt.title('Communication Protocol')\n",
    "plt.show()"
   ]
  },
  {
   "cell_type": "code",
   "execution_count": null,
   "metadata": {},
   "outputs": [],
   "source": [
    "# weights_file = f'models/test/{int(time.time())}'\n",
    "# weights_file"
   ]
  },
  {
   "cell_type": "code",
   "execution_count": null,
   "metadata": {},
   "outputs": [],
   "source": [
    "# model.save_weights(weights_file)"
   ]
  },
  {
   "cell_type": "code",
   "execution_count": null,
   "metadata": {},
   "outputs": [],
   "source": []
  }
 ],
 "metadata": {
  "kernelspec": {
   "display_name": "Python 3",
   "language": "python",
   "name": "python3"
  },
  "language_info": {
   "codemirror_mode": {
    "name": "ipython",
    "version": 3
   },
   "file_extension": ".py",
   "mimetype": "text/x-python",
   "name": "python",
   "nbconvert_exporter": "python",
   "pygments_lexer": "ipython3",
   "version": "3.6.10"
  }
 },
 "nbformat": 4,
 "nbformat_minor": 4
}
