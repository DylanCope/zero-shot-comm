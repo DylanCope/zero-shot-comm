{
 "cells": [
  {
   "cell_type": "code",
   "execution_count": null,
   "metadata": {},
   "outputs": [],
   "source": [
    "from pathlib import Path\n",
    "from datetime import datetime\n",
    "import json\n",
    "import simplejson\n",
    "\n",
    "# BASE_FOLDER = './experiments/message_mutation_temp_annealing'\n",
    "# EXPERIMENT_FOLDER = f'{BASE_FOLDER}/{datetime.now().strftime(\"%d-%m_%H-%M\")}'\n",
    "EXPERIMENT_FOLDER = \"./experiments/message_mutation_3\""
   ]
  },
  {
   "cell_type": "code",
   "execution_count": null,
   "metadata": {},
   "outputs": [],
   "source": [
    "Path(EXPERIMENT_FOLDER).mkdir(exist_ok=True)\n",
    "EXPERIMENT_FOLDER"
   ]
  },
  {
   "cell_type": "code",
   "execution_count": null,
   "metadata": {},
   "outputs": [],
   "source": [
    "import os\n",
    "os.environ[\"CUDA_VISIBLE_DEVICES\"] = \"-1\""
   ]
  },
  {
   "cell_type": "code",
   "execution_count": null,
   "metadata": {},
   "outputs": [],
   "source": [
    "import numpy as np\n",
    "import pandas as pd\n",
    "import tensorflow as tf\n",
    "\n",
    "from IPython.display import clear_output\n",
    "import matplotlib.pyplot as plt\n",
    "%matplotlib inline\n",
    "\n",
    "import seaborn as sns\n",
    "sns.reset_defaults()\n",
    "sns.set()\n",
    "\n",
    "print('Physical Devices:')\n",
    "for dev in tf.config.list_physical_devices():\n",
    "    print(dev)"
   ]
  },
  {
   "cell_type": "code",
   "execution_count": null,
   "metadata": {},
   "outputs": [],
   "source": [
    "from zscomm.agent import Agent\n",
    "from zscomm.comm_channel import CommChannel\n",
    "from zscomm.synth_teacher import SyntheticTeacher\n",
    "from zscomm.data import *\n",
    "from zscomm.play_game import *\n",
    "from zscomm.loss import *\n",
    "from zscomm.experiment import Experiment\n",
    "from zscomm.meta_experiment import *\n",
    "from zscomm.plot_game import plot_game\n",
    "from zscomm.analysis import *"
   ]
  },
  {
   "cell_type": "markdown",
   "metadata": {},
   "source": [
    "## Load Data:"
   ]
  },
  {
   "cell_type": "code",
   "execution_count": null,
   "metadata": {},
   "outputs": [],
   "source": [
    "NUM_CLASSES = 3\n",
    "BATCH_SIZE = 32\n",
    "CHANNEL_SIZE = 5\n",
    "USE_MNIST = False\n",
    "\n",
    "if USE_MNIST:\n",
    "    TRAIN_DATA, TEST_DATA = get_mnist_data(num_classes=NUM_CLASSES)\n",
    "else:\n",
    "    TRAIN_DATA, TEST_DATA = get_simple_card_data(num_classes=NUM_CLASSES)"
   ]
  },
  {
   "cell_type": "code",
   "execution_count": null,
   "metadata": {},
   "outputs": [],
   "source": [
    "def generate_train_batch():\n",
    "    return generate_batch(TRAIN_DATA,\n",
    "                          batch_size=BATCH_SIZE, \n",
    "                          num_classes=NUM_CLASSES)\n",
    "\n",
    "\n",
    "def generate_test_batch():\n",
    "    return generate_batch(TEST_DATA,\n",
    "                          batch_size=BATCH_SIZE, \n",
    "                          num_classes=NUM_CLASSES)"
   ]
  },
  {
   "cell_type": "markdown",
   "metadata": {},
   "source": [
    "# Run Experiments"
   ]
  },
  {
   "cell_type": "code",
   "execution_count": null,
   "metadata": {},
   "outputs": [],
   "source": [
    "def create_other_play_experiment(p_mutate=0.3):\n",
    "    \n",
    "    student = Agent(CHANNEL_SIZE, NUM_CLASSES)\n",
    "    teacher = Agent(CHANNEL_SIZE, NUM_CLASSES)\n",
    "\n",
    "    play_params =  {\n",
    "        'channel_size': CHANNEL_SIZE, 'p_mutate': p_mutate,\n",
    "    }\n",
    "    \n",
    "    return Experiment(\n",
    "        generate_train_batch, generate_test_batch,\n",
    "        play_params=play_params, \n",
    "        student=student,\n",
    "        teacher=teacher,\n",
    "        loss_fn=complete_loss_fn\n",
    "    )\n",
    "\n",
    "def create_other_play_separate_optimise_experiment(p_mutate=0.3):\n",
    "    \n",
    "    student = Agent(CHANNEL_SIZE, NUM_CLASSES)\n",
    "    teacher = Agent(CHANNEL_SIZE, NUM_CLASSES)\n",
    "\n",
    "    play_params =  {\n",
    "        'channel_size': CHANNEL_SIZE, 'p_mutate': p_mutate,\n",
    "    }\n",
    "    \n",
    "    return Experiment(\n",
    "        generate_train_batch, generate_test_batch,\n",
    "        play_params=play_params, \n",
    "        student=student,\n",
    "        teacher=teacher,\n",
    "        student_loss_fn=student_pred_matches_implied_class,\n",
    "        teacher_loss_fn=student_pred_matches_test_class\n",
    "    )\n",
    "\n",
    "def create_self_play_experiment(p_mutate=0.3, **exp_kwargs):\n",
    "    \n",
    "    agent = Agent(CHANNEL_SIZE, NUM_CLASSES)\n",
    "\n",
    "    play_params =  {\n",
    "        'channel_size': CHANNEL_SIZE, \n",
    "        'p_mutate': p_mutate,\n",
    "    }\n",
    "    \n",
    "    return Experiment(\n",
    "        generate_train_batch, generate_test_batch,\n",
    "        play_params=play_params, \n",
    "        student=agent,\n",
    "        teacher=agent,\n",
    "        loss_fn=complete_loss_fn,\n",
    "        **exp_kwargs\n",
    "    )\n",
    "\n",
    "def create_unkind_mutation_experiment(p_mutate=0.3, **exp_kwargs):\n",
    "    \n",
    "    agent = Agent(CHANNEL_SIZE, NUM_CLASSES)\n",
    "\n",
    "    play_params =  {\n",
    "        'channel_size': CHANNEL_SIZE,\n",
    "        'p_mutate': p_mutate, \n",
    "        'kind_mutations': False,\n",
    "    }\n",
    "    \n",
    "    return Experiment(\n",
    "        generate_train_batch, generate_test_batch,\n",
    "        play_params=play_params, \n",
    "        student=agent,\n",
    "        teacher=agent,\n",
    "        loss_fn=complete_loss_fn,\n",
    "        **exp_kwargs\n",
    "    )\n",
    "\n",
    "def create_mutation_with_temp_annealing_experiment(\n",
    "    p_mutate=0.3, channel_size=5, epochs=250, **exp_kwargs\n",
    "):\n",
    "    agent = Agent(channel_size, NUM_CLASSES)\n",
    "\n",
    "    start_temp = 10\n",
    "    end_temp = 0.1\n",
    "    temp_anneal_end_epoch = 200\n",
    "    a = -np.log(end_temp / start_temp) / temp_anneal_end_epoch\n",
    "    \n",
    "    def play_params(epoch):\n",
    "        if epoch < temp_anneal_end_epoch:\n",
    "            channel_temp = float(start_temp * np.exp(-a*epoch))\n",
    "        else:\n",
    "            channel_temp = end_temp\n",
    "        \n",
    "        return {\n",
    "            'channel_size': CHANNEL_SIZE,\n",
    "            'p_mutate': p_mutate,\n",
    "            'channel_temp': channel_temp,\n",
    "        }\n",
    "    \n",
    "    return Experiment(\n",
    "        generate_train_batch, generate_test_batch,\n",
    "        play_params=play_params, \n",
    "        student=agent,\n",
    "        teacher=agent,\n",
    "        student_loss_fn=student_pred_matches_implied_class,\n",
    "        teacher_loss_fn=student_pred_matches_test_class,\n",
    "        max_epochs=epochs,\n",
    "        lr=1e-2,\n",
    "        step_print_freq=10,\n",
    "        **exp_kwargs\n",
    "    )"
   ]
  },
  {
   "cell_type": "markdown",
   "metadata": {},
   "source": [
    "## Investigating the effect of message mutation:"
   ]
  },
  {
   "cell_type": "code",
   "execution_count": null,
   "metadata": {},
   "outputs": [],
   "source": [
    "class VaryPMutateExperiment(MetaExperiment):\n",
    "    \n",
    "    def __init__(self, \n",
    "                 num_intervals=5, \n",
    "                 p_mutate_vals = None,\n",
    "                 save_location=None, \n",
    "                 **experiment_kwargs):\n",
    "        self.name = 'vary_pm_experiment'\n",
    "        \n",
    "        self.num_experiments = num_intervals + 1\n",
    "        if p_mutate_vals is not None:\n",
    "            self.num_experiments = len(p_mutate_vals)\n",
    "        \n",
    "        p_mutate_vals = p_mutate_vals or [\n",
    "            i/num_intervals for i in range(self.num_experiments)\n",
    "        ]\n",
    "        self.experiments = [\n",
    "            {\n",
    "                'p_mutate': p_mutate,\n",
    "                'experiment': MetaExperiment(\n",
    "                    p_mutate=p_mutate, \n",
    "                    print_prehistory=self.print_history,\n",
    "                    name=f'meta_experiment_pm={p_mutate}',\n",
    "                    export_location=None if save_location is None else \\\n",
    "                                    f'{save_location}/pm={p_mutate}',\n",
    "                    **experiment_kwargs\n",
    "                ),\n",
    "                'status': 'Not Run',\n",
    "                'results': None,\n",
    "                'index': i,\n",
    "            }\n",
    "            for i, p_mutate in enumerate(p_mutate_vals)\n",
    "        ]\n",
    "        \n",
    "        self.save_location = save_location\n",
    "        if save_location is not None:\n",
    "            self.load_history(save_location)\n",
    "    \n",
    "    def get_experiment_results(self, meta_experiment):\n",
    "        return meta_experiment.results\n",
    "\n",
    "    def _get_results(self):\n",
    "        return None\n",
    "    \n",
    "    def print_prehistory(self):\n",
    "        pass\n",
    "            \n",
    "    def load_history(self, history_location):\n",
    "        experiment_path = Path(history_location)\n",
    "        for path in experiment_path.glob('*'):\n",
    "            try:\n",
    "                metadata = json.load((path / 'meta.json').open(mode='r'))\n",
    "                results = json.load((path / 'results.json').open(mode='r'))\n",
    "                i = metadata['index']\n",
    "                self.experiments[i]['status'] = 'Complete'\n",
    "                self.experiments[i]['results'] = results['zs_coord_f1_scores']\n",
    "                meta_exp = self.experiments[i]['experiment']\n",
    "                meta_exp.results = results['zs_coord_f1_scores']\n",
    "\n",
    "                for item in meta_exp.experiments:\n",
    "                    history_path = path / f\"experiment_{item['index']}_logs.json\"\n",
    "                    training_history = json.load(history_path.open(mode='r'))\n",
    "                    item['experiment'].training_history = training_history\n",
    "            except FileNotFoundError:\n",
    "                pass\n",
    "    \n",
    "    def export_experiment(self, experiment):\n",
    "        if self.save_location is not None:\n",
    "            experiment_config = \\\n",
    "                experiment.experiments[0]['experiment'].get_config()\n",
    "            \n",
    "            i, *_ = [i for i, x in enumerate(self.experiments)\n",
    "                     if x['experiment'] == experiment]\n",
    "            meta_data = {\n",
    "                'index': i,\n",
    "                'experiment_config': experiment_config\n",
    "            }\n",
    "            meta_data_path = Path(f'{experiment.export_location}/meta.json')\n",
    "            with meta_data_path.open(mode='w') as f:\n",
    "                json.dump(meta_data, f)\n",
    "                \n",
    "            results = {\n",
    "                'zs_coord_f1_scores': experiment.results\n",
    "            }\n",
    "            results_path = Path(f'{experiment.export_location}/results.json')\n",
    "            with results_path.open(mode='w') as f:\n",
    "                json.dump(results, f)\n",
    "\n",
    "            print('Saved experiment data at:', experiment.export_location)"
   ]
  },
  {
   "cell_type": "code",
   "execution_count": null,
   "metadata": {},
   "outputs": [],
   "source": [
    "vary_pm_experiment = VaryPMutateExperiment(save_location=EXPERIMENT_FOLDER,\n",
    "                                           p_mutate_vals=[0.0, 0.2, 0.4],\n",
    "                                           create_experiment_fn=create_mutation_with_temp_annealing_experiment)"
   ]
  },
  {
   "cell_type": "code",
   "execution_count": null,
   "metadata": {},
   "outputs": [],
   "source": [
    "vary_pm_experiment.run()"
   ]
  },
  {
   "cell_type": "code",
   "execution_count": null,
   "metadata": {},
   "outputs": [],
   "source": [
    "grand_total = 0\n",
    "for item_1 in vary_pm_experiment.experiments:\n",
    "    for item_2 in item_1['experiment'].experiments:\n",
    "        total_time = sum([\n",
    "            x['seconds_taken']\n",
    "            for x in item_2['experiment'].training_history\n",
    "        ])\n",
    "        print(int(total_time / 3600), 'hours,', int(total_time / 60) % 60, 'mins and', \n",
    "              int(total_time) % 60, 'seconds taken for experiment', \n",
    "              f\"pm={item_1['p_mutate']}_{item_2['index']}\")\n",
    "        grand_total += total_time\n",
    "    print()\n",
    "    \n",
    "print(int(grand_total / 3600), 'hours,', int(grand_total / 60) % 60, 'mins and', \n",
    "      int(grand_total) % 60, 'seconds taken for whole experiment')"
   ]
  },
  {
   "cell_type": "code",
   "execution_count": null,
   "metadata": {},
   "outputs": [],
   "source": [
    "df = pd.DataFrame([\n",
    "    {\n",
    "        'Mutation Probability': item['p_mutate'],\n",
    "        'Zero-Shot Coordination Score': score,\n",
    "    }\n",
    "    for item in vary_pm_experiment.experiments\n",
    "    if item['status'] == 'Complete'\n",
    "    for score in item['results']\n",
    "])"
   ]
  },
  {
   "cell_type": "code",
   "execution_count": null,
   "metadata": {},
   "outputs": [],
   "source": [
    "sns.lineplot(x=[-2, 2], y=[1/NUM_CLASSES, 1/NUM_CLASSES], dashes=True, color=(0.1, 0.1, 0.1, 0.5), label='Baseline')\n",
    "sns.lineplot(x='Mutation Probability', y='Zero-Shot Coordination Score', data=df, label='Mean Performance')\n",
    "sns.scatterplot(x='Mutation Probability', y='Zero-Shot Coordination Score', data=df, marker='x', label='Raw Data')\n",
    "plt.ylim([0, 1.05])\n",
    "plt.xlim([-.05, 1.05])\n",
    "plt.title('The Effect of Mutations on Zero-Shot Coordination')\n",
    "plt.show()"
   ]
  },
  {
   "cell_type": "code",
   "execution_count": null,
   "metadata": {},
   "outputs": [],
   "source": [
    "df_train = pd.DataFrame([\n",
    "    {\n",
    "        'Epoch': epoch,\n",
    "        'Experiment': f\"p_m={item_1['p_mutate']}\",\n",
    "        'Subexperiment': f'subexperiment_{item_2[\"index\"]}',\n",
    "        'Train Loss': training_item['loss']\n",
    "    }\n",
    "    for item_1 in vary_pm_experiment.experiments\n",
    "    for item_2 in item_1['experiment'].experiments\n",
    "    for epoch, training_item in enumerate(item_2['experiment'].training_history) \n",
    "])\n",
    "df_train.head()"
   ]
  },
  {
   "cell_type": "code",
   "execution_count": null,
   "metadata": {},
   "outputs": [],
   "source": [
    "sns.lineplot(x='Epoch', y='Train Loss', hue='Experiment', \n",
    "             data=df_train[df_train['Experiment'] == 'p_m=0.2']);\n",
    "# Put the legend out of the figure\n",
    "# plt.legend(bbox_to_anchor=(1.05, 1), loc=2, borderaxespad=0.)\n",
    "plt.title('Training History by Mutation Probability')\n",
    "plt.show()"
   ]
  },
  {
   "cell_type": "code",
   "execution_count": null,
   "metadata": {},
   "outputs": [],
   "source": [
    "df_test = pd.DataFrame([\n",
    "    {\n",
    "        'Epoch': epoch,\n",
    "        'Experiment': f\"p_m={item_1['p_mutate']}\",\n",
    "        'Subexperiment': f'subexperiment_{item_2[\"index\"]}',\n",
    "        'F1-Score': training_item['test_metrics']['mean_ground_truth_f1']\n",
    "    }\n",
    "    for item_1 in vary_pm_experiment.experiments\n",
    "    for item_2 in item_1['experiment'].experiments\n",
    "    for epoch, training_item in enumerate(item_2['experiment'].training_history)\n",
    "    if 'test_metrics' in training_item\n",
    "])"
   ]
  },
  {
   "cell_type": "code",
   "execution_count": null,
   "metadata": {},
   "outputs": [],
   "source": [
    "sns.lineplot(x='Epoch', y='F1-Score', hue='Subexperiment', \n",
    "             data=df_test[df_test['Experiment'] == 'p_m=0.2']);\n",
    "# Put the legend out of the figure\n",
    "plt.legend(bbox_to_anchor=(1.05, 1), loc=2, borderaxespad=0.)\n",
    "plt.title('Self-play Test Performance')\n",
    "plt.show()"
   ]
  },
  {
   "cell_type": "code",
   "execution_count": null,
   "metadata": {},
   "outputs": [],
   "source": [
    "vary_pm_experiment.experiments[0]['experiment'].results"
   ]
  },
  {
   "cell_type": "code",
   "execution_count": null,
   "metadata": {},
   "outputs": [],
   "source": [
    "games_played, test_metrics = vary_pm_experiment.experiments[2]['experiment'].experiments[1]['experiment'].run_tests()\n",
    "test_metrics"
   ]
  },
  {
   "cell_type": "code",
   "execution_count": null,
   "metadata": {},
   "outputs": [],
   "source": [
    "for i in range(5):\n",
    "    inputs, targets, outputs = games_played[i]\n",
    "    plot_game(inputs, outputs, targets, select_batch=1)"
   ]
  },
  {
   "cell_type": "code",
   "execution_count": null,
   "metadata": {},
   "outputs": [],
   "source": [
    "for i in range(3):\n",
    "    games_played, _ = vary_pm_experiment.experiments[0]['experiment'].experiments[i]['experiment'].run_tests()\n",
    "    mean_class_message_map = create_mean_class_message_map(games_played)\n",
    "    sns.heatmap(mean_class_message_map, vmin=0, vmax=1);\n",
    "    plt.ylabel('Class')\n",
    "    plt.xlabel('Symbol')\n",
    "    plt.title('Communication Protocol')\n",
    "    plt.show()"
   ]
  },
  {
   "cell_type": "code",
   "execution_count": null,
   "metadata": {},
   "outputs": [],
   "source": [
    "conf_matrix = compute_confusion_matrix(games_played)\n",
    "sns.heatmap(conf_matrix, annot=True, vmin=0, vmax=1)\n",
    "plt.title('Ground Truth Confusion Matrix')\n",
    "plt.ylabel('Predicted Class')\n",
    "plt.xlabel('Actual Class');"
   ]
  },
  {
   "cell_type": "code",
   "execution_count": null,
   "metadata": {},
   "outputs": [],
   "source": []
  }
 ],
 "metadata": {
  "kernelspec": {
   "display_name": "Python 3",
   "language": "python",
   "name": "python3"
  },
  "language_info": {
   "codemirror_mode": {
    "name": "ipython",
    "version": 3
   },
   "file_extension": ".py",
   "mimetype": "text/x-python",
   "name": "python",
   "nbconvert_exporter": "python",
   "pygments_lexer": "ipython3",
   "version": "3.6.10"
  }
 },
 "nbformat": 4,
 "nbformat_minor": 4
}
