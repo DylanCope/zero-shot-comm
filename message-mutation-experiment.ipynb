{
 "cells": [
  {
   "cell_type": "code",
   "execution_count": 1,
   "metadata": {},
   "outputs": [],
   "source": [
    "from pathlib import Path\n",
    "from datetime import datetime\n",
    "import json"
   ]
  },
  {
   "cell_type": "code",
   "execution_count": 2,
   "metadata": {},
   "outputs": [],
   "source": [
    "import os\n",
    "os.environ[\"CUDA_VISIBLE_DEVICES\"] = \"-1\""
   ]
  },
  {
   "cell_type": "code",
   "execution_count": 3,
   "metadata": {},
   "outputs": [
    {
     "name": "stdout",
     "output_type": "stream",
     "text": [
      "Physical Devices:\n",
      "PhysicalDevice(name='/physical_device:CPU:0', device_type='CPU')\n"
     ]
    }
   ],
   "source": [
    "import numpy as np\n",
    "import pandas as pd\n",
    "import tensorflow as tf\n",
    "\n",
    "from IPython.display import clear_output\n",
    "import matplotlib.pyplot as plt\n",
    "from matplotlib import gridspec\n",
    "%matplotlib inline\n",
    "\n",
    "import seaborn as sns\n",
    "sns.reset_defaults()\n",
    "sns.set()\n",
    "\n",
    "print('Physical Devices:')\n",
    "for dev in tf.config.list_physical_devices():\n",
    "    print(dev)"
   ]
  },
  {
   "cell_type": "code",
   "execution_count": 4,
   "metadata": {},
   "outputs": [],
   "source": [
    "from zscomm.agent import Agent\n",
    "from zscomm.comm_channel import CommChannel\n",
    "from zscomm.synth_teacher import SyntheticTeacher\n",
    "from zscomm.data import *\n",
    "from zscomm.play_game import *\n",
    "from zscomm.loss import *\n",
    "from zscomm.experiment import Experiment\n",
    "from zscomm.meta_experiment import *\n",
    "from zscomm.vary_play_param_experiment import *\n",
    "from zscomm.plot_game import plot_game\n",
    "from zscomm.analysis import *"
   ]
  },
  {
   "cell_type": "markdown",
   "metadata": {},
   "source": [
    "## Load Data:"
   ]
  },
  {
   "cell_type": "code",
   "execution_count": 5,
   "metadata": {},
   "outputs": [],
   "source": [
    "NUM_CLASSES = 3\n",
    "BATCH_SIZE = 32\n",
    "CHANNEL_SIZE = 5\n",
    "USE_MNIST = False\n",
    "\n",
    "if USE_MNIST:\n",
    "    TRAIN_DATA, TEST_DATA = get_mnist_data(num_classes=NUM_CLASSES)\n",
    "else:\n",
    "    TRAIN_DATA, TEST_DATA = get_simple_card_data(num_classes=NUM_CLASSES)"
   ]
  },
  {
   "cell_type": "code",
   "execution_count": 6,
   "metadata": {},
   "outputs": [],
   "source": [
    "def generate_train_batch():\n",
    "    return generate_batch(TRAIN_DATA,\n",
    "                          batch_size=BATCH_SIZE, \n",
    "                          num_classes=NUM_CLASSES)\n",
    "\n",
    "\n",
    "def generate_test_batch():\n",
    "    return generate_batch(TEST_DATA,\n",
    "                          batch_size=BATCH_SIZE, \n",
    "                          num_classes=NUM_CLASSES)"
   ]
  },
  {
   "cell_type": "markdown",
   "metadata": {},
   "source": [
    "# Run Experiments"
   ]
  },
  {
   "cell_type": "code",
   "execution_count": 7,
   "metadata": {},
   "outputs": [],
   "source": [
    "def create_other_play_experiment(p_mutate=0.3):\n",
    "    \n",
    "    student = Agent(CHANNEL_SIZE, NUM_CLASSES)\n",
    "    teacher = Agent(CHANNEL_SIZE, NUM_CLASSES)\n",
    "\n",
    "    play_params =  {\n",
    "        'channel_size': CHANNEL_SIZE, 'p_mutate': p_mutate,\n",
    "    }\n",
    "    \n",
    "    return Experiment(\n",
    "        generate_train_batch, generate_test_batch,\n",
    "        play_params=play_params, \n",
    "        student=student,\n",
    "        teacher=teacher,\n",
    "        loss_fn=complete_loss_fn\n",
    "    )\n",
    "\n",
    "def create_other_play_separate_optimise_experiment(p_mutate=0.3):\n",
    "    \n",
    "    student = Agent(CHANNEL_SIZE, NUM_CLASSES)\n",
    "    teacher = Agent(CHANNEL_SIZE, NUM_CLASSES)\n",
    "\n",
    "    play_params =  {\n",
    "        'channel_size': CHANNEL_SIZE, 'p_mutate': p_mutate,\n",
    "    }\n",
    "    \n",
    "    return Experiment(\n",
    "        generate_train_batch, generate_test_batch,\n",
    "        play_params=play_params, \n",
    "        student=student,\n",
    "        teacher=teacher,\n",
    "        student_loss_fn=student_pred_matches_implied_class,\n",
    "        teacher_loss_fn=student_pred_matches_test_class\n",
    "    )\n",
    "\n",
    "def create_self_play_experiment(p_mutate=0.3, **exp_kwargs):\n",
    "    \n",
    "    agent = Agent(CHANNEL_SIZE, NUM_CLASSES)\n",
    "\n",
    "    play_params =  {\n",
    "        'channel_size': CHANNEL_SIZE, \n",
    "        'p_mutate': p_mutate,\n",
    "    }\n",
    "    \n",
    "    return Experiment(\n",
    "        generate_train_batch, generate_test_batch,\n",
    "        play_params=play_params, \n",
    "        student=agent,\n",
    "        teacher=agent,\n",
    "        loss_fn=student_pred_matches_test_class,\n",
    "        **exp_kwargs\n",
    "    )\n",
    "\n",
    "def create_unkind_mutation_experiment(p_mutate=0.3, **exp_kwargs):\n",
    "    \n",
    "    agent = Agent(CHANNEL_SIZE, NUM_CLASSES)\n",
    "\n",
    "    play_params =  {\n",
    "        'channel_size': CHANNEL_SIZE,\n",
    "        'p_mutate': p_mutate, \n",
    "        'kind_mutations': False,\n",
    "    }\n",
    "    \n",
    "    return Experiment(\n",
    "        generate_train_batch, generate_test_batch,\n",
    "        play_params=play_params, \n",
    "        student=agent,\n",
    "        teacher=agent,\n",
    "        loss_fn=complete_loss_fn,\n",
    "        **exp_kwargs\n",
    "    )\n",
    "\n",
    "def create_mutation_with_temp_annealing_experiment(\n",
    "    p_mutate=0.3, channel_size=5, epochs=250, **exp_kwargs\n",
    "):\n",
    "    agent = Agent(channel_size, NUM_CLASSES)\n",
    "\n",
    "    start_temp = 10\n",
    "    end_temp = 0.1\n",
    "    temp_anneal_end_epoch = 200\n",
    "    a = -np.log(end_temp / start_temp) / temp_anneal_end_epoch\n",
    "    \n",
    "    def play_params(epoch):\n",
    "        if epoch < temp_anneal_end_epoch:\n",
    "            channel_temp = float(start_temp * np.exp(-a*epoch))\n",
    "        else:\n",
    "            channel_temp = end_temp\n",
    "        \n",
    "        return {\n",
    "            'channel_size': CHANNEL_SIZE,\n",
    "            'p_mutate': p_mutate,\n",
    "            'channel_temp': channel_temp,\n",
    "        }\n",
    "    \n",
    "    return Experiment(\n",
    "        generate_train_batch, generate_test_batch,\n",
    "        play_params=play_params, \n",
    "        student=agent,\n",
    "        teacher=agent,\n",
    "        student_loss_fn=student_pred_matches_implied_class,\n",
    "        teacher_loss_fn=student_pred_matches_test_class,\n",
    "        max_epochs=epochs,\n",
    "        lr=1e-2,\n",
    "        step_print_freq=10,\n",
    "        **exp_kwargs\n",
    "    )"
   ]
  },
  {
   "cell_type": "markdown",
   "metadata": {},
   "source": [
    "## Investigating the effect of message mutation:"
   ]
  },
  {
   "cell_type": "code",
   "execution_count": 8,
   "metadata": {},
   "outputs": [
    {
     "data": {
      "text/plain": [
       "'./experiments/message_mutation_LAC/07-10_20-16'"
      ]
     },
     "execution_count": 8,
     "metadata": {},
     "output_type": "execute_result"
    }
   ],
   "source": [
    "BASE_FOLDER = './experiments/message_mutation_LAC'\n",
    "Path(BASE_FOLDER).mkdir(exist_ok=True)\n",
    "# EXPERIMENT_FOLDER = f'{BASE_FOLDER}/{datetime.now().strftime(\"%d-%m_%H-%M\")}'\n",
    "\n",
    "# EXPERIMENT_FOLDER = \"./experiments/message_mutation_3\"\n",
    "# EXPERIMENT_FOLDER = \"./experiments/message_mutation_1/24-09_09-40\"\n",
    "# EXPERIMENT_FOLDER = \"./experiments/message_mutation_1/03-10_02-03\"\n",
    "\n",
    "# EXPERIMENT_FOLDER = \"./experiments/message_mutation_1/05-10_03-00\"\n",
    "EXPERIMENT_FOLDER = './experiments/message_mutation_LAC/07-10_20-16'\n",
    "Path(EXPERIMENT_FOLDER).mkdir(exist_ok=True)\n",
    "EXPERIMENT_FOLDER"
   ]
  },
  {
   "cell_type": "code",
   "execution_count": 9,
   "metadata": {},
   "outputs": [],
   "source": [
    "vary_pm_experiment = VaryPlayParamExperiment(save_location=EXPERIMENT_FOLDER,\n",
    "#                                              param_vals=[0.0, 0.2, 0.3, 0.4, 0.5, 0.6, 0.8, 1.0],\n",
    "                                             param_vals=[0.0, 0.2, 0.4, 0.6, 0.8, 1.0],\n",
    "                                             param_name='p_mutate',\n",
    "                                             max_epochs=20,\n",
    "                                             num_experiments_per_val=3,\n",
    "                                             create_experiment_fn=create_self_play_experiment)"
   ]
  },
  {
   "cell_type": "code",
   "execution_count": 10,
   "metadata": {
    "scrolled": false
   },
   "outputs": [
    {
     "name": "stdout",
     "output_type": "stream",
     "text": [
      "Running vary_pm_experiment...\n",
      "meta_experiment_p_mutate=0.0 results:  [0.61875, 0.35625, 0.0, 0.35625, 0.3375, 0.69375]\n",
      "meta_experiment_p_mutate=0.2 results:  [0.3375, 0.6375, 0.35625, 0.35625, 0.625, 0.36875]\n",
      "meta_experiment_p_mutate=0.4 results:  [0.36875, 0.0, 0.3, 0.34375, 0.3, 0.3375]\n",
      "Running experiment 4 (3/6 complete):\n",
      "Running meta_experiment_p_mutate=0.6...\n",
      "Running experiment 1 (0/3 complete):\n",
      "Running experiment...\n",
      "Run config:\n",
      " {'name': 'experiment', 'max_epochs': 20, 'steps_per_epoch': 50, 'epochs_optimised': 20, 'play_params': {'channel_size': 5, 'p_mutate': 0.6}, 'test_freq': 5, 'test_steps': 25, 'optimiser_config': {'name': 'RMSprop', 'learning_rate': 0.009999999776482582, 'decay': 0.0, 'rho': 0.8999999761581421, 'momentum': 0.0, 'epsilon': 1e-07, 'centered': False}, 'optimise_agents_separately': False, 'loss_fn': 'student_pred_matches_test_class'}\n",
      "Epoch 0, Time Taken (mm:ss): 0:9, Mean Loss: 0.564\n",
      "Test Loss: 0.629, Ground Truth F1-Score: 0.666, Student Error: 1.651, Teacher Error: 2.701, Protocol Diversity: 0.894, Protocol Entropy: 0.034,\n",
      "Epoch 1, Time Taken (mm:ss): 0:10, Mean Loss: 0.001\n",
      "Epoch 2, Time Taken (mm:ss): 0:12, Mean Loss: 0.001\n",
      "Epoch 3, Time Taken (mm:ss): 0:11, Mean Loss: 0.001\n",
      "Epoch 4, Time Taken (mm:ss): 0:10, Mean Loss: 0.0\n",
      "Epoch 5, Time Taken (mm:ss): 0:10, Mean Loss: 0.004\n",
      "Test Loss: 0.001, Ground Truth F1-Score: 1.0, Student Error: 4.034, Teacher Error: 5.419, Protocol Diversity: 0.931, Protocol Entropy: 0.022,\n",
      "Epoch 6, Time Taken (mm:ss): 0:10, Mean Loss: 0.0\n",
      "Epoch 7, Time Taken (mm:ss): 0:10, Mean Loss: 0.0\n",
      "Epoch 8, Time Taken (mm:ss): 0:10, Mean Loss: 0.0\n",
      "Epoch 9, Time Taken (mm:ss): 0:10, Mean Loss: 0.0\n",
      "Epoch 10, Time Taken (mm:ss): 0:10, Mean Loss: 0.0\n",
      "Test Loss: 0.0, Ground Truth F1-Score: 1.0, Student Error: 6.36, Teacher Error: 5.773, Protocol Diversity: 0.935, Protocol Entropy: 0.021,\n",
      "Epoch 11, Time Taken (mm:ss): 0:10, Mean Loss: 0.0\n",
      "Epoch 12, Time Taken (mm:ss): 0:12, Mean Loss: 0.0\n",
      "Epoch 13, Time Taken (mm:ss): 0:12, Mean Loss: 0.032\n",
      "Epoch 14, Time Taken (mm:ss): 0:10, Mean Loss: 0.0\n",
      "Epoch 15, Time Taken (mm:ss): 0:10, Mean Loss: 0.0\n",
      "Test Loss: 0.0, Ground Truth F1-Score: 1.0, Student Error: 6.074, Teacher Error: 5.923, Protocol Diversity: 0.92, Protocol Entropy: 0.026,\n",
      "Epoch 16, Time Taken (mm:ss): 0:10, Mean Loss: 0.0\n",
      "Epoch 17, Time Taken (mm:ss): 0:10, Mean Loss: 0.0\n",
      "Epoch 18, Time Taken (mm:ss): 0:10, Mean Loss: 0.0\n",
      "Epoch 19, Time Taken (mm:ss): 0:10, Mean Loss: 0.0\n",
      "Test Loss: 0.0, Ground Truth F1-Score: 1.0, Student Error: 5.893, Teacher Error: 6.017, Protocol Diversity: 0.933, Protocol Entropy: 0.021,\n",
      "Training stopped.\n",
      "Experiment saved at: ./experiments/message_mutation_LAC/07-10_20-16/p_mutate=0.6/1\n",
      "Running vary_pm_experiment...\n",
      "meta_experiment_p_mutate=0.0 results:  [0.61875, 0.35625, 0.0, 0.35625, 0.3375, 0.69375]\n",
      "meta_experiment_p_mutate=0.2 results:  [0.3375, 0.6375, 0.35625, 0.35625, 0.625, 0.36875]\n",
      "meta_experiment_p_mutate=0.4 results:  [0.36875, 0.0, 0.3, 0.34375, 0.3, 0.3375]\n",
      "Running experiment 4 (3/6 complete):\n",
      "Running meta_experiment_p_mutate=0.6...\n",
      "training_params_results\n",
      "Test Loss: 0.0, Ground Truth F1-Score: 1.0, Student Error: 5.893, Teacher Error: 6.017, Protocol Diversity: 0.933, Protocol Entropy: 0.021,\n",
      "vanilla_params_results\n",
      "Test Loss: 0.0, Ground Truth F1-Score: 1.0, Student Error: 0.0, Teacher Error: 0.0, Protocol Diversity: 1.0, Protocol Entropy: 0.0,\n",
      "student_responsiveness\n"
     ]
    },
    {
     "ename": "IndexError",
     "evalue": "invalid index to scalar variable.",
     "output_type": "error",
     "traceback": [
      "\u001b[1;31m---------------------------------------------------------------------------\u001b[0m",
      "\u001b[1;31mIndexError\u001b[0m                                Traceback (most recent call last)",
      "\u001b[1;32m<ipython-input-10-902f2bb78b20>\u001b[0m in \u001b[0;36m<module>\u001b[1;34m\u001b[0m\n\u001b[1;32m----> 1\u001b[1;33m \u001b[0mvary_pm_experiment\u001b[0m\u001b[1;33m.\u001b[0m\u001b[0mrun\u001b[0m\u001b[1;33m(\u001b[0m\u001b[1;33m)\u001b[0m\u001b[1;33m\u001b[0m\u001b[1;33m\u001b[0m\u001b[0m\n\u001b[0m",
      "\u001b[1;32m~\\OneDrive\\Projects\\zero-shot-comm\\zscomm\\meta_experiment.py\u001b[0m in \u001b[0;36mrun\u001b[1;34m(self, catch_interrupt)\u001b[0m\n\u001b[0;32m    208\u001b[0m         \u001b[1;32mif\u001b[0m \u001b[0mcatch_interrupt\u001b[0m\u001b[1;33m:\u001b[0m\u001b[1;33m\u001b[0m\u001b[1;33m\u001b[0m\u001b[0m\n\u001b[0;32m    209\u001b[0m             \u001b[1;32mtry\u001b[0m\u001b[1;33m:\u001b[0m\u001b[1;33m\u001b[0m\u001b[1;33m\u001b[0m\u001b[0m\n\u001b[1;32m--> 210\u001b[1;33m                 \u001b[0mself\u001b[0m\u001b[1;33m.\u001b[0m\u001b[0m_run_internal\u001b[0m\u001b[1;33m(\u001b[0m\u001b[1;33m)\u001b[0m\u001b[1;33m\u001b[0m\u001b[1;33m\u001b[0m\u001b[0m\n\u001b[0m\u001b[0;32m    211\u001b[0m             \u001b[1;32mexcept\u001b[0m \u001b[0mKeyboardInterrupt\u001b[0m\u001b[1;33m:\u001b[0m\u001b[1;33m\u001b[0m\u001b[1;33m\u001b[0m\u001b[0m\n\u001b[0;32m    212\u001b[0m                 \u001b[1;32mpass\u001b[0m\u001b[1;33m\u001b[0m\u001b[1;33m\u001b[0m\u001b[0m\n",
      "\u001b[1;32m~\\OneDrive\\Projects\\zero-shot-comm\\zscomm\\meta_experiment.py\u001b[0m in \u001b[0;36m_run_internal\u001b[1;34m(self)\u001b[0m\n\u001b[0;32m    180\u001b[0m     \u001b[1;32mdef\u001b[0m \u001b[0m_run_internal\u001b[0m\u001b[1;33m(\u001b[0m\u001b[0mself\u001b[0m\u001b[1;33m)\u001b[0m\u001b[1;33m:\u001b[0m\u001b[1;33m\u001b[0m\u001b[1;33m\u001b[0m\u001b[0m\n\u001b[0;32m    181\u001b[0m         \u001b[1;32mwhile\u001b[0m \u001b[1;32mnot\u001b[0m \u001b[0mself\u001b[0m\u001b[1;33m.\u001b[0m\u001b[0mis_finished\u001b[0m\u001b[1;33m(\u001b[0m\u001b[1;33m)\u001b[0m\u001b[1;33m:\u001b[0m\u001b[1;33m\u001b[0m\u001b[1;33m\u001b[0m\u001b[0m\n\u001b[1;32m--> 182\u001b[1;33m             \u001b[0mself\u001b[0m\u001b[1;33m.\u001b[0m\u001b[0m_run_next_subexperiment\u001b[0m\u001b[1;33m(\u001b[0m\u001b[1;33m)\u001b[0m\u001b[1;33m\u001b[0m\u001b[1;33m\u001b[0m\u001b[0m\n\u001b[0m\u001b[0;32m    183\u001b[0m \u001b[1;33m\u001b[0m\u001b[0m\n\u001b[0;32m    184\u001b[0m         \u001b[0mself\u001b[0m\u001b[1;33m.\u001b[0m\u001b[0mresults\u001b[0m \u001b[1;33m=\u001b[0m \u001b[0mself\u001b[0m\u001b[1;33m.\u001b[0m\u001b[0m_get_results\u001b[0m\u001b[1;33m(\u001b[0m\u001b[1;33m)\u001b[0m\u001b[1;33m\u001b[0m\u001b[1;33m\u001b[0m\u001b[0m\n",
      "\u001b[1;32m~\\OneDrive\\Projects\\zero-shot-comm\\zscomm\\meta_experiment.py\u001b[0m in \u001b[0;36m_run_next_subexperiment\u001b[1;34m(self)\u001b[0m\n\u001b[0;32m    159\u001b[0m         \u001b[0mself\u001b[0m\u001b[1;33m.\u001b[0m\u001b[0mexperiments\u001b[0m\u001b[1;33m[\u001b[0m\u001b[0mindex\u001b[0m\u001b[1;33m]\u001b[0m\u001b[1;33m[\u001b[0m\u001b[1;34m'status'\u001b[0m\u001b[1;33m]\u001b[0m \u001b[1;33m=\u001b[0m \u001b[1;34m'In Progress'\u001b[0m\u001b[1;33m\u001b[0m\u001b[1;33m\u001b[0m\u001b[0m\n\u001b[0;32m    160\u001b[0m \u001b[1;33m\u001b[0m\u001b[0m\n\u001b[1;32m--> 161\u001b[1;33m         \u001b[0mexperiment\u001b[0m\u001b[1;33m.\u001b[0m\u001b[0mrun\u001b[0m\u001b[1;33m(\u001b[0m\u001b[0mcatch_interrupt\u001b[0m\u001b[1;33m=\u001b[0m\u001b[1;32mFalse\u001b[0m\u001b[1;33m)\u001b[0m\u001b[1;33m\u001b[0m\u001b[1;33m\u001b[0m\u001b[0m\n\u001b[0m\u001b[0;32m    162\u001b[0m \u001b[1;33m\u001b[0m\u001b[0m\n\u001b[0;32m    163\u001b[0m         \u001b[0mself\u001b[0m\u001b[1;33m.\u001b[0m\u001b[0mexperiments\u001b[0m\u001b[1;33m[\u001b[0m\u001b[0mindex\u001b[0m\u001b[1;33m]\u001b[0m\u001b[1;33m[\u001b[0m\u001b[1;34m'results'\u001b[0m\u001b[1;33m]\u001b[0m \u001b[1;33m=\u001b[0m\u001b[0;31m \u001b[0m\u001b[0;31m\\\u001b[0m\u001b[1;33m\u001b[0m\u001b[1;33m\u001b[0m\u001b[0m\n",
      "\u001b[1;32m~\\OneDrive\\Projects\\zero-shot-comm\\zscomm\\meta_experiment.py\u001b[0m in \u001b[0;36mrun\u001b[1;34m(self, catch_interrupt)\u001b[0m\n\u001b[0;32m    212\u001b[0m                 \u001b[1;32mpass\u001b[0m\u001b[1;33m\u001b[0m\u001b[1;33m\u001b[0m\u001b[0m\n\u001b[0;32m    213\u001b[0m         \u001b[1;32melse\u001b[0m\u001b[1;33m:\u001b[0m\u001b[1;33m\u001b[0m\u001b[1;33m\u001b[0m\u001b[0m\n\u001b[1;32m--> 214\u001b[1;33m             \u001b[0mself\u001b[0m\u001b[1;33m.\u001b[0m\u001b[0m_run_internal\u001b[0m\u001b[1;33m(\u001b[0m\u001b[1;33m)\u001b[0m\u001b[1;33m\u001b[0m\u001b[1;33m\u001b[0m\u001b[0m\n\u001b[0m\u001b[0;32m    215\u001b[0m \u001b[1;33m\u001b[0m\u001b[0m\n\u001b[0;32m    216\u001b[0m         \u001b[0mclear_output\u001b[0m\u001b[1;33m(\u001b[0m\u001b[1;33m)\u001b[0m\u001b[1;33m\u001b[0m\u001b[1;33m\u001b[0m\u001b[0m\n",
      "\u001b[1;32m~\\OneDrive\\Projects\\zero-shot-comm\\zscomm\\meta_experiment.py\u001b[0m in \u001b[0;36m_run_internal\u001b[1;34m(self)\u001b[0m\n\u001b[0;32m    180\u001b[0m     \u001b[1;32mdef\u001b[0m \u001b[0m_run_internal\u001b[0m\u001b[1;33m(\u001b[0m\u001b[0mself\u001b[0m\u001b[1;33m)\u001b[0m\u001b[1;33m:\u001b[0m\u001b[1;33m\u001b[0m\u001b[1;33m\u001b[0m\u001b[0m\n\u001b[0;32m    181\u001b[0m         \u001b[1;32mwhile\u001b[0m \u001b[1;32mnot\u001b[0m \u001b[0mself\u001b[0m\u001b[1;33m.\u001b[0m\u001b[0mis_finished\u001b[0m\u001b[1;33m(\u001b[0m\u001b[1;33m)\u001b[0m\u001b[1;33m:\u001b[0m\u001b[1;33m\u001b[0m\u001b[1;33m\u001b[0m\u001b[0m\n\u001b[1;32m--> 182\u001b[1;33m             \u001b[0mself\u001b[0m\u001b[1;33m.\u001b[0m\u001b[0m_run_next_subexperiment\u001b[0m\u001b[1;33m(\u001b[0m\u001b[1;33m)\u001b[0m\u001b[1;33m\u001b[0m\u001b[1;33m\u001b[0m\u001b[0m\n\u001b[0m\u001b[0;32m    183\u001b[0m \u001b[1;33m\u001b[0m\u001b[0m\n\u001b[0;32m    184\u001b[0m         \u001b[0mself\u001b[0m\u001b[1;33m.\u001b[0m\u001b[0mresults\u001b[0m \u001b[1;33m=\u001b[0m \u001b[0mself\u001b[0m\u001b[1;33m.\u001b[0m\u001b[0m_get_results\u001b[0m\u001b[1;33m(\u001b[0m\u001b[1;33m)\u001b[0m\u001b[1;33m\u001b[0m\u001b[1;33m\u001b[0m\u001b[0m\n",
      "\u001b[1;32m~\\OneDrive\\Projects\\zero-shot-comm\\zscomm\\meta_experiment.py\u001b[0m in \u001b[0;36m_run_next_subexperiment\u001b[1;34m(self)\u001b[0m\n\u001b[0;32m    159\u001b[0m         \u001b[0mself\u001b[0m\u001b[1;33m.\u001b[0m\u001b[0mexperiments\u001b[0m\u001b[1;33m[\u001b[0m\u001b[0mindex\u001b[0m\u001b[1;33m]\u001b[0m\u001b[1;33m[\u001b[0m\u001b[1;34m'status'\u001b[0m\u001b[1;33m]\u001b[0m \u001b[1;33m=\u001b[0m \u001b[1;34m'In Progress'\u001b[0m\u001b[1;33m\u001b[0m\u001b[1;33m\u001b[0m\u001b[0m\n\u001b[0;32m    160\u001b[0m \u001b[1;33m\u001b[0m\u001b[0m\n\u001b[1;32m--> 161\u001b[1;33m         \u001b[0mexperiment\u001b[0m\u001b[1;33m.\u001b[0m\u001b[0mrun\u001b[0m\u001b[1;33m(\u001b[0m\u001b[0mcatch_interrupt\u001b[0m\u001b[1;33m=\u001b[0m\u001b[1;32mFalse\u001b[0m\u001b[1;33m)\u001b[0m\u001b[1;33m\u001b[0m\u001b[1;33m\u001b[0m\u001b[0m\n\u001b[0m\u001b[0;32m    162\u001b[0m \u001b[1;33m\u001b[0m\u001b[0m\n\u001b[0;32m    163\u001b[0m         \u001b[0mself\u001b[0m\u001b[1;33m.\u001b[0m\u001b[0mexperiments\u001b[0m\u001b[1;33m[\u001b[0m\u001b[0mindex\u001b[0m\u001b[1;33m]\u001b[0m\u001b[1;33m[\u001b[0m\u001b[1;34m'results'\u001b[0m\u001b[1;33m]\u001b[0m \u001b[1;33m=\u001b[0m\u001b[0;31m \u001b[0m\u001b[0;31m\\\u001b[0m\u001b[1;33m\u001b[0m\u001b[1;33m\u001b[0m\u001b[0m\n",
      "\u001b[1;32m~\\OneDrive\\Projects\\zero-shot-comm\\zscomm\\experiment.py\u001b[0m in \u001b[0;36mrun\u001b[1;34m(self, catch_interrupt)\u001b[0m\n\u001b[0;32m    333\u001b[0m \u001b[1;33m\u001b[0m\u001b[0m\n\u001b[0;32m    334\u001b[0m     \u001b[1;32mdef\u001b[0m \u001b[0mrun\u001b[0m\u001b[1;33m(\u001b[0m\u001b[0mself\u001b[0m\u001b[1;33m,\u001b[0m \u001b[0mcatch_interrupt\u001b[0m\u001b[1;33m=\u001b[0m\u001b[1;32mTrue\u001b[0m\u001b[1;33m)\u001b[0m\u001b[1;33m:\u001b[0m\u001b[1;33m\u001b[0m\u001b[1;33m\u001b[0m\u001b[0m\n\u001b[1;32m--> 335\u001b[1;33m         \u001b[0mself\u001b[0m\u001b[1;33m.\u001b[0m\u001b[0mprint_history\u001b[0m\u001b[1;33m(\u001b[0m\u001b[1;33m)\u001b[0m\u001b[1;33m\u001b[0m\u001b[1;33m\u001b[0m\u001b[0m\n\u001b[0m\u001b[0;32m    336\u001b[0m         \u001b[0mclear_output\u001b[0m\u001b[1;33m(\u001b[0m\u001b[0mwait\u001b[0m\u001b[1;33m=\u001b[0m\u001b[1;32mTrue\u001b[0m\u001b[1;33m)\u001b[0m\u001b[1;33m\u001b[0m\u001b[1;33m\u001b[0m\u001b[0m\n\u001b[0;32m    337\u001b[0m         \u001b[1;32mif\u001b[0m \u001b[0mcatch_interrupt\u001b[0m\u001b[1;33m:\u001b[0m\u001b[1;33m\u001b[0m\u001b[1;33m\u001b[0m\u001b[0m\n",
      "\u001b[1;32m~\\OneDrive\\Projects\\zero-shot-comm\\zscomm\\experiment.py\u001b[0m in \u001b[0;36mprint_history\u001b[1;34m(self)\u001b[0m\n\u001b[0;32m    389\u001b[0m \u001b[1;33m\u001b[0m\u001b[0m\n\u001b[0;32m    390\u001b[0m     \u001b[1;32mdef\u001b[0m \u001b[0mprint_history\u001b[0m\u001b[1;33m(\u001b[0m\u001b[0mself\u001b[0m\u001b[1;33m)\u001b[0m\u001b[1;33m:\u001b[0m\u001b[1;33m\u001b[0m\u001b[1;33m\u001b[0m\u001b[0m\n\u001b[1;32m--> 391\u001b[1;33m         \u001b[0mself\u001b[0m\u001b[1;33m.\u001b[0m\u001b[0mprint_prehistory\u001b[0m\u001b[1;33m(\u001b[0m\u001b[1;33m)\u001b[0m\u001b[1;33m\u001b[0m\u001b[1;33m\u001b[0m\u001b[0m\n\u001b[0m\u001b[0;32m    392\u001b[0m         \u001b[0mprint\u001b[0m\u001b[1;33m(\u001b[0m\u001b[1;34mf'Running {self.name}...'\u001b[0m\u001b[1;33m)\u001b[0m\u001b[1;33m\u001b[0m\u001b[1;33m\u001b[0m\u001b[0m\n\u001b[0;32m    393\u001b[0m         \u001b[0mprint\u001b[0m\u001b[1;33m(\u001b[0m\u001b[1;34m'Run config:\\n'\u001b[0m\u001b[1;33m,\u001b[0m \u001b[0mself\u001b[0m\u001b[1;33m.\u001b[0m\u001b[0mget_config\u001b[0m\u001b[1;33m(\u001b[0m\u001b[1;33m)\u001b[0m\u001b[1;33m)\u001b[0m\u001b[1;33m\u001b[0m\u001b[1;33m\u001b[0m\u001b[0m\n",
      "\u001b[1;32m~\\OneDrive\\Projects\\zero-shot-comm\\zscomm\\meta_experiment.py\u001b[0m in \u001b[0;36mprint_history\u001b[1;34m(self)\u001b[0m\n\u001b[0;32m    110\u001b[0m         \u001b[1;32mfor\u001b[0m \u001b[0mitem\u001b[0m \u001b[1;32min\u001b[0m \u001b[0mself\u001b[0m\u001b[1;33m.\u001b[0m\u001b[0mexperiments\u001b[0m\u001b[1;33m:\u001b[0m\u001b[1;33m\u001b[0m\u001b[1;33m\u001b[0m\u001b[0m\n\u001b[0;32m    111\u001b[0m             \u001b[1;32mif\u001b[0m \u001b[0mitem\u001b[0m\u001b[1;33m[\u001b[0m\u001b[1;34m'status'\u001b[0m\u001b[1;33m]\u001b[0m \u001b[1;33m==\u001b[0m \u001b[1;34m'Complete'\u001b[0m\u001b[1;33m:\u001b[0m\u001b[1;33m\u001b[0m\u001b[1;33m\u001b[0m\u001b[0m\n\u001b[1;32m--> 112\u001b[1;33m                 \u001b[0mitem\u001b[0m\u001b[1;33m[\u001b[0m\u001b[1;34m'experiment'\u001b[0m\u001b[1;33m]\u001b[0m\u001b[1;33m.\u001b[0m\u001b[0mprint_results\u001b[0m\u001b[1;33m(\u001b[0m\u001b[1;33m)\u001b[0m\u001b[1;33m\u001b[0m\u001b[1;33m\u001b[0m\u001b[0m\n\u001b[0m\u001b[0;32m    113\u001b[0m         \u001b[1;32mfor\u001b[0m \u001b[0mitem\u001b[0m \u001b[1;32min\u001b[0m \u001b[0mself\u001b[0m\u001b[1;33m.\u001b[0m\u001b[0mexperiments\u001b[0m\u001b[1;33m:\u001b[0m\u001b[1;33m\u001b[0m\u001b[1;33m\u001b[0m\u001b[0m\n\u001b[0;32m    114\u001b[0m             \u001b[1;32mif\u001b[0m \u001b[0mitem\u001b[0m\u001b[1;33m[\u001b[0m\u001b[1;34m'status'\u001b[0m\u001b[1;33m]\u001b[0m \u001b[1;33m==\u001b[0m \u001b[1;34m'In Progress'\u001b[0m\u001b[1;33m:\u001b[0m\u001b[1;33m\u001b[0m\u001b[1;33m\u001b[0m\u001b[0m\n",
      "\u001b[1;32m~\\OneDrive\\Projects\\zero-shot-comm\\zscomm\\experiment.py\u001b[0m in \u001b[0;36mprint_results\u001b[1;34m(self)\u001b[0m\n\u001b[0;32m    386\u001b[0m         \u001b[1;32mfor\u001b[0m \u001b[0mk\u001b[0m\u001b[1;33m,\u001b[0m \u001b[0mtest_metrics\u001b[0m \u001b[1;32min\u001b[0m \u001b[0mself\u001b[0m\u001b[1;33m.\u001b[0m\u001b[0mresults\u001b[0m\u001b[1;33m.\u001b[0m\u001b[0mitems\u001b[0m\u001b[1;33m(\u001b[0m\u001b[1;33m)\u001b[0m\u001b[1;33m:\u001b[0m\u001b[1;33m\u001b[0m\u001b[1;33m\u001b[0m\u001b[0m\n\u001b[0;32m    387\u001b[0m             \u001b[0mprint\u001b[0m\u001b[1;33m(\u001b[0m\u001b[0mk\u001b[0m\u001b[1;33m)\u001b[0m\u001b[1;33m\u001b[0m\u001b[1;33m\u001b[0m\u001b[0m\n\u001b[1;32m--> 388\u001b[1;33m             \u001b[0mself\u001b[0m\u001b[1;33m.\u001b[0m\u001b[0mprint_test_metrics\u001b[0m\u001b[1;33m(\u001b[0m\u001b[0mtest_metrics\u001b[0m\u001b[1;33m)\u001b[0m\u001b[1;33m\u001b[0m\u001b[1;33m\u001b[0m\u001b[0m\n\u001b[0m\u001b[0;32m    389\u001b[0m \u001b[1;33m\u001b[0m\u001b[0m\n\u001b[0;32m    390\u001b[0m     \u001b[1;32mdef\u001b[0m \u001b[0mprint_history\u001b[0m\u001b[1;33m(\u001b[0m\u001b[0mself\u001b[0m\u001b[1;33m)\u001b[0m\u001b[1;33m:\u001b[0m\u001b[1;33m\u001b[0m\u001b[1;33m\u001b[0m\u001b[0m\n",
      "\u001b[1;32m~\\OneDrive\\Projects\\zero-shot-comm\\zscomm\\experiment.py\u001b[0m in \u001b[0;36mprint_test_metrics\u001b[1;34m(self, metrics)\u001b[0m\n\u001b[0;32m    375\u001b[0m     \u001b[1;32mdef\u001b[0m \u001b[0mprint_test_metrics\u001b[0m\u001b[1;33m(\u001b[0m\u001b[0mself\u001b[0m\u001b[1;33m,\u001b[0m \u001b[0mmetrics\u001b[0m\u001b[1;33m)\u001b[0m\u001b[1;33m:\u001b[0m\u001b[1;33m\u001b[0m\u001b[1;33m\u001b[0m\u001b[0m\n\u001b[0;32m    376\u001b[0m         print(\n\u001b[1;32m--> 377\u001b[1;33m             \u001b[1;34mf\"Test Loss: {round(metrics['mean_test_loss'], 3)},\"\u001b[0m\u001b[1;33m,\u001b[0m\u001b[1;33m\u001b[0m\u001b[1;33m\u001b[0m\u001b[0m\n\u001b[0m\u001b[0;32m    378\u001b[0m             \u001b[1;34mf\"Ground Truth F1-Score: {round(metrics['mean_ground_truth_f1'], 3)},\"\u001b[0m\u001b[1;33m,\u001b[0m\u001b[1;33m\u001b[0m\u001b[1;33m\u001b[0m\u001b[0m\n\u001b[0;32m    379\u001b[0m             \u001b[1;34mf\"Student Error: {round(metrics['mean_student_error'], 3)},\"\u001b[0m\u001b[1;33m,\u001b[0m\u001b[1;33m\u001b[0m\u001b[1;33m\u001b[0m\u001b[0m\n",
      "\u001b[1;31mIndexError\u001b[0m: invalid index to scalar variable."
     ]
    }
   ],
   "source": [
    "vary_pm_experiment.run()"
   ]
  },
  {
   "cell_type": "code",
   "execution_count": 41,
   "metadata": {},
   "outputs": [
    {
     "name": "stdout",
     "output_type": "stream",
     "text": [
      "0 hours, 2 mins and 48 seconds taken for experiment pm=0.0_0\n",
      "0 hours, 3 mins and 43 seconds taken for experiment pm=0.0_1\n",
      "0 hours, 3 mins and 23 seconds taken for experiment pm=0.0_2\n",
      "\n",
      "0 hours, 2 mins and 57 seconds taken for experiment pm=0.2_0\n",
      "0 hours, 2 mins and 58 seconds taken for experiment pm=0.2_1\n",
      "0 hours, 2 mins and 58 seconds taken for experiment pm=0.2_2\n",
      "\n",
      "0 hours, 2 mins and 54 seconds taken for experiment pm=0.4_0\n",
      "0 hours, 2 mins and 56 seconds taken for experiment pm=0.4_1\n",
      "0 hours, 2 mins and 51 seconds taken for experiment pm=0.4_2\n",
      "\n",
      "0 hours, 1 mins and 21 seconds taken for experiment pm=0.6_0\n",
      "0 hours, 0 mins and 0 seconds taken for experiment pm=0.6_1\n",
      "0 hours, 0 mins and 0 seconds taken for experiment pm=0.6_2\n",
      "\n",
      "0 hours, 0 mins and 0 seconds taken for experiment pm=0.8_0\n",
      "0 hours, 0 mins and 0 seconds taken for experiment pm=0.8_1\n",
      "0 hours, 0 mins and 0 seconds taken for experiment pm=0.8_2\n",
      "\n",
      "0 hours, 0 mins and 0 seconds taken for experiment pm=1.0_0\n",
      "0 hours, 0 mins and 0 seconds taken for experiment pm=1.0_1\n",
      "0 hours, 0 mins and 0 seconds taken for experiment pm=1.0_2\n",
      "\n",
      "0 hours, 28 mins and 53 seconds taken for whole experiment\n"
     ]
    }
   ],
   "source": [
    "grand_total = 0\n",
    "for item_1 in vary_pm_experiment.experiments:\n",
    "    for item_2 in item_1['experiment'].experiments:\n",
    "        total_time = sum([\n",
    "            x['seconds_taken']\n",
    "            for x in item_2['experiment'].training_history\n",
    "        ])\n",
    "        print(int(total_time / 3600), 'hours,', int(total_time / 60) % 60, 'mins and', \n",
    "              int(total_time) % 60, 'seconds taken for experiment', \n",
    "              f\"pm={item_1['p_mutate']}_{item_2['index']}\")\n",
    "        grand_total += total_time\n",
    "    print()\n",
    "    \n",
    "print(int(grand_total / 3600), 'hours,', int(grand_total / 60) % 60, 'mins and', \n",
    "      int(grand_total) % 60, 'seconds taken for whole experiment')"
   ]
  },
  {
   "cell_type": "code",
   "execution_count": 42,
   "metadata": {},
   "outputs": [
    {
     "ename": "TypeError",
     "evalue": "list indices must be integers or slices, not str",
     "output_type": "error",
     "traceback": [
      "\u001b[1;31m---------------------------------------------------------------------------\u001b[0m",
      "\u001b[1;31mTypeError\u001b[0m                                 Traceback (most recent call last)",
      "\u001b[1;32m<ipython-input-42-519e77081728>\u001b[0m in \u001b[0;36m<module>\u001b[1;34m\u001b[0m\n\u001b[0;32m      4\u001b[0m         \u001b[1;34m'Zero-Shot Coordination Score'\u001b[0m\u001b[1;33m:\u001b[0m \u001b[0mscore\u001b[0m\u001b[1;33m,\u001b[0m\u001b[1;33m\u001b[0m\u001b[1;33m\u001b[0m\u001b[0m\n\u001b[0;32m      5\u001b[0m     }\n\u001b[1;32m----> 6\u001b[1;33m     \u001b[1;32mfor\u001b[0m \u001b[0mitem\u001b[0m \u001b[1;32min\u001b[0m \u001b[0mvary_pm_experiment\u001b[0m\u001b[1;33m.\u001b[0m\u001b[0mexperiments\u001b[0m\u001b[1;33m\u001b[0m\u001b[1;33m\u001b[0m\u001b[0m\n\u001b[0m\u001b[0;32m      7\u001b[0m     \u001b[1;32mif\u001b[0m \u001b[0mitem\u001b[0m\u001b[1;33m[\u001b[0m\u001b[1;34m'status'\u001b[0m\u001b[1;33m]\u001b[0m \u001b[1;33m==\u001b[0m \u001b[1;34m'Complete'\u001b[0m\u001b[1;33m\u001b[0m\u001b[1;33m\u001b[0m\u001b[0m\n\u001b[0;32m      8\u001b[0m     \u001b[1;32mfor\u001b[0m \u001b[0mscore\u001b[0m \u001b[1;32min\u001b[0m \u001b[0mitem\u001b[0m\u001b[1;33m[\u001b[0m\u001b[1;34m'results'\u001b[0m\u001b[1;33m]\u001b[0m\u001b[1;33m[\u001b[0m\u001b[1;34m'zs_coord_f1_scores'\u001b[0m\u001b[1;33m]\u001b[0m\u001b[1;33m\u001b[0m\u001b[1;33m\u001b[0m\u001b[0m\n",
      "\u001b[1;32m<ipython-input-42-519e77081728>\u001b[0m in \u001b[0;36m<listcomp>\u001b[1;34m(.0)\u001b[0m\n\u001b[0;32m      6\u001b[0m     \u001b[1;32mfor\u001b[0m \u001b[0mitem\u001b[0m \u001b[1;32min\u001b[0m \u001b[0mvary_pm_experiment\u001b[0m\u001b[1;33m.\u001b[0m\u001b[0mexperiments\u001b[0m\u001b[1;33m\u001b[0m\u001b[1;33m\u001b[0m\u001b[0m\n\u001b[0;32m      7\u001b[0m     \u001b[1;32mif\u001b[0m \u001b[0mitem\u001b[0m\u001b[1;33m[\u001b[0m\u001b[1;34m'status'\u001b[0m\u001b[1;33m]\u001b[0m \u001b[1;33m==\u001b[0m \u001b[1;34m'Complete'\u001b[0m\u001b[1;33m\u001b[0m\u001b[1;33m\u001b[0m\u001b[0m\n\u001b[1;32m----> 8\u001b[1;33m     \u001b[1;32mfor\u001b[0m \u001b[0mscore\u001b[0m \u001b[1;32min\u001b[0m \u001b[0mitem\u001b[0m\u001b[1;33m[\u001b[0m\u001b[1;34m'results'\u001b[0m\u001b[1;33m]\u001b[0m\u001b[1;33m[\u001b[0m\u001b[1;34m'zs_coord_f1_scores'\u001b[0m\u001b[1;33m]\u001b[0m\u001b[1;33m\u001b[0m\u001b[1;33m\u001b[0m\u001b[0m\n\u001b[0m\u001b[0;32m      9\u001b[0m ])\n\u001b[0;32m     10\u001b[0m \u001b[0mzs_coord_df\u001b[0m\u001b[1;33m.\u001b[0m\u001b[0mhead\u001b[0m\u001b[1;33m(\u001b[0m\u001b[1;33m)\u001b[0m\u001b[1;33m\u001b[0m\u001b[1;33m\u001b[0m\u001b[0m\n",
      "\u001b[1;31mTypeError\u001b[0m: list indices must be integers or slices, not str"
     ]
    }
   ],
   "source": [
    "zs_coord_df = pd.DataFrame([\n",
    "    {\n",
    "        'Mutation Probability': item['p_mutate'],\n",
    "        'Zero-Shot Coordination Score': score,\n",
    "    }\n",
    "    for item in vary_pm_experiment.experiments\n",
    "    if item['status'] == 'Complete'\n",
    "    for score in item['results']['zs_coord_f1_scores']\n",
    "])\n",
    "zs_coord_df.head()"
   ]
  },
  {
   "cell_type": "code",
   "execution_count": null,
   "metadata": {},
   "outputs": [],
   "source": [
    "self_play_df = pd.DataFrame([\n",
    "    {\n",
    "        'Mutation Probability': item_1['p_mutate'],\n",
    "        'Self-play Performance': item_2['results']['mean_ground_truth_f1'],\n",
    "    }\n",
    "    for item_1 in vary_pm_experiment.experiments\n",
    "    if item_1['status'] == 'Complete'\n",
    "    for item_2 in item_1['experiment'].experiments\n",
    "    if item_2['status'] == 'Complete'\n",
    "])"
   ]
  },
  {
   "cell_type": "code",
   "execution_count": null,
   "metadata": {},
   "outputs": [],
   "source": [
    "sns.reset_defaults()\n",
    "sns.set()"
   ]
  },
  {
   "cell_type": "code",
   "execution_count": null,
   "metadata": {},
   "outputs": [],
   "source": [
    "plt.figure(figsize=(8, 4))\n",
    "ax = sns.lineplot(x=[-2, 2], y=[1/NUM_CLASSES, 1/NUM_CLASSES], color=(0.1, 0.1, 0.1, 0.5), label='Baseline')\n",
    "ax.lines[0].set_linestyle(\"--\")\n",
    "\n",
    "sns.lineplot(x='Mutation Probability', y='Zero-Shot Coordination Score', data=zs_coord_df, label='Zero-shot Performance')\n",
    "sns.scatterplot(x='Mutation Probability', y='Zero-Shot Coordination Score', data=zs_coord_df, marker='x')\n",
    "sns.lineplot(x='Mutation Probability', y='Self-play Performance', data=self_play_df, label='Self-play Performance')\n",
    "sns.scatterplot(x='Mutation Probability', y='Self-play Performance', data=self_play_df, marker='x')\n",
    "sns.scatterplot(x='x', y='y', data=pd.DataFrame([{'x': 100, 'y': 100}]), color=(0.1, 0.1, 0.1, 0.5), marker='x', label='Raw Data')\n",
    "plt.ylim([0, 1.05])\n",
    "plt.xlim([-.05, 1.05])\n",
    "plt.title('The Effect of Mutations on Zero-Shot Coordination')\n",
    "plt.ylabel('Performance')\n",
    "plt.xlabel('Mutation Probability')\n",
    "# plt.legend(bbox_to_anchor=(1.05, 1), loc=2, borderaxespad=0.)\n",
    "plt.legend(loc=4)\n",
    "plt.show()"
   ]
  },
  {
   "cell_type": "code",
   "execution_count": null,
   "metadata": {},
   "outputs": [],
   "source": [
    "zs_coord_df[zs_coord_df['Mutation Probability'] == 0.4].describe()"
   ]
  },
  {
   "cell_type": "code",
   "execution_count": null,
   "metadata": {},
   "outputs": [],
   "source": [
    "zs_coord_df[zs_coord_df['Mutation Probability'] == 1.0].describe()"
   ]
  },
  {
   "cell_type": "code",
   "execution_count": null,
   "metadata": {},
   "outputs": [],
   "source": [
    "df_train = pd.DataFrame([\n",
    "    {\n",
    "        'Epoch': epoch,\n",
    "        'Experiment': f\"$p_m={item_1['p_mutate']}$\",\n",
    "        'Subexperiment': f'subexperiment_{item_2[\"index\"]}',\n",
    "        'Train Loss': training_item['loss']\n",
    "    }\n",
    "    for item_1 in vary_pm_experiment.experiments\n",
    "    for item_2 in item_1['experiment'].experiments\n",
    "    for epoch, training_item in enumerate(item_2['experiment'].training_history) \n",
    "])\n",
    "df_train.head()"
   ]
  },
  {
   "cell_type": "code",
   "execution_count": null,
   "metadata": {},
   "outputs": [],
   "source": [
    "plt.figure(figsize=(8, 4))\n",
    "sns.lineplot(x='Epoch', y='Train Loss', hue='Experiment', \n",
    "             data=df_train);\n",
    "#              data=df_train[df_train['Experiment'] == 'p_m=0.2']);\n",
    "# Put the legend out of the figure\n",
    "# plt.legend(bbox_to_anchor=(1.05, 1), loc=2, borderaxespad=0.)\n",
    "plt.title('Training History by Mutation Probability')\n",
    "plt.show()"
   ]
  },
  {
   "cell_type": "code",
   "execution_count": null,
   "metadata": {},
   "outputs": [],
   "source": [
    "df_test = pd.DataFrame([\n",
    "    {\n",
    "        'Epoch': epoch,\n",
    "        'Experiment': f\"$p_m={item_1['p_mutate']}$\",\n",
    "        'Subexperiment': f'subexperiment_{item_2[\"index\"]}',\n",
    "        'Performance': training_item['test_metrics']['mean_ground_truth_f1'],\n",
    "        'Protocol Diversity': training_item['test_metrics']['mean_protocol_diversity'],\n",
    "    }\n",
    "    for item_1 in vary_pm_experiment.experiments\n",
    "    for item_2 in item_1['experiment'].experiments\n",
    "    for epoch, training_item in enumerate(item_2['experiment'].training_history)\n",
    "    if 'test_metrics' in training_item\n",
    "])"
   ]
  },
  {
   "cell_type": "code",
   "execution_count": null,
   "metadata": {},
   "outputs": [],
   "source": [
    "plt.figure(figsize=(8, 4))\n",
    "sns.lineplot(x='Epoch', y='Performance', hue='Experiment', \n",
    "             data=df_test);\n",
    "#              data=df_test[df_test['Experiment'] == 'p_m=0.2']);\n",
    "# Put the legend out of the figure\n",
    "# plt.legend(bbox_to_anchor=(1.05, 1), loc=2, borderaxespad=0.)\n",
    "plt.title('Self-play Test Performance History')\n",
    "plt.show()"
   ]
  },
  {
   "cell_type": "code",
   "execution_count": null,
   "metadata": {},
   "outputs": [],
   "source": [
    "fig, axs = plt.subplots(1, 2, figsize=(15, 5))\n",
    "sns.lineplot(x='Epoch', y='Performance', hue='Experiment', \n",
    "             data=df_test, ax=axs[0]);\n",
    "sns.lineplot(x='Epoch', y='Protocol Diversity', hue='Experiment', \n",
    "             data=df_test, ax=axs[1]);\n",
    "#              data=df_test[df_test['Experiment'] == 'p_m=0.2']);\n",
    "# Put the legend out of the figure\n",
    "# plt.legend(bbox_to_anchor=(1.05, 1), loc=2, borderaxespad=0.)\n",
    "plt.title('Self-play Test Performance')\n",
    "plt.show()"
   ]
  },
  {
   "cell_type": "code",
   "execution_count": null,
   "metadata": {},
   "outputs": [],
   "source": [
    "exp = vary_pm_experiment.experiments[2]['experiment'].experiments[1]['experiment']\n",
    "games_played, test_metrics = exp.run_tests()\n",
    "test_metrics"
   ]
  },
  {
   "cell_type": "code",
   "execution_count": null,
   "metadata": {},
   "outputs": [],
   "source": [
    "for i in range(5):\n",
    "    inputs, targets, outputs = games_played[i]\n",
    "    plot_game(inputs, outputs, targets, select_batch=2)"
   ]
  },
  {
   "cell_type": "code",
   "execution_count": null,
   "metadata": {},
   "outputs": [],
   "source": [
    "num_meta_experiments = len(vary_pm_experiment.experiments)\n",
    "exps_per_meta = len(vary_pm_experiment.experiments[0]['experiment'].experiments)\n",
    "\n",
    "def make_cm_map_for_exp(i, j):\n",
    "    meta_exp = vary_pm_experiment.experiments[i]['experiment']\n",
    "    sub_exp = meta_exp.experiments[j]['experiment']\n",
    "    games_played, _ = sub_exp.run_tests()\n",
    "    return create_mean_class_message_map(games_played)\n",
    "\n",
    "class_message_maps = [[make_cm_map_for_exp(i, j) for j in range(exps_per_meta)] \n",
    "                      for i in range(num_meta_experiments)]"
   ]
  },
  {
   "cell_type": "code",
   "execution_count": null,
   "metadata": {},
   "outputs": [],
   "source": [
    "def plot_protocol_maps(maps, ylabel='Class', yticklabels=None):\n",
    "    fig = plt.figure(figsize=(2*2*exps_per_meta, 2*num_meta_experiments)) \n",
    "\n",
    "    sqrs_per_plot = 5\n",
    "    gs = gridspec.GridSpec(num_meta_experiments, sqrs_per_plot*exps_per_meta+1)\n",
    "    \n",
    "    yticklabels = yticklabels or [i+1 for i in range(NUM_CLASSES)]\n",
    "\n",
    "    for i in range(num_meta_experiments):\n",
    "        meta_exp = vary_pm_experiment.experiments[i]['experiment']\n",
    "        for j in range(exps_per_meta):\n",
    "            sub_exp = meta_exp.experiments[j]['experiment']\n",
    "            ax = plt.subplot(gs[i, sqrs_per_plot*j:sqrs_per_plot*(j+1)])\n",
    "\n",
    "            last_col = j == exps_per_meta - 1\n",
    "            cbar_ax = plt.subplot(gs[i, -1]) if last_col else None\n",
    "\n",
    "            sns.heatmap(maps[i][j], vmin=0, vmax=1, ax=ax, \n",
    "                        cbar=last_col, cbar_ax=cbar_ax);\n",
    "\n",
    "            if j == 0: \n",
    "                p_mutate = sub_exp.get_play_params().get('p_mutate', 0.0) \n",
    "                ax.set_ylabel(f'$p_m = {p_mutate}$\\n\\n{ylabel}')\n",
    "                ax.set_yticklabels(yticklabels)\n",
    "            else: \n",
    "                ax.set_yticks([])\n",
    "\n",
    "            if i == 0:\n",
    "                ax.set_title(f'Experiment {j+1}')\n",
    "                ax.set_xticks([])\n",
    "            elif i == num_meta_experiments - 1:\n",
    "                ax.set_xlabel('Symbol')\n",
    "            else:\n",
    "                ax.set_xticks([])\n",
    "\n",
    "    plt.tight_layout()\n",
    "    plt.show()"
   ]
  },
  {
   "cell_type": "code",
   "execution_count": null,
   "metadata": {},
   "outputs": [],
   "source": [
    "plot_protocol_maps(class_message_maps)"
   ]
  },
  {
   "cell_type": "code",
   "execution_count": null,
   "metadata": {},
   "outputs": [],
   "source": [
    "def make_im_map_for_exp(i, j):\n",
    "    meta_exp = vary_pm_experiment.experiments[i]['experiment']\n",
    "    sub_exp = meta_exp.experiments[j]['experiment']\n",
    "    games_played, _ = sub_exp.run_tests()\n",
    "    return create_mean_index_message_map(games_played)\n",
    "\n",
    "index_message_maps = [[make_im_map_for_exp(i, j) for j in range(exps_per_meta)] \n",
    "                      for i in range(num_meta_experiments)]"
   ]
  },
  {
   "cell_type": "code",
   "execution_count": null,
   "metadata": {},
   "outputs": [],
   "source": [
    "plot_protocol_maps(index_message_maps, ylabel='Time Step Index', yticklabels=[0, 1, 2])"
   ]
  },
  {
   "cell_type": "code",
   "execution_count": null,
   "metadata": {},
   "outputs": [],
   "source": [
    "n_rows = 2\n",
    "fig = plt.figure(figsize=(2*2*exps_per_meta, 2*n_rows))\n",
    "\n",
    "sqrs_per_plot = 5\n",
    "gs = gridspec.GridSpec(n_rows, sqrs_per_plot*exps_per_meta+1)\n",
    "\n",
    "yticklabels = [i+1 for i in range(NUM_CLASSES)]\n",
    "\n",
    "\n",
    "maps = [class_message_maps[0]] + [index_message_maps[0]]\n",
    "\n",
    "for i in range(2):\n",
    "    for j in range(exps_per_meta):\n",
    "        \n",
    "        last_col = j == exps_per_meta - 1\n",
    "        cbar_ax = plt.subplot(gs[i, -1]) if last_col else None\n",
    "        ax = plt.subplot(gs[i, sqrs_per_plot*j:sqrs_per_plot*(j+1)])\n",
    "\n",
    "        sns.heatmap(maps[i][j], vmin=0, vmax=1, ax=ax, \n",
    "                    cbar=last_col, cbar_ax=cbar_ax);\n",
    "\n",
    "        if j == 0 and i == 0: \n",
    "            ax.set_ylabel('Class')\n",
    "            ax.set_yticklabels([1, 2, 3])\n",
    "        elif j == 0 and i == 1:\n",
    "            ax.set_ylabel('Time Step Index')\n",
    "            ax.set_yticklabels([0, 1, 2])\n",
    "        else:\n",
    "            ax.set_yticks([])\n",
    "\n",
    "        if i == 0:\n",
    "            ax.set_title(f'Experiment {j+1}')\n",
    "            ax.set_xticks([])\n",
    "        elif i == 1:\n",
    "            ax.set_xlabel('Symbol')\n",
    "\n",
    "plt.tight_layout()\n",
    "plt.show();"
   ]
  },
  {
   "cell_type": "code",
   "execution_count": null,
   "metadata": {},
   "outputs": [],
   "source": [
    "fig, axs = plt.subplots(1, 3, figsize=(5, 3))\n",
    "cols = 11\n",
    "gs = gridspec.GridSpec(1, cols)\n",
    "\n",
    "ax = plt.subplot(gs[0, :cols//2])\n",
    "cbar_ax = plt.subplot(gs[0, -1])\n",
    "\n",
    "sns.heatmap(tf.transpose(maps[0][0]), vmin=0, vmax=1, ax=ax, \n",
    "            cbar=last_col, cbar_ax=axs[2]);\n",
    "\n",
    "ax.set_xlabel('Class')\n",
    "ax.set_xticklabels([1, 2, 3])\n",
    "ax.set_ylabel('Symbol')\n",
    "\n",
    "ax = plt.subplot(gs[0, cols//2:-1])\n",
    "\n",
    "sns.heatmap(tf.transpose(maps[1][0]), vmin=0, vmax=1, ax=ax, \n",
    "            cbar=last_col, cbar_ax=cbar_ax);\n",
    "ax.set_xlabel('Time Step Index')\n",
    "ax.set_xticklabels([0, 1, 2])\n",
    "ax.set_yticks([])\n",
    "# ax.set_ylabel('Symbol')\n",
    "\n",
    "# if i == 0:\n",
    "#     ax.set_title(f'Experiment {j+1}')\n",
    "#     ax.set_xticks([])\n",
    "# elif i == 1:\n",
    "# sns.lineplot(x='Epoch', y='Performance', hue='Experiment', \n",
    "#              data=df_test, ax=axs[0]);\n",
    "# sns.lineplot(x='Epoch', y='Protocol Diversity', hue='Experiment', \n",
    "#              data=df_test, ax=axs[1]);\n",
    "#              data=df_test[df_test['Experiment'] == 'p_m=0.2']);\n",
    "# Put the legend out of the figure\n",
    "# plt.legend(bbox_to_anchor=(1.05, 1), loc=2, borderaxespad=0.)\n",
    "# plt.title('Protocol Visu')\n",
    "plt.show()"
   ]
  },
  {
   "cell_type": "code",
   "execution_count": null,
   "metadata": {},
   "outputs": [],
   "source": [
    "conf_matrix = compute_confusion_matrix(games_played)\n",
    "sns.heatmap(conf_matrix, annot=True, vmin=0, vmax=1)\n",
    "plt.title('Ground Truth Confusion Matrix')\n",
    "plt.ylabel('Predicted Class')\n",
    "plt.xlabel('Actual Class')\n",
    "plt.show()"
   ]
  },
  {
   "cell_type": "code",
   "execution_count": null,
   "metadata": {},
   "outputs": [],
   "source": []
  }
 ],
 "metadata": {
  "kernelspec": {
   "display_name": "Python 3",
   "language": "python",
   "name": "python3"
  },
  "language_info": {
   "codemirror_mode": {
    "name": "ipython",
    "version": 3
   },
   "file_extension": ".py",
   "mimetype": "text/x-python",
   "name": "python",
   "nbconvert_exporter": "python",
   "pygments_lexer": "ipython3",
   "version": "3.6.10"
  }
 },
 "nbformat": 4,
 "nbformat_minor": 4
}
