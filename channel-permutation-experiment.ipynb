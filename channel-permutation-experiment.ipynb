{
 "cells": [
  {
   "cell_type": "code",
   "execution_count": 1,
   "metadata": {},
   "outputs": [],
   "source": [
    "from pathlib import Path\n",
    "from datetime import datetime\n",
    "import json\n",
    "import simplejson\n",
    "\n",
    "EXPERIMENT_FOLDER = \"./experiments/channel_permutation_2\"\n",
    "Path(EXPERIMENT_FOLDER).mkdir(exist_ok=True)"
   ]
  },
  {
   "cell_type": "code",
   "execution_count": 2,
   "metadata": {},
   "outputs": [],
   "source": [
    "import os\n",
    "os.environ[\"CUDA_VISIBLE_DEVICES\"] = \"-1\""
   ]
  },
  {
   "cell_type": "code",
   "execution_count": 3,
   "metadata": {},
   "outputs": [
    {
     "name": "stdout",
     "output_type": "stream",
     "text": [
      "Physical Devices:\n",
      "PhysicalDevice(name='/physical_device:CPU:0', device_type='CPU')\n"
     ]
    }
   ],
   "source": [
    "import numpy as np\n",
    "import pandas as pd\n",
    "import tensorflow as tf\n",
    "\n",
    "from IPython.display import clear_output\n",
    "import matplotlib.pyplot as plt\n",
    "%matplotlib inline\n",
    "\n",
    "import seaborn as sns\n",
    "sns.reset_defaults()\n",
    "sns.set()\n",
    "\n",
    "print('Physical Devices:')\n",
    "for dev in tf.config.list_physical_devices():\n",
    "    print(dev)"
   ]
  },
  {
   "cell_type": "code",
   "execution_count": 4,
   "metadata": {},
   "outputs": [],
   "source": [
    "from zscomm.agent import Agent\n",
    "from zscomm.comm_channel import CommChannel\n",
    "from zscomm.synth_teacher import SyntheticTeacher\n",
    "from zscomm.data import *\n",
    "from zscomm.play_game import *\n",
    "from zscomm.loss import *\n",
    "from zscomm.experiment import Experiment\n",
    "from zscomm.meta_experiment import *\n",
    "from zscomm.plot_game import plot_game\n",
    "from zscomm.analysis import *"
   ]
  },
  {
   "cell_type": "markdown",
   "metadata": {},
   "source": [
    "## Load Data:"
   ]
  },
  {
   "cell_type": "code",
   "execution_count": 5,
   "metadata": {},
   "outputs": [],
   "source": [
    "NUM_CLASSES = 3\n",
    "BATCH_SIZE = 32\n",
    "CHANNEL_SIZE = 5\n",
    "\n",
    "TRAIN_DATA, TEST_DATA = get_simple_card_data(num_classes=NUM_CLASSES)"
   ]
  },
  {
   "cell_type": "code",
   "execution_count": 6,
   "metadata": {},
   "outputs": [],
   "source": [
    "def generate_train_batch():\n",
    "    return generate_batch(TRAIN_DATA,\n",
    "                          batch_size=BATCH_SIZE, \n",
    "                          num_classes=NUM_CLASSES)\n",
    "\n",
    "\n",
    "def generate_test_batch():\n",
    "    return generate_batch(TEST_DATA,\n",
    "                          batch_size=BATCH_SIZE, \n",
    "                          num_classes=NUM_CLASSES)"
   ]
  },
  {
   "cell_type": "markdown",
   "metadata": {},
   "source": [
    "# Run Experiments"
   ]
  },
  {
   "cell_type": "code",
   "execution_count": 7,
   "metadata": {},
   "outputs": [],
   "source": [
    "def create_channel_permutation_experiment(channel_size=5, epochs=200, **exp_kwargs):\n",
    "    \n",
    "    agent = Agent(channel_size, NUM_CLASSES)\n",
    "\n",
    "    start_temp = 10\n",
    "    end_temp = 0.1\n",
    "    temp_anneal_end_epoch = 200\n",
    "    a = -np.log(end_temp / start_temp) / temp_anneal_end_epoch\n",
    "    \n",
    "    def play_params(epoch):\n",
    "        if epoch < temp_anneal_end_epoch:\n",
    "            channel_temp = float(start_temp * np.exp(-a*epoch))\n",
    "        else:\n",
    "            channel_temp = end_temp\n",
    "        \n",
    "        return {\n",
    "            'channel_size': channel_size,\n",
    "            'p_mutate': 0,\n",
    "            'message_permutation': True,\n",
    "            'teacher_sees_their_prev_msg': False,\n",
    "            'channel_temp': channel_temp,\n",
    "        }\n",
    "    \n",
    "    return Experiment(\n",
    "        generate_train_batch, generate_test_batch,\n",
    "        play_params=play_params, \n",
    "        student=agent,\n",
    "        teacher=agent,\n",
    "        loss_fn=student_pred_matches_test_class,\n",
    "        max_epochs=epochs,\n",
    "        lr=1e-2,\n",
    "        step_print_freq=10,\n",
    "        **exp_kwargs\n",
    "    )"
   ]
  },
  {
   "cell_type": "code",
   "execution_count": 8,
   "metadata": {},
   "outputs": [],
   "source": [
    "permutation_experiment = MetaExperiment(\n",
    "    create_experiment_fn=create_channel_permutation_experiment,\n",
    "    num_experiments=4,\n",
    "    export_location=EXPERIMENT_FOLDER,\n",
    ")"
   ]
  },
  {
   "cell_type": "code",
   "execution_count": 9,
   "metadata": {},
   "outputs": [],
   "source": [
    "games_played, _ = permutation_experiment.experiments[0]['experiment'].run_tests()"
   ]
  },
  {
   "cell_type": "code",
   "execution_count": 10,
   "metadata": {},
   "outputs": [
    {
     "name": "stdout",
     "output_type": "stream",
     "text": [
      "Model: \"agent\"\n",
      "_________________________________________________________________\n",
      "Layer (type)                 Output Shape              Param #   \n",
      "=================================================================\n",
      "concatenate (Concatenate)    multiple                  0         \n",
      "_________________________________________________________________\n",
      "dropout (Dropout)            multiple                  0         \n",
      "_________________________________________________________________\n",
      "lambda (Lambda)              multiple                  0         \n",
      "_________________________________________________________________\n",
      "dense (Dense)                multiple                  1664      \n",
      "_________________________________________________________________\n",
      "lstm (LSTM)                  multiple                  49408     \n",
      "_________________________________________________________________\n",
      "dense_1 (Dense)              multiple                  520       \n",
      "_________________________________________________________________\n",
      "lambda_1 (Lambda)            multiple                  0         \n",
      "_________________________________________________________________\n",
      "lambda_2 (Lambda)            multiple                  0         \n",
      "=================================================================\n",
      "Total params: 51,592\n",
      "Trainable params: 51,592\n",
      "Non-trainable params: 0\n",
      "_________________________________________________________________\n"
     ]
    }
   ],
   "source": [
    "permutation_experiment.experiments[0]['experiment'].student.summary()"
   ]
  },
  {
   "cell_type": "code",
   "execution_count": null,
   "metadata": {},
   "outputs": [
    {
     "name": "stdout",
     "output_type": "stream",
     "text": [
      "Running meta_experiment...\n",
      "Running experiment 1 (0/4 complete):\n",
      "Running experiment...\n",
      "Run config:\n",
      " {'name': 'experiment', 'max_epochs': 200, 'steps_per_epoch': 50, 'epochs_optimised': 133, 'play_params': {'channel_size': 5, 'p_mutate': 0, 'message_permutation': True, 'teacher_sees_their_prev_msg': False, 'channel_temp': 0.4677351412871983}, 'test_freq': 5, 'test_steps': 25, 'optimiser_config': {'name': 'RMSprop', 'learning_rate': 0.009999999776482582, 'decay': 0.0, 'rho': 0.8999999761581421, 'momentum': 0.0, 'epsilon': 1e-07, 'centered': False}, 'optimise_agents_separately': False, 'loss_fn': 'student_pred_matches_test_class'}\n",
      "Epoch 0, Time Taken (mm:ss): 0:11, Mean Loss: 1.108\n",
      "Test Loss: 1.102, Ground Truth F1-Score: 0.334, Student Error: 1.101, Teacher Error: 1.627, Protocol Diversity: 0.448, Protocol Entropy: 0.614,\n",
      "Epoch 1, Time Taken (mm:ss): 0:11, Mean Loss: 1.112\n",
      "Epoch 2, Time Taken (mm:ss): 0:9, Mean Loss: 1.1\n",
      "Epoch 3, Time Taken (mm:ss): 0:8, Mean Loss: 1.095\n",
      "Epoch 4, Time Taken (mm:ss): 0:8, Mean Loss: 1.098\n",
      "Epoch 5, Time Taken (mm:ss): 0:8, Mean Loss: 1.096\n",
      "Test Loss: 1.1, Ground Truth F1-Score: 0.324, Student Error: 1.099, Teacher Error: 1.668, Protocol Diversity: 0.333, Protocol Entropy: 1.6,\n",
      "Epoch 6, Time Taken (mm:ss): 0:8, Mean Loss: 1.105\n",
      "Epoch 7, Time Taken (mm:ss): 0:8, Mean Loss: 1.102\n",
      "Epoch 8, Time Taken (mm:ss): 0:8, Mean Loss: 1.099\n",
      "Epoch 9, Time Taken (mm:ss): 0:14, Mean Loss: 1.097\n",
      "Epoch 10, Time Taken (mm:ss): 0:14, Mean Loss: 1.099\n",
      "Test Loss: 1.099, Ground Truth F1-Score: 0.345, Student Error: 1.099, Teacher Error: 1.639, Protocol Diversity: 0.333, Protocol Entropy: 1.6,\n",
      "Epoch 11, Time Taken (mm:ss): 0:9, Mean Loss: 1.097\n",
      "Epoch 12, Time Taken (mm:ss): 0:9, Mean Loss: 1.101\n",
      "Epoch 13, Time Taken (mm:ss): 0:9, Mean Loss: 1.097\n",
      "Epoch 14, Time Taken (mm:ss): 0:8, Mean Loss: 1.099\n",
      "Epoch 15, Time Taken (mm:ss): 0:9, Mean Loss: 1.096\n",
      "Test Loss: 1.1, Ground Truth F1-Score: 0.34, Student Error: 1.1, Teacher Error: 1.671, Protocol Diversity: 0.333, Protocol Entropy: 1.6,\n",
      "Epoch 16, Time Taken (mm:ss): 0:10, Mean Loss: 1.103\n",
      "Epoch 17, Time Taken (mm:ss): 0:13, Mean Loss: 1.098\n",
      "Epoch 18, Time Taken (mm:ss): 0:10, Mean Loss: 1.097\n",
      "Epoch 19, Time Taken (mm:ss): 0:12, Mean Loss: 1.099\n",
      "Epoch 20, Time Taken (mm:ss): 0:15, Mean Loss: 1.101\n",
      "Test Loss: 1.099, Ground Truth F1-Score: 0.34, Student Error: 1.1, Teacher Error: 1.836, Protocol Diversity: 0.333, Protocol Entropy: 1.6,\n",
      "Epoch 21, Time Taken (mm:ss): 0:13, Mean Loss: 1.087\n",
      "Epoch 22, Time Taken (mm:ss): 0:12, Mean Loss: 1.098\n",
      "Epoch 23, Time Taken (mm:ss): 0:9, Mean Loss: 1.108\n",
      "Epoch 24, Time Taken (mm:ss): 0:9, Mean Loss: 1.095\n",
      "Epoch 25, Time Taken (mm:ss): 0:9, Mean Loss: 1.098\n",
      "Test Loss: 1.098, Ground Truth F1-Score: 0.35, Student Error: 1.1, Teacher Error: 2.173, Protocol Diversity: 0.333, Protocol Entropy: 1.6,\n",
      "Epoch 26, Time Taken (mm:ss): 0:10, Mean Loss: 1.1\n",
      "Epoch 27, Time Taken (mm:ss): 0:9, Mean Loss: 1.101\n",
      "Epoch 28, Time Taken (mm:ss): 0:9, Mean Loss: 1.102\n",
      "Epoch 29, Time Taken (mm:ss): 0:9, Mean Loss: 1.106\n",
      "Epoch 30, Time Taken (mm:ss): 0:11, Mean Loss: 1.097\n",
      "Test Loss: 1.1, Ground Truth F1-Score: 0.324, Student Error: 1.1, Teacher Error: 1.825, Protocol Diversity: 0.333, Protocol Entropy: 1.6,\n",
      "Epoch 31, Time Taken (mm:ss): 0:10, Mean Loss: 1.09\n",
      "Epoch 32, Time Taken (mm:ss): 0:9, Mean Loss: 1.102\n",
      "Epoch 33, Time Taken (mm:ss): 0:10, Mean Loss: 1.102\n",
      "Epoch 34, Time Taken (mm:ss): 0:10, Mean Loss: 1.1\n",
      "Epoch 35, Time Taken (mm:ss): 0:8, Mean Loss: 1.098\n",
      "Test Loss: 1.098, Ground Truth F1-Score: 0.352, Student Error: 1.099, Teacher Error: 1.877, Protocol Diversity: 0.333, Protocol Entropy: 1.6,\n",
      "Epoch 36, Time Taken (mm:ss): 0:9, Mean Loss: 1.102\n",
      "Epoch 37, Time Taken (mm:ss): 0:10, Mean Loss: 1.098\n",
      "Epoch 38, Time Taken (mm:ss): 0:11, Mean Loss: 1.105\n",
      "Epoch 39, Time Taken (mm:ss): 0:9, Mean Loss: 1.097\n",
      "Epoch 40, Time Taken (mm:ss): 0:10, Mean Loss: 1.102\n",
      "Test Loss: 1.1, Ground Truth F1-Score: 0.328, Student Error: 1.1, Teacher Error: 2.092, Protocol Diversity: 0.5, Protocol Entropy: 0.16,\n",
      "Epoch 41, Time Taken (mm:ss): 0:11, Mean Loss: 1.097\n",
      "Epoch 42, Time Taken (mm:ss): 0:10, Mean Loss: 1.101\n",
      "Epoch 43, Time Taken (mm:ss): 0:9, Mean Loss: 1.1\n",
      "Epoch 44, Time Taken (mm:ss): 0:11, Mean Loss: 1.096\n",
      "Epoch 45, Time Taken (mm:ss): 0:9, Mean Loss: 1.103\n",
      "Test Loss: 1.099, Ground Truth F1-Score: 0.336, Student Error: 1.099, Teacher Error: 1.822, Protocol Diversity: 0.5, Protocol Entropy: 0.16,\n",
      "Epoch 46, Time Taken (mm:ss): 0:9, Mean Loss: 1.096\n",
      "Epoch 47, Time Taken (mm:ss): 0:9, Mean Loss: 1.097\n",
      "Epoch 48, Time Taken (mm:ss): 0:9, Mean Loss: 1.098\n",
      "Epoch 49, Time Taken (mm:ss): 0:9, Mean Loss: 1.096\n",
      "Epoch 50, Time Taken (mm:ss): 0:9, Mean Loss: 1.103\n",
      "Test Loss: 1.099, Ground Truth F1-Score: 0.334, Student Error: 1.099, Teacher Error: 1.785, Protocol Diversity: 0.333, Protocol Entropy: 1.6,\n",
      "Epoch 51, Time Taken (mm:ss): 0:11, Mean Loss: 1.102\n",
      "Epoch 52, Time Taken (mm:ss): 0:12, Mean Loss: 1.099\n",
      "Epoch 53, Time Taken (mm:ss): 0:12, Mean Loss: 1.102\n",
      "Epoch 54, Time Taken (mm:ss): 0:9, Mean Loss: 1.096\n",
      "Epoch 55, Time Taken (mm:ss): 0:9, Mean Loss: 1.104\n",
      "Test Loss: 1.099, Ground Truth F1-Score: 0.343, Student Error: 1.1, Teacher Error: 1.71, Protocol Diversity: 0.333, Protocol Entropy: 1.6,\n",
      "Epoch 56, Time Taken (mm:ss): 0:9, Mean Loss: 1.108\n",
      "Epoch 57, Time Taken (mm:ss): 0:9, Mean Loss: 1.102\n",
      "Epoch 58, Time Taken (mm:ss): 0:9, Mean Loss: 1.1\n",
      "Epoch 59, Time Taken (mm:ss): 0:9, Mean Loss: 1.109\n",
      "Epoch 60, Time Taken (mm:ss): 0:9, Mean Loss: 1.099\n",
      "Test Loss: 1.099, Ground Truth F1-Score: 0.325, Student Error: 1.1, Teacher Error: 5.472, Protocol Diversity: 0.333, Protocol Entropy: 1.6,\n",
      "Epoch 61, Time Taken (mm:ss): 0:8, Mean Loss: 1.044\n",
      "Epoch 62, Time Taken (mm:ss): 0:9, Mean Loss: 0.772\n",
      "Epoch 63, Time Taken (mm:ss): 0:10, Mean Loss: 0.487\n",
      "Epoch 64, Time Taken (mm:ss): 0:11, Mean Loss: 0.493\n",
      "Epoch 65, Time Taken (mm:ss): 0:11, Mean Loss: 0.579\n",
      "Test Loss: 1.745, Ground Truth F1-Score: 0.391, Student Error: 1.744, Teacher Error: 9.209, Protocol Diversity: 0.5, Protocol Entropy: 0.16,\n",
      "Epoch 66, Time Taken (mm:ss): 0:9, Mean Loss: 0.494\n",
      "Epoch 67, Time Taken (mm:ss): 0:9, Mean Loss: 0.513\n",
      "Epoch 68, Time Taken (mm:ss): 0:9, Mean Loss: 0.523\n",
      "Epoch 69, Time Taken (mm:ss): 0:9, Mean Loss: 0.531\n",
      "Epoch 70, Time Taken (mm:ss): 0:9, Mean Loss: 0.452\n",
      "Test Loss: 1.775, Ground Truth F1-Score: 0.468, Student Error: 1.775, Teacher Error: 9.304, Protocol Diversity: 0.5, Protocol Entropy: 0.16,\n",
      "Epoch 71, Time Taken (mm:ss): 0:9, Mean Loss: 0.497\n",
      "Epoch 72, Time Taken (mm:ss): 0:11, Mean Loss: 0.496\n",
      "Epoch 73, Time Taken (mm:ss): 0:9, Mean Loss: 0.395\n",
      "Epoch 74, Time Taken (mm:ss): 0:9, Mean Loss: 0.471\n",
      "Epoch 75, Time Taken (mm:ss): 0:11, Mean Loss: 0.484\n",
      "Test Loss: 1.383, Ground Truth F1-Score: 0.559, Student Error: 1.586, Teacher Error: 9.469, Protocol Diversity: 0.5, Protocol Entropy: 0.16,\n",
      "Epoch 76, Time Taken (mm:ss): 0:10, Mean Loss: 0.478\n",
      "Epoch 77, Time Taken (mm:ss): 0:9, Mean Loss: 0.582\n",
      "Epoch 78, Time Taken (mm:ss): 0:10, Mean Loss: 0.55\n",
      "Epoch 79, Time Taken (mm:ss): 0:11, Mean Loss: 0.434\n",
      "Epoch 80, Time Taken (mm:ss): 0:10, Mean Loss: 0.457\n",
      "Test Loss: 1.602, Ground Truth F1-Score: 0.537, Student Error: 1.501, Teacher Error: 9.342, Protocol Diversity: 0.5, Protocol Entropy: 0.16,\n",
      "Epoch 81, Time Taken (mm:ss): 0:10, Mean Loss: 0.459\n",
      "Epoch 82, Time Taken (mm:ss): 0:10, Mean Loss: 0.503\n",
      "Epoch 83, Time Taken (mm:ss): 0:9, Mean Loss: 0.5\n",
      "Epoch 84, Time Taken (mm:ss): 0:9, Mean Loss: 0.484\n",
      "Epoch 85, Time Taken (mm:ss): 0:10, Mean Loss: 0.493\n",
      "Test Loss: 1.531, Ground Truth F1-Score: 0.521, Student Error: 1.406, Teacher Error: 9.553, Protocol Diversity: 0.5, Protocol Entropy: 0.16,\n",
      "Epoch 86, Time Taken (mm:ss): 0:18, Mean Loss: 0.507\n",
      "Epoch 87, Time Taken (mm:ss): 0:14, Mean Loss: 0.507\n",
      "Epoch 88, Time Taken (mm:ss): 0:11, Mean Loss: 0.49\n",
      "Epoch 89, Time Taken (mm:ss): 0:11, Mean Loss: 0.455\n",
      "Epoch 90, Time Taken (mm:ss): 0:10, Mean Loss: 0.612\n",
      "Test Loss: 1.162, Ground Truth F1-Score: 0.536, Student Error: 1.55, Teacher Error: 9.378, Protocol Diversity: 0.5, Protocol Entropy: 0.16,\n",
      "Epoch 91, Time Taken (mm:ss): 0:11, Mean Loss: 0.48\n",
      "Epoch 92, Time Taken (mm:ss): 0:11, Mean Loss: 0.539\n",
      "Epoch 93, Time Taken (mm:ss): 0:12, Mean Loss: 0.502\n",
      "Epoch 94, Time Taken (mm:ss): 0:13, Mean Loss: 0.481\n",
      "Epoch 95, Time Taken (mm:ss): 0:14, Mean Loss: 0.492\n",
      "Test Loss: 1.467, Ground Truth F1-Score: 0.5, Student Error: 1.767, Teacher Error: 9.674, Protocol Diversity: 0.5, Protocol Entropy: 0.16,\n",
      "Epoch 96, Time Taken (mm:ss): 0:14, Mean Loss: 0.483\n",
      "Epoch 97, Time Taken (mm:ss): 0:13, Mean Loss: 0.573\n",
      "Epoch 98, Time Taken (mm:ss): 0:12, Mean Loss: 0.451\n",
      "Epoch 99, Time Taken (mm:ss): 0:13, Mean Loss: 0.627\n",
      "Epoch 100, Time Taken (mm:ss): 0:13, Mean Loss: 0.57\n",
      "Test Loss: 1.339, Ground Truth F1-Score: 0.515, Student Error: 1.535, Teacher Error: 9.868, Protocol Diversity: 0.5, Protocol Entropy: 0.16,\n",
      "Epoch 101, Time Taken (mm:ss): 0:14, Mean Loss: 0.66\n",
      "Epoch 102, Time Taken (mm:ss): 0:16, Mean Loss: 0.515\n",
      "Epoch 103, Time Taken (mm:ss): 0:20, Mean Loss: 0.545\n",
      "Epoch 104, Time Taken (mm:ss): 0:15, Mean Loss: 0.477\n",
      "Epoch 105, Time Taken (mm:ss): 0:14, Mean Loss: 0.525\n",
      "Test Loss: 1.174, Ground Truth F1-Score: 0.529, Student Error: 1.176, Teacher Error: 10.081, Protocol Diversity: 0.5, Protocol Entropy: 0.16,\n",
      "Epoch 106, Time Taken (mm:ss): 0:15, Mean Loss: 0.515\n",
      "Epoch 107, Time Taken (mm:ss): 0:12, Mean Loss: 0.519\n",
      "Epoch 108, Time Taken (mm:ss): 0:12, Mean Loss: 0.588\n",
      "Epoch 109, Time Taken (mm:ss): 0:12, Mean Loss: 0.628\n",
      "Epoch 110, Time Taken (mm:ss): 0:16, Mean Loss: 0.702\n",
      "Test Loss: 1.248, Ground Truth F1-Score: 0.506, Student Error: 1.245, Teacher Error: 9.972, Protocol Diversity: 0.5, Protocol Entropy: 0.16,\n",
      "Epoch 111, Time Taken (mm:ss): 0:15, Mean Loss: 0.469\n",
      "Epoch 112, Time Taken (mm:ss): 0:13, Mean Loss: 0.494\n",
      "Epoch 113, Time Taken (mm:ss): 0:14, Mean Loss: 0.676\n",
      "Epoch 114, Time Taken (mm:ss): 0:14, Mean Loss: 0.608\n",
      "Epoch 115, Time Taken (mm:ss): 0:14, Mean Loss: 0.709\n",
      "Test Loss: 1.001, Ground Truth F1-Score: 0.547, Student Error: 0.999, Teacher Error: 9.712, Protocol Diversity: 0.5, Protocol Entropy: 0.16,\n",
      "Epoch 116, Time Taken (mm:ss): 0:13, Mean Loss: 0.694\n",
      "Epoch 117, Time Taken (mm:ss): 0:13, Mean Loss: 0.546\n",
      "Epoch 118, Time Taken (mm:ss): 0:15, Mean Loss: 0.594\n",
      "Epoch 119, Time Taken (mm:ss): 0:14, Mean Loss: 0.676\n",
      "Epoch 120, Time Taken (mm:ss): 0:12, Mean Loss: 0.539\n",
      "Test Loss: 1.043, Ground Truth F1-Score: 0.552, Student Error: 1.044, Teacher Error: 9.814, Protocol Diversity: 0.5, Protocol Entropy: 0.16,\n",
      "Epoch 121, Time Taken (mm:ss): 0:14, Mean Loss: 0.599\n",
      "Epoch 122, Time Taken (mm:ss): 0:14, Mean Loss: 0.673\n",
      "Epoch 123, Time Taken (mm:ss): 0:14, Mean Loss: 0.593\n",
      "Epoch 124, Time Taken (mm:ss): 0:15, Mean Loss: 0.61\n",
      "Epoch 125, Time Taken (mm:ss): 0:14, Mean Loss: 0.55\n",
      "Test Loss: 0.977, Ground Truth F1-Score: 0.536, Student Error: 0.977, Teacher Error: 9.625, Protocol Diversity: 0.5, Protocol Entropy: 0.16,\n",
      "Epoch 126, Time Taken (mm:ss): 0:19, Mean Loss: 0.595\n",
      "Epoch 127, Time Taken (mm:ss): 0:15, Mean Loss: 0.564\n",
      "Epoch 128, Time Taken (mm:ss): 0:15, Mean Loss: 0.665\n",
      "Epoch 129, Time Taken (mm:ss): 0:19, Mean Loss: 0.624\n",
      "Epoch 130, Time Taken (mm:ss): 0:13, Mean Loss: 0.563\n",
      "Test Loss: 0.888, Ground Truth F1-Score: 0.578, Student Error: 1.242, Teacher Error: 10.011, Protocol Diversity: 0.5, Protocol Entropy: 0.16,\n",
      "Epoch 131, Time Taken (mm:ss): 0:12, Mean Loss: 0.723\n",
      "Epoch 132, Time Taken (mm:ss): 0:14, Mean Loss: 0.711\n",
      "Epoch 133, 20.0% complete, Loss: 0.5193\n"
     ]
    }
   ],
   "source": [
    "permutation_experiment.run()"
   ]
  },
  {
   "cell_type": "code",
   "execution_count": null,
   "metadata": {},
   "outputs": [],
   "source": [
    "print('After training', len(permutation_experiment.experiments), 'agents we ran', \n",
    "      len(permutation_experiment.results), '\"stranger-encounters\"',\n",
    "      'with the follow zero-shot coordination results:', permutation_experiment.results)"
   ]
  },
  {
   "cell_type": "code",
   "execution_count": null,
   "metadata": {},
   "outputs": [],
   "source": [
    "res = permutation_experiment.results\n",
    "print('Final mean zero-shot test performance: ', \n",
    "      round(float(np.mean(res)), 4), '+-', \n",
    "      round(float(np.std(res)), 4))"
   ]
  },
  {
   "cell_type": "code",
   "execution_count": null,
   "metadata": {},
   "outputs": [],
   "source": [
    "for item in permutation_experiment.experiments:\n",
    "    if item['status'] == 'Complete':\n",
    "        total_time = sum([\n",
    "            x['seconds_taken']\n",
    "            for x in item['experiment'].training_history\n",
    "        ])\n",
    "        print(int(total_time / 3600), 'hours,', int(total_time / 60), 'mins and', \n",
    "              int(total_time) % 60, 'seconds taken for experiment', item['index'])"
   ]
  },
  {
   "cell_type": "code",
   "execution_count": null,
   "metadata": {},
   "outputs": [],
   "source": [
    "res_path = Path(f'{EXPERIMENT_FOLDER}/results.json')\n",
    "with res_path.open(mode='w') as f:\n",
    "    json.dump({'zero_shot_coordination_scores': permutation_experiment.results}, f)"
   ]
  },
  {
   "cell_type": "code",
   "execution_count": null,
   "metadata": {},
   "outputs": [],
   "source": [
    "permutation_experiment.experiments"
   ]
  },
  {
   "cell_type": "markdown",
   "metadata": {},
   "source": [
    "## Analyse Results"
   ]
  },
  {
   "cell_type": "code",
   "execution_count": null,
   "metadata": {},
   "outputs": [],
   "source": [
    "def load_channel_permutation_experiment(path):\n",
    "    \n",
    "    config = json.load((path / 'config.json').open(mode='r'))\n",
    "    results = json.load((path / 'results.json').open(mode='r'))\n",
    "    history = json.load((path / 'training_history.json').open(mode='r'))\n",
    "    \n",
    "    agent = Agent(config['play_params']['channel_size'], NUM_CLASSES)\n",
    "    agent.load_weights(str(path / 'agent_weights'))\n",
    "    \n",
    "    config['loss_fn'] = student_pred_matches_test_class\n",
    "    \n",
    "    kwargs = {\n",
    "        k: v for k, v in config.items()\n",
    "        if k not in ['epochs_optimised', \n",
    "                     'optimiser_config',\n",
    "                     'optimise_agents_separately']\n",
    "    }\n",
    "    experiment = Experiment(\n",
    "        generate_train_batch, generate_test_batch,\n",
    "        student=agent,\n",
    "        teacher=agent,\n",
    "        **kwargs\n",
    "    )\n",
    "    experiment.epoch = config['epochs_optimised']\n",
    "    experiment.training_history = history\n",
    "    experiment.results = results\n",
    "    \n",
    "    return experiment"
   ]
  },
  {
   "cell_type": "code",
   "execution_count": null,
   "metadata": {},
   "outputs": [],
   "source": [
    "experiments = []\n",
    "for path in Path(EXPERIMENT_FOLDER).glob('*'):\n",
    "    if not path.is_file():\n",
    "        exp = load_channel_permutation_experiment(path)\n",
    "        experiments.append(exp)\n",
    "        print('Loaded experiment from:', path)"
   ]
  },
  {
   "cell_type": "code",
   "execution_count": null,
   "metadata": {},
   "outputs": [],
   "source": [
    "def did_converge_to_global_optima(experiment):\n",
    "    return experiment.results['mean_ground_truth_f1'] > 0.9\n",
    "\n",
    "def did_converge_to_local_optima(experiment):\n",
    "    return 0.9 > experiment.results['mean_ground_truth_f1'] > 0.6\n",
    "\n",
    "def get_category(experiment):\n",
    "    if did_converge_to_global_optima(experiment):\n",
    "        return 'Coverged to Global Optima'\n",
    "    if did_converge_to_local_optima(experiment):\n",
    "        return 'Coverged to Local Optima'\n",
    "    return 'Did Not Converge'"
   ]
  },
  {
   "cell_type": "code",
   "execution_count": null,
   "metadata": {},
   "outputs": [],
   "source": [
    "sns.reset_defaults()\n",
    "sns.set()"
   ]
  },
  {
   "cell_type": "code",
   "execution_count": null,
   "metadata": {},
   "outputs": [],
   "source": [
    "df_train = pd.DataFrame([\n",
    "    {\n",
    "        'Epoch': epoch,\n",
    "        'Loss': train_item['loss'],\n",
    "        'Experiment': f\"Run {index}\",\n",
    "        'Category': get_category(experiment)\n",
    "    }\n",
    "    for index, experiment in enumerate(experiments)\n",
    "    for epoch, train_item in enumerate(experiment.training_history)\n",
    "])\n",
    "\n",
    "df_test = pd.DataFrame([\n",
    "    {\n",
    "        'Epoch': epoch,\n",
    "        'Performance': train_item['test_metrics']['mean_ground_truth_f1'],\n",
    "        'Protocol Diversity': train_item['test_metrics']['mean_protocol_diversity'],\n",
    "        'Experiment': f\"Run {index}\",\n",
    "        'Category': get_category(experiment)\n",
    "    }\n",
    "    for index, experiment in enumerate(experiments)\n",
    "    for epoch, train_item in enumerate(experiment.training_history)\n",
    "    if 'test_metrics' in train_item\n",
    "])\n",
    "\n",
    "\n",
    "fig = plt.figure(figsize=(8, 5))\n",
    "ax = fig.add_subplot()\n",
    "sns.lineplot(x='Epoch', y='Loss', data=df_train, label='Train Loss', ax=ax);\n",
    "sns.lineplot(x='Epoch', y='Performance', data=df_test, label='Test Performance', ax=ax);\n",
    "sns.lineplot(x='Epoch', y='Protocol Diversity', data=df_test, label='Protocol Diversity', ax=ax);\n",
    "plt.ylabel('')\n",
    "plt.title('Channel Permutation Training Histories')\n",
    "plt.show()"
   ]
  },
  {
   "cell_type": "code",
   "execution_count": null,
   "metadata": {},
   "outputs": [],
   "source": [
    "games_played, _ = experiments[0].run_tests()"
   ]
  },
  {
   "cell_type": "code",
   "execution_count": null,
   "metadata": {},
   "outputs": [],
   "source": [
    "for i in range(5):\n",
    "    inputs, targets, outputs = games_played[i]\n",
    "    plot_game(inputs, outputs, targets, select_batch=0)"
   ]
  },
  {
   "cell_type": "code",
   "execution_count": null,
   "metadata": {},
   "outputs": [],
   "source": [
    "mean_class_message_map = create_mean_class_message_map(games_played)\n",
    "sns.heatmap(mean_class_message_map, vmin=0, vmax=1);\n",
    "plt.ylabel('Class')\n",
    "plt.xlabel('Symbol')\n",
    "plt.title('Communication Protocol')\n",
    "plt.show()"
   ]
  },
  {
   "cell_type": "code",
   "execution_count": null,
   "metadata": {},
   "outputs": [],
   "source": [
    "conf_matrix = compute_confusion_matrix(games_played)\n",
    "sns.heatmap(conf_matrix, annot=True, vmin=0, vmax=1)\n",
    "plt.title('Ground Truth Confusion Matrix')\n",
    "plt.ylabel('Predicted Class')\n",
    "plt.xlabel('Actual Class');"
   ]
  },
  {
   "cell_type": "code",
   "execution_count": null,
   "metadata": {},
   "outputs": [],
   "source": []
  }
 ],
 "metadata": {
  "kernelspec": {
   "display_name": "Python 3",
   "language": "python",
   "name": "python3"
  },
  "language_info": {
   "codemirror_mode": {
    "name": "ipython",
    "version": 3
   },
   "file_extension": ".py",
   "mimetype": "text/x-python",
   "name": "python",
   "nbconvert_exporter": "python",
   "pygments_lexer": "ipython3",
   "version": "3.6.10"
  }
 },
 "nbformat": 4,
 "nbformat_minor": 4
}
