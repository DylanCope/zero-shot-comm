{
 "cells": [
  {
   "cell_type": "code",
   "execution_count": 1,
   "metadata": {},
   "outputs": [],
   "source": [
    "from pathlib import Path\n",
    "from datetime import datetime\n",
    "import json\n",
    "import simplejson\n",
    "\n",
    "EXPERIMENT_FOLDER = \"./experiments/channel_permutation_test\"\n",
    "Path(EXPERIMENT_FOLDER).mkdir(exist_ok=True)"
   ]
  },
  {
   "cell_type": "code",
   "execution_count": 2,
   "metadata": {},
   "outputs": [],
   "source": [
    "import os\n",
    "os.environ[\"CUDA_VISIBLE_DEVICES\"] = \"-1\""
   ]
  },
  {
   "cell_type": "code",
   "execution_count": 3,
   "metadata": {},
   "outputs": [
    {
     "name": "stdout",
     "output_type": "stream",
     "text": [
      "Physical Devices:\n",
      "PhysicalDevice(name='/physical_device:CPU:0', device_type='CPU')\n"
     ]
    }
   ],
   "source": [
    "import numpy as np\n",
    "import pandas as pd\n",
    "import tensorflow as tf\n",
    "\n",
    "from IPython.display import clear_output\n",
    "import matplotlib.pyplot as plt\n",
    "%matplotlib inline\n",
    "\n",
    "import seaborn as sns\n",
    "sns.reset_defaults()\n",
    "sns.set()\n",
    "\n",
    "print('Physical Devices:')\n",
    "for dev in tf.config.list_physical_devices():\n",
    "    print(dev)"
   ]
  },
  {
   "cell_type": "code",
   "execution_count": 4,
   "metadata": {},
   "outputs": [],
   "source": [
    "from zscomm.agent import Agent\n",
    "from zscomm.comm_channel import CommChannel\n",
    "from zscomm.synth_teacher import SyntheticTeacher\n",
    "from zscomm.data import *\n",
    "from zscomm.play_game import *\n",
    "from zscomm.loss import *\n",
    "from zscomm.experiment import Experiment\n",
    "from zscomm.meta_experiment import *\n",
    "from zscomm.plot_game import plot_game\n",
    "from zscomm.analysis import *"
   ]
  },
  {
   "cell_type": "markdown",
   "metadata": {},
   "source": [
    "## Load Data:"
   ]
  },
  {
   "cell_type": "code",
   "execution_count": 5,
   "metadata": {},
   "outputs": [],
   "source": [
    "NUM_CLASSES = 3\n",
    "BATCH_SIZE = 32\n",
    "CHANNEL_SIZE = 5\n",
    "\n",
    "TRAIN_DATA, TEST_DATA = get_simple_card_data(num_classes=NUM_CLASSES)"
   ]
  },
  {
   "cell_type": "code",
   "execution_count": 6,
   "metadata": {},
   "outputs": [],
   "source": [
    "def generate_train_batch():\n",
    "    return generate_batch(TRAIN_DATA,\n",
    "                          batch_size=BATCH_SIZE, \n",
    "                          num_classes=NUM_CLASSES)\n",
    "\n",
    "\n",
    "def generate_test_batch():\n",
    "    return generate_batch(TEST_DATA,\n",
    "                          batch_size=BATCH_SIZE, \n",
    "                          num_classes=NUM_CLASSES)"
   ]
  },
  {
   "cell_type": "markdown",
   "metadata": {},
   "source": [
    "# Run Experiments"
   ]
  },
  {
   "cell_type": "code",
   "execution_count": 7,
   "metadata": {},
   "outputs": [],
   "source": [
    "def create_channel_permutation_experiment(channel_size=5, epochs=200, **exp_kwargs):\n",
    "    \n",
    "    agent = Agent(channel_size, NUM_CLASSES)\n",
    "\n",
    "    start_temp = 10\n",
    "    end_temp = 0.1\n",
    "    temp_anneal_end_epoch = 200\n",
    "    a = -np.log(end_temp / start_temp) / temp_anneal_end_epoch\n",
    "    \n",
    "    def play_params(epoch):\n",
    "        if epoch < temp_anneal_end_epoch:\n",
    "            channel_temp = float(start_temp * np.exp(-a*epoch))\n",
    "        else:\n",
    "            channel_temp = end_temp\n",
    "        \n",
    "        return {\n",
    "            'channel_size': channel_size,\n",
    "            'p_mutate': 0,\n",
    "            'message_permutation': True,\n",
    "            'channel_temp': channel_temp,\n",
    "        }\n",
    "    \n",
    "    return Experiment(\n",
    "        generate_train_batch, generate_test_batch,\n",
    "        play_params=play_params, \n",
    "        student=agent,\n",
    "        teacher=agent,\n",
    "        loss_fn=student_pred_matches_test_class,\n",
    "        max_epochs=epochs,\n",
    "        lr=1e-2,\n",
    "        step_print_freq=10,\n",
    "        **exp_kwargs\n",
    "    )"
   ]
  },
  {
   "cell_type": "code",
   "execution_count": 8,
   "metadata": {},
   "outputs": [],
   "source": [
    "permutation_experiment = MetaExperiment(\n",
    "    create_experiment_fn=create_channel_permutation_experiment,\n",
    "    num_experiments=2,\n",
    "    epochs=200,\n",
    "    export_location=None,\n",
    ")"
   ]
  },
  {
   "cell_type": "code",
   "execution_count": 9,
   "metadata": {},
   "outputs": [],
   "source": [
    "games_played, _ = permutation_experiment.experiments[0]['experiment'].run_tests()"
   ]
  },
  {
   "cell_type": "code",
   "execution_count": 10,
   "metadata": {},
   "outputs": [
    {
     "name": "stdout",
     "output_type": "stream",
     "text": [
      "Model: \"agent\"\n",
      "_________________________________________________________________\n",
      "Layer (type)                 Output Shape              Param #   \n",
      "=================================================================\n",
      "concatenate (Concatenate)    multiple                  0         \n",
      "_________________________________________________________________\n",
      "dropout (Dropout)            multiple                  0         \n",
      "_________________________________________________________________\n",
      "lambda (Lambda)              multiple                  0         \n",
      "_________________________________________________________________\n",
      "dense (Dense)                multiple                  1664      \n",
      "_________________________________________________________________\n",
      "lstm (LSTM)                  multiple                  49408     \n",
      "_________________________________________________________________\n",
      "dense_1 (Dense)              multiple                  520       \n",
      "_________________________________________________________________\n",
      "lambda_1 (Lambda)            multiple                  0         \n",
      "_________________________________________________________________\n",
      "lambda_2 (Lambda)            multiple                  0         \n",
      "=================================================================\n",
      "Total params: 51,592\n",
      "Trainable params: 51,592\n",
      "Non-trainable params: 0\n",
      "_________________________________________________________________\n"
     ]
    }
   ],
   "source": [
    "permutation_experiment.experiments[0]['experiment'].student.summary()"
   ]
  },
  {
   "cell_type": "code",
   "execution_count": 11,
   "metadata": {},
   "outputs": [
    {
     "name": "stdout",
     "output_type": "stream",
     "text": [
      "Running meta_experiment...\n",
      "Running experiment 1 (0/2 complete):\n",
      "Run Stopped.\n"
     ]
    }
   ],
   "source": [
    "permutation_experiment.run()"
   ]
  },
  {
   "cell_type": "code",
   "execution_count": 12,
   "metadata": {},
   "outputs": [
    {
     "ename": "IndexError",
     "evalue": "list index out of range",
     "output_type": "error",
     "traceback": [
      "\u001b[1;31m---------------------------------------------------------------------------\u001b[0m",
      "\u001b[1;31mIndexError\u001b[0m                                Traceback (most recent call last)",
      "\u001b[1;32m<ipython-input-12-edecd8ad6dd5>\u001b[0m in \u001b[0;36m<module>\u001b[1;34m\u001b[0m\n\u001b[0;32m      1\u001b[0m \u001b[1;32mfor\u001b[0m \u001b[0mitem\u001b[0m \u001b[1;32min\u001b[0m \u001b[0mpermutation_experiment\u001b[0m\u001b[1;33m.\u001b[0m\u001b[0mexperiments\u001b[0m\u001b[1;33m:\u001b[0m\u001b[1;33m\u001b[0m\u001b[1;33m\u001b[0m\u001b[0m\n\u001b[1;32m----> 2\u001b[1;33m     \u001b[0mitem\u001b[0m\u001b[1;33m[\u001b[0m\u001b[1;34m'experiment'\u001b[0m\u001b[1;33m]\u001b[0m\u001b[1;33m.\u001b[0m\u001b[0mplot_training_history\u001b[0m\u001b[1;33m(\u001b[0m\u001b[1;33m)\u001b[0m\u001b[1;33m\u001b[0m\u001b[1;33m\u001b[0m\u001b[0m\n\u001b[0m\u001b[0;32m      3\u001b[0m \u001b[0mplt\u001b[0m\u001b[1;33m.\u001b[0m\u001b[0mshow\u001b[0m\u001b[1;33m(\u001b[0m\u001b[1;33m)\u001b[0m\u001b[1;33m\u001b[0m\u001b[1;33m\u001b[0m\u001b[0m\n",
      "\u001b[1;32m~\\OneDrive\\Projects\\zero-shot-comm\\zscomm\\experiment.py\u001b[0m in \u001b[0;36mplot_training_history\u001b[1;34m(self, axs)\u001b[0m\n\u001b[0;32m    391\u001b[0m             \u001b[1;32mfor\u001b[0m \u001b[0mepoch\u001b[0m\u001b[1;33m,\u001b[0m \u001b[0mitem\u001b[0m \u001b[1;32min\u001b[0m \u001b[0menumerate\u001b[0m\u001b[1;33m(\u001b[0m\u001b[0mtest_metric_items\u001b[0m\u001b[1;33m)\u001b[0m\u001b[1;33m\u001b[0m\u001b[1;33m\u001b[0m\u001b[0m\n\u001b[0;32m    392\u001b[0m         ]\n\u001b[1;32m--> 393\u001b[1;33m         \u001b[0mmetrics\u001b[0m \u001b[1;33m=\u001b[0m \u001b[0mlist\u001b[0m\u001b[1;33m(\u001b[0m\u001b[0mtest_metric_items\u001b[0m\u001b[1;33m[\u001b[0m\u001b[1;36m0\u001b[0m\u001b[1;33m]\u001b[0m\u001b[1;33m.\u001b[0m\u001b[0mkeys\u001b[0m\u001b[1;33m(\u001b[0m\u001b[1;33m)\u001b[0m\u001b[1;33m)\u001b[0m\u001b[1;33m\u001b[0m\u001b[1;33m\u001b[0m\u001b[0m\n\u001b[0m\u001b[0;32m    394\u001b[0m \u001b[1;33m\u001b[0m\u001b[0m\n\u001b[0;32m    395\u001b[0m         \u001b[1;32mfor\u001b[0m \u001b[0mmetric\u001b[0m \u001b[1;32min\u001b[0m \u001b[0mmetrics\u001b[0m\u001b[1;33m:\u001b[0m\u001b[1;33m\u001b[0m\u001b[1;33m\u001b[0m\u001b[0m\n",
      "\u001b[1;31mIndexError\u001b[0m: list index out of range"
     ]
    },
    {
     "data": {
      "image/png": "[encoded data removed]",
      "text/plain": [
       "<matplotlib.figure.Figure at 0x266d4cc8f60>"
      ]
     },
     "metadata": {
      "needs_background": "light"
     },
     "output_type": "display_data"
    },
    {
     "data": {
      "image/png": "[encoded data removed]",
      "text/plain": [
       "<matplotlib.figure.Figure at 0x266c5081b38>"
      ]
     },
     "metadata": {
      "needs_background": "light"
     },
     "output_type": "display_data"
    }
   ],
   "source": [
    "for item in permutation_experiment.experiments:\n",
    "    item['experiment'].plot_training_history()\n",
    "plt.show()"
   ]
  },
  {
   "cell_type": "code",
   "execution_count": null,
   "metadata": {},
   "outputs": [],
   "source": [
    "print('After training', len(permutation_experiment.experiments), 'agents we ran', \n",
    "      2*len(permutation_experiment.results), '\"stranger-encounters\"',\n",
    "      'with the follow zero-shot coordination results:')\n",
    "permutation_experiment.print_results()"
   ]
  },
  {
   "cell_type": "code",
   "execution_count": null,
   "metadata": {},
   "outputs": [],
   "source": [
    "zs_results = [\n",
    "    metrics['mean_ground_truth_f1']\n",
    "    for stranger_pairings in permutation_experiment.results\n",
    "    for metrics in stranger_pairings['vanilla_params_test_metrics']\n",
    "]\n",
    "print('Final mean zero-shot test performance: ', \n",
    "      round(float(np.mean(zs_results)), 4), '+-', \n",
    "      round(float(np.std(zs_results)), 4))"
   ]
  },
  {
   "cell_type": "code",
   "execution_count": null,
   "metadata": {},
   "outputs": [],
   "source": [
    "for item in permutation_experiment.experiments:\n",
    "    if item['status'] == 'Complete':\n",
    "        total_time = sum([\n",
    "            x['seconds_taken']\n",
    "            for x in item['experiment'].training_history\n",
    "        ])\n",
    "        print(int(total_time / 3600), 'hours,', int(total_time / 60), 'mins and', \n",
    "              int(total_time) % 60, 'seconds taken for experiment', item['index'])"
   ]
  },
  {
   "cell_type": "code",
   "execution_count": null,
   "metadata": {},
   "outputs": [],
   "source": [
    "res_path = Path(f'{EXPERIMENT_FOLDER}/results.json')\n",
    "with res_path.open(mode='w') as f:\n",
    "    json.dump({'zero_shot_coordination_scores': permutation_experiment.results}, f)"
   ]
  },
  {
   "cell_type": "code",
   "execution_count": null,
   "metadata": {},
   "outputs": [],
   "source": [
    "permutation_experiment.experiments"
   ]
  },
  {
   "cell_type": "markdown",
   "metadata": {},
   "source": [
    "## Analyse Results"
   ]
  },
  {
   "cell_type": "code",
   "execution_count": null,
   "metadata": {},
   "outputs": [],
   "source": [
    "def load_channel_permutation_experiment(path):\n",
    "    \n",
    "    config = json.load((path / 'config.json').open(mode='r'))\n",
    "    results = json.load((path / 'results.json').open(mode='r'))\n",
    "    history = json.load((path / 'training_history.json').open(mode='r'))\n",
    "    \n",
    "    agent = Agent(config['play_params']['channel_size'], NUM_CLASSES)\n",
    "    agent.load_weights(str(path / 'agent_weights'))\n",
    "    \n",
    "    config['loss_fn'] = student_pred_matches_test_class\n",
    "    \n",
    "    kwargs = {\n",
    "        k: v for k, v in config.items()\n",
    "        if k not in ['epochs_optimised', \n",
    "                     'optimiser_config',\n",
    "                     'optimise_agents_separately']\n",
    "    }\n",
    "    experiment = Experiment(\n",
    "        generate_train_batch, generate_test_batch,\n",
    "        student=agent,\n",
    "        teacher=agent,\n",
    "        **kwargs\n",
    "    )\n",
    "    experiment.epoch = config['epochs_optimised']\n",
    "    experiment.training_history = history\n",
    "    experiment.results = results\n",
    "    \n",
    "    return experiment"
   ]
  },
  {
   "cell_type": "code",
   "execution_count": null,
   "metadata": {},
   "outputs": [],
   "source": [
    "experiments = []\n",
    "for path in Path(EXPERIMENT_FOLDER).glob('*'):\n",
    "    if not path.is_file():\n",
    "        exp = load_channel_permutation_experiment(path)\n",
    "        experiments.append(exp)\n",
    "        print('Loaded experiment from:', path)"
   ]
  },
  {
   "cell_type": "code",
   "execution_count": null,
   "metadata": {},
   "outputs": [],
   "source": [
    "def did_converge_to_global_optima(experiment):\n",
    "    return experiment.results['mean_ground_truth_f1'] > 0.9\n",
    "\n",
    "def did_converge_to_local_optima(experiment):\n",
    "    return 0.9 > experiment.results['mean_ground_truth_f1'] > 0.6\n",
    "\n",
    "def get_category(experiment):\n",
    "    if did_converge_to_global_optima(experiment):\n",
    "        return 'Coverged to Global Optima'\n",
    "    if did_converge_to_local_optima(experiment):\n",
    "        return 'Coverged to Local Optima'\n",
    "    return 'Did Not Converge'"
   ]
  },
  {
   "cell_type": "code",
   "execution_count": null,
   "metadata": {},
   "outputs": [],
   "source": [
    "sns.reset_defaults()\n",
    "sns.set()"
   ]
  },
  {
   "cell_type": "code",
   "execution_count": null,
   "metadata": {},
   "outputs": [],
   "source": [
    "item['experiment'].training_history[-1]"
   ]
  },
  {
   "cell_type": "code",
   "execution_count": null,
   "metadata": {},
   "outputs": [],
   "source": [
    "df_train = pd.DataFrame([\n",
    "    {\n",
    "        'Epoch': epoch,\n",
    "        'Loss': train_item['loss'],\n",
    "        'Experiment': f\"Run {index}\",\n",
    "        'Category': get_category(experiment)\n",
    "    }\n",
    "    for index, experiment in enumerate(permutation_experiment.)\n",
    "    for epoch, train_item in enumerate(experiment.training_history)\n",
    "])\n",
    "\n",
    "df_test = pd.DataFrame([\n",
    "    {\n",
    "        'Epoch': epoch,\n",
    "        'Performance': train_item['test_metrics']['mean_ground_truth_f1'],\n",
    "        'Protocol Diversity': train_item['test_metrics']['mean_protocol_diversity'],\n",
    "        'Experiment': f\"Run {index}\",\n",
    "        'Category': get_category(experiment)\n",
    "    }\n",
    "    for index, experiment in enumerate(permutation_experiment)\n",
    "    for epoch, train_item in enumerate(experiment.training_history)\n",
    "    if 'test_metrics' in train_item\n",
    "])\n",
    "\n",
    "\n",
    "fig = plt.figure(figsize=(8, 5))\n",
    "ax = fig.add_subplot()\n",
    "sns.lineplot(x='Epoch', y='Loss', data=df_train, label='Train Loss', ax=ax);\n",
    "sns.lineplot(x='Epoch', y='Performance', data=df_test, label='Test Performance', ax=ax);\n",
    "sns.lineplot(x='Epoch', y='Protocol Diversity', data=df_test, label='Protocol Diversity', ax=ax);\n",
    "plt.ylabel('')\n",
    "plt.title('Channel Permutation Training Histories')\n",
    "plt.show()"
   ]
  },
  {
   "cell_type": "code",
   "execution_count": null,
   "metadata": {},
   "outputs": [],
   "source": [
    "games_played, _ = experiments[0].run_tests()"
   ]
  },
  {
   "cell_type": "code",
   "execution_count": null,
   "metadata": {},
   "outputs": [],
   "source": [
    "for i in range(5):\n",
    "    inputs, targets, outputs = games_played[i]\n",
    "    plot_game(inputs, outputs, targets, select_batch=0)"
   ]
  },
  {
   "cell_type": "code",
   "execution_count": null,
   "metadata": {},
   "outputs": [],
   "source": [
    "mean_class_message_map = create_mean_class_message_map(games_played)\n",
    "sns.heatmap(mean_class_message_map, vmin=0, vmax=1);\n",
    "plt.ylabel('Class')\n",
    "plt.xlabel('Symbol')\n",
    "plt.title('Communication Protocol')\n",
    "plt.show()"
   ]
  },
  {
   "cell_type": "code",
   "execution_count": null,
   "metadata": {},
   "outputs": [],
   "source": [
    "conf_matrix = compute_confusion_matrix(games_played)\n",
    "sns.heatmap(conf_matrix, annot=True, vmin=0, vmax=1)\n",
    "plt.title('Ground Truth Confusion Matrix')\n",
    "plt.ylabel('Predicted Class')\n",
    "plt.xlabel('Actual Class');"
   ]
  },
  {
   "cell_type": "code",
   "execution_count": null,
   "metadata": {},
   "outputs": [],
   "source": []
  }
 ],
 "metadata": {
  "kernelspec": {
   "display_name": "Python 3",
   "language": "python",
   "name": "python3"
  },
  "language_info": {
   "codemirror_mode": {
    "name": "ipython",
    "version": 3
   },
   "file_extension": ".py",
   "mimetype": "text/x-python",
   "name": "python",
   "nbconvert_exporter": "python",
   "pygments_lexer": "ipython3",
   "version": "3.6.10"
  }
 },
 "nbformat": 4,
 "nbformat_minor": 4
}
