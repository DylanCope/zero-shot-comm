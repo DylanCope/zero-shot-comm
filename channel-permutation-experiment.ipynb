{
 "cells": [
  {
   "cell_type": "code",
   "execution_count": null,
   "metadata": {},
   "outputs": [],
   "source": [
    "from pathlib import Path\n",
    "from datetime import datetime\n",
    "import json\n",
    "import simplejson\n",
    "\n",
    "EXPERIMENT_FOLDER = \"./experiments/channel_permutation\"\n",
    "Path(EXPERIMENT_FOLDER).mkdir(exist_ok=True)"
   ]
  },
  {
   "cell_type": "code",
   "execution_count": null,
   "metadata": {},
   "outputs": [],
   "source": [
    "import numpy as np\n",
    "import pandas as pd\n",
    "import tensorflow as tf\n",
    "\n",
    "from IPython.display import clear_output\n",
    "import matplotlib.pyplot as plt\n",
    "%matplotlib inline\n",
    "\n",
    "import seaborn as sns\n",
    "sns.reset_defaults()\n",
    "sns.set()\n",
    "\n",
    "print('Physical Devices:')\n",
    "for dev in tf.config.list_physical_devices():\n",
    "    print(dev)"
   ]
  },
  {
   "cell_type": "code",
   "execution_count": null,
   "metadata": {},
   "outputs": [],
   "source": [
    "from zscomm.agent import Agent\n",
    "from zscomm.comm_channel import CommChannel\n",
    "from zscomm.synth_teacher import SyntheticTeacher\n",
    "from zscomm.data import *\n",
    "from zscomm.play_game import *\n",
    "from zscomm.loss import *\n",
    "from zscomm.experiment import Experiment\n",
    "from zscomm.meta_experiment import *\n",
    "from zscomm.plot_game import plot_game\n",
    "from zscomm.analysis import *"
   ]
  },
  {
   "cell_type": "markdown",
   "metadata": {},
   "source": [
    "## Load Data:"
   ]
  },
  {
   "cell_type": "code",
   "execution_count": null,
   "metadata": {},
   "outputs": [],
   "source": [
    "NUM_CLASSES = 3\n",
    "BATCH_SIZE = 32\n",
    "CHANNEL_SIZE = 5\n",
    "USE_MNIST = False\n",
    "\n",
    "if USE_MNIST:\n",
    "    TRAIN_DATA, TEST_DATA = get_mnist_data(num_classes=NUM_CLASSES)\n",
    "else:\n",
    "    TRAIN_DATA, TEST_DATA = get_simple_card_data(num_classes=NUM_CLASSES)"
   ]
  },
  {
   "cell_type": "code",
   "execution_count": null,
   "metadata": {},
   "outputs": [],
   "source": [
    "def generate_train_batch():\n",
    "    return generate_batch(TRAIN_DATA,\n",
    "                          batch_size=BATCH_SIZE, \n",
    "                          num_classes=NUM_CLASSES)\n",
    "\n",
    "\n",
    "def generate_test_batch():\n",
    "    return generate_batch(TEST_DATA,\n",
    "                          batch_size=BATCH_SIZE, \n",
    "                          num_classes=NUM_CLASSES)"
   ]
  },
  {
   "cell_type": "markdown",
   "metadata": {},
   "source": [
    "# Run Experiments"
   ]
  },
  {
   "cell_type": "code",
   "execution_count": null,
   "metadata": {},
   "outputs": [],
   "source": [
    "def create_message_permutation_experiment(channel_size=5, **exp_kwargs):\n",
    "    \n",
    "    agent = Agent(channel_size, NUM_CLASSES)\n",
    "\n",
    "    play_params =  {\n",
    "        'channel_size': channel_size,\n",
    "        'p_mutate': 0,\n",
    "        'message_permutation': True,\n",
    "    }\n",
    "    \n",
    "    return Experiment(\n",
    "        generate_train_batch, generate_test_batch,\n",
    "        play_params=play_params, \n",
    "        student=agent,\n",
    "        teacher=agent,\n",
    "        loss_fn=complete_loss_fn,\n",
    "        **exp_kwargs\n",
    "    )\n",
    "\n",
    "\n",
    "def create_message_permutation_is_all_you_need_experiment(channel_size=5, epochs=300, **exp_kwargs):\n",
    "    \n",
    "    agent = Agent(channel_size, NUM_CLASSES)\n",
    "\n",
    "    play_params =  {\n",
    "        'channel_size': channel_size,\n",
    "        'p_mutate': 0,\n",
    "        'message_permutation': True,\n",
    "    }\n",
    "    \n",
    "    return Experiment(\n",
    "        generate_train_batch, generate_test_batch,\n",
    "        play_params=play_params, \n",
    "        student=agent,\n",
    "        teacher=agent,\n",
    "        loss_fn=student_pred_matches_test_class,\n",
    "        max_epochs=epochs,\n",
    "        lr=1e-2,\n",
    "        step_print_freq=25,\n",
    "        **exp_kwargs\n",
    "    )"
   ]
  },
  {
   "cell_type": "code",
   "execution_count": null,
   "metadata": {},
   "outputs": [],
   "source": [
    "permutation_experiment = MetaExperiment(\n",
    "    create_experiment_fn=create_message_permutation_is_all_you_need_experiment,\n",
    "    num_experiments=6,\n",
    "    export_location=EXPERIMENT_FOLDER,\n",
    ")"
   ]
  },
  {
   "cell_type": "code",
   "execution_count": null,
   "metadata": {
    "scrolled": false
   },
   "outputs": [],
   "source": [
    "permutation_experiment.run()"
   ]
  },
  {
   "cell_type": "code",
   "execution_count": null,
   "metadata": {},
   "outputs": [],
   "source": [
    "for item in permutation_experiment.experiments:\n",
    "    if item['status'] == 'Complete':\n",
    "        total_time = sum([\n",
    "            x['seconds_taken']\n",
    "            for x in item['experiment'].training_history\n",
    "        ])\n",
    "        print(total_time)"
   ]
  },
  {
   "cell_type": "code",
   "execution_count": null,
   "metadata": {},
   "outputs": [],
   "source": [
    "permutation_experiment.experiments"
   ]
  },
  {
   "cell_type": "markdown",
   "metadata": {},
   "source": [
    "## Analyse Results"
   ]
  },
  {
   "cell_type": "code",
   "execution_count": null,
   "metadata": {},
   "outputs": [],
   "source": [
    "def load_channel_permutation_experiment(path):\n",
    "    \n",
    "    config = json.load((path / 'config.json').open(mode='r'))\n",
    "    results = json.load((path / 'results.json').open(mode='r'))\n",
    "    history = json.load((path / 'training_history.json').open(mode='r'))\n",
    "    \n",
    "    agent = Agent(config['play_params']['channel_size'], NUM_CLASSES)\n",
    "    agent.load_weights(str(path / 'agent_weights'))\n",
    "    \n",
    "    config['loss_fn'] = student_pred_matches_test_class\n",
    "    \n",
    "    kwargs = {\n",
    "        k: v for k, v in config.items()\n",
    "        if k not in ['epochs_optimised', 'optimiser_config']\n",
    "    }\n",
    "    experiment = Experiment(\n",
    "        generate_train_batch, generate_test_batch,\n",
    "        student=agent,\n",
    "        teacher=agent,\n",
    "        **kwargs\n",
    "    )\n",
    "    experiment.epoch = config['epochs_optimised']\n",
    "    experiment.training_history = history\n",
    "    experiment.results = results\n",
    "    \n",
    "    return experiment"
   ]
  },
  {
   "cell_type": "code",
   "execution_count": null,
   "metadata": {},
   "outputs": [],
   "source": [
    "experiments = []\n",
    "for path in Path(EXPERIMENT_FOLDER).glob('*'):\n",
    "    if not path.is_file():\n",
    "        exp = load_channel_permutation_experiment(path)\n",
    "        experiments.append(exp)"
   ]
  },
  {
   "cell_type": "code",
   "execution_count": null,
   "metadata": {},
   "outputs": [],
   "source": [
    "def did_converge(experiment):\n",
    "    return experiment.results['mean_ground_truth_f1'] > 0.9"
   ]
  },
  {
   "cell_type": "code",
   "execution_count": null,
   "metadata": {},
   "outputs": [],
   "source": [
    "df = pd.DataFrame([\n",
    "    {\n",
    "        'Epoch': epoch,\n",
    "        'Loss': train_item['loss'],\n",
    "        'Experiment': f\"Run {index}\",\n",
    "        'Category': 'Converged' if did_converge(experiment) else 'Not Converged'\n",
    "    }\n",
    "    for index, experiment in enumerate(experiments)\n",
    "    for epoch, train_item in enumerate(experiment.training_history)\n",
    "])\n",
    "\n",
    "plt.figure(figsize=(8, 5))\n",
    "sns.lineplot(x='Epoch', y='Loss', hue='Category', data=df);"
   ]
  },
  {
   "cell_type": "code",
   "execution_count": null,
   "metadata": {},
   "outputs": [],
   "source": [
    "df = pd.DataFrame([\n",
    "    {\n",
    "        'Epoch': epoch,\n",
    "        'Performance': train_item['test_metrics']['mean_ground_truth_f1'],\n",
    "        'Protocol Diversity': train_item['test_metrics']['mean_protocol_diversity'],\n",
    "        'Experiment': f\"Run {index}\",\n",
    "        'Category': 'Converged' if did_converge(experiment) else 'Not Converged'\n",
    "    }\n",
    "    for index, experiment in enumerate(experiments)\n",
    "    for epoch, train_item in enumerate(experiment.training_history)\n",
    "    if 'test_metrics' in train_item\n",
    "])\n",
    "\n",
    "fig, axs = plt.subplots(1, 2, figsize=(15, 5))\n",
    "\n",
    "axs[0].set_title('Test Performance')\n",
    "axs[1].set_title('Protocol Diversity')\n",
    "\n",
    "sns.lineplot(x='Epoch', y='Performance', hue='Category', data=df, ax=axs[0]);\n",
    "sns.lineplot(x='Epoch', y='Protocol Diversity', hue='Category', data=df, ax=axs[1]);\n",
    "for ax in axs:\n",
    "    ax.set_ylim([0, 1.05])"
   ]
  },
  {
   "cell_type": "code",
   "execution_count": null,
   "metadata": {},
   "outputs": [],
   "source": [
    "games_played, _ = experiments[4].run_tests()"
   ]
  },
  {
   "cell_type": "code",
   "execution_count": null,
   "metadata": {
    "scrolled": false
   },
   "outputs": [],
   "source": [
    "for i in range(5):\n",
    "    inputs, targets, outputs = games_played[i]\n",
    "    plot_game(inputs, outputs, targets, select_batch=0)"
   ]
  },
  {
   "cell_type": "code",
   "execution_count": null,
   "metadata": {},
   "outputs": [],
   "source": [
    "mean_class_message_map = create_mean_class_message_map(games_played)\n",
    "sns.heatmap(mean_class_message_map, vmin=0, vmax=1);\n",
    "plt.ylabel('Class')\n",
    "plt.xlabel('Symbol')\n",
    "plt.title('Communication Protocol')\n",
    "plt.show()"
   ]
  },
  {
   "cell_type": "code",
   "execution_count": null,
   "metadata": {},
   "outputs": [],
   "source": [
    "conf_matrix = compute_confusion_matrix(games_played)\n",
    "sns.heatmap(conf_matrix, annot=True, vmin=0, vmax=1)\n",
    "plt.title('Ground Truth Confusion Matrix')\n",
    "plt.ylabel('Predicted Class')\n",
    "plt.xlabel('Actual Class');"
   ]
  },
  {
   "cell_type": "code",
   "execution_count": null,
   "metadata": {},
   "outputs": [],
   "source": []
  }
 ],
 "metadata": {
  "kernelspec": {
   "display_name": "Python 3",
   "language": "python",
   "name": "python3"
  },
  "language_info": {
   "codemirror_mode": {
    "name": "ipython",
    "version": 3
   },
   "file_extension": ".py",
   "mimetype": "text/x-python",
   "name": "python",
   "nbconvert_exporter": "python",
   "pygments_lexer": "ipython3",
   "version": "3.6.10"
  }
 },
 "nbformat": 4,
 "nbformat_minor": 4
}
