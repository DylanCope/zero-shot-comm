{
 "cells": [
  {
   "cell_type": "code",
   "execution_count": 18,
   "metadata": {},
   "outputs": [],
   "source": [
    "from pathlib import Path\n",
    "from datetime import datetime\n",
    "import json\n",
    "import simplejson\n",
    "\n",
    "EXPERIMENT_FOLDER = f'./experiments/vary_pm/{datetime.now().strftime(\"%d-%m_%H-%M\")}'\n",
    "# EXPERIMENT_FOLDER = \"./experiments/vary_pm/24-09_09-40\""
   ]
  },
  {
   "cell_type": "code",
   "execution_count": 2,
   "metadata": {},
   "outputs": [
    {
     "name": "stdout",
     "output_type": "stream",
     "text": [
      "Physical Devices:\n",
      "PhysicalDevice(name='/physical_device:CPU:0', device_type='CPU')\n"
     ]
    }
   ],
   "source": [
    "import numpy as np\n",
    "import pandas as pd\n",
    "import tensorflow as tf\n",
    "\n",
    "from IPython.display import clear_output\n",
    "import matplotlib.pyplot as plt\n",
    "%matplotlib inline\n",
    "\n",
    "import seaborn as sns\n",
    "sns.set()\n",
    "\n",
    "print('Physical Devices:')\n",
    "for dev in tf.config.list_physical_devices():\n",
    "    print(dev)"
   ]
  },
  {
   "cell_type": "code",
   "execution_count": 3,
   "metadata": {},
   "outputs": [],
   "source": [
    "from zscomm.agent import Agent\n",
    "from zscomm.comm_channel import CommChannel\n",
    "from zscomm.synth_teacher import SyntheticTeacher\n",
    "from zscomm.data import *\n",
    "from zscomm.play_game import *\n",
    "from zscomm.loss import *\n",
    "from zscomm.experiment import Experiment\n",
    "from zscomm.plot_game import plot_game\n",
    "from zscomm.analysis import *"
   ]
  },
  {
   "cell_type": "markdown",
   "metadata": {},
   "source": [
    "## Load Data:"
   ]
  },
  {
   "cell_type": "code",
   "execution_count": 4,
   "metadata": {},
   "outputs": [],
   "source": [
    "NUM_CLASSES = 3\n",
    "BATCH_SIZE = 32\n",
    "CHANNEL_SIZE = 5\n",
    "USE_MNIST = False\n",
    "\n",
    "if USE_MNIST:\n",
    "    TRAIN_DATA, TEST_DATA = get_mnist_data(num_classes=NUM_CLASSES)\n",
    "else:\n",
    "    TRAIN_DATA, TEST_DATA = get_simple_card_data(num_classes=NUM_CLASSES)"
   ]
  },
  {
   "cell_type": "code",
   "execution_count": 5,
   "metadata": {},
   "outputs": [],
   "source": [
    "def generate_train_batch():\n",
    "    return generate_batch(TRAIN_DATA,\n",
    "                          batch_size=BATCH_SIZE, \n",
    "                          num_classes=NUM_CLASSES)\n",
    "\n",
    "\n",
    "def generate_test_batch():\n",
    "    return generate_batch(TEST_DATA,\n",
    "                          batch_size=BATCH_SIZE, \n",
    "                          num_classes=NUM_CLASSES)"
   ]
  },
  {
   "cell_type": "markdown",
   "metadata": {},
   "source": [
    "# Run Experiments"
   ]
  },
  {
   "cell_type": "code",
   "execution_count": 6,
   "metadata": {},
   "outputs": [],
   "source": [
    "def create_other_play_experiment(p_mutate=0.3):\n",
    "    \n",
    "    student = Agent(CHANNEL_SIZE, NUM_CLASSES)\n",
    "    teacher = Agent(CHANNEL_SIZE, NUM_CLASSES)\n",
    "\n",
    "    play_params =  {'p_mutate': p_mutate}\n",
    "    \n",
    "    return Experiment(\n",
    "        generate_train_batch, generate_test_batch,\n",
    "        play_params=play_params, \n",
    "        student=student,\n",
    "        teacher=teacher,\n",
    "        loss_fn=complete_loss_fn\n",
    "    )\n",
    "\n",
    "def create_other_play_separate_optimise_experiment(p_mutate=0.3):\n",
    "    \n",
    "    student = Agent(CHANNEL_SIZE, NUM_CLASSES)\n",
    "    teacher = Agent(CHANNEL_SIZE, NUM_CLASSES)\n",
    "\n",
    "    play_params =  {'p_mutate': p_mutate}\n",
    "    \n",
    "    return Experiment(\n",
    "        generate_train_batch, generate_test_batch,\n",
    "        play_params=play_params, \n",
    "        student=student,\n",
    "        teacher=teacher,\n",
    "        student_loss_fn=student_pred_matches_implied_class,\n",
    "        teacher_loss_fn=student_pred_matches_test_class\n",
    "    )\n",
    "\n",
    "def create_self_play_experiment(p_mutate=0.3, **exp_kwargs):\n",
    "    \n",
    "    agent = Agent(CHANNEL_SIZE, NUM_CLASSES)\n",
    "\n",
    "    play_params =  {'p_mutate': p_mutate}\n",
    "    \n",
    "    return Experiment(\n",
    "        generate_train_batch, generate_test_batch,\n",
    "        play_params=play_params, \n",
    "        student=agent,\n",
    "        teacher=agent,\n",
    "        loss_fn=complete_loss_fn,\n",
    "        **exp_kwargs\n",
    "    )"
   ]
  },
  {
   "cell_type": "code",
   "execution_count": 31,
   "metadata": {},
   "outputs": [],
   "source": [
    "from itertools import combinations\n",
    "\n",
    "def test_game(teacher, student, num_tests=5):\n",
    "    games_played = []\n",
    "    for _ in range(num_tests):\n",
    "        inputs, targets = generate_test_batch()\n",
    "        outputs = play_game(\n",
    "            inputs, teacher, student, \n",
    "            training=False, \n",
    "            p_mutate=0,\n",
    "        )\n",
    "        games_played.append((inputs, targets, outputs))\n",
    "    return games_played"
   ]
  },
  {
   "cell_type": "code",
   "execution_count": 32,
   "metadata": {},
   "outputs": [],
   "source": [
    "class MetaExperiment:\n",
    "    \n",
    "    def __init__(\n",
    "        self, \n",
    "        p_mutate=0.5,  \n",
    "        num_experiments=3,\n",
    "        create_experiment_fn=create_self_play_experiment,\n",
    "        **make_experiment_kwargs\n",
    "    ):\n",
    "        self.p_mutate = p_mutate\n",
    "        self.num_experiments = num_experiments\n",
    "        self.results = None\n",
    "        self.experiments = [\n",
    "            {\n",
    "                'experiment': create_experiment_fn(\n",
    "                    p_mutate, **make_experiment_kwargs\n",
    "                ),\n",
    "                'status': 'Not Run',\n",
    "                'results': None,\n",
    "                'index': i,\n",
    "            }\n",
    "            for i in range(num_experiments)\n",
    "        ]\n",
    "        for item in self.experiments:\n",
    "            item['experiment'].print_my_history = item['experiment'].print_history\n",
    "            item['experiment'].print_history = self.print_history\n",
    "        \n",
    "    def print_history(self):\n",
    "        num_complete = len([\n",
    "            item for item in self.experiments\n",
    "            if item['status'] == 'Complete'\n",
    "        ])\n",
    "        for item in self.experiments:\n",
    "            if item['status'] == 'Complete':\n",
    "                print(f\"Results of experiment {item['index']}:\")\n",
    "                item['experiment'].print_results()\n",
    "        for item in self.experiments:\n",
    "            if item['status'] == 'In Progress':\n",
    "                print(f\"Running experiment {item['index']}\", \n",
    "                      f'({num_complete}/{self.num_experiments} complete):')\n",
    "                item['experiment'].print_my_history()\n",
    "                break\n",
    "                \n",
    "    def print_results(self):\n",
    "        print('Experiment results: ', self.results)\n",
    "\n",
    "    def is_finished(self):\n",
    "        return all([\n",
    "            item['status'] == 'Complete' \n",
    "            for item in self.experiments\n",
    "        ])\n",
    "    \n",
    "    def get_experiment_to_run(self):\n",
    "        for item in self.experiments:\n",
    "            if item['status'] == 'In Progress':\n",
    "                return item\n",
    "        not_run = [\n",
    "            item\n",
    "            for item in self.experiments\n",
    "            if item['status'] == 'Not Run'\n",
    "        ]\n",
    "        if len(not_run) == 0:\n",
    "            return None\n",
    "        return not_run[0]\n",
    "    \n",
    "    def get_experiment_results(self, experiment):\n",
    "        test_metrics_items = [\n",
    "            item['test_metrics']\n",
    "            for item in experiment.training_history\n",
    "            if 'test_metrics' in item\n",
    "        ]\n",
    "        return test_metrics_items[-1]\n",
    "    \n",
    "    def _run_next_subexperiment(self):\n",
    "        experiment_item = self.get_experiment_to_run()\n",
    "        index = experiment_item['index']\n",
    "        experiment = experiment_item['experiment']\n",
    "\n",
    "        self.experiments[index]['status'] = 'In Progress'\n",
    "\n",
    "        experiment.run(catch_interrupt=False)\n",
    "\n",
    "        self.experiments[index]['results'] = \\\n",
    "            self.get_experiment_results(experiment)\n",
    "        self.experiments[index]['status'] = 'Complete'\n",
    "        \n",
    "    def _get_results(self):\n",
    "        return self.measure_zero_shot_coordination()\n",
    "    \n",
    "    def _run_internal(self):\n",
    "        while not self.is_finished():\n",
    "            self._run_next_subexperiment()\n",
    "        \n",
    "        self.results = self._get_results()\n",
    "            \n",
    "    def measure_zero_shot_coordination(self):\n",
    "        results = []\n",
    "\n",
    "        for item_1, item_2 in combinations(self.experiments, 2):\n",
    "            e1 = item_1['experiment']\n",
    "            e2 = item_2['experiment']\n",
    "\n",
    "            games_played = test_game(e1.teacher, e2.student)\n",
    "            test_metrics = e1.extract_test_metrics(games_played)\n",
    "            results.append(test_metrics['mean_ground_truth_f1'])\n",
    "\n",
    "            games_played = test_game(e2.teacher, e1.student)\n",
    "            test_metrics = e1.extract_test_metrics(games_played)\n",
    "            results.append(test_metrics['mean_ground_truth_f1'])\n",
    "\n",
    "        return results\n",
    "    \n",
    "    def run(self, catch_interrupt=True):\n",
    "        if catch_interrupt:\n",
    "            try:\n",
    "                self._run_internal()\n",
    "            except KeyboardInterrupt:\n",
    "                pass\n",
    "            self._run_internal()\n",
    "        else:\n",
    "            self._run_internal()\n",
    "        \n",
    "        clear_output()\n",
    "        self.print_history()\n",
    "        print('Run Stopped.')"
   ]
  },
  {
   "cell_type": "code",
   "execution_count": 22,
   "metadata": {},
   "outputs": [],
   "source": [
    "meta_experiment = MetaExperiment(0.3)"
   ]
  },
  {
   "cell_type": "code",
   "execution_count": 23,
   "metadata": {
    "scrolled": false
   },
   "outputs": [
    {
     "name": "stdout",
     "output_type": "stream",
     "text": [
      "Results of experiment 0:\n",
      "Test Loss: 1.137, Ground Truth F1-Score: 0.961, Student Error: 0.069, Teacher Error: 0.031, Protocol Diversity: 0.982,\n",
      "Results of experiment 1:\n",
      "Test Loss: 1.175, Ground Truth F1-Score: 0.96, Student Error: 0.073, Teacher Error: 0.023, Protocol Diversity: 0.961,\n",
      "Results of experiment 2:\n",
      "Test Loss: 1.19, Ground Truth F1-Score: 0.953, Student Error: 0.078, Teacher Error: 0.003, Protocol Diversity: 0.946,\n",
      "Run Stopped.\n"
     ]
    }
   ],
   "source": [
    "meta_experiment.run()"
   ]
  },
  {
   "cell_type": "code",
   "execution_count": null,
   "metadata": {},
   "outputs": [],
   "source": [
    "# %tensorboard --logdir logs"
   ]
  },
  {
   "cell_type": "code",
   "execution_count": 34,
   "metadata": {},
   "outputs": [
    {
     "data": {
      "text/plain": [
       "[0.9500000000000001, 1.0, 0.65, 1.0, 1.0, 1.0]"
      ]
     },
     "execution_count": 34,
     "metadata": {},
     "output_type": "execute_result"
    }
   ],
   "source": [
    "measure_zero_shot_coordination(meta_experiment)"
   ]
  },
  {
   "cell_type": "code",
   "execution_count": 33,
   "metadata": {},
   "outputs": [],
   "source": [
    "class VaryPMutateExperiment(MetaExperiment):\n",
    "    \n",
    "    def __init__(self, \n",
    "                 num_intervals=5, \n",
    "                 save_location=None, \n",
    "                 **experiment_kwargs):\n",
    "        self.num_experiments = num_intervals\n",
    "        self.experiments = [\n",
    "            {\n",
    "                'p_mutate': i/num_intervals,\n",
    "                'experiment': MetaExperiment(\n",
    "                    p_mutate=i/num_intervals, \n",
    "                    **experiment_kwargs\n",
    "                ),\n",
    "                'status': 'Not Run',\n",
    "                'results': None,\n",
    "                'index': i,\n",
    "            }\n",
    "            for i in range(num_intervals+1)\n",
    "        ]\n",
    "        for item_1 in self.experiments:\n",
    "            item_1['experiment'].print_my_history = item_1['experiment'].print_history\n",
    "            item_1['experiment'].print_history = self.print_history\n",
    "            item_1['experiment'].print_test_metrics = item_1['experiment'].print_results\n",
    "            \n",
    "#             for item_2 in item_1['experiment'].experiments:\n",
    "#                 item_2['experiment'].print_my_history = item_2['experiment'].print_history\n",
    "#                 item_2['experiment'].print_history = item_1['experiment'].print_my_history\n",
    "        \n",
    "        if save_location is not None:\n",
    "            self.load_history(save_location)\n",
    "            \n",
    "    def load_history(self, history_location):\n",
    "        experiment_path = Path(history_location)\n",
    "        for path in experiment_path.glob('*'):\n",
    "            metadata = json.load((path / 'meta.json').open(mode='r'))\n",
    "            results = json.load((path / 'results.json').open(mode='r'))\n",
    "            i = metadata['index']\n",
    "            self.experiments[i]['results'] = results['zs_coord_f1_scores']\n",
    "            self.experiments[i]['experiment'].results = results['zs_coord_f1_scores']\n",
    "            self.experiments[i]['status'] = 'Complete'\n",
    "    \n",
    "    def get_experiment_results(self, meta_experiment):\n",
    "        return meta_experiment.results\n",
    "    \n",
    "    def _run_next_subexperiment(self):\n",
    "        super(VaryPMutateExperiment, self)._run_next_subexperiment()\n",
    "        self.export_data()\n",
    "        clear_output()\n",
    "        self.print_history()\n",
    "        \n",
    "    def _get_results(self):\n",
    "        return None\n",
    "    \n",
    "    def export_data(self):\n",
    "        for item_1 in self.experiments:\n",
    "            if item_1['status'] == 'Complete':\n",
    "                try:\n",
    "                    meta_exp = item_1['experiment']\n",
    "                    meta_exp_subfolder = \\\n",
    "                        f'{self.save_location}/pm={meta_exp.p_mutate}'\n",
    "                    Path(meta_exp_subfolder).mkdir()\n",
    "\n",
    "                    experiment_config = \\\n",
    "                        meta_exp.experiments[0]['experiment'].get_config()\n",
    "                    meta_data = {\n",
    "                        'index': item_1['index'], \n",
    "                        'p_mutate': meta_exp.p_mutate,\n",
    "        #                 'experiment_config': experiment_config\n",
    "                    }\n",
    "                    meta_data_path = Path(f'{meta_exp_subfolder}/meta.json')\n",
    "                    with meta_data_path.open(mode='w') as f:\n",
    "                        json.dump(meta_data, f)\n",
    "\n",
    "                    results = {\n",
    "                        'zs_coord_f1_scores': item_1['results']\n",
    "                    }\n",
    "                    results_path = Path(f'{meta_exp_subfolder}/results.json')\n",
    "                    with results_path.open(mode='w') as f:\n",
    "                        simplejson.dump(results, f)\n",
    "\n",
    "                    for item_2 in meta_exp.experiments:\n",
    "                        logs_file_loc = \\\n",
    "                            f\"{meta_exp_subfolder}/experiment_{item_2['index']}_logs.json\"\n",
    "                        logs_file_path = Path(logs_file_loc)\n",
    "\n",
    "                        with logs_file_path.open(mode='w') as f:\n",
    "                            json.dump(item_2['experiment'].training_history, f)\n",
    "\n",
    "                    print('Saved experiment data at:', meta_exp_subfolder)\n",
    "                except FileExistsError:\n",
    "                    print('Experiment', item_1['index'], 'already saved.')"
   ]
  },
  {
   "cell_type": "code",
   "execution_count": 36,
   "metadata": {},
   "outputs": [],
   "source": [
    "vary_pm_experiment = VaryPMutateExperiment(save_location=EXPERIMENT_FOLDER)"
   ]
  },
  {
   "cell_type": "code",
   "execution_count": 35,
   "metadata": {},
   "outputs": [
    {
     "name": "stdout",
     "output_type": "stream",
     "text": [
      "Results of experiment 0:\n",
      "Experiment results:  [0.34375, 0.41875, 0.36250000000000004, 0.6, 0.2625, 0.26875]\n",
      "Results of experiment 1:\n",
      "Experiment results:  [0.85, 0.85625, 0.91875, 0.81875, 0.69375, 0.6625]\n",
      "Results of experiment 2:\n",
      "Experiment results:  [0.9125, 1.0, 1.0, 1.0, 1.0, 1.0]\n",
      "Results of experiment 3:\n",
      "Experiment results:  [0.7875, 0.79375, 0.85, 0.6625, 0.68125, 0.68125]\n",
      "Results of experiment 4:\n",
      "Experiment results:  [0.71875, 0.6875, 0.66875, 0.68125, 0.6375, 0.66875]\n",
      "Results of experiment 5:\n",
      "Experiment results:  [0.48125000000000007, 0.48125000000000007, 0.44375, 0.5125, 0.5125, 0.49375]\n",
      "Run Stopped.\n"
     ]
    }
   ],
   "source": [
    "vary_pm_experiment.run()"
   ]
  },
  {
   "cell_type": "code",
   "execution_count": 24,
   "metadata": {},
   "outputs": [
    {
     "data": {
      "text/plain": [
       "[{'p_mutate': 0.0,\n",
       "  'experiment': <__main__.MetaExperiment at 0x240c39d0898>,\n",
       "  'status': 'Complete',\n",
       "  'results': [0.34375, 0.41875, 0.36250000000000004, 0.6, 0.2625, 0.26875],\n",
       "  'index': 0},\n",
       " {'p_mutate': 0.2,\n",
       "  'experiment': <__main__.MetaExperiment at 0x240c3badf60>,\n",
       "  'status': 'Complete',\n",
       "  'results': [0.85, 0.85625, 0.91875, 0.81875, 0.69375, 0.6625],\n",
       "  'index': 1},\n",
       " {'p_mutate': 0.4,\n",
       "  'experiment': <__main__.MetaExperiment at 0x240c3bd0c18>,\n",
       "  'status': 'Complete',\n",
       "  'results': [0.9125, 1.0, 1.0, 1.0, 1.0, 1.0],\n",
       "  'index': 2},\n",
       " {'p_mutate': 0.6,\n",
       "  'experiment': <__main__.MetaExperiment at 0x240c3cc6860>,\n",
       "  'status': 'Complete',\n",
       "  'results': [0.7875, 0.79375, 0.85, 0.6625, 0.68125, 0.68125],\n",
       "  'index': 3},\n",
       " {'p_mutate': 0.8,\n",
       "  'experiment': <__main__.MetaExperiment at 0x240c3ebc4a8>,\n",
       "  'status': 'Complete',\n",
       "  'results': [0.71875, 0.6875, 0.66875, 0.68125, 0.6375, 0.66875],\n",
       "  'index': 4},\n",
       " {'p_mutate': 1.0,\n",
       "  'experiment': <__main__.MetaExperiment at 0x240c3e6c0f0>,\n",
       "  'status': 'Complete',\n",
       "  'results': [0.48125000000000007,\n",
       "   0.48125000000000007,\n",
       "   0.44375,\n",
       "   0.5125,\n",
       "   0.5125,\n",
       "   0.49375],\n",
       "  'index': 5}]"
      ]
     },
     "execution_count": 24,
     "metadata": {},
     "output_type": "execute_result"
    }
   ],
   "source": [
    "vary_pm_experiment.experiments"
   ]
  },
  {
   "cell_type": "code",
   "execution_count": 153,
   "metadata": {},
   "outputs": [
    {
     "data": {
      "text/plain": [
       "{'max_epochs': 40,\n",
       " 'steps_per_epoch': 50,\n",
       " 'epochs_optimised': 40,\n",
       " 'loss_fn': 'complete_loss_fn',\n",
       " 'play_params': {'p_mutate': 0.0},\n",
       " 'test_freq': 5,\n",
       " 'test_steps': 25,\n",
       " 'optimiser_config': {'name': 'RMSprop',\n",
       "  'learning_rate': 0.01,\n",
       "  'decay': 0.0,\n",
       "  'rho': 0.9,\n",
       "  'momentum': 0.0,\n",
       "  'epsilon': 1e-07,\n",
       "  'centered': False}}"
      ]
     },
     "execution_count": 153,
     "metadata": {},
     "output_type": "execute_result"
    }
   ],
   "source": [
    "vary_pm_experiment.experiments[0]['experiment'].experiments[0]['experiment'].get_config()"
   ]
  },
  {
   "cell_type": "code",
   "execution_count": 37,
   "metadata": {},
   "outputs": [],
   "source": [
    "df = pd.DataFrame([\n",
    "    {\n",
    "        'Mutation Probability': item['p_mutate'],\n",
    "        'Zero-Shot Coordination Score': score,\n",
    "    }\n",
    "    for item in vary_pm_experiment.experiments\n",
    "    if item['status'] == 'Complete'\n",
    "    for score in item['results']\n",
    "])"
   ]
  },
  {
   "cell_type": "code",
   "execution_count": 38,
   "metadata": {},
   "outputs": [
    {
     "data": {
      "image/png": "[encoded data removed]",
      "text/plain": [
       "<matplotlib.figure.Figure at 0x240d6456400>"
      ]
     },
     "metadata": {
      "needs_background": "light"
     },
     "output_type": "display_data"
    }
   ],
   "source": [
    "sns.lineplot(x=[-2, 2], y=[1/NUM_CLASSES, 1/NUM_CLASSES], dashes=True, color=(0.1, 0.1, 0.1, 0.5), label='Baseline')\n",
    "sns.lineplot(x='Mutation Probability', y='Zero-Shot Coordination Score', data=df, label='Mean Performance')\n",
    "sns.scatterplot(x='Mutation Probability', y='Zero-Shot Coordination Score', data=df, marker='x', label='Raw Data')\n",
    "plt.ylim([0, 1.05])\n",
    "plt.xlim([-.05, 1.05])\n",
    "plt.title('The Effect of Mutations on Zero-Shot Coordination')\n",
    "plt.show()"
   ]
  },
  {
   "cell_type": "code",
   "execution_count": null,
   "metadata": {},
   "outputs": [],
   "source": []
  }
 ],
 "metadata": {
  "kernelspec": {
   "display_name": "Python 3",
   "language": "python",
   "name": "python3"
  },
  "language_info": {
   "codemirror_mode": {
    "name": "ipython",
    "version": 3
   },
   "file_extension": ".py",
   "mimetype": "text/x-python",
   "name": "python",
   "nbconvert_exporter": "python",
   "pygments_lexer": "ipython3",
   "version": "3.6.10"
  }
 },
 "nbformat": 4,
 "nbformat_minor": 4
}
