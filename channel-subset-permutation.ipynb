{
 "cells": [
  {
   "cell_type": "code",
   "execution_count": 1,
   "metadata": {},
   "outputs": [],
   "source": [
    "from pathlib import Path\n",
    "from datetime import datetime\n",
    "import json"
   ]
  },
  {
   "cell_type": "code",
   "execution_count": 2,
   "metadata": {},
   "outputs": [],
   "source": [
    "import os\n",
    "os.environ[\"CUDA_VISIBLE_DEVICES\"] = \"-1\""
   ]
  },
  {
   "cell_type": "code",
   "execution_count": 3,
   "metadata": {},
   "outputs": [
    {
     "name": "stdout",
     "output_type": "stream",
     "text": [
      "Physical Devices:\n",
      "PhysicalDevice(name='/physical_device:CPU:0', device_type='CPU')\n"
     ]
    }
   ],
   "source": [
    "import numpy as np\n",
    "import pandas as pd\n",
    "import tensorflow as tf\n",
    "\n",
    "from IPython.display import clear_output\n",
    "import matplotlib.pyplot as plt\n",
    "%matplotlib inline\n",
    "\n",
    "import seaborn as sns\n",
    "sns.reset_defaults()\n",
    "sns.set()\n",
    "\n",
    "print('Physical Devices:')\n",
    "for dev in tf.config.list_physical_devices():\n",
    "    print(dev)"
   ]
  },
  {
   "cell_type": "code",
   "execution_count": 4,
   "metadata": {},
   "outputs": [],
   "source": [
    "from zscomm.agent import Agent\n",
    "from zscomm.comm_channel import CommChannel\n",
    "from zscomm.synth_teacher import SyntheticTeacher\n",
    "from zscomm.data import *\n",
    "from zscomm.play_game import *\n",
    "from zscomm.loss import *\n",
    "from zscomm.experiment import Experiment\n",
    "from zscomm.meta_experiment import *\n",
    "from zscomm.vary_play_param_experiment import *\n",
    "from zscomm.plot_game import plot_game\n",
    "from zscomm.analysis import *"
   ]
  },
  {
   "cell_type": "markdown",
   "metadata": {},
   "source": [
    "## Load Data:"
   ]
  },
  {
   "cell_type": "code",
   "execution_count": 5,
   "metadata": {},
   "outputs": [],
   "source": [
    "NUM_CLASSES = 3\n",
    "BATCH_SIZE = 32\n",
    "CHANNEL_SIZE = 5\n",
    "\n",
    "TRAIN_DATA, TEST_DATA = get_simple_card_data(num_classes=NUM_CLASSES)"
   ]
  },
  {
   "cell_type": "code",
   "execution_count": 6,
   "metadata": {},
   "outputs": [],
   "source": [
    "def generate_train_batch():\n",
    "    return generate_batch(TRAIN_DATA,\n",
    "                          batch_size=BATCH_SIZE, \n",
    "                          num_classes=NUM_CLASSES)\n",
    "\n",
    "\n",
    "def generate_test_batch():\n",
    "    return generate_batch(TEST_DATA,\n",
    "                          batch_size=BATCH_SIZE, \n",
    "                          num_classes=NUM_CLASSES)"
   ]
  },
  {
   "cell_type": "code",
   "execution_count": 7,
   "metadata": {},
   "outputs": [],
   "source": [
    "def create_channel_subset_permutation_experiment(\n",
    "    permutation_subset_size=3, **experiment_kwargs\n",
    "):\n",
    "    \n",
    "    agent = Agent(CHANNEL_SIZE, NUM_CLASSES)\n",
    "\n",
    "    start_temp = 10\n",
    "    end_temp = 0.1\n",
    "    temp_anneal_end_epoch = 200\n",
    "    a = -np.log(end_temp / start_temp) / temp_anneal_end_epoch\n",
    "    \n",
    "    def play_params(epoch):\n",
    "        if epoch < temp_anneal_end_epoch:\n",
    "            channel_temp = float(start_temp * np.exp(-a*epoch))\n",
    "        else:\n",
    "            channel_temp = end_temp\n",
    "        \n",
    "        return {\n",
    "            'channel_size': CHANNEL_SIZE,\n",
    "            'p_mutate': 0,\n",
    "            'message_permutation': True,\n",
    "            'permutation_subset_size': permutation_subset_size,\n",
    "            'channel_temp': channel_temp,\n",
    "        }\n",
    "    \n",
    "    return Experiment(\n",
    "        generate_train_batch, generate_test_batch,\n",
    "        play_params=play_params, \n",
    "        student=agent,\n",
    "        teacher=agent,\n",
    "        loss_fn=student_pred_matches_test_class,\n",
    "        lr=1e-2,\n",
    "        name='channel_subset_permutation',\n",
    "        **experiment_kwargs\n",
    "    )"
   ]
  },
  {
   "cell_type": "markdown",
   "metadata": {},
   "source": [
    "# Run Experiments"
   ]
  },
  {
   "cell_type": "code",
   "execution_count": 8,
   "metadata": {},
   "outputs": [
    {
     "data": {
      "text/plain": [
       "'./experiments/subset_permutation/05-10_22-03'"
      ]
     },
     "execution_count": 8,
     "metadata": {},
     "output_type": "execute_result"
    }
   ],
   "source": [
    "BASE_FOLDER = './experiments/subset_permutation'\n",
    "Path(BASE_FOLDER).mkdir(exist_ok=True)\n",
    "\n",
    "# EXPERIMENT_FOLDER = f'{BASE_FOLDER}/{datetime.now().strftime(\"%d-%m_%H-%M\")}'\n",
    "\n",
    "# EXPERIMENT_FOLDER = \"./experiments/message_mutation_3\"\n",
    "# EXPERIMENT_FOLDER = \"./experiments/message_mutation_1/24-09_09-40\"\n",
    "# EXPERIMENT_FOLDER = \"./experiments/message_mutation_1/03-10_02-03\"\n",
    "\n",
    "EXPERIMENT_FOLDER = \"./experiments/subset_permutation/05-10_22-03\"\n",
    "Path(EXPERIMENT_FOLDER).mkdir(exist_ok=True)\n",
    "EXPERIMENT_FOLDER"
   ]
  },
  {
   "cell_type": "code",
   "execution_count": 9,
   "metadata": {},
   "outputs": [],
   "source": [
    "experiment = VaryPlayParamExperiment(\n",
    "    save_location=EXPERIMENT_FOLDER,\n",
    "    param_vals=[4, 5],\n",
    "    param_name='permutation_subset_size',\n",
    "    max_epochs=200,\n",
    "    num_experiments_per_val=3,\n",
    "    create_experiment_fn=create_channel_subset_permutation_experiment\n",
    ")"
   ]
  },
  {
   "cell_type": "code",
   "execution_count": 11,
   "metadata": {},
   "outputs": [
    {
     "name": "stdout",
     "output_type": "stream",
     "text": [
      "Running vary_pm_experiment...\n",
      "meta_experiment_permutation_subset_size=2 results:  [0.38125, 0.40625]\n",
      "meta_experiment_permutation_subset_size=3 results:  [0.34375, 0.34375]\n",
      "meta_experiment_permutation_subset_size=4 results:  [0.45, 0.325]\n",
      "meta_experiment_permutation_subset_size=5 results:  [0.34375, 0.41875]\n",
      "Run Stopped.\n"
     ]
    }
   ],
   "source": [
    "experiment.run()"
   ]
  },
  {
   "cell_type": "code",
   "execution_count": 12,
   "metadata": {},
   "outputs": [
    {
     "name": "stdout",
     "output_type": "stream",
     "text": [
      "0 hours, 0 mins and 15 seconds taken for experiment permutation_subset_size=2_0\n",
      "0 hours, 0 mins and 17 seconds taken for experiment permutation_subset_size=2_1\n",
      "\n",
      "0 hours, 0 mins and 18 seconds taken for experiment permutation_subset_size=3_0\n",
      "0 hours, 0 mins and 16 seconds taken for experiment permutation_subset_size=3_1\n",
      "\n",
      "0 hours, 0 mins and 15 seconds taken for experiment permutation_subset_size=4_0\n",
      "0 hours, 0 mins and 15 seconds taken for experiment permutation_subset_size=4_1\n",
      "\n",
      "0 hours, 0 mins and 16 seconds taken for experiment permutation_subset_size=5_0\n",
      "0 hours, 0 mins and 18 seconds taken for experiment permutation_subset_size=5_1\n",
      "\n",
      "0 hours, 2 mins and 14 seconds taken for whole experiment\n"
     ]
    }
   ],
   "source": [
    "grand_total = 0\n",
    "for item_1 in experiment.experiments:\n",
    "    for item_2 in item_1['experiment'].experiments:\n",
    "        total_time = sum([\n",
    "            x['seconds_taken']\n",
    "            for x in item_2['experiment'].training_history\n",
    "        ])\n",
    "        print(int(total_time / 3600), 'hours,', int(total_time / 60) % 60, 'mins and', \n",
    "              int(total_time) % 60, 'seconds taken for experiment', \n",
    "              f\"{experiment.param_name}={item_1[experiment.param_name]}_{item_2['index']}\")\n",
    "        grand_total += total_time\n",
    "    print()\n",
    "    \n",
    "print(int(grand_total / 3600), 'hours,', int(grand_total / 60) % 60, 'mins and', \n",
    "      int(grand_total) % 60, 'seconds taken for whole experiment')"
   ]
  },
  {
   "cell_type": "code",
   "execution_count": 28,
   "metadata": {},
   "outputs": [],
   "source": [
    "X_NAME = 'Permuted Proportion'"
   ]
  },
  {
   "cell_type": "code",
   "execution_count": 41,
   "metadata": {},
   "outputs": [],
   "source": [
    "zs_coord_df = pd.DataFrame([\n",
    "    {\n",
    "        X_NAME: item[experiment.param_name] / CHANNEL_SIZE,\n",
    "        'Zero-Shot Coordination Score': metrics['mean_ground_truth_f1'],\n",
    "    }\n",
    "    for item in experiment.experiments\n",
    "    if item['status'] == 'Complete'\n",
    "    for stranger_pairings in item['results']\n",
    "    for metrics in stranger_pairings['vanilla_params_test_metrics']\n",
    "])\n",
    "\n",
    "zs_coord_training_params_df = pd.DataFrame([\n",
    "    {\n",
    "        X_NAME: item[experiment.param_name] / CHANNEL_SIZE,\n",
    "        'Zero-Shot Coordination Score': metrics['mean_ground_truth_f1'],\n",
    "    }\n",
    "    for item in experiment.experiments\n",
    "    if item['status'] == 'Complete'\n",
    "    for stranger_pairings in item['results']\n",
    "    for metrics in stranger_pairings['vanilla_params_test_metrics']\n",
    "])"
   ]
  },
  {
   "cell_type": "code",
   "execution_count": 42,
   "metadata": {},
   "outputs": [],
   "source": [
    "self_play_df = pd.DataFrame([\n",
    "    {\n",
    "        X_NAME: item_1[experiment.param_name] / CHANNEL_SIZE,\n",
    "        'Self-play Performance': \n",
    "            item_2['experiment'].results['vanilla_params_results']['ground_truth_acc'],\n",
    "    }\n",
    "    for item_1 in experiment.experiments\n",
    "    if item_1['status'] == 'Complete'\n",
    "    for item_2 in item_1['experiment'].experiments\n",
    "    if item_2['status'] == 'Complete'\n",
    "])"
   ]
  },
  {
   "cell_type": "code",
   "execution_count": 43,
   "metadata": {},
   "outputs": [
    {
     "data": {
      "text/html": [
       "<div>\n",
       "<style scoped>\n",
       "    .dataframe tbody tr th:only-of-type {\n",
       "        vertical-align: middle;\n",
       "    }\n",
       "\n",
       "    .dataframe tbody tr th {\n",
       "        vertical-align: top;\n",
       "    }\n",
       "\n",
       "    .dataframe thead th {\n",
       "        text-align: right;\n",
       "    }\n",
       "</style>\n",
       "<table border=\"1\" class=\"dataframe\">\n",
       "  <thead>\n",
       "    <tr style=\"text-align: right;\">\n",
       "      <th></th>\n",
       "      <th>Permuted Proportion</th>\n",
       "      <th>Zero-Shot Coordination Score</th>\n",
       "    </tr>\n",
       "  </thead>\n",
       "  <tbody>\n",
       "    <tr>\n",
       "      <th>0</th>\n",
       "      <td>0.4</td>\n",
       "      <td>0.38125</td>\n",
       "    </tr>\n",
       "    <tr>\n",
       "      <th>1</th>\n",
       "      <td>0.4</td>\n",
       "      <td>0.40625</td>\n",
       "    </tr>\n",
       "    <tr>\n",
       "      <th>2</th>\n",
       "      <td>0.6</td>\n",
       "      <td>0.34375</td>\n",
       "    </tr>\n",
       "    <tr>\n",
       "      <th>3</th>\n",
       "      <td>0.6</td>\n",
       "      <td>0.34375</td>\n",
       "    </tr>\n",
       "    <tr>\n",
       "      <th>4</th>\n",
       "      <td>0.8</td>\n",
       "      <td>0.45000</td>\n",
       "    </tr>\n",
       "  </tbody>\n",
       "</table>\n",
       "</div>"
      ],
      "text/plain": [
       "   Permuted Proportion  Zero-Shot Coordination Score\n",
       "0                  0.4                       0.38125\n",
       "1                  0.4                       0.40625\n",
       "2                  0.6                       0.34375\n",
       "3                  0.6                       0.34375\n",
       "4                  0.8                       0.45000"
      ]
     },
     "execution_count": 43,
     "metadata": {},
     "output_type": "execute_result"
    }
   ],
   "source": [
    "zs_coord_df.head()"
   ]
  },
  {
   "cell_type": "code",
   "execution_count": 44,
   "metadata": {},
   "outputs": [],
   "source": [
    "sns.reset_defaults()\n",
    "sns.set()"
   ]
  },
  {
   "cell_type": "code",
   "execution_count": 45,
   "metadata": {},
   "outputs": [
    {
     "data": {
      "image/png": "[encoded data removed]",
      "text/plain": [
       "<matplotlib.figure.Figure at 0x2111a3ed2b0>"
      ]
     },
     "metadata": {},
     "output_type": "display_data"
    }
   ],
   "source": [
    "ax = sns.lineplot(x=[-2, 2], y=[1/NUM_CLASSES, 1/NUM_CLASSES], \n",
    "                  color=(0.1, 0.1, 0.1, 0.5), label='Baseline')\n",
    "ax.lines[0].set_linestyle(\"--\")\n",
    "\n",
    "sns.lineplot(x=X_NAME, y='Zero-Shot Coordination Score', \n",
    "             data=zs_coord_df, label='Zero-shot Performance')\n",
    "sns.scatterplot(x=X_NAME, y='Zero-Shot Coordination Score', \n",
    "                data=zs_coord_df, marker='x')\n",
    "\n",
    "sns.lineplot(x=X_NAME, y='Self-play Performance', \n",
    "             data=self_play_df, label='Self-play Performance')\n",
    "# sns.scatterplot(x=X_NAME, y='Self-play Performance', \n",
    "#                 data=self_play_df, marker='x')\n",
    "\n",
    "sns.scatterplot(x='x', y='y', data=pd.DataFrame([{'x': 100, 'y': 100}]), \n",
    "                color=(0.1, 0.1, 0.1, 0.5), marker='x', label='Raw Data')\n",
    "plt.ylim([-.05, 1.05])\n",
    "plt.xlim([-.05, 1.05])\n",
    "plt.title('The Effect of Mutations on Zero-Shot Coordination')\n",
    "plt.ylabel('Performance')\n",
    "plt.xlabel(X_NAME)\n",
    "\n",
    "plt.legend(loc=4)\n",
    "plt.show()"
   ]
  },
  {
   "cell_type": "code",
   "execution_count": 48,
   "metadata": {},
   "outputs": [
    {
     "data": {
      "text/html": [
       "<div>\n",
       "<style scoped>\n",
       "    .dataframe tbody tr th:only-of-type {\n",
       "        vertical-align: middle;\n",
       "    }\n",
       "\n",
       "    .dataframe tbody tr th {\n",
       "        vertical-align: top;\n",
       "    }\n",
       "\n",
       "    .dataframe thead th {\n",
       "        text-align: right;\n",
       "    }\n",
       "</style>\n",
       "<table border=\"1\" class=\"dataframe\">\n",
       "  <thead>\n",
       "    <tr style=\"text-align: right;\">\n",
       "      <th></th>\n",
       "      <th>Epoch</th>\n",
       "      <th>Experiment</th>\n",
       "      <th>Subexperiment</th>\n",
       "      <th>Train Loss</th>\n",
       "    </tr>\n",
       "  </thead>\n",
       "  <tbody>\n",
       "    <tr>\n",
       "      <th>0</th>\n",
       "      <td>0</td>\n",
       "      <td>permutation_subset_size=2</td>\n",
       "      <td>subexperiment_0</td>\n",
       "      <td>1.096489</td>\n",
       "    </tr>\n",
       "    <tr>\n",
       "      <th>1</th>\n",
       "      <td>0</td>\n",
       "      <td>permutation_subset_size=2</td>\n",
       "      <td>subexperiment_1</td>\n",
       "      <td>1.132033</td>\n",
       "    </tr>\n",
       "    <tr>\n",
       "      <th>2</th>\n",
       "      <td>0</td>\n",
       "      <td>permutation_subset_size=3</td>\n",
       "      <td>subexperiment_0</td>\n",
       "      <td>1.109765</td>\n",
       "    </tr>\n",
       "    <tr>\n",
       "      <th>3</th>\n",
       "      <td>0</td>\n",
       "      <td>permutation_subset_size=3</td>\n",
       "      <td>subexperiment_1</td>\n",
       "      <td>1.101377</td>\n",
       "    </tr>\n",
       "    <tr>\n",
       "      <th>4</th>\n",
       "      <td>0</td>\n",
       "      <td>permutation_subset_size=4</td>\n",
       "      <td>subexperiment_0</td>\n",
       "      <td>1.123836</td>\n",
       "    </tr>\n",
       "  </tbody>\n",
       "</table>\n",
       "</div>"
      ],
      "text/plain": [
       "   Epoch                 Experiment    Subexperiment  Train Loss\n",
       "0      0  permutation_subset_size=2  subexperiment_0    1.096489\n",
       "1      0  permutation_subset_size=2  subexperiment_1    1.132033\n",
       "2      0  permutation_subset_size=3  subexperiment_0    1.109765\n",
       "3      0  permutation_subset_size=3  subexperiment_1    1.101377\n",
       "4      0  permutation_subset_size=4  subexperiment_0    1.123836"
      ]
     },
     "execution_count": 48,
     "metadata": {},
     "output_type": "execute_result"
    }
   ],
   "source": [
    "df_train = pd.DataFrame([\n",
    "    {\n",
    "        'Epoch': epoch,\n",
    "        'Experiment': f\"{experiment.param_name}={item_1[experiment.param_name]}\",\n",
    "        'Subexperiment': f'subexperiment_{item_2[\"index\"]}',\n",
    "        'Train Loss': training_item['loss']\n",
    "    }\n",
    "    for item_1 in experiment.experiments\n",
    "    for item_2 in item_1['experiment'].experiments\n",
    "    for epoch, training_item in enumerate(item_2['experiment'].training_history) \n",
    "])\n",
    "df_train.head()"
   ]
  },
  {
   "cell_type": "code",
   "execution_count": 50,
   "metadata": {},
   "outputs": [
    {
     "data": {
      "image/png": "[encoded data removed]",
      "text/plain": [
       "<matplotlib.figure.Figure at 0x2111c173780>"
      ]
     },
     "metadata": {},
     "output_type": "display_data"
    }
   ],
   "source": [
    "sns.lineplot(x='Epoch', y='Train Loss', hue='Experiment', \n",
    "             data=df_train);\n",
    "#              data=df_train[df_train['Experiment'] == 'p_m=0.2']);\n",
    "# Put the legend out of the figure\n",
    "plt.legend(bbox_to_anchor=(1.05, 1), loc=2, borderaxespad=0.)\n",
    "plt.title('Training History by Mutation Probability')\n",
    "plt.show()"
   ]
  },
  {
   "cell_type": "code",
   "execution_count": null,
   "metadata": {},
   "outputs": [],
   "source": []
  }
 ],
 "metadata": {
  "kernelspec": {
   "display_name": "Python 3",
   "language": "python",
   "name": "python3"
  },
  "language_info": {
   "codemirror_mode": {
    "name": "ipython",
    "version": 3
   },
   "file_extension": ".py",
   "mimetype": "text/x-python",
   "name": "python",
   "nbconvert_exporter": "python",
   "pygments_lexer": "ipython3",
   "version": "3.6.10"
  }
 },
 "nbformat": 4,
 "nbformat_minor": 4
}
