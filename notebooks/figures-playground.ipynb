{
 "cells": [
  {
   "cell_type": "code",
   "execution_count": 1,
   "metadata": {},
   "outputs": [],
   "source": [
    "import pandas as pd\n",
    "import matplotlib.pyplot as plt\n",
    "%matplotlib inline\n",
    "import seaborn as sns"
   ]
  },
  {
   "cell_type": "code",
   "execution_count": 84,
   "metadata": {},
   "outputs": [],
   "source": [
    "data_latex = \"\"\"\n",
    "                     & $R_T$ & $R_S$ & $P_D$ & ZCP               \\\\\n",
    "Baseline             & 0.000 & 0.000 & 1.000 & $0.387 \\pm 0.321$ \\\\\n",
    "TF-Agent             & 0.000 & 0.053 & 1.000 & $0.319 \\pm 0.158$ \\\\\n",
    "OF-Agent             & 0.000 & 0.000 & 1.000 & $0.368 \\pm 0.227$ \\\\\n",
    "Permutation ($k=5$)  & 0.000 & 1.000 & 1.000 & $0.964 \\pm 0.052$ \\\\\n",
    "Mutation ($p_m=0.4$) & 0.977 & 0.805 & 0.951 & $0.985 \\pm 0.036$ \\\\ \n",
    "Mutation ($p_m=1.0$) & 1.000 & 1.000 & 0.384 & $0.488 \\pm 0.026$ \\\\\n",
    "\"\"\""
   ]
  },
  {
   "cell_type": "code",
   "execution_count": 81,
   "metadata": {},
   "outputs": [
    {
     "data": {
      "text/html": [
       "<div>\n",
       "<style scoped>\n",
       "    .dataframe tbody tr th:only-of-type {\n",
       "        vertical-align: middle;\n",
       "    }\n",
       "\n",
       "    .dataframe tbody tr th {\n",
       "        vertical-align: top;\n",
       "    }\n",
       "\n",
       "    .dataframe thead th {\n",
       "        text-align: right;\n",
       "    }\n",
       "</style>\n",
       "<table border=\"1\" class=\"dataframe\">\n",
       "  <thead>\n",
       "    <tr style=\"text-align: right;\">\n",
       "      <th></th>\n",
       "      <th>Experiment</th>\n",
       "      <th>$R_T$</th>\n",
       "      <th>$R_S$</th>\n",
       "      <th>$P_D$</th>\n",
       "      <th>ZCP</th>\n",
       "      <th>ZCP_std</th>\n",
       "    </tr>\n",
       "  </thead>\n",
       "  <tbody>\n",
       "    <tr>\n",
       "      <th>0</th>\n",
       "      <td>Baseline</td>\n",
       "      <td>0.000</td>\n",
       "      <td>0.000</td>\n",
       "      <td>1.000</td>\n",
       "      <td>0.387</td>\n",
       "      <td>0.321</td>\n",
       "    </tr>\n",
       "    <tr>\n",
       "      <th>1</th>\n",
       "      <td>TF-Agent</td>\n",
       "      <td>0.000</td>\n",
       "      <td>0.053</td>\n",
       "      <td>1.000</td>\n",
       "      <td>0.319</td>\n",
       "      <td>0.158</td>\n",
       "    </tr>\n",
       "    <tr>\n",
       "      <th>2</th>\n",
       "      <td>OF-Agent</td>\n",
       "      <td>0.000</td>\n",
       "      <td>0.000</td>\n",
       "      <td>1.000</td>\n",
       "      <td>0.368</td>\n",
       "      <td>0.227</td>\n",
       "    </tr>\n",
       "    <tr>\n",
       "      <th>3</th>\n",
       "      <td>Permutation ($k=5$)</td>\n",
       "      <td>0.000</td>\n",
       "      <td>1.000</td>\n",
       "      <td>1.000</td>\n",
       "      <td>0.964</td>\n",
       "      <td>0.052</td>\n",
       "    </tr>\n",
       "    <tr>\n",
       "      <th>4</th>\n",
       "      <td>Mutation ($p_m=0.4$)</td>\n",
       "      <td>0.977</td>\n",
       "      <td>0.805</td>\n",
       "      <td>0.951</td>\n",
       "      <td>0.985</td>\n",
       "      <td>0.036</td>\n",
       "    </tr>\n",
       "    <tr>\n",
       "      <th>5</th>\n",
       "      <td>Mutation ($p_m=1.0$)</td>\n",
       "      <td>1.000</td>\n",
       "      <td>1.000</td>\n",
       "      <td>0.384</td>\n",
       "      <td>0.488</td>\n",
       "      <td>0.026</td>\n",
       "    </tr>\n",
       "  </tbody>\n",
       "</table>\n",
       "</div>"
      ],
      "text/plain": [
       "             Experiment  $R_T$  $R_S$  $P_D$    ZCP  ZCP_std\n",
       "0              Baseline  0.000  0.000  1.000  0.387    0.321\n",
       "1              TF-Agent  0.000  0.053  1.000  0.319    0.158\n",
       "2              OF-Agent  0.000  0.000  1.000  0.368    0.227\n",
       "3   Permutation ($k=5$)  0.000  1.000  1.000  0.964    0.052\n",
       "4  Mutation ($p_m=0.4$)  0.977  0.805  0.951  0.985    0.036\n",
       "5  Mutation ($p_m=1.0$)  1.000  1.000  0.384  0.488    0.026"
      ]
     },
     "execution_count": 81,
     "metadata": {},
     "output_type": "execute_result"
    }
   ],
   "source": [
    "rows = data_latex.replace('\\\\', '').split('\\n')\n",
    "\n",
    "def parse(x):\n",
    "    try:\n",
    "        return [float(x.strip())]\n",
    "    except:\n",
    "        pass\n",
    "    try:\n",
    "        return [float(x_) for x_ in x.strip().replace('$', '').split('pm')]\n",
    "    except:\n",
    "        return [x.strip()]\n",
    "    \n",
    "data = [[x_ for x in row.split('&') for x_ in parse(x)] for row in rows[1:-1]]\n",
    "data[0][0] = 'Experiment'\n",
    "data[0][-1] = 'ZCP'\n",
    "data[0].append('ZCP_std')\n",
    "df = pd.DataFrame(data[1:], columns=data[0])\n",
    "df"
   ]
  },
  {
   "cell_type": "code",
   "execution_count": 77,
   "metadata": {},
   "outputs": [],
   "source": [
    "sns.reset_defaults()\n",
    "sns.set()"
   ]
  },
  {
   "cell_type": "code",
   "execution_count": 83,
   "metadata": {},
   "outputs": [
    {
     "data": {
      "image/png": "[encoded data removed]",
      "text/plain": [
       "<matplotlib.figure.Figure at 0x1ac6ac08518>"
      ]
     },
     "metadata": {},
     "output_type": "display_data"
    }
   ],
   "source": [
    "fig, axs = plt.subplots(1, 4, figsize=(15, 3))\n",
    "\n",
    "for i, ax in enumerate(axs):\n",
    "    sns.barplot(y='Experiment', x=df.columns[i+1], data=df, orient='h', ax=ax)\n",
    "    if i > 0:\n",
    "        ax.set_yticks([]); ax.set_ylabel('')\n",
    "plt.tight_layout()"
   ]
  },
  {
   "cell_type": "code",
   "execution_count": null,
   "metadata": {},
   "outputs": [],
   "source": []
  }
 ],
 "metadata": {
  "kernelspec": {
   "display_name": "Python 3",
   "language": "python",
   "name": "python3"
  },
  "language_info": {
   "codemirror_mode": {
    "name": "ipython",
    "version": 3
   },
   "file_extension": ".py",
   "mimetype": "text/x-python",
   "name": "python",
   "nbconvert_exporter": "python",
   "pygments_lexer": "ipython3",
   "version": "3.6.10"
  }
 },
 "nbformat": 4,
 "nbformat_minor": 4
}
