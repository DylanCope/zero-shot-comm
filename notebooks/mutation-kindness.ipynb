{
 "cells": [
  {
   "cell_type": "code",
   "execution_count": 1,
   "metadata": {},
   "outputs": [],
   "source": [
    "from pathlib import Path\n",
    "from datetime import datetime\n",
    "import json"
   ]
  },
  {
   "cell_type": "code",
   "execution_count": 2,
   "metadata": {},
   "outputs": [],
   "source": [
    "import os\n",
    "os.environ[\"CUDA_VISIBLE_DEVICES\"] = \"-1\""
   ]
  },
  {
   "cell_type": "code",
   "execution_count": 3,
   "metadata": {},
   "outputs": [
    {
     "name": "stdout",
     "output_type": "stream",
     "text": [
      "Physical Devices:\n",
      "PhysicalDevice(name='/physical_device:CPU:0', device_type='CPU')\n"
     ]
    }
   ],
   "source": [
    "import numpy as np\n",
    "import pandas as pd\n",
    "import tensorflow as tf\n",
    "\n",
    "from IPython.display import clear_output\n",
    "import matplotlib.pyplot as plt\n",
    "from matplotlib import gridspec\n",
    "%matplotlib inline\n",
    "\n",
    "import seaborn as sns\n",
    "sns.reset_defaults()\n",
    "sns.set()\n",
    "\n",
    "print('Physical Devices:')\n",
    "for dev in tf.config.list_physical_devices():\n",
    "    print(dev)"
   ]
  },
  {
   "cell_type": "code",
   "execution_count": 4,
   "metadata": {},
   "outputs": [],
   "source": [
    "from zscomm.agent import Agent\n",
    "from zscomm.comm_channel import CommChannel\n",
    "from zscomm.synth_teacher import SyntheticTeacher\n",
    "from zscomm.data import *\n",
    "from zscomm.play_game import *\n",
    "from zscomm.loss import *\n",
    "from zscomm.experiment import Experiment\n",
    "from zscomm.meta_experiment import *\n",
    "from zscomm.vary_play_param_experiment import *\n",
    "from zscomm.plot_game import plot_game\n",
    "from zscomm.analysis import *"
   ]
  },
  {
   "cell_type": "markdown",
   "metadata": {},
   "source": [
    "## Load Data:"
   ]
  },
  {
   "cell_type": "code",
   "execution_count": 5,
   "metadata": {},
   "outputs": [],
   "source": [
    "NUM_CLASSES = 3\n",
    "BATCH_SIZE = 32\n",
    "CHANNEL_SIZE = 5\n",
    "USE_MNIST = False\n",
    "\n",
    "if USE_MNIST:\n",
    "    TRAIN_DATA, TEST_DATA = get_mnist_data(num_classes=NUM_CLASSES)\n",
    "else:\n",
    "    TRAIN_DATA, TEST_DATA = get_simple_card_data(num_classes=NUM_CLASSES)"
   ]
  },
  {
   "cell_type": "code",
   "execution_count": 6,
   "metadata": {},
   "outputs": [],
   "source": [
    "def generate_train_batch():\n",
    "    return generate_batch(TRAIN_DATA,\n",
    "                          batch_size=BATCH_SIZE, \n",
    "                          num_classes=NUM_CLASSES)\n",
    "\n",
    "\n",
    "def generate_test_batch():\n",
    "    return generate_batch(TEST_DATA,\n",
    "                          batch_size=BATCH_SIZE, \n",
    "                          num_classes=NUM_CLASSES)"
   ]
  },
  {
   "cell_type": "markdown",
   "metadata": {},
   "source": [
    "# Run Experiments"
   ]
  },
  {
   "cell_type": "code",
   "execution_count": 7,
   "metadata": {},
   "outputs": [],
   "source": [
    "def create_self_play_experiment(p_mutate=0.4, channel_size=5, **exp_kwargs):\n",
    "    \n",
    "    agent = Agent(channel_size, NUM_CLASSES)\n",
    "\n",
    "    play_params =  {\n",
    "        'channel_size': channel_size, \n",
    "        'p_mutate': p_mutate,\n",
    "    }\n",
    "    \n",
    "    return Experiment(\n",
    "        generate_train_batch, generate_test_batch,\n",
    "        play_params=play_params, \n",
    "        student=agent,\n",
    "        teacher=agent,\n",
    "        loss_fn=complete_loss_fn,\n",
    "        **exp_kwargs\n",
    "    )\n",
    "\n",
    "def create_unkind_experiment(p_mutate=0.4, channel_size=5, **exp_kwargs):\n",
    "    \n",
    "    agent = Agent(channel_size, NUM_CLASSES)\n",
    "\n",
    "    play_params =  {\n",
    "        'channel_size': channel_size,\n",
    "        'p_mutate': p_mutate, \n",
    "        'kind_mutations': False,\n",
    "    }\n",
    "    \n",
    "    return Experiment(\n",
    "        generate_train_batch, generate_test_batch,\n",
    "        play_params=play_params, \n",
    "        student=agent,\n",
    "        teacher=agent,\n",
    "        loss_fn=complete_loss_fn,\n",
    "        **exp_kwargs\n",
    "    )"
   ]
  },
  {
   "cell_type": "markdown",
   "metadata": {},
   "source": [
    "## Investigating the effect of message mutation:"
   ]
  },
  {
   "cell_type": "code",
   "execution_count": 8,
   "metadata": {},
   "outputs": [
    {
     "data": {
      "text/plain": [
       "'./experiments/kindness_chan_size/08-10_01-16'"
      ]
     },
     "execution_count": 8,
     "metadata": {},
     "output_type": "execute_result"
    }
   ],
   "source": [
    "BASE_FOLDER = './experiments/kind_chan_size'\n",
    "Path(BASE_FOLDER).mkdir(exist_ok=True)\n",
    "# EXPERIMENT_FOLDER = f'{BASE_FOLDER}/{datetime.now().strftime(\"%d-%m_%H-%M\")}'\n",
    "\n",
    "# EXPERIMENT_FOLDER = \"./experiments/message_mutation_3\"\n",
    "# EXPERIMENT_FOLDER = \"./experiments/message_mutation_1/24-09_09-40\"\n",
    "# EXPERIMENT_FOLDER = \"./experiments/message_mutation_1/03-10_02-03\"\n",
    "\n",
    "# EXPERIMENT_FOLDER = \"./experiments/message_mutation_1/05-10_03-00\"\n",
    "EXPERIMENT_FOLDER = './experiments/kindness_chan_size/08-10_01-16'\n",
    "Path(EXPERIMENT_FOLDER).mkdir(exist_ok=True)\n",
    "EXPERIMENT_FOLDER"
   ]
  },
  {
   "cell_type": "code",
   "execution_count": 9,
   "metadata": {},
   "outputs": [],
   "source": [
    "kind_experiment = VaryPlayParamExperiment(save_location='./experiments/kind_chan_size',\n",
    "                                          param_vals=[10, 15, 20, 30],\n",
    "                                          param_name='channel_size',\n",
    "                                          max_epochs=250,\n",
    "                                          num_experiments_per_val=3,\n",
    "                                          create_experiment_fn=create_self_play_experiment)"
   ]
  },
  {
   "cell_type": "code",
   "execution_count": 29,
   "metadata": {},
   "outputs": [
    {
     "data": {
      "text/plain": [
       "<zscomm.meta_experiment.MetaExperiment at 0x1963a0d6ba8>"
      ]
     },
     "execution_count": 29,
     "metadata": {},
     "output_type": "execute_result"
    }
   ],
   "source": [
    "\n",
    "curr_exp"
   ]
  },
  {
   "cell_type": "code",
   "execution_count": 32,
   "metadata": {},
   "outputs": [],
   "source": [
    "def measure_zero_shot_coordination(experiment_1,\n",
    "                                   experiment_2,\n",
    "                                   num_tests=5, \n",
    "                                   **zs_play_kwargs):\n",
    "    \n",
    "    results = []\n",
    "    games_played = test_game(experiment_1.teacher, \n",
    "                             experiment_2.student,\n",
    "                             experiment_1.generate_test_batch,\n",
    "                             num_tests=num_tests,\n",
    "                             **zs_play_kwargs)\n",
    "    test_metrics = experiment_1.extract_test_metrics(games_played)\n",
    "    results.append(test_metrics)\n",
    "\n",
    "    games_played = test_game(experiment_2.teacher, \n",
    "                             experiment_1.student,\n",
    "                             experiment_1.generate_test_batch,\n",
    "                             num_tests=num_tests,\n",
    "                             **zs_play_kwargs)\n",
    "    test_metrics = experiment_1.extract_test_metrics(games_played)\n",
    "    results.append(test_metrics)\n",
    "    \n",
    "    return results\n",
    "\n",
    "def measure_zero_shot_coordination_internal():\n",
    "    results = []\n",
    "\n",
    "    curr_exp, *_ = [item['experiment'] for item in kind_experiment.experiments\n",
    "                    if item['status'] == 'In Progress']\n",
    "\n",
    "    for item_1, item_2 in combinations(item['experiment'].experiments, 2):\n",
    "        e1 = item_1['experiment']\n",
    "        e2 = item_2['experiment']\n",
    "\n",
    "        vanilla_params_test_metrics = measure_zero_shot_coordination(\n",
    "            e1, e2, **{\n",
    "                **e1.get_play_params(), \n",
    "                'p_mutate': 0, 'message_permutation': False\n",
    "            }\n",
    "        )\n",
    "        training_params_test_metrics = measure_zero_shot_coordination(\n",
    "            e1, e2, **e1.get_play_params()\n",
    "        )\n",
    "\n",
    "        results.append({\n",
    "            'vanilla_params_test_metrics': vanilla_params_test_metrics,\n",
    "            'training_params_test_metrics': training_params_test_metrics,\n",
    "        })\n",
    "\n",
    "    return results\n",
    "\n",
    "for item in kind_experiment.experiments:\n",
    "    item['experiment'].measure_zero_shot_coordination = measure_zero_shot_coordination_internal"
   ]
  },
  {
   "cell_type": "code",
   "execution_count": 33,
   "metadata": {
    "scrolled": false
   },
   "outputs": [
    {
     "name": "stdout",
     "output_type": "stream",
     "text": [
      "Running vary_pm_experiment...\n",
      "meta_experiment_channel_size=10 results:  [0.23125, 0.3125, 0.38125, 0.35625, 0.36250000000000004, 0.2875]\n",
      "Running experiment 2 (1/4 complete):\n",
      "Run Stopped.\n"
     ]
    }
   ],
   "source": [
    "kind_experiment.run()"
   ]
  },
  {
   "cell_type": "code",
   "execution_count": null,
   "metadata": {},
   "outputs": [],
   "source": [
    "unkind_experiment = VaryPlayParamExperiment(save_location='./experiments/unkind_chan_size',\n",
    "                                            param_vals=[10, 15, 20, 30],\n",
    "                                            param_name='channel_size',\n",
    "                                            max_epochs=250,\n",
    "                                            num_experiments_per_val=3,\n",
    "                                            create_experiment_fn=create_unkind_experiment)"
   ]
  },
  {
   "cell_type": "code",
   "execution_count": 4,
   "metadata": {},
   "outputs": [
    {
     "ename": "NameError",
     "evalue": "name 'vary_pm_experiment' is not defined",
     "output_type": "error",
     "traceback": [
      "\u001b[1;31m---------------------------------------------------------------------------\u001b[0m",
      "\u001b[1;31mNameError\u001b[0m                                 Traceback (most recent call last)",
      "\u001b[1;32m<ipython-input-4-15788d19f5be>\u001b[0m in \u001b[0;36m<module>\u001b[1;34m\u001b[0m\n\u001b[0;32m      1\u001b[0m \u001b[0mgrand_total\u001b[0m \u001b[1;33m=\u001b[0m \u001b[1;36m0\u001b[0m\u001b[1;33m\u001b[0m\u001b[1;33m\u001b[0m\u001b[0m\n\u001b[1;32m----> 2\u001b[1;33m \u001b[1;32mfor\u001b[0m \u001b[0mitem_1\u001b[0m \u001b[1;32min\u001b[0m \u001b[0mvary_pm_experiment\u001b[0m\u001b[1;33m.\u001b[0m\u001b[0mexperiments\u001b[0m\u001b[1;33m:\u001b[0m\u001b[1;33m\u001b[0m\u001b[1;33m\u001b[0m\u001b[0m\n\u001b[0m\u001b[0;32m      3\u001b[0m     \u001b[1;32mfor\u001b[0m \u001b[0mitem_2\u001b[0m \u001b[1;32min\u001b[0m \u001b[0mitem_1\u001b[0m\u001b[1;33m[\u001b[0m\u001b[1;34m'experiment'\u001b[0m\u001b[1;33m]\u001b[0m\u001b[1;33m.\u001b[0m\u001b[0mexperiments\u001b[0m\u001b[1;33m:\u001b[0m\u001b[1;33m\u001b[0m\u001b[1;33m\u001b[0m\u001b[0m\n\u001b[0;32m      4\u001b[0m         total_time = sum([\n\u001b[0;32m      5\u001b[0m             \u001b[0mx\u001b[0m\u001b[1;33m[\u001b[0m\u001b[1;34m'seconds_taken'\u001b[0m\u001b[1;33m]\u001b[0m\u001b[1;33m\u001b[0m\u001b[1;33m\u001b[0m\u001b[0m\n",
      "\u001b[1;31mNameError\u001b[0m: name 'vary_pm_experiment' is not defined"
     ]
    }
   ],
   "source": [
    "grand_total = 0\n",
    "for item_1 in vary_pm_experiment.experiments:\n",
    "    for item_2 in item_1['experiment'].experiments:\n",
    "        total_time = sum([\n",
    "            x['seconds_taken']\n",
    "            for x in item_2['experiment'].training_history\n",
    "        ])\n",
    "        print(int(total_time / 3600), 'hours,', int(total_time / 60) % 60, 'mins and', \n",
    "              int(total_time) % 60, 'seconds taken for experiment', \n",
    "              f\"pm={item_1['p_mutate']}_{item_2['index']}\")\n",
    "        grand_total += total_time\n",
    "    print()\n",
    "    \n",
    "print(int(grand_total / 3600), 'hours,', int(grand_total / 60) % 60, 'mins and', \n",
    "      int(grand_total) % 60, 'seconds taken for whole experiment')"
   ]
  },
  {
   "cell_type": "code",
   "execution_count": 42,
   "metadata": {},
   "outputs": [
    {
     "ename": "TypeError",
     "evalue": "list indices must be integers or slices, not str",
     "output_type": "error",
     "traceback": [
      "\u001b[1;31m---------------------------------------------------------------------------\u001b[0m",
      "\u001b[1;31mTypeError\u001b[0m                                 Traceback (most recent call last)",
      "\u001b[1;32m<ipython-input-42-519e77081728>\u001b[0m in \u001b[0;36m<module>\u001b[1;34m\u001b[0m\n\u001b[0;32m      4\u001b[0m         \u001b[1;34m'Zero-Shot Coordination Score'\u001b[0m\u001b[1;33m:\u001b[0m \u001b[0mscore\u001b[0m\u001b[1;33m,\u001b[0m\u001b[1;33m\u001b[0m\u001b[1;33m\u001b[0m\u001b[0m\n\u001b[0;32m      5\u001b[0m     }\n\u001b[1;32m----> 6\u001b[1;33m     \u001b[1;32mfor\u001b[0m \u001b[0mitem\u001b[0m \u001b[1;32min\u001b[0m \u001b[0mvary_pm_experiment\u001b[0m\u001b[1;33m.\u001b[0m\u001b[0mexperiments\u001b[0m\u001b[1;33m\u001b[0m\u001b[1;33m\u001b[0m\u001b[0m\n\u001b[0m\u001b[0;32m      7\u001b[0m     \u001b[1;32mif\u001b[0m \u001b[0mitem\u001b[0m\u001b[1;33m[\u001b[0m\u001b[1;34m'status'\u001b[0m\u001b[1;33m]\u001b[0m \u001b[1;33m==\u001b[0m \u001b[1;34m'Complete'\u001b[0m\u001b[1;33m\u001b[0m\u001b[1;33m\u001b[0m\u001b[0m\n\u001b[0;32m      8\u001b[0m     \u001b[1;32mfor\u001b[0m \u001b[0mscore\u001b[0m \u001b[1;32min\u001b[0m \u001b[0mitem\u001b[0m\u001b[1;33m[\u001b[0m\u001b[1;34m'results'\u001b[0m\u001b[1;33m]\u001b[0m\u001b[1;33m[\u001b[0m\u001b[1;34m'zs_coord_f1_scores'\u001b[0m\u001b[1;33m]\u001b[0m\u001b[1;33m\u001b[0m\u001b[1;33m\u001b[0m\u001b[0m\n",
      "\u001b[1;32m<ipython-input-42-519e77081728>\u001b[0m in \u001b[0;36m<listcomp>\u001b[1;34m(.0)\u001b[0m\n\u001b[0;32m      6\u001b[0m     \u001b[1;32mfor\u001b[0m \u001b[0mitem\u001b[0m \u001b[1;32min\u001b[0m \u001b[0mvary_pm_experiment\u001b[0m\u001b[1;33m.\u001b[0m\u001b[0mexperiments\u001b[0m\u001b[1;33m\u001b[0m\u001b[1;33m\u001b[0m\u001b[0m\n\u001b[0;32m      7\u001b[0m     \u001b[1;32mif\u001b[0m \u001b[0mitem\u001b[0m\u001b[1;33m[\u001b[0m\u001b[1;34m'status'\u001b[0m\u001b[1;33m]\u001b[0m \u001b[1;33m==\u001b[0m \u001b[1;34m'Complete'\u001b[0m\u001b[1;33m\u001b[0m\u001b[1;33m\u001b[0m\u001b[0m\n\u001b[1;32m----> 8\u001b[1;33m     \u001b[1;32mfor\u001b[0m \u001b[0mscore\u001b[0m \u001b[1;32min\u001b[0m \u001b[0mitem\u001b[0m\u001b[1;33m[\u001b[0m\u001b[1;34m'results'\u001b[0m\u001b[1;33m]\u001b[0m\u001b[1;33m[\u001b[0m\u001b[1;34m'zs_coord_f1_scores'\u001b[0m\u001b[1;33m]\u001b[0m\u001b[1;33m\u001b[0m\u001b[1;33m\u001b[0m\u001b[0m\n\u001b[0m\u001b[0;32m      9\u001b[0m ])\n\u001b[0;32m     10\u001b[0m \u001b[0mzs_coord_df\u001b[0m\u001b[1;33m.\u001b[0m\u001b[0mhead\u001b[0m\u001b[1;33m(\u001b[0m\u001b[1;33m)\u001b[0m\u001b[1;33m\u001b[0m\u001b[1;33m\u001b[0m\u001b[0m\n",
      "\u001b[1;31mTypeError\u001b[0m: list indices must be integers or slices, not str"
     ]
    }
   ],
   "source": [
    "zs_coord_df = pd.DataFrame([\n",
    "    {\n",
    "        'Mutation Probability': item['p_mutate'],\n",
    "        'Zero-Shot Coordination Score': score,\n",
    "    }\n",
    "    for item in vary_pm_experiment.experiments\n",
    "    if item['status'] == 'Complete'\n",
    "    for score in item['results']['zs_coord_f1_scores']\n",
    "])\n",
    "zs_coord_df.head()"
   ]
  },
  {
   "cell_type": "code",
   "execution_count": null,
   "metadata": {},
   "outputs": [],
   "source": [
    "self_play_df = pd.DataFrame([\n",
    "    {\n",
    "        'Mutation Probability': item_1['p_mutate'],\n",
    "        'Self-play Performance': item_2['results']['mean_ground_truth_f1'],\n",
    "    }\n",
    "    for item_1 in vary_pm_experiment.experiments\n",
    "    if item_1['status'] == 'Complete'\n",
    "    for item_2 in item_1['experiment'].experiments\n",
    "    if item_2['status'] == 'Complete'\n",
    "])"
   ]
  },
  {
   "cell_type": "code",
   "execution_count": null,
   "metadata": {},
   "outputs": [],
   "source": [
    "sns.reset_defaults()\n",
    "sns.set()"
   ]
  },
  {
   "cell_type": "code",
   "execution_count": null,
   "metadata": {},
   "outputs": [],
   "source": [
    "plt.figure(figsize=(8, 4))\n",
    "ax = sns.lineplot(x=[-2, 2], y=[1/NUM_CLASSES, 1/NUM_CLASSES], color=(0.1, 0.1, 0.1, 0.5), label='Baseline')\n",
    "ax.lines[0].set_linestyle(\"--\")\n",
    "\n",
    "sns.lineplot(x='Mutation Probability', y='Zero-Shot Coordination Score', data=zs_coord_df, label='Zero-shot Performance')\n",
    "sns.scatterplot(x='Mutation Probability', y='Zero-Shot Coordination Score', data=zs_coord_df, marker='x')\n",
    "sns.lineplot(x='Mutation Probability', y='Self-play Performance', data=self_play_df, label='Self-play Performance')\n",
    "sns.scatterplot(x='Mutation Probability', y='Self-play Performance', data=self_play_df, marker='x')\n",
    "sns.scatterplot(x='x', y='y', data=pd.DataFrame([{'x': 100, 'y': 100}]), color=(0.1, 0.1, 0.1, 0.5), marker='x', label='Raw Data')\n",
    "plt.ylim([0, 1.05])\n",
    "plt.xlim([-.05, 1.05])\n",
    "plt.title('The Effect of Mutations on Zero-Shot Coordination')\n",
    "plt.ylabel('Performance')\n",
    "plt.xlabel('Mutation Probability')\n",
    "# plt.legend(bbox_to_anchor=(1.05, 1), loc=2, borderaxespad=0.)\n",
    "plt.legend(loc=4)\n",
    "plt.show()"
   ]
  },
  {
   "cell_type": "code",
   "execution_count": null,
   "metadata": {},
   "outputs": [],
   "source": [
    "zs_coord_df[zs_coord_df['Mutation Probability'] == 0.4].describe()"
   ]
  },
  {
   "cell_type": "code",
   "execution_count": null,
   "metadata": {},
   "outputs": [],
   "source": [
    "zs_coord_df[zs_coord_df['Mutation Probability'] == 1.0].describe()"
   ]
  },
  {
   "cell_type": "code",
   "execution_count": null,
   "metadata": {},
   "outputs": [],
   "source": [
    "df_train = pd.DataFrame([\n",
    "    {\n",
    "        'Epoch': epoch,\n",
    "        'Experiment': f\"$p_m={item_1['p_mutate']}$\",\n",
    "        'Subexperiment': f'subexperiment_{item_2[\"index\"]}',\n",
    "        'Train Loss': training_item['loss']\n",
    "    }\n",
    "    for item_1 in vary_pm_experiment.experiments\n",
    "    for item_2 in item_1['experiment'].experiments\n",
    "    for epoch, training_item in enumerate(item_2['experiment'].training_history) \n",
    "])\n",
    "df_train.head()"
   ]
  },
  {
   "cell_type": "code",
   "execution_count": null,
   "metadata": {},
   "outputs": [],
   "source": [
    "plt.figure(figsize=(8, 4))\n",
    "sns.lineplot(x='Epoch', y='Train Loss', hue='Experiment', \n",
    "             data=df_train);\n",
    "#              data=df_train[df_train['Experiment'] == 'p_m=0.2']);\n",
    "# Put the legend out of the figure\n",
    "# plt.legend(bbox_to_anchor=(1.05, 1), loc=2, borderaxespad=0.)\n",
    "plt.title('Training History by Mutation Probability')\n",
    "plt.show()"
   ]
  },
  {
   "cell_type": "code",
   "execution_count": null,
   "metadata": {},
   "outputs": [],
   "source": [
    "df_test = pd.DataFrame([\n",
    "    {\n",
    "        'Epoch': epoch,\n",
    "        'Experiment': f\"$p_m={item_1['p_mutate']}$\",\n",
    "        'Subexperiment': f'subexperiment_{item_2[\"index\"]}',\n",
    "        'Performance': training_item['test_metrics']['mean_ground_truth_f1'],\n",
    "        'Protocol Diversity': training_item['test_metrics']['mean_protocol_diversity'],\n",
    "    }\n",
    "    for item_1 in vary_pm_experiment.experiments\n",
    "    for item_2 in item_1['experiment'].experiments\n",
    "    for epoch, training_item in enumerate(item_2['experiment'].training_history)\n",
    "    if 'test_metrics' in training_item\n",
    "])"
   ]
  },
  {
   "cell_type": "code",
   "execution_count": null,
   "metadata": {},
   "outputs": [],
   "source": [
    "plt.figure(figsize=(8, 4))\n",
    "sns.lineplot(x='Epoch', y='Performance', hue='Experiment', \n",
    "             data=df_test);\n",
    "#              data=df_test[df_test['Experiment'] == 'p_m=0.2']);\n",
    "# Put the legend out of the figure\n",
    "# plt.legend(bbox_to_anchor=(1.05, 1), loc=2, borderaxespad=0.)\n",
    "plt.title('Self-play Test Performance History')\n",
    "plt.show()"
   ]
  },
  {
   "cell_type": "code",
   "execution_count": null,
   "metadata": {},
   "outputs": [],
   "source": [
    "fig, axs = plt.subplots(1, 2, figsize=(15, 5))\n",
    "sns.lineplot(x='Epoch', y='Performance', hue='Experiment', \n",
    "             data=df_test, ax=axs[0]);\n",
    "sns.lineplot(x='Epoch', y='Protocol Diversity', hue='Experiment', \n",
    "             data=df_test, ax=axs[1]);\n",
    "#              data=df_test[df_test['Experiment'] == 'p_m=0.2']);\n",
    "# Put the legend out of the figure\n",
    "# plt.legend(bbox_to_anchor=(1.05, 1), loc=2, borderaxespad=0.)\n",
    "plt.title('Self-play Test Performance')\n",
    "plt.show()"
   ]
  },
  {
   "cell_type": "code",
   "execution_count": null,
   "metadata": {},
   "outputs": [],
   "source": [
    "exp = vary_pm_experiment.experiments[2]['experiment'].experiments[1]['experiment']\n",
    "games_played, test_metrics = exp.run_tests()\n",
    "test_metrics"
   ]
  },
  {
   "cell_type": "code",
   "execution_count": null,
   "metadata": {},
   "outputs": [],
   "source": [
    "for i in range(5):\n",
    "    inputs, targets, outputs = games_played[i]\n",
    "    plot_game(inputs, outputs, targets, select_batch=2)"
   ]
  },
  {
   "cell_type": "code",
   "execution_count": null,
   "metadata": {},
   "outputs": [],
   "source": [
    "num_meta_experiments = len(vary_pm_experiment.experiments)\n",
    "exps_per_meta = len(vary_pm_experiment.experiments[0]['experiment'].experiments)\n",
    "\n",
    "def make_cm_map_for_exp(i, j):\n",
    "    meta_exp = vary_pm_experiment.experiments[i]['experiment']\n",
    "    sub_exp = meta_exp.experiments[j]['experiment']\n",
    "    games_played, _ = sub_exp.run_tests()\n",
    "    return create_mean_class_message_map(games_played)\n",
    "\n",
    "class_message_maps = [[make_cm_map_for_exp(i, j) for j in range(exps_per_meta)] \n",
    "                      for i in range(num_meta_experiments)]"
   ]
  },
  {
   "cell_type": "code",
   "execution_count": null,
   "metadata": {},
   "outputs": [],
   "source": [
    "def plot_protocol_maps(maps, ylabel='Class', yticklabels=None):\n",
    "    fig = plt.figure(figsize=(2*2*exps_per_meta, 2*num_meta_experiments)) \n",
    "\n",
    "    sqrs_per_plot = 5\n",
    "    gs = gridspec.GridSpec(num_meta_experiments, sqrs_per_plot*exps_per_meta+1)\n",
    "    \n",
    "    yticklabels = yticklabels or [i+1 for i in range(NUM_CLASSES)]\n",
    "\n",
    "    for i in range(num_meta_experiments):\n",
    "        meta_exp = vary_pm_experiment.experiments[i]['experiment']\n",
    "        for j in range(exps_per_meta):\n",
    "            sub_exp = meta_exp.experiments[j]['experiment']\n",
    "            ax = plt.subplot(gs[i, sqrs_per_plot*j:sqrs_per_plot*(j+1)])\n",
    "\n",
    "            last_col = j == exps_per_meta - 1\n",
    "            cbar_ax = plt.subplot(gs[i, -1]) if last_col else None\n",
    "\n",
    "            sns.heatmap(maps[i][j], vmin=0, vmax=1, ax=ax, \n",
    "                        cbar=last_col, cbar_ax=cbar_ax);\n",
    "\n",
    "            if j == 0: \n",
    "                p_mutate = sub_exp.get_play_params().get('p_mutate', 0.0) \n",
    "                ax.set_ylabel(f'$p_m = {p_mutate}$\\n\\n{ylabel}')\n",
    "                ax.set_yticklabels(yticklabels)\n",
    "            else: \n",
    "                ax.set_yticks([])\n",
    "\n",
    "            if i == 0:\n",
    "                ax.set_title(f'Experiment {j+1}')\n",
    "                ax.set_xticks([])\n",
    "            elif i == num_meta_experiments - 1:\n",
    "                ax.set_xlabel('Symbol')\n",
    "            else:\n",
    "                ax.set_xticks([])\n",
    "\n",
    "    plt.tight_layout()\n",
    "    plt.show()"
   ]
  },
  {
   "cell_type": "code",
   "execution_count": null,
   "metadata": {},
   "outputs": [],
   "source": [
    "plot_protocol_maps(class_message_maps)"
   ]
  },
  {
   "cell_type": "code",
   "execution_count": null,
   "metadata": {},
   "outputs": [],
   "source": [
    "def make_im_map_for_exp(i, j):\n",
    "    meta_exp = vary_pm_experiment.experiments[i]['experiment']\n",
    "    sub_exp = meta_exp.experiments[j]['experiment']\n",
    "    games_played, _ = sub_exp.run_tests()\n",
    "    return create_mean_index_message_map(games_played)\n",
    "\n",
    "index_message_maps = [[make_im_map_for_exp(i, j) for j in range(exps_per_meta)] \n",
    "                      for i in range(num_meta_experiments)]"
   ]
  },
  {
   "cell_type": "code",
   "execution_count": null,
   "metadata": {},
   "outputs": [],
   "source": [
    "plot_protocol_maps(index_message_maps, ylabel='Time Step Index', yticklabels=[0, 1, 2])"
   ]
  },
  {
   "cell_type": "code",
   "execution_count": null,
   "metadata": {},
   "outputs": [],
   "source": [
    "n_rows = 2\n",
    "fig = plt.figure(figsize=(2*2*exps_per_meta, 2*n_rows))\n",
    "\n",
    "sqrs_per_plot = 5\n",
    "gs = gridspec.GridSpec(n_rows, sqrs_per_plot*exps_per_meta+1)\n",
    "\n",
    "yticklabels = [i+1 for i in range(NUM_CLASSES)]\n",
    "\n",
    "\n",
    "maps = [class_message_maps[0]] + [index_message_maps[0]]\n",
    "\n",
    "for i in range(2):\n",
    "    for j in range(exps_per_meta):\n",
    "        \n",
    "        last_col = j == exps_per_meta - 1\n",
    "        cbar_ax = plt.subplot(gs[i, -1]) if last_col else None\n",
    "        ax = plt.subplot(gs[i, sqrs_per_plot*j:sqrs_per_plot*(j+1)])\n",
    "\n",
    "        sns.heatmap(maps[i][j], vmin=0, vmax=1, ax=ax, \n",
    "                    cbar=last_col, cbar_ax=cbar_ax);\n",
    "\n",
    "        if j == 0 and i == 0: \n",
    "            ax.set_ylabel('Class')\n",
    "            ax.set_yticklabels([1, 2, 3])\n",
    "        elif j == 0 and i == 1:\n",
    "            ax.set_ylabel('Time Step Index')\n",
    "            ax.set_yticklabels([0, 1, 2])\n",
    "        else:\n",
    "            ax.set_yticks([])\n",
    "\n",
    "        if i == 0:\n",
    "            ax.set_title(f'Experiment {j+1}')\n",
    "            ax.set_xticks([])\n",
    "        elif i == 1:\n",
    "            ax.set_xlabel('Symbol')\n",
    "\n",
    "plt.tight_layout()\n",
    "plt.show();"
   ]
  },
  {
   "cell_type": "code",
   "execution_count": null,
   "metadata": {},
   "outputs": [],
   "source": [
    "fig, axs = plt.subplots(1, 3, figsize=(5, 3))\n",
    "cols = 11\n",
    "gs = gridspec.GridSpec(1, cols)\n",
    "\n",
    "ax = plt.subplot(gs[0, :cols//2])\n",
    "cbar_ax = plt.subplot(gs[0, -1])\n",
    "\n",
    "sns.heatmap(tf.transpose(maps[0][0]), vmin=0, vmax=1, ax=ax, \n",
    "            cbar=last_col, cbar_ax=axs[2]);\n",
    "\n",
    "ax.set_xlabel('Class')\n",
    "ax.set_xticklabels([1, 2, 3])\n",
    "ax.set_ylabel('Symbol')\n",
    "\n",
    "ax = plt.subplot(gs[0, cols//2:-1])\n",
    "\n",
    "sns.heatmap(tf.transpose(maps[1][0]), vmin=0, vmax=1, ax=ax, \n",
    "            cbar=last_col, cbar_ax=cbar_ax);\n",
    "ax.set_xlabel('Time Step Index')\n",
    "ax.set_xticklabels([0, 1, 2])\n",
    "ax.set_yticks([])\n",
    "# ax.set_ylabel('Symbol')\n",
    "\n",
    "# if i == 0:\n",
    "#     ax.set_title(f'Experiment {j+1}')\n",
    "#     ax.set_xticks([])\n",
    "# elif i == 1:\n",
    "# sns.lineplot(x='Epoch', y='Performance', hue='Experiment', \n",
    "#              data=df_test, ax=axs[0]);\n",
    "# sns.lineplot(x='Epoch', y='Protocol Diversity', hue='Experiment', \n",
    "#              data=df_test, ax=axs[1]);\n",
    "#              data=df_test[df_test['Experiment'] == 'p_m=0.2']);\n",
    "# Put the legend out of the figure\n",
    "# plt.legend(bbox_to_anchor=(1.05, 1), loc=2, borderaxespad=0.)\n",
    "# plt.title('Protocol Visu')\n",
    "plt.show()"
   ]
  },
  {
   "cell_type": "code",
   "execution_count": null,
   "metadata": {},
   "outputs": [],
   "source": [
    "conf_matrix = compute_confusion_matrix(games_played)\n",
    "sns.heatmap(conf_matrix, annot=True, vmin=0, vmax=1)\n",
    "plt.title('Ground Truth Confusion Matrix')\n",
    "plt.ylabel('Predicted Class')\n",
    "plt.xlabel('Actual Class')\n",
    "plt.show()"
   ]
  },
  {
   "cell_type": "code",
   "execution_count": null,
   "metadata": {},
   "outputs": [],
   "source": []
  }
 ],
 "metadata": {
  "kernelspec": {
   "display_name": "Python 3",
   "language": "python",
   "name": "python3"
  },
  "language_info": {
   "codemirror_mode": {
    "name": "ipython",
    "version": 3
   },
   "file_extension": ".py",
   "mimetype": "text/x-python",
   "name": "python",
   "nbconvert_exporter": "python",
   "pygments_lexer": "ipython3",
   "version": "3.6.10"
  }
 },
 "nbformat": 4,
 "nbformat_minor": 4
}
