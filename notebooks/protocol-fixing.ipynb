{
 "cells": [
  {
   "cell_type": "code",
   "execution_count": 1,
   "metadata": {},
   "outputs": [],
   "source": [
    "import os\n",
    "os.environ[\"CUDA_VISIBLE_DEVICES\"] = \"-1\""
   ]
  },
  {
   "cell_type": "code",
   "execution_count": 2,
   "metadata": {},
   "outputs": [],
   "source": [
    "import sys"
   ]
  },
  {
   "cell_type": "code",
   "execution_count": 3,
   "metadata": {},
   "outputs": [
    {
     "name": "stderr",
     "output_type": "stream",
     "text": [
      "2024-04-25 15:34:46.080380: I tensorflow/core/util/port.cc:113] oneDNN custom operations are on. You may see slightly different numerical results due to floating-point round-off errors from different computation orders. To turn them off, set the environment variable `TF_ENABLE_ONEDNN_OPTS=0`.\n",
      "2024-04-25 15:34:46.125183: E external/local_xla/xla/stream_executor/cuda/cuda_dnn.cc:9261] Unable to register cuDNN factory: Attempting to register factory for plugin cuDNN when one has already been registered\n",
      "2024-04-25 15:34:46.125220: E external/local_xla/xla/stream_executor/cuda/cuda_fft.cc:607] Unable to register cuFFT factory: Attempting to register factory for plugin cuFFT when one has already been registered\n",
      "2024-04-25 15:34:46.126064: E external/local_xla/xla/stream_executor/cuda/cuda_blas.cc:1515] Unable to register cuBLAS factory: Attempting to register factory for plugin cuBLAS when one has already been registered\n",
      "2024-04-25 15:34:46.131845: I tensorflow/core/platform/cpu_feature_guard.cc:182] This TensorFlow binary is optimized to use available CPU instructions in performance-critical operations.\n",
      "To enable the following instructions: AVX2 AVX512F AVX512_VNNI FMA, in other operations, rebuild TensorFlow with the appropriate compiler flags.\n",
      "2024-04-25 15:34:46.893891: W tensorflow/compiler/tf2tensorrt/utils/py_utils.cc:38] TF-TRT Warning: Could not find TensorRT\n"
     ]
    },
    {
     "name": "stdout",
     "output_type": "stream",
     "text": [
      "Physical Devices:\n",
      "PhysicalDevice(name='/physical_device:CPU:0', device_type='CPU')\n"
     ]
    },
    {
     "name": "stderr",
     "output_type": "stream",
     "text": [
      "2024-04-25 15:34:48.037790: E external/local_xla/xla/stream_executor/cuda/cuda_driver.cc:274] failed call to cuInit: CUDA_ERROR_NO_DEVICE: no CUDA-capable device is detected\n"
     ]
    }
   ],
   "source": [
    "import numpy as np\n",
    "import pandas as pd\n",
    "import tensorflow as tf\n",
    "\n",
    "from IPython.display import clear_output\n",
    "import matplotlib.pyplot as plt\n",
    "%matplotlib inline\n",
    "\n",
    "import seaborn as sns\n",
    "sns.set()\n",
    "\n",
    "print('Physical Devices:')\n",
    "for dev in tf.config.list_physical_devices():\n",
    "    print(dev)"
   ]
  },
  {
   "cell_type": "code",
   "execution_count": 4,
   "metadata": {},
   "outputs": [],
   "source": [
    "from zscomm.agent import Agent\n",
    "from zscomm.comm_channel import CommChannel\n",
    "from zscomm.synth_teacher import SyntheticTeacher\n",
    "from zscomm.data import *\n",
    "from zscomm.play_game import *\n",
    "from zscomm.loss import *\n",
    "from zscomm.experiment import Experiment\n",
    "from zscomm.meta_experiment import *\n",
    "from zscomm.plot_game import plot_game\n",
    "from zscomm.analysis import *"
   ]
  },
  {
   "cell_type": "markdown",
   "metadata": {},
   "source": [
    "## Load Data:"
   ]
  },
  {
   "cell_type": "code",
   "execution_count": 5,
   "metadata": {},
   "outputs": [],
   "source": [
    "NUM_CLASSES = 3\n",
    "CHANNEL_SIZE = 5\n",
    "BATCH_SIZE = 32\n",
    "USE_MNIST = False\n",
    "\n",
    "if USE_MNIST:\n",
    "    TRAIN_DATA, TEST_DATA = get_mnist_data(num_classes=NUM_CLASSES)\n",
    "else:\n",
    "    TRAIN_DATA, TEST_DATA = get_simple_card_data(num_classes=NUM_CLASSES)"
   ]
  },
  {
   "cell_type": "code",
   "execution_count": 6,
   "metadata": {},
   "outputs": [],
   "source": [
    "def generate_train_batch():\n",
    "    return generate_batch(TRAIN_DATA,\n",
    "                          batch_size=BATCH_SIZE, \n",
    "                          num_classes=NUM_CLASSES)\n",
    "\n",
    "\n",
    "def generate_test_batch():\n",
    "    return generate_batch(TEST_DATA,\n",
    "                          batch_size=BATCH_SIZE, \n",
    "                          num_classes=NUM_CLASSES)"
   ]
  },
  {
   "cell_type": "markdown",
   "metadata": {},
   "source": [
    "# Run Experiments"
   ]
  },
  {
   "cell_type": "code",
   "execution_count": 7,
   "metadata": {},
   "outputs": [],
   "source": [
    "def create_temporal_fixing_experiment(epochs=15, **exp_kwargs):\n",
    "    \n",
    "    agent = Agent(CHANNEL_SIZE, NUM_CLASSES, first_activation='relu')\n",
    "\n",
    "    play_params =  {\n",
    "        'channel_size': CHANNEL_SIZE,\n",
    "        'p_mutate': 0.0\n",
    "    }\n",
    "    \n",
    "    return Experiment(\n",
    "        generate_train_batch, generate_test_batch,\n",
    "        play_params=play_params, \n",
    "        student=agent,\n",
    "        teacher=agent,\n",
    "        loss_fn=complete_loss_fn,\n",
    "        max_epochs=epochs,\n",
    "        **exp_kwargs\n",
    "    )\n",
    "\n",
    "def create_observation_fixing_experiment(epochs=15, **exp_kwargs):\n",
    "    \n",
    "    agent = Agent(CHANNEL_SIZE, NUM_CLASSES, first_activation=None)\n",
    "\n",
    "    play_params = {\n",
    "        'channel_size': CHANNEL_SIZE,\n",
    "        'p_mutate': 0.0\n",
    "    }\n",
    "    \n",
    "    return Experiment(\n",
    "        generate_train_batch, generate_test_batch,\n",
    "        play_params=play_params, \n",
    "        student=agent,\n",
    "        teacher=agent,\n",
    "        loss_fn=complete_loss_fn,\n",
    "        max_epochs=epochs,\n",
    "        **exp_kwargs\n",
    "    )"
   ]
  },
  {
   "cell_type": "code",
   "execution_count": 73,
   "metadata": {},
   "outputs": [],
   "source": [
    "obs_fixing_experiment = create_observation_fixing_experiment()"
   ]
  },
  {
   "cell_type": "code",
   "execution_count": 74,
   "metadata": {},
   "outputs": [
    {
     "name": "stdout",
     "output_type": "stream",
     "text": [
      "Running experiment...\n",
      "Run config:\n",
      " {'name': 'experiment', 'max_epochs': 15, 'steps_per_epoch': 50, 'epochs_optimised': 15, 'play_params': {'channel_size': 5, 'p_mutate': 0.0}, 'test_freq': 5, 'test_steps': 25, 'optimiser_config': {'name': 'RMSprop', 'weight_decay': None, 'clipnorm': None, 'global_clipnorm': None, 'clipvalue': None, 'use_ema': False, 'ema_momentum': 0.99, 'ema_overwrite_frequency': 100, 'jit_compile': False, 'is_legacy_optimizer': False, 'learning_rate': 0.009999999776482582, 'rho': 0.9, 'momentum': 0.0, 'epsilon': 1e-07, 'centered': False}, 'optimise_agents_separately': False, 'loss_fn': 'complete_loss_fn'}\n",
      "Epoch 0, Time Taken (mm:ss): 0:15, Mean Loss: 3.916\n",
      "Test Loss: 4.777, Ground Truth F1-Score: 0.329, Student Error: 1.097, Teacher Error: 0.85, Protocol Diversity: 0.362, Protocol Entropy: 1.356,\n",
      "Epoch 1, Time Taken (mm:ss): 0:15, Mean Loss: 2.602\n",
      "Epoch 2, Time Taken (mm:ss): 0:15, Mean Loss: 1.166\n",
      "Epoch 3, Time Taken (mm:ss): 0:15, Mean Loss: 1.001\n",
      "Epoch 4, Time Taken (mm:ss): 0:15, Mean Loss: 1.001\n",
      "Epoch 5, Time Taken (mm:ss): 0:15, Mean Loss: 1.0\n",
      "Test Loss: 1.0, Ground Truth F1-Score: 1.0, Student Error: 0.0, Teacher Error: 0.0, Protocol Diversity: 1.0, Protocol Entropy: 0.0,\n",
      "Epoch 6, Time Taken (mm:ss): 0:15, Mean Loss: 1.0\n",
      "Epoch 7, Time Taken (mm:ss): 0:15, Mean Loss: 1.0\n",
      "Epoch 8, Time Taken (mm:ss): 0:15, Mean Loss: 1.0\n",
      "Epoch 9, Time Taken (mm:ss): 0:15, Mean Loss: 1.0\n",
      "Epoch 10, Time Taken (mm:ss): 0:15, Mean Loss: 1.0\n",
      "Test Loss: 1.0, Ground Truth F1-Score: 1.0, Student Error: 0.0, Teacher Error: 0.0, Protocol Diversity: 1.0, Protocol Entropy: 0.0,\n",
      "Epoch 11, Time Taken (mm:ss): 0:15, Mean Loss: 1.0\n",
      "Epoch 12, Time Taken (mm:ss): 0:15, Mean Loss: 1.0\n",
      "Epoch 13, Time Taken (mm:ss): 0:15, Mean Loss: 1.0\n",
      "Epoch 14, Time Taken (mm:ss): 0:15, Mean Loss: 1.0\n",
      "Test Loss: 1.0, Ground Truth F1-Score: 1.0, Student Error: 0.0, Teacher Error: 0.0, Protocol Diversity: 1.0, Protocol Entropy: 0.0,\n",
      "Training stopped.\n"
     ]
    }
   ],
   "source": [
    "obs_fixing_experiment.run()"
   ]
  },
  {
   "cell_type": "code",
   "execution_count": 8,
   "metadata": {},
   "outputs": [],
   "source": [
    "untrained_obs_fixing_experiment = create_observation_fixing_experiment()\n",
    "games_played_untrained, _ = untrained_obs_fixing_experiment.run_tests()"
   ]
  },
  {
   "cell_type": "code",
   "execution_count": 9,
   "metadata": {},
   "outputs": [
    {
     "name": "stderr",
     "output_type": "stream",
     "text": [
      "/home/dylan/projects/zero-shot-comm/zscomm/plot_game.py:77: UserWarning: The palette list has more values (10) than needed (2), which may not be intended.\n",
      "  sns.barplot(data=df, x='x', y='y', hue='type',\n",
      "/home/dylan/projects/zero-shot-comm/zscomm/plot_game.py:77: UserWarning: The palette list has more values (10) than needed (2), which may not be intended.\n",
      "  sns.barplot(data=df, x='x', y='y', hue='type',\n",
      "/home/dylan/projects/zero-shot-comm/zscomm/plot_game.py:77: UserWarning: The palette list has more values (10) than needed (2), which may not be intended.\n",
      "  sns.barplot(data=df, x='x', y='y', hue='type',\n",
      "/home/dylan/projects/zero-shot-comm/zscomm/plot_game.py:77: UserWarning: The palette list has more values (10) than needed (2), which may not be intended.\n",
      "  sns.barplot(data=df, x='x', y='y', hue='type',\n",
      "/home/dylan/projects/zero-shot-comm/zscomm/plot_game.py:115: FutureWarning: \n",
      "\n",
      "Passing `palette` without assigning `hue` is deprecated and will be removed in v0.14.0. Assign the `x` variable to `hue` and set `legend=False` for the same effect.\n",
      "\n",
      "  sns.barplot(x=list(range(chan_size)),\n",
      "/home/dylan/projects/zero-shot-comm/zscomm/plot_game.py:115: UserWarning: \n",
      "The palette list has fewer values (1) than needed (5) and will cycle, which may produce an uninterpretable plot.\n",
      "  sns.barplot(x=list(range(chan_size)),\n"
     ]
    },
    {
     "data": {
      "image/png": "[encoded data removed]",
      "text/plain": [
       "<Figure size 600x1000 with 11 Axes>"
      ]
     },
     "metadata": {},
     "output_type": "display_data"
    }
   ],
   "source": [
    "from reproducible_figures import set_plotting_style\n",
    "\n",
    "for i in range(1):\n",
    "    inputs, targets, outputs = games_played_untrained[5+i]\n",
    "    set_plotting_style(font_scale=1)\n",
    "    plot_game(inputs, outputs, targets, select_batch=0, show=False)\n",
    "    plt.savefig('figures/untrained_agents_example_game.pdf', dpi=300)"
   ]
  },
  {
   "cell_type": "code",
   "execution_count": 13,
   "metadata": {},
   "outputs": [],
   "source": [
    "temp_fixing_experiment = create_temporal_fixing_experiment()"
   ]
  },
  {
   "cell_type": "code",
   "execution_count": 14,
   "metadata": {},
   "outputs": [
    {
     "name": "stdout",
     "output_type": "stream",
     "text": [
      "Running experiment...\n",
      "Run config:\n",
      " {'name': 'experiment', 'max_epochs': 15, 'steps_per_epoch': 50, 'epochs_optimised': 15, 'play_params': {'channel_size': 5, 'p_mutate': 0.0}, 'test_freq': 5, 'test_steps': 25, 'optimiser_config': {'name': 'RMSprop', 'weight_decay': None, 'clipnorm': None, 'global_clipnorm': None, 'clipvalue': None, 'use_ema': False, 'ema_momentum': 0.99, 'ema_overwrite_frequency': 100, 'jit_compile': False, 'is_legacy_optimizer': False, 'learning_rate': 0.009999999776482582, 'rho': 0.9, 'momentum': 0.0, 'epsilon': 1e-07, 'centered': False}, 'optimise_agents_separately': False, 'loss_fn': 'complete_loss_fn'}\n",
      "Epoch 0, Time Taken (mm:ss): 0:9, Mean Loss: 3.758\n",
      "Test Loss: 4.199, Ground Truth F1-Score: 0.351, Student Error: 1.101, Teacher Error: 0.098, Protocol Diversity: 0.333, Protocol Entropy: 1.6,\n",
      "Epoch 1, Time Taken (mm:ss): 0:9, Mean Loss: 3.832\n",
      "Epoch 2, Time Taken (mm:ss): 0:9, Mean Loss: 3.777\n",
      "Epoch 3, Time Taken (mm:ss): 0:9, Mean Loss: 3.762\n",
      "Epoch 4, Time Taken (mm:ss): 0:9, Mean Loss: 3.727\n",
      "Epoch 5, Time Taken (mm:ss): 0:9, Mean Loss: 3.667\n",
      "Test Loss: 3.885, Ground Truth F1-Score: 0.347, Student Error: 1.1, Teacher Error: 0.785, Protocol Diversity: 0.5, Protocol Entropy: 0.16,\n",
      "Epoch 6, Time Taken (mm:ss): 0:9, Mean Loss: 3.631\n",
      "Epoch 7, Time Taken (mm:ss): 0:9, Mean Loss: 3.677\n",
      "Epoch 8, Time Taken (mm:ss): 0:9, Mean Loss: 3.645\n",
      "Epoch 9, Time Taken (mm:ss): 0:9, Mean Loss: 3.219\n",
      "Epoch 10, Time Taken (mm:ss): 0:9, Mean Loss: 2.334\n",
      "Test Loss: 2.418, Ground Truth F1-Score: 0.434, Student Error: 0.443, Teacher Error: 0.975, Protocol Diversity: 1.0, Protocol Entropy: 0.0,\n",
      "Epoch 11, Time Taken (mm:ss): 0:9, Mean Loss: 1.287\n",
      "Epoch 12, Time Taken (mm:ss): 0:9, Mean Loss: 1.022\n",
      "Epoch 13, Time Taken (mm:ss): 0:9, Mean Loss: 1.194\n",
      "Epoch 14, Time Taken (mm:ss): 0:9, Mean Loss: 1.008\n",
      "Test Loss: 1.005, Ground Truth F1-Score: 1.0, Student Error: 0.001, Teacher Error: 0.005, Protocol Diversity: 1.0, Protocol Entropy: 0.0,\n",
      "Training stopped.\n"
     ]
    }
   ],
   "source": [
    "temp_fixing_experiment.run()"
   ]
  },
  {
   "cell_type": "code",
   "execution_count": 15,
   "metadata": {},
   "outputs": [
    {
     "data": {
      "text/plain": [
       "{'training_params_results': {'mean_test_loss': 1.005377173423767,\n",
       "  'mean_ground_truth_f1': 1.0,\n",
       "  'ground_truth_acc': 1.0,\n",
       "  'mean_student_error': 0.0007417481392621994,\n",
       "  'mean_teacher_error': 0.0046353391371667385,\n",
       "  'mean_protocol_diversity': 1.0,\n",
       "  'mean_protocol_entropy': 7.222249918832856e-35},\n",
       " 'vanilla_params_results': {'mean_test_loss': 1.0059722661972046,\n",
       "  'mean_ground_truth_f1': 1.0,\n",
       "  'ground_truth_acc': 1.0,\n",
       "  'mean_student_error': 0.0007544516702182591,\n",
       "  'mean_teacher_error': 0.00521778455004096,\n",
       "  'mean_protocol_diversity': 1.0,\n",
       "  'mean_protocol_entropy': 7.222249918832856e-35},\n",
       " 'student_responsiveness': 0.033126567284397494,\n",
       " 'teacher_responsiveness': 0.006735518481793149}"
      ]
     },
     "execution_count": 15,
     "metadata": {},
     "output_type": "execute_result"
    }
   ],
   "source": [
    "temp_fixing_experiment.results"
   ]
  },
  {
   "cell_type": "code",
   "execution_count": 28,
   "metadata": {},
   "outputs": [],
   "source": [
    "games_played, _ = temp_fixing_experiment.run_tests()\n",
    "mean_class_message_map = create_mean_class_message_map(games_played)\n",
    "mean_index_message_map = create_mean_index_message_map(games_played)"
   ]
  },
  {
   "cell_type": "code",
   "execution_count": 31,
   "metadata": {},
   "outputs": [],
   "source": [
    "mean_class_message_map_df = pd.DataFrame(mean_class_message_map.numpy().T)\n",
    "mean_index_message_map_df = pd.DataFrame(mean_index_message_map.numpy().T)"
   ]
  },
  {
   "cell_type": "code",
   "execution_count": 44,
   "metadata": {},
   "outputs": [],
   "source": [
    "from reproducible_figures import (\n",
    "    save_reproducible_figure, set_plotting_style\n",
    ")"
   ]
  },
  {
   "cell_type": "code",
   "execution_count": 75,
   "metadata": {},
   "outputs": [],
   "source": [
    "def plot_protocol_maps(mean_class_message_map_df, mean_index_message_map_df):\n",
    "    set_plotting_style(font_scale=2.0)\n",
    "    _, axs = plt.subplots(1, 3,\n",
    "                            gridspec_kw={'width_ratios': [10, 10, 1], \n",
    "                                        'wspace': 0.1}, \n",
    "                            sharex='col')\n",
    "\n",
    "    sns.heatmap(mean_class_message_map_df, vmin=0, vmax=1, ax=axs[0], cbar=False)\n",
    "    axs[0].set_xlabel('Class')\n",
    "    axs[0].set_ylabel('Symbol')\n",
    "\n",
    "    sns.heatmap(mean_index_message_map_df, vmin=0, vmax=1, ax=axs[1], cbar_ax=axs[2])\n",
    "    axs[1].set_xlabel('Time Step')\n",
    "    axs[1].set_ylabel('')\n",
    "    axs[1].set_yticks([])\n",
    "\n",
    "    plt.tight_layout()\n"
   ]
  },
  {
   "cell_type": "code",
   "execution_count": 62,
   "metadata": {},
   "outputs": [
    {
     "name": "stderr",
     "output_type": "stream",
     "text": [
      "/tmp/ipykernel_2851/2137728291.py:16: UserWarning: This figure includes Axes that are not compatible with tight_layout, so results might be incorrect.\n",
      "  plt.tight_layout()\n"
     ]
    },
    {
     "data": {
      "image/png": "[encoded data removed]",
      "text/plain": [
       "<Figure size 640x480 with 3 Axes>"
      ]
     },
     "metadata": {},
     "output_type": "display_data"
    },
    {
     "name": "stderr",
     "output_type": "stream",
     "text": [
      "reformatted figures/tf_fixed_protocol_maps/code.py\n",
      "\n",
      "All done! ✨ 🍰 ✨\n",
      "1 file reformatted.\n"
     ]
    }
   ],
   "source": [
    "save_reproducible_figure(\n",
    "    'tf_fixed_protocol_maps',\n",
    "    (mean_class_message_map_df, mean_index_message_map_df),\n",
    "    plot_protocol_maps,\n",
    "    show=True\n",
    ")"
   ]
  },
  {
   "cell_type": "code",
   "execution_count": 76,
   "metadata": {},
   "outputs": [],
   "source": [
    "games_played, _ = obs_fixing_experiment.run_tests()\n",
    "of_mean_class_message_map = create_mean_class_message_map(games_played)\n",
    "of_mean_index_message_map = create_mean_index_message_map(games_played)"
   ]
  },
  {
   "cell_type": "code",
   "execution_count": 77,
   "metadata": {},
   "outputs": [],
   "source": [
    "of_mean_class_message_map_df = pd.DataFrame(of_mean_class_message_map.numpy().T)\n",
    "of_mean_index_message_map_df = pd.DataFrame(of_mean_index_message_map.numpy().T)"
   ]
  },
  {
   "cell_type": "code",
   "execution_count": 78,
   "metadata": {},
   "outputs": [
    {
     "name": "stderr",
     "output_type": "stream",
     "text": [
      "/tmp/ipykernel_2851/1869949367.py:17: UserWarning: This figure includes Axes that are not compatible with tight_layout, so results might be incorrect.\n",
      "  plt.tight_layout()\n"
     ]
    },
    {
     "data": {
      "image/png": "[encoded data removed]",
      "text/plain": [
       "<Figure size 640x480 with 3 Axes>"
      ]
     },
     "metadata": {},
     "output_type": "display_data"
    },
    {
     "name": "stderr",
     "output_type": "stream",
     "text": [
      "reformatted figures/of_fixed_protocol_maps/code.py\n",
      "\n",
      "All done! ✨ 🍰 ✨\n",
      "1 file reformatted.\n"
     ]
    }
   ],
   "source": [
    "save_reproducible_figure(\n",
    "    'of_fixed_protocol_maps',\n",
    "    (of_mean_class_message_map_df, of_mean_index_message_map_df),\n",
    "    plot_protocol_maps,\n",
    "    show=True\n",
    ")"
   ]
  },
  {
   "cell_type": "code",
   "execution_count": null,
   "metadata": {},
   "outputs": [],
   "source": [
    "games_played, _ = obs_fixing_experiment.run_tests()\n",
    "mean_class_message_map = create_mean_class_message_map(games_played)\n",
    "sns.heatmap(mean_class_message_map, vmin=0, vmax=1);\n",
    "plt.ylabel('Class')\n",
    "plt.xlabel('Symbol')\n",
    "plt.title('Communication Protocol')\n",
    "plt.show()\n",
    "\n",
    "games_played, _ = obs_fixing_experiment.run_tests()\n",
    "mean_class_message_map = create_mean_index_message_map(games_played)\n",
    "sns.heatmap(mean_class_message_map, vmin=0, vmax=1);\n",
    "plt.ylabel('Class')\n",
    "plt.xlabel('Symbol')\n",
    "plt.title('Communication Protocol')\n",
    "plt.show()"
   ]
  },
  {
   "cell_type": "code",
   "execution_count": null,
   "metadata": {},
   "outputs": [],
   "source": [
    "def test_at_different_pms(experiment):\n",
    "    results = []\n",
    "    for i in range(6):\n",
    "        override_play_params = {\n",
    "            'p_mutate': i / 5.\n",
    "        }\n",
    "        _, test_metrics = experiment.run_tests(override_play_params) \n",
    "        results.append(test_metrics)\n",
    "    return results"
   ]
  },
  {
   "cell_type": "code",
   "execution_count": null,
   "metadata": {},
   "outputs": [],
   "source": [
    "pms = [i / 5. for i in range(6)]"
   ]
  },
  {
   "cell_type": "code",
   "execution_count": null,
   "metadata": {},
   "outputs": [],
   "source": [
    "lstm_layer, *_ = [layer for layer in temp_fixing_experiment.student.layers\n",
    "                  if isinstance(layer, tf.keras.layers.LSTM)]\n",
    "for w in lstm_layer.weights:\n",
    "    x = np.abs(w.numpy())\n",
    "    print(w.name, 'mean:', x.mean(), '+-', x.std(), 'max:', x.max())"
   ]
  },
  {
   "cell_type": "code",
   "execution_count": null,
   "metadata": {},
   "outputs": [],
   "source": [
    "lstm_layer, *_ = [layer for layer in obs_fixing_experiment.student.layers\n",
    "                  if isinstance(layer, tf.keras.layers.LSTM)]\n",
    "for w in lstm_layer.weights:\n",
    "    x = np.abs(w.numpy())\n",
    "    print(w.name, 'mean:', x.mean(), '+-', x.std(), 'max:', x.max())"
   ]
  },
  {
   "cell_type": "code",
   "execution_count": null,
   "metadata": {},
   "outputs": [],
   "source": [
    "temp_pm_tests = test_at_different_pms(temp_fixing_experiment)"
   ]
  },
  {
   "cell_type": "code",
   "execution_count": null,
   "metadata": {},
   "outputs": [],
   "source": [
    "temp_pm_tests"
   ]
  },
  {
   "cell_type": "code",
   "execution_count": null,
   "metadata": {},
   "outputs": [],
   "source": [
    "obs_pm_tests = test_at_different_pms(obs_fixing_experiment)"
   ]
  },
  {
   "cell_type": "code",
   "execution_count": null,
   "metadata": {},
   "outputs": [],
   "source": [
    "obs_pm_tests"
   ]
  },
  {
   "cell_type": "code",
   "execution_count": null,
   "metadata": {},
   "outputs": [],
   "source": [
    "fig, axs = plt.subplots(1, 3, figsize=(15, 3))\n",
    "\n",
    "metrics = {\n",
    "    'ground_truth_acc': 'Performance', \n",
    "    'mean_student_error': 'Student Error', \n",
    "    'mean_teacher_error': 'Teacher Error'\n",
    "}\n",
    "\n",
    "for i, metric in enumerate(metrics):\n",
    "\n",
    "    temp_vals = [\n",
    "        metrics[metric] for metrics in temp_pm_tests\n",
    "    ]\n",
    "    sns.lineplot(x=pms, y=temp_vals, label='Temporally-fixed', ax=axs[i])\n",
    "\n",
    "    obs_vals = [\n",
    "        metrics[metric] for metrics in obs_pm_tests\n",
    "    ]\n",
    "    sns.lineplot(x=pms, y=obs_vals, label='Observation-fixed', ax=axs[i])\n",
    "\n",
    "    axs[i].set_xlim([-.05, 1.05])\n",
    "    axs[i].set_title(f'The Effect of Mutations on {metrics[metric]}')\n",
    "    axs[i].set_xlabel('Mutation Probability')\n",
    "    axs[i].set_ylabel(metrics[metric])\n",
    "    \n",
    "    if i != 1:\n",
    "        axs[i].get_legend().remove()\n",
    "\n",
    "plt.tight_layout()\n",
    "plt.show()"
   ]
  },
  {
   "cell_type": "code",
   "execution_count": null,
   "metadata": {},
   "outputs": [],
   "source": [
    "games_played, _ = temp_fixing_experiment.run_tests({'p_mutate': 0.8}) "
   ]
  },
  {
   "cell_type": "code",
   "execution_count": null,
   "metadata": {
    "jupyter": {
     "outputs_hidden": true
    }
   },
   "outputs": [],
   "source": [
    "for i in range(5):\n",
    "    inputs, targets, outputs = games_played[i]\n",
    "    plot_game(inputs, outputs, targets, select_batch=0)"
   ]
  },
  {
   "cell_type": "code",
   "execution_count": null,
   "metadata": {},
   "outputs": [],
   "source": [
    "tf_meta_experiment = MetaExperiment(\n",
    "    create_experiment_fn=create_temporal_fixing_experiment,\n",
    "    num_experiments=4,\n",
    "    epochs=15,\n",
    "    export_location='./experiments/temporally_fixed',\n",
    ")"
   ]
  },
  {
   "cell_type": "code",
   "execution_count": null,
   "metadata": {},
   "outputs": [],
   "source": [
    "tf_meta_experiment.run()"
   ]
  },
  {
   "cell_type": "code",
   "execution_count": null,
   "metadata": {},
   "outputs": [],
   "source": [
    "of_meta_experiment = MetaExperiment(\n",
    "    create_experiment_fn=create_observation_fixing_experiment,\n",
    "    num_experiments=4,\n",
    "    epochs=15,\n",
    "    export_location='./experiments/observation_fixed',\n",
    ")"
   ]
  },
  {
   "cell_type": "code",
   "execution_count": null,
   "metadata": {},
   "outputs": [],
   "source": [
    "of_meta_experiment.run()"
   ]
  },
  {
   "cell_type": "code",
   "execution_count": null,
   "metadata": {},
   "outputs": [],
   "source": [
    "zs_results = [\n",
    "    metrics['mean_ground_truth_f1']\n",
    "    for stranger_pairings in of_meta_experiment.results\n",
    "    for metrics in stranger_pairings['vanilla_params_test_metrics']\n",
    "]\n",
    "\n",
    "print('Final mean zero-shot test performance for OF-agents:', \n",
    "      round(float(np.mean(zs_results)), 4), '+-', \n",
    "      round(float(np.std(zs_results)), 4))"
   ]
  },
  {
   "cell_type": "code",
   "execution_count": null,
   "metadata": {},
   "outputs": [],
   "source": [
    "zs_results = [\n",
    "    metrics['mean_ground_truth_f1']\n",
    "    for stranger_pairings in tf_meta_experiment.results\n",
    "    for metrics in stranger_pairings['vanilla_params_test_metrics']\n",
    "]\n",
    "\n",
    "print('Final mean zero-shot test performance for TF-agents:', \n",
    "      round(float(np.mean(zs_results)), 4), '+-', \n",
    "      round(float(np.std(zs_results)), 4))"
   ]
  },
  {
   "cell_type": "code",
   "execution_count": null,
   "metadata": {},
   "outputs": [],
   "source": []
  }
 ],
 "metadata": {
  "kernelspec": {
   "display_name": "Python 3",
   "language": "python",
   "name": "python3"
  },
  "language_info": {
   "codemirror_mode": {
    "name": "ipython",
    "version": 3
   },
   "file_extension": ".py",
   "mimetype": "text/x-python",
   "name": "python",
   "nbconvert_exporter": "python",
   "pygments_lexer": "ipython3",
   "version": "3.11.5"
  }
 },
 "nbformat": 4,
 "nbformat_minor": 4
}
