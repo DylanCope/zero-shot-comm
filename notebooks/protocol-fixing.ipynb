{
 "cells": [
  {
   "cell_type": "code",
   "execution_count": 1,
   "metadata": {},
   "outputs": [],
   "source": [
    "import os\n",
    "os.environ[\"CUDA_VISIBLE_DEVICES\"] = \"-1\""
   ]
  },
  {
   "cell_type": "code",
   "execution_count": 9,
   "metadata": {},
   "outputs": [],
   "source": [
    "import sys"
   ]
  },
  {
   "cell_type": "code",
   "execution_count": 2,
   "metadata": {},
   "outputs": [
    {
     "name": "stdout",
     "output_type": "stream",
     "text": [
      "Physical Devices:\n",
      "PhysicalDevice(name='/physical_device:CPU:0', device_type='CPU')\n",
      "PhysicalDevice(name='/physical_device:XLA_CPU:0', device_type='XLA_CPU')\n"
     ]
    }
   ],
   "source": [
    "import numpy as np\n",
    "import pandas as pd\n",
    "import tensorflow as tf\n",
    "\n",
    "from IPython.display import clear_output\n",
    "import matplotlib.pyplot as plt\n",
    "%matplotlib inline\n",
    "\n",
    "import seaborn as sns\n",
    "sns.set()\n",
    "\n",
    "print('Physical Devices:')\n",
    "for dev in tf.config.list_physical_devices():\n",
    "    print(dev)"
   ]
  },
  {
   "cell_type": "code",
   "execution_count": 3,
   "metadata": {},
   "outputs": [],
   "source": [
    "from zscomm.agent import Agent\n",
    "from zscomm.comm_channel import CommChannel\n",
    "from zscomm.synth_teacher import SyntheticTeacher\n",
    "from zscomm.data import *\n",
    "from zscomm.play_game import *\n",
    "from zscomm.loss import *\n",
    "from zscomm.experiment import Experiment\n",
    "from zscomm.meta_experiment import *\n",
    "from zscomm.plot_game import plot_game\n",
    "from zscomm.analysis import *"
   ]
  },
  {
   "cell_type": "markdown",
   "metadata": {},
   "source": [
    "## Load Data:"
   ]
  },
  {
   "cell_type": "code",
   "execution_count": 4,
   "metadata": {},
   "outputs": [],
   "source": [
    "NUM_CLASSES = 3\n",
    "CHANNEL_SIZE = 5\n",
    "BATCH_SIZE = 32\n",
    "USE_MNIST = False\n",
    "\n",
    "if USE_MNIST:\n",
    "    TRAIN_DATA, TEST_DATA = get_mnist_data(num_classes=NUM_CLASSES)\n",
    "else:\n",
    "    TRAIN_DATA, TEST_DATA = get_simple_card_data(num_classes=NUM_CLASSES)"
   ]
  },
  {
   "cell_type": "code",
   "execution_count": 5,
   "metadata": {},
   "outputs": [],
   "source": [
    "def generate_train_batch():\n",
    "    return generate_batch(TRAIN_DATA,\n",
    "                          batch_size=BATCH_SIZE, \n",
    "                          num_classes=NUM_CLASSES)\n",
    "\n",
    "\n",
    "def generate_test_batch():\n",
    "    return generate_batch(TEST_DATA,\n",
    "                          batch_size=BATCH_SIZE, \n",
    "                          num_classes=NUM_CLASSES)"
   ]
  },
  {
   "cell_type": "markdown",
   "metadata": {},
   "source": [
    "# Run Experiments"
   ]
  },
  {
   "cell_type": "code",
   "execution_count": 6,
   "metadata": {},
   "outputs": [],
   "source": [
    "def create_temporal_fixing_experiment(epochs=15, **exp_kwargs):\n",
    "    \n",
    "    agent = Agent(CHANNEL_SIZE, NUM_CLASSES, first_activation='relu')\n",
    "\n",
    "    play_params =  {\n",
    "        'channel_size': CHANNEL_SIZE,\n",
    "        'p_mutate': 0.0\n",
    "    }\n",
    "    \n",
    "    return Experiment(\n",
    "        generate_train_batch, generate_test_batch,\n",
    "        play_params=play_params, \n",
    "        student=agent,\n",
    "        teacher=agent,\n",
    "        loss_fn=complete_loss_fn,\n",
    "        max_epochs=epochs,\n",
    "        **exp_kwargs\n",
    "    )\n",
    "\n",
    "def create_observation_fixing_experiment(epochs=15, **exp_kwargs):\n",
    "    \n",
    "    agent = Agent(CHANNEL_SIZE, NUM_CLASSES, first_activation=None)\n",
    "\n",
    "    play_params = {\n",
    "        'channel_size': CHANNEL_SIZE,\n",
    "        'p_mutate': 0.0\n",
    "    }\n",
    "    \n",
    "    return Experiment(\n",
    "        generate_train_batch, generate_test_batch,\n",
    "        play_params=play_params, \n",
    "        student=agent,\n",
    "        teacher=agent,\n",
    "        loss_fn=complete_loss_fn,\n",
    "        max_epochs=epochs,\n",
    "        **exp_kwargs\n",
    "    )"
   ]
  },
  {
   "cell_type": "code",
   "execution_count": 7,
   "metadata": {},
   "outputs": [],
   "source": [
    "obs_fixing_experiment = create_observation_fixing_experiment()"
   ]
  },
  {
   "cell_type": "code",
   "execution_count": 8,
   "metadata": {},
   "outputs": [
    {
     "name": "stdout",
     "output_type": "stream",
     "text": [
      "Running experiment...\n",
      "Run config:\n",
      " {'name': 'experiment', 'max_epochs': 15, 'steps_per_epoch': 50, 'epochs_optimised': 11, 'play_params': {'channel_size': 5, 'p_mutate': 0.0}, 'test_freq': 5, 'test_steps': 25, 'optimiser_config': {'name': 'RMSprop', 'learning_rate': 0.009999999776482582, 'decay': 0.0, 'rho': 0.8999999761581421, 'momentum': 0.0, 'epsilon': 1e-07, 'centered': False}, 'optimise_agents_separately': False, 'loss_fn': 'complete_loss_fn'}\n",
      "Epoch 0, Time Taken (mm:ss): 0:8, Mean Loss: 3.885\n",
      "Test Loss: 4.654, Ground Truth F1-Score: 0.323, Student Error: 1.107, Teacher Error: 0.547, Protocol Diversity: 0.333, Protocol Entropy: 1.6,\n",
      "Epoch 1, Time Taken (mm:ss): 0:7, Mean Loss: 3.828\n",
      "Epoch 2, Time Taken (mm:ss): 0:7, Mean Loss: 3.79\n",
      "Epoch 3, Time Taken (mm:ss): 0:7, Mean Loss: 2.053\n",
      "Epoch 4, Time Taken (mm:ss): 0:6, Mean Loss: 1.003\n",
      "Epoch 5, Time Taken (mm:ss): 0:7, Mean Loss: 1.005\n",
      "Test Loss: 1.0, Ground Truth F1-Score: 1.0, Student Error: 0.0, Teacher Error: 0.0, Protocol Diversity: 1.0, Protocol Entropy: 0.0,\n",
      "Epoch 6, Time Taken (mm:ss): 0:7, Mean Loss: 1.0\n",
      "Epoch 7, Time Taken (mm:ss): 0:7, Mean Loss: 1.0\n",
      "Epoch 8, Time Taken (mm:ss): 0:6, Mean Loss: 1.0\n",
      "Epoch 9, Time Taken (mm:ss): 0:6, Mean Loss: 1.0\n",
      "Epoch 10, Time Taken (mm:ss): 0:6, Mean Loss: 1.0\n",
      "Test Loss: 1.0, Ground Truth F1-Score: 1.0, Student Error: 0.0, Teacher Error: 0.0, Protocol Diversity: 1.0, Protocol Entropy: 0.0,\n",
      "Training stopped.\n"
     ]
    }
   ],
   "source": [
    "obs_fixing_experiment.run()"
   ]
  },
  {
   "cell_type": "code",
   "execution_count": 9,
   "metadata": {},
   "outputs": [],
   "source": [
    "obs_fixing_experiment.results"
   ]
  },
  {
   "cell_type": "code",
   "execution_count": 10,
   "metadata": {},
   "outputs": [
    {
     "ename": "TypeError",
     "evalue": "'NoneType' object is not subscriptable",
     "output_type": "error",
     "traceback": [
      "\u001b[0;31m---------------------------------------------------------------------------\u001b[0m",
      "\u001b[0;31mTypeError\u001b[0m                                 Traceback (most recent call last)",
      "\u001b[0;32m<ipython-input-10-709de43742a9>\u001b[0m in \u001b[0;36m<module>\u001b[0;34m\u001b[0m\n\u001b[0;32m----> 1\u001b[0;31m \u001b[0mround\u001b[0m\u001b[0;34m(\u001b[0m\u001b[0mobs_fixing_experiment\u001b[0m\u001b[0;34m.\u001b[0m\u001b[0mresults\u001b[0m\u001b[0;34m[\u001b[0m\u001b[0;34m'teacher_responsiveness'\u001b[0m\u001b[0;34m]\u001b[0m\u001b[0;34m,\u001b[0m \u001b[0;36m4\u001b[0m\u001b[0;34m)\u001b[0m\u001b[0;34m,\u001b[0m \u001b[0mround\u001b[0m\u001b[0;34m(\u001b[0m\u001b[0mobs_fixing_experiment\u001b[0m\u001b[0;34m.\u001b[0m\u001b[0mresults\u001b[0m\u001b[0;34m[\u001b[0m\u001b[0;34m'student_responsiveness'\u001b[0m\u001b[0;34m]\u001b[0m\u001b[0;34m,\u001b[0m \u001b[0;36m4\u001b[0m\u001b[0;34m)\u001b[0m\u001b[0;34m\u001b[0m\u001b[0;34m\u001b[0m\u001b[0m\n\u001b[0m",
      "\u001b[0;31mTypeError\u001b[0m: 'NoneType' object is not subscriptable"
     ]
    }
   ],
   "source": [
    "round(obs_fixing_experiment.results['teacher_responsiveness'], 4), \n",
    "round(obs_fixing_experiment.results['student_responsiveness'], 4)"
   ]
  },
  {
   "cell_type": "code",
   "execution_count": null,
   "metadata": {},
   "outputs": [],
   "source": [
    "temp_fixing_experiment = create_temporal_fixing_experiment()"
   ]
  },
  {
   "cell_type": "code",
   "execution_count": null,
   "metadata": {},
   "outputs": [],
   "source": [
    "temp_fixing_experiment.run()"
   ]
  },
  {
   "cell_type": "code",
   "execution_count": null,
   "metadata": {},
   "outputs": [],
   "source": [
    "temp_fixing_experiment.results"
   ]
  },
  {
   "cell_type": "code",
   "execution_count": null,
   "metadata": {},
   "outputs": [],
   "source": [
    "round(temp_fixing_experiment.results['teacher_responsiveness'], 4), round(temp_fixing_experiment.results['student_responsiveness'], 4)"
   ]
  },
  {
   "cell_type": "code",
   "execution_count": null,
   "metadata": {},
   "outputs": [],
   "source": [
    "games_played, _ = temp_fixing_experiment.run_tests()\n",
    "mean_class_message_map = create_mean_class_message_map(games_played)\n",
    "sns.heatmap(mean_class_message_map, vmin=0, vmax=1);\n",
    "plt.ylabel('Class')\n",
    "plt.xlabel('Symbol')\n",
    "plt.title('Communication Protocol')\n",
    "plt.show()\n",
    "\n",
    "games_played, _ = temp_fixing_experiment.run_tests()\n",
    "mean_class_message_map = create_mean_index_message_map(games_played)\n",
    "sns.heatmap(mean_class_message_map, vmin=0, vmax=1);\n",
    "plt.ylabel('Class')\n",
    "plt.xlabel('Symbol')\n",
    "plt.title('Communication Protocol')\n",
    "plt.show()"
   ]
  },
  {
   "cell_type": "code",
   "execution_count": null,
   "metadata": {},
   "outputs": [],
   "source": [
    "games_played, _ = obs_fixing_experiment.run_tests()\n",
    "mean_class_message_map = create_mean_class_message_map(games_played)\n",
    "sns.heatmap(mean_class_message_map, vmin=0, vmax=1);\n",
    "plt.ylabel('Class')\n",
    "plt.xlabel('Symbol')\n",
    "plt.title('Communication Protocol')\n",
    "plt.show()\n",
    "\n",
    "games_played, _ = obs_fixing_experiment.run_tests()\n",
    "mean_class_message_map = create_mean_index_message_map(games_played)\n",
    "sns.heatmap(mean_class_message_map, vmin=0, vmax=1);\n",
    "plt.ylabel('Class')\n",
    "plt.xlabel('Symbol')\n",
    "plt.title('Communication Protocol')\n",
    "plt.show()"
   ]
  },
  {
   "cell_type": "code",
   "execution_count": null,
   "metadata": {},
   "outputs": [],
   "source": [
    "def test_at_different_pms(experiment):\n",
    "    results = []\n",
    "    for i in range(6):\n",
    "        override_play_params = {\n",
    "            'p_mutate': i / 5.\n",
    "        }\n",
    "        _, test_metrics = experiment.run_tests(override_play_params) \n",
    "        results.append(test_metrics)\n",
    "    return results"
   ]
  },
  {
   "cell_type": "code",
   "execution_count": null,
   "metadata": {},
   "outputs": [],
   "source": [
    "pms = [i / 5. for i in range(6)]"
   ]
  },
  {
   "cell_type": "code",
   "execution_count": null,
   "metadata": {},
   "outputs": [],
   "source": [
    "lstm_layer, *_ = [layer for layer in temp_fixing_experiment.student.layers\n",
    "                  if isinstance(layer, tf.keras.layers.LSTM)]\n",
    "for w in lstm_layer.weights:\n",
    "    x = np.abs(w.numpy())\n",
    "    print(w.name, 'mean:', x.mean(), '+-', x.std(), 'max:', x.max())"
   ]
  },
  {
   "cell_type": "code",
   "execution_count": null,
   "metadata": {},
   "outputs": [],
   "source": [
    "lstm_layer, *_ = [layer for layer in obs_fixing_experiment.student.layers\n",
    "                  if isinstance(layer, tf.keras.layers.LSTM)]\n",
    "for w in lstm_layer.weights:\n",
    "    x = np.abs(w.numpy())\n",
    "    print(w.name, 'mean:', x.mean(), '+-', x.std(), 'max:', x.max())"
   ]
  },
  {
   "cell_type": "code",
   "execution_count": null,
   "metadata": {},
   "outputs": [],
   "source": [
    "temp_pm_tests = test_at_different_pms(temp_fixing_experiment)"
   ]
  },
  {
   "cell_type": "code",
   "execution_count": null,
   "metadata": {},
   "outputs": [],
   "source": [
    "temp_pm_tests"
   ]
  },
  {
   "cell_type": "code",
   "execution_count": null,
   "metadata": {},
   "outputs": [],
   "source": [
    "obs_pm_tests = test_at_different_pms(obs_fixing_experiment)"
   ]
  },
  {
   "cell_type": "code",
   "execution_count": null,
   "metadata": {},
   "outputs": [],
   "source": [
    "obs_pm_tests"
   ]
  },
  {
   "cell_type": "code",
   "execution_count": null,
   "metadata": {},
   "outputs": [],
   "source": [
    "fig, axs = plt.subplots(1, 3, figsize=(15, 3))\n",
    "\n",
    "metrics = {\n",
    "    'ground_truth_acc': 'Performance', \n",
    "    'mean_student_error': 'Student Error', \n",
    "    'mean_teacher_error': 'Teacher Error'\n",
    "}\n",
    "\n",
    "for i, metric in enumerate(metrics):\n",
    "\n",
    "    temp_vals = [\n",
    "        metrics[metric] for metrics in temp_pm_tests\n",
    "    ]\n",
    "    sns.lineplot(x=pms, y=temp_vals, label='Temporally-fixed', ax=axs[i])\n",
    "\n",
    "    obs_vals = [\n",
    "        metrics[metric] for metrics in obs_pm_tests\n",
    "    ]\n",
    "    sns.lineplot(x=pms, y=obs_vals, label='Observation-fixed', ax=axs[i])\n",
    "\n",
    "    axs[i].set_xlim([-.05, 1.05])\n",
    "    axs[i].set_title(f'The Effect of Mutations on {metrics[metric]}')\n",
    "    axs[i].set_xlabel('Mutation Probability')\n",
    "    axs[i].set_ylabel(metrics[metric])\n",
    "    \n",
    "    if i != 1:\n",
    "        axs[i].get_legend().remove()\n",
    "\n",
    "plt.tight_layout()\n",
    "plt.show()"
   ]
  },
  {
   "cell_type": "code",
   "execution_count": null,
   "metadata": {},
   "outputs": [],
   "source": [
    "games_played, _ = temp_fixing_experiment.run_tests({'p_mutate': 0.8}) "
   ]
  },
  {
   "cell_type": "code",
   "execution_count": null,
   "metadata": {
    "jupyter": {
     "outputs_hidden": true
    }
   },
   "outputs": [],
   "source": [
    "for i in range(5):\n",
    "    inputs, targets, outputs = games_played[i]\n",
    "    plot_game(inputs, outputs, targets, select_batch=0)"
   ]
  },
  {
   "cell_type": "code",
   "execution_count": null,
   "metadata": {},
   "outputs": [],
   "source": [
    "tf_meta_experiment = MetaExperiment(\n",
    "    create_experiment_fn=create_temporal_fixing_experiment,\n",
    "    num_experiments=4,\n",
    "    epochs=15,\n",
    "    export_location='./experiments/temporally_fixed',\n",
    ")"
   ]
  },
  {
   "cell_type": "code",
   "execution_count": null,
   "metadata": {},
   "outputs": [],
   "source": [
    "tf_meta_experiment.run()"
   ]
  },
  {
   "cell_type": "code",
   "execution_count": null,
   "metadata": {},
   "outputs": [],
   "source": [
    "of_meta_experiment = MetaExperiment(\n",
    "    create_experiment_fn=create_observation_fixing_experiment,\n",
    "    num_experiments=4,\n",
    "    epochs=15,\n",
    "    export_location='./experiments/observation_fixed',\n",
    ")"
   ]
  },
  {
   "cell_type": "code",
   "execution_count": null,
   "metadata": {},
   "outputs": [],
   "source": [
    "of_meta_experiment.run()"
   ]
  },
  {
   "cell_type": "code",
   "execution_count": null,
   "metadata": {},
   "outputs": [],
   "source": [
    "zs_results = [\n",
    "    metrics['mean_ground_truth_f1']\n",
    "    for stranger_pairings in of_meta_experiment.results\n",
    "    for metrics in stranger_pairings['vanilla_params_test_metrics']\n",
    "]\n",
    "\n",
    "print('Final mean zero-shot test performance for OF-agents:', \n",
    "      round(float(np.mean(zs_results)), 4), '+-', \n",
    "      round(float(np.std(zs_results)), 4))"
   ]
  },
  {
   "cell_type": "code",
   "execution_count": null,
   "metadata": {},
   "outputs": [],
   "source": [
    "zs_results = [\n",
    "    metrics['mean_ground_truth_f1']\n",
    "    for stranger_pairings in tf_meta_experiment.results\n",
    "    for metrics in stranger_pairings['vanilla_params_test_metrics']\n",
    "]\n",
    "\n",
    "print('Final mean zero-shot test performance for TF-agents:', \n",
    "      round(float(np.mean(zs_results)), 4), '+-', \n",
    "      round(float(np.std(zs_results)), 4))"
   ]
  },
  {
   "cell_type": "code",
   "execution_count": null,
   "metadata": {},
   "outputs": [],
   "source": []
  }
 ],
 "metadata": {
  "kernelspec": {
   "display_name": "Python 3",
   "language": "python",
   "name": "python3"
  },
  "language_info": {
   "codemirror_mode": {
    "name": "ipython",
    "version": 3
   },
   "file_extension": ".py",
   "mimetype": "text/x-python",
   "name": "python",
   "nbconvert_exporter": "python",
   "pygments_lexer": "ipython3",
   "version": "3.6.9"
  }
 },
 "nbformat": 4,
 "nbformat_minor": 4
}
