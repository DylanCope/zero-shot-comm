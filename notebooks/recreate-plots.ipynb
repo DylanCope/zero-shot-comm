{
 "cells": [
  {
   "cell_type": "code",
   "execution_count": 2,
   "metadata": {},
   "outputs": [],
   "source": [
    "from pathlib import Path\n",
    "from datetime import datetime\n",
    "import json\n",
    "import numpy as np\n",
    "import pandas as pd\n",
    "from IPython.display import clear_output\n",
    "import matplotlib.pyplot as plt\n",
    "%matplotlib inline\n",
    "\n",
    "import seaborn as sns\n",
    "\n",
    "from reproducible_figures import (\n",
    "    save_reproducible_figure, set_plotting_style\n",
    ")"
   ]
  },
  {
   "cell_type": "code",
   "execution_count": 8,
   "metadata": {},
   "outputs": [],
   "source": [
    "EXPERIMENT_FOLDER = \"./experiments/subset_permutation/07-10_02-11\"\n",
    "NUM_CLASSES = 3\n",
    "CHANNEL_SIZE = 5"
   ]
  },
  {
   "cell_type": "code",
   "execution_count": 11,
   "metadata": {},
   "outputs": [
    {
     "name": "stderr",
     "output_type": "stream",
     "text": [
      "2024-04-22 18:27:38.644292: I tensorflow/core/util/port.cc:113] oneDNN custom operations are on. You may see slightly different numerical results due to floating-point round-off errors from different computation orders. To turn them off, set the environment variable `TF_ENABLE_ONEDNN_OPTS=0`.\n",
      "2024-04-22 18:27:38.682092: E external/local_xla/xla/stream_executor/cuda/cuda_dnn.cc:9261] Unable to register cuDNN factory: Attempting to register factory for plugin cuDNN when one has already been registered\n",
      "2024-04-22 18:27:38.682114: E external/local_xla/xla/stream_executor/cuda/cuda_fft.cc:607] Unable to register cuFFT factory: Attempting to register factory for plugin cuFFT when one has already been registered\n",
      "2024-04-22 18:27:38.683256: E external/local_xla/xla/stream_executor/cuda/cuda_blas.cc:1515] Unable to register cuBLAS factory: Attempting to register factory for plugin cuBLAS when one has already been registered\n",
      "2024-04-22 18:27:38.689581: I tensorflow/core/platform/cpu_feature_guard.cc:182] This TensorFlow binary is optimized to use available CPU instructions in performance-critical operations.\n",
      "To enable the following instructions: AVX2 AVX512F AVX512_VNNI FMA, in other operations, rebuild TensorFlow with the appropriate compiler flags.\n",
      "2024-04-22 18:27:39.419768: W tensorflow/compiler/tf2tensorrt/utils/py_utils.cc:38] TF-TRT Warning: Could not find TensorRT\n"
     ]
    }
   ],
   "source": [
    "from zscomm.agent import Agent\n",
    "from zscomm.comm_channel import CommChannel\n",
    "from zscomm.synth_teacher import SyntheticTeacher\n",
    "from zscomm.data import *\n",
    "from zscomm.play_game import *\n",
    "from zscomm.loss import *\n",
    "from zscomm.experiment import Experiment\n",
    "from zscomm.meta_experiment import *\n",
    "from zscomm.vary_play_param_experiment import *\n",
    "from zscomm.plot_game import plot_game\n",
    "from zscomm.analysis import *\n",
    "\n",
    "\n",
    "NUM_CLASSES = 3\n",
    "CHANNEL_SIZE = 5\n",
    "BATCH_SIZE = 32\n",
    "\n",
    "TRAIN_DATA, TEST_DATA = get_simple_card_data(num_classes=NUM_CLASSES)\n",
    "\n",
    "\n",
    "def generate_train_batch():\n",
    "    return generate_batch(TRAIN_DATA,\n",
    "                          batch_size=BATCH_SIZE, \n",
    "                          num_classes=NUM_CLASSES)\n",
    "\n",
    "\n",
    "def generate_test_batch():\n",
    "    return generate_batch(TEST_DATA,\n",
    "                          batch_size=BATCH_SIZE, \n",
    "                          num_classes=NUM_CLASSES)\n",
    "\n",
    "\n",
    "def create_channel_subset_permutation_experiment(\n",
    "    permutation_subset_size=3, **experiment_kwargs\n",
    "):\n",
    "    \n",
    "    agent = Agent(CHANNEL_SIZE, NUM_CLASSES)\n",
    "\n",
    "    start_temp = 10\n",
    "    end_temp = 0.1\n",
    "    temp_anneal_end_epoch = 200\n",
    "    a = -np.log(end_temp / start_temp) / temp_anneal_end_epoch\n",
    "    \n",
    "    def play_params(epoch):\n",
    "        if epoch < temp_anneal_end_epoch:\n",
    "            channel_temp = float(start_temp * np.exp(-a*epoch))\n",
    "        else:\n",
    "            channel_temp = end_temp\n",
    "        \n",
    "        return {\n",
    "            'channel_size': CHANNEL_SIZE,\n",
    "            'p_mutate': 0,\n",
    "            'message_permutation': True,\n",
    "            'permutation_subset_size': permutation_subset_size,\n",
    "            'channel_temp': channel_temp,\n",
    "        }\n",
    "    \n",
    "    return Experiment(\n",
    "        generate_train_batch, generate_test_batch,\n",
    "        play_params=play_params, \n",
    "        student=agent,\n",
    "        teacher=agent,\n",
    "        loss_fn=student_pred_matches_test_class,\n",
    "        lr=1e-2,\n",
    "        name='channel_subset_permutation',\n",
    "        **experiment_kwargs\n",
    "    )"
   ]
  },
  {
   "cell_type": "code",
   "execution_count": 12,
   "metadata": {},
   "outputs": [
    {
     "name": "stderr",
     "output_type": "stream",
     "text": [
      "2024-04-22 18:27:57.468764: I external/local_xla/xla/stream_executor/cuda/cuda_executor.cc:887] could not open file to read NUMA node: /sys/bus/pci/devices/0000:65:00.0/numa_node\n",
      "Your kernel may have been built without NUMA support.\n",
      "2024-04-22 18:27:57.509729: I external/local_xla/xla/stream_executor/cuda/cuda_executor.cc:887] could not open file to read NUMA node: /sys/bus/pci/devices/0000:65:00.0/numa_node\n",
      "Your kernel may have been built without NUMA support.\n",
      "2024-04-22 18:27:57.509780: I external/local_xla/xla/stream_executor/cuda/cuda_executor.cc:887] could not open file to read NUMA node: /sys/bus/pci/devices/0000:65:00.0/numa_node\n",
      "Your kernel may have been built without NUMA support.\n",
      "2024-04-22 18:27:57.519811: I external/local_xla/xla/stream_executor/cuda/cuda_executor.cc:887] could not open file to read NUMA node: /sys/bus/pci/devices/0000:65:00.0/numa_node\n",
      "Your kernel may have been built without NUMA support.\n",
      "2024-04-22 18:27:57.519882: I external/local_xla/xla/stream_executor/cuda/cuda_executor.cc:887] could not open file to read NUMA node: /sys/bus/pci/devices/0000:65:00.0/numa_node\n",
      "Your kernel may have been built without NUMA support.\n",
      "2024-04-22 18:27:57.519911: I external/local_xla/xla/stream_executor/cuda/cuda_executor.cc:887] could not open file to read NUMA node: /sys/bus/pci/devices/0000:65:00.0/numa_node\n",
      "Your kernel may have been built without NUMA support.\n",
      "2024-04-22 18:27:57.888994: I external/local_xla/xla/stream_executor/cuda/cuda_executor.cc:887] could not open file to read NUMA node: /sys/bus/pci/devices/0000:65:00.0/numa_node\n",
      "Your kernel may have been built without NUMA support.\n",
      "2024-04-22 18:27:57.889060: I external/local_xla/xla/stream_executor/cuda/cuda_executor.cc:887] could not open file to read NUMA node: /sys/bus/pci/devices/0000:65:00.0/numa_node\n",
      "Your kernel may have been built without NUMA support.\n",
      "2024-04-22 18:27:57.889068: I tensorflow/core/common_runtime/gpu/gpu_device.cc:2022] Could not identify NUMA node of platform GPU id 0, defaulting to 0.  Your kernel may not have been built with NUMA support.\n",
      "2024-04-22 18:27:57.889105: I external/local_xla/xla/stream_executor/cuda/cuda_executor.cc:887] could not open file to read NUMA node: /sys/bus/pci/devices/0000:65:00.0/numa_node\n",
      "Your kernel may have been built without NUMA support.\n",
      "2024-04-22 18:27:57.889123: I tensorflow/core/common_runtime/gpu/gpu_device.cc:1929] Created device /job:localhost/replica:0/task:0/device:GPU:0 with 21784 MB memory:  -> device: 0, name: NVIDIA GeForce RTX 3090, pci bus id: 0000:65:00.0, compute capability: 8.6\n"
     ]
    }
   ],
   "source": [
    "experiment = VaryPlayParamExperiment(\n",
    "    save_location=EXPERIMENT_FOLDER,\n",
    "    param_vals=[2, 3, 4, 5],\n",
    "    param_name='permutation_subset_size',\n",
    "    max_epochs=200,\n",
    "    num_experiments_per_val=3,\n",
    "    create_experiment_fn=create_channel_subset_permutation_experiment\n",
    ")"
   ]
  },
  {
   "cell_type": "code",
   "execution_count": 14,
   "metadata": {},
   "outputs": [],
   "source": [
    "for meta_path in Path(EXPERIMENT_FOLDER).glob('*'):\n",
    "    experiment.load_meta_exp(meta_path)"
   ]
  },
  {
   "cell_type": "code",
   "execution_count": 26,
   "metadata": {},
   "outputs": [
    {
     "data": {
      "text/plain": [
       "{'channel_size': 5,\n",
       " 'p_mutate': 0,\n",
       " 'message_permutation': True,\n",
       " 'permutation_subset_size': 2,\n",
       " 'channel_temp': 0.1}"
      ]
     },
     "execution_count": 26,
     "metadata": {},
     "output_type": "execute_result"
    }
   ],
   "source": [
    "exp.get_play_params()"
   ]
  },
  {
   "cell_type": "code",
   "execution_count": 28,
   "metadata": {},
   "outputs": [
    {
     "data": {
      "text/plain": [
       "'meta_experiment_permutation_subset_size=2'"
      ]
     },
     "execution_count": 28,
     "metadata": {},
     "output_type": "execute_result"
    }
   ],
   "source": []
  },
  {
   "cell_type": "code",
   "execution_count": 29,
   "metadata": {},
   "outputs": [],
   "source": [
    "responsiveness_vals = []\n",
    "\n",
    "for meta_idx, meta_exp_item in enumerate(experiment.experiments):\n",
    "    meta_exp = meta_exp_item['experiment']\n",
    "    for exp_idx, exp_item in enumerate(meta_exp.experiments):\n",
    "        exp = exp_item['experiment']\n",
    "        responsiveness_vals.append({\n",
    "            'Student Responsiveness': exp.compute_student_responsiveness(),\n",
    "            'Teacher Responsiveness': exp.compute_teacher_responsiveness(),\n",
    "            'Meta Experiment Index': meta_idx,\n",
    "            'Experiment Index': exp_idx,\n",
    "            **exp.get_play_params()\n",
    "        })\n",
    "\n",
    "responsiveness_df = pd.DataFrame(responsiveness_vals)"
   ]
  },
  {
   "cell_type": "code",
   "execution_count": 36,
   "metadata": {},
   "outputs": [
    {
     "data": {
      "text/html": [
       "<div>\n",
       "<style scoped>\n",
       "    .dataframe tbody tr th:only-of-type {\n",
       "        vertical-align: middle;\n",
       "    }\n",
       "\n",
       "    .dataframe tbody tr th {\n",
       "        vertical-align: top;\n",
       "    }\n",
       "\n",
       "    .dataframe thead th {\n",
       "        text-align: right;\n",
       "    }\n",
       "</style>\n",
       "<table border=\"1\" class=\"dataframe\">\n",
       "  <thead>\n",
       "    <tr style=\"text-align: right;\">\n",
       "      <th></th>\n",
       "      <th>Permuted Proportion</th>\n",
       "      <th>Zero-Shot Coordination Score</th>\n",
       "      <th>Protocol Diversity</th>\n",
       "      <th>mean_test_loss</th>\n",
       "      <th>mean_ground_truth_f1</th>\n",
       "      <th>ground_truth_acc</th>\n",
       "      <th>mean_student_error</th>\n",
       "      <th>mean_teacher_error</th>\n",
       "      <th>mean_protocol_diversity</th>\n",
       "      <th>mean_protocol_entropy</th>\n",
       "    </tr>\n",
       "  </thead>\n",
       "  <tbody>\n",
       "    <tr>\n",
       "      <th>0</th>\n",
       "      <td>5</td>\n",
       "      <td>1.00000</td>\n",
       "      <td>1.0</td>\n",
       "      <td>1.192093e-07</td>\n",
       "      <td>1.00000</td>\n",
       "      <td>1.00000</td>\n",
       "      <td>6.715874e-01</td>\n",
       "      <td>0.233789</td>\n",
       "      <td>1.0</td>\n",
       "      <td>7.222242e-35</td>\n",
       "    </tr>\n",
       "    <tr>\n",
       "      <th>1</th>\n",
       "      <td>5</td>\n",
       "      <td>1.00000</td>\n",
       "      <td>1.0</td>\n",
       "      <td>1.192093e-07</td>\n",
       "      <td>1.00000</td>\n",
       "      <td>1.00000</td>\n",
       "      <td>1.678968e+00</td>\n",
       "      <td>0.291309</td>\n",
       "      <td>1.0</td>\n",
       "      <td>7.222242e-35</td>\n",
       "    </tr>\n",
       "    <tr>\n",
       "      <th>2</th>\n",
       "      <td>5</td>\n",
       "      <td>0.96250</td>\n",
       "      <td>1.0</td>\n",
       "      <td>3.033515e-01</td>\n",
       "      <td>0.96250</td>\n",
       "      <td>0.96250</td>\n",
       "      <td>2.358137e-01</td>\n",
       "      <td>0.181484</td>\n",
       "      <td>1.0</td>\n",
       "      <td>7.222242e-35</td>\n",
       "    </tr>\n",
       "    <tr>\n",
       "      <th>3</th>\n",
       "      <td>5</td>\n",
       "      <td>1.00000</td>\n",
       "      <td>1.0</td>\n",
       "      <td>1.192093e-07</td>\n",
       "      <td>1.00000</td>\n",
       "      <td>1.00000</td>\n",
       "      <td>1.192093e-07</td>\n",
       "      <td>0.002658</td>\n",
       "      <td>1.0</td>\n",
       "      <td>7.222242e-35</td>\n",
       "    </tr>\n",
       "    <tr>\n",
       "      <th>4</th>\n",
       "      <td>5</td>\n",
       "      <td>0.88125</td>\n",
       "      <td>1.0</td>\n",
       "      <td>1.914024e+00</td>\n",
       "      <td>0.88125</td>\n",
       "      <td>0.88125</td>\n",
       "      <td>1.271623e+00</td>\n",
       "      <td>0.234793</td>\n",
       "      <td>1.0</td>\n",
       "      <td>7.222242e-35</td>\n",
       "    </tr>\n",
       "  </tbody>\n",
       "</table>\n",
       "</div>"
      ],
      "text/plain": [
       "   Permuted Proportion  Zero-Shot Coordination Score  Protocol Diversity  \\\n",
       "0                    5                       1.00000                 1.0   \n",
       "1                    5                       1.00000                 1.0   \n",
       "2                    5                       0.96250                 1.0   \n",
       "3                    5                       1.00000                 1.0   \n",
       "4                    5                       0.88125                 1.0   \n",
       "\n",
       "   mean_test_loss  mean_ground_truth_f1  ground_truth_acc  mean_student_error  \\\n",
       "0    1.192093e-07               1.00000           1.00000        6.715874e-01   \n",
       "1    1.192093e-07               1.00000           1.00000        1.678968e+00   \n",
       "2    3.033515e-01               0.96250           0.96250        2.358137e-01   \n",
       "3    1.192093e-07               1.00000           1.00000        1.192093e-07   \n",
       "4    1.914024e+00               0.88125           0.88125        1.271623e+00   \n",
       "\n",
       "   mean_teacher_error  mean_protocol_diversity  mean_protocol_entropy  \n",
       "0            0.233789                      1.0           7.222242e-35  \n",
       "1            0.291309                      1.0           7.222242e-35  \n",
       "2            0.181484                      1.0           7.222242e-35  \n",
       "3            0.002658                      1.0           7.222242e-35  \n",
       "4            0.234793                      1.0           7.222242e-35  "
      ]
     },
     "execution_count": 36,
     "metadata": {},
     "output_type": "execute_result"
    }
   ],
   "source": [
    "X_NAME = 'Permuted Proportion'\n",
    "\n",
    "\n",
    "def get_experiment_item(experiment_path):\n",
    "    with open(experiment_path / 'results.json', 'r') as f:\n",
    "        results = json.load(f)\n",
    "    with open(experiment_path / 'meta.json', 'r') as f:\n",
    "        config = json.load(f)\n",
    "    permutation_subset_size = config['experiment_config']['play_params']['permutation_subset_size']\n",
    "\n",
    "    return [\n",
    "        {\n",
    "            X_NAME: permutation_subset_size,\n",
    "            'Zero-Shot Coordination Score': sub_item['mean_ground_truth_f1'],\n",
    "            'Protocol Diversity': sub_item['mean_protocol_diversity'],\n",
    "            **sub_item\n",
    "        }\n",
    "        for item in results\n",
    "        for sub_item in item['vanilla_params_test_metrics']\n",
    "    ]\n",
    "\n",
    "zs_coord_df = pd.DataFrame([\n",
    "    item\n",
    "    for experiment_path in Path(EXPERIMENT_FOLDER).glob('*')\n",
    "    for item in get_experiment_item(experiment_path)\n",
    "])\n",
    "zs_coord_df.head()"
   ]
  },
  {
   "cell_type": "code",
   "execution_count": 32,
   "metadata": {},
   "outputs": [],
   "source": [
    "responsiveness_df[X_NAME] = responsiveness_df['permutation_subset_size']"
   ]
  },
  {
   "cell_type": "code",
   "execution_count": 35,
   "metadata": {},
   "outputs": [
    {
     "data": {
      "image/png": "[encoded data removed]",
      "text/plain": [
       "<Figure size 800x400 with 1 Axes>"
      ]
     },
     "metadata": {},
     "output_type": "display_data"
    },
    {
     "name": "stderr",
     "output_type": "stream",
     "text": [
      "reformatted figures/subset_permutation_experiments_metrics/code.py\n",
      "\n",
      "All done! ✨ 🍰 ✨\n",
      "1 file reformatted.\n"
     ]
    }
   ],
   "source": [
    "def plot_metrics_with_subset_size(zs_coord_df, responsiveness_df):\n",
    "    set_plotting_style()\n",
    "\n",
    "    plt.figure(figsize=(8, 4))\n",
    "\n",
    "    sns.lineplot(x=X_NAME, y='Zero-Shot Coordination Score', \n",
    "                data=zs_coord_df, label='Zero-shot Performance')\n",
    "    sns.lineplot(x=X_NAME, y='Teacher Responsiveness', \n",
    "                data=responsiveness_df, label='Teacher Responsiveness')\n",
    "    sns.lineplot(x=X_NAME, y='Student Responsiveness', \n",
    "                data=responsiveness_df, label='Student Responsiveness')\n",
    "    sns.lineplot(x=X_NAME, y='Protocol Diversity', \n",
    "                data=zs_coord_df, label='Protocol Diversity')\n",
    "\n",
    "    plt.ylim([-0.05, 1.05])\n",
    "\n",
    "    plt.xlim([1.95, CHANNEL_SIZE + .05])\n",
    "    # plt.title('The Effect of Channel Permutation on Zero-Shot Coordination')\n",
    "    plt.ylabel('')\n",
    "    plt.xlabel('Subset Size')\n",
    "    plt.xticks(pd.unique(zs_coord_df[X_NAME]))\n",
    "# plt.legend(bbox_to_anchor=(1.05, 1), loc=2, borderaxespad=0.)\n",
    "# plt.legend(loc=4)\n",
    "# plt.show()\n",
    "\n",
    "\n",
    "save_reproducible_figure(\n",
    "    'subset_permutation_experiments_metrics',\n",
    "    (zs_coord_df, responsiveness_df),\n",
    "    plot_metrics_with_subset_size,\n",
    "    show=True\n",
    ")"
   ]
  }
 ],
 "metadata": {
  "kernelspec": {
   "display_name": "base",
   "language": "python",
   "name": "python3"
  },
  "language_info": {
   "codemirror_mode": {
    "name": "ipython",
    "version": 3
   },
   "file_extension": ".py",
   "mimetype": "text/x-python",
   "name": "python",
   "nbconvert_exporter": "python",
   "pygments_lexer": "ipython3",
   "version": "3.11.5"
  }
 },
 "nbformat": 4,
 "nbformat_minor": 2
}
